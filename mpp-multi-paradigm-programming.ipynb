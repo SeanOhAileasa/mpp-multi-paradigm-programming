{
 "cells": [
  {
   "cell_type": "code",
   "execution_count": null,
   "id": "c318f0ed",
   "metadata": {},
   "outputs": [
    {
     "data": {
      "text/html": [
       "<script>Jupyter.notebook.kernel.restart()</script>"
      ]
     },
     "metadata": {},
     "output_type": "display_data"
    }
   ],
   "source": [
    "from IPython.core.display import display_html\n",
    "display_html(\"<script>Jupyter.notebook.kernel.restart()</script>\",raw=True)"
   ]
  },
  {
   "cell_type": "code",
   "execution_count": 1,
   "id": "b837249e",
   "metadata": {},
   "outputs": [
    {
     "data": {
      "text/html": [
       "<style>.container { width:100% !important; }</style>"
      ],
      "text/plain": [
       "<IPython.core.display.HTML object>"
      ]
     },
     "metadata": {},
     "output_type": "display_data"
    },
    {
     "data": {
      "text/html": [
       "<style>.container { width:100% !important; }</style>"
      ],
      "text/plain": [
       "<IPython.core.display.HTML object>"
      ]
     },
     "metadata": {},
     "output_type": "display_data"
    }
   ],
   "source": [
    "from sys import path; path.insert(1,\"../src\");\n",
    "import fubar; from importlib import reload; reload(fubar);"
   ]
  },
  {
   "cell_type": "markdown",
   "id": "fd8a0ce7",
   "metadata": {},
   "source": [
    "***\n",
    "< [GMIT Data Analytics](https://web.archive.org/web/20201029063153/https://www.gmit.ie/computer-science-and-applied-physics/higher-diploma-science-computing-data-analytics-ict) | [Home](https://github.com/SeanOhAileasa) | [README](https://github.com/SeanOhAileasa/mpp-multi-paradigm-programming/blob/main/README.md) >\n",
    "\n",
    "[![GMIT](https://github.com/SeanOhAileasa/SeanOhAileasa/blob/master/rc/gmit.png?raw=true)](https://web.archive.org/web/20201029063153/https://www.gmit.ie/computer-science-and-applied-physics/higher-diploma-science-computing-data-analytics-ict)\n",
    "\n",
    "## Multi-Paradigm Programming - Course Material 2021\n",
    "### Topic: [Multi-Paradigm Programming](https://nbviewer.jupyter.org/github/SeanOhAileasa/mpp-multi-paradigm-programming/blob/main/mpp-multi-paradigm-programming.ipynb) using ``Python`` with a focus on ``C`` (Procedural) and ``Java`` (Object-oriented)\n",
    "***"
   ]
  },
  {
   "cell_type": "markdown",
   "id": "0820489e",
   "metadata": {},
   "source": [
    "Course material for the ``Multi-Paradigm Programming`` module (5 Credits) of the ``Higher Diploma in Science in Computing (Data Analytics) (H.Dip)`` programme (75 Credits) at **Galway-Mayo Institute of Technology (GMIT)**."
   ]
  },
  {
   "cell_type": "code",
   "execution_count": 2,
   "id": "568acc13",
   "metadata": {},
   "outputs": [],
   "source": [
    "from sys import path; path.insert(1,\"../src\")\n",
    "from fubar import fFile"
   ]
  },
  {
   "cell_type": "code",
   "execution_count": 3,
   "id": "89ee0f58",
   "metadata": {},
   "outputs": [
    {
     "name": "stdout",
     "output_type": "stream",
     "text": [
      "# repository ./SeanOhAileasa\r\n",
      "def fFile(nParPath):\r\n",
      "    \"\"\"Start a file with its associated application.\r\n",
      "\r\n",
      "Input: nParPath\r\n",
      "Process: (os.path.realpath; os.startfile)\r\n",
      "Output: file opened with associated application\r\n",
      "\"\"\"\r\n",
      "    from os import path,startfile\r\n",
      "    return startfile(path.realpath(nParPath))\r\n",
      "# --- END ---\r\n"
     ]
    }
   ],
   "source": [
    "%%script bash\n",
    "grep -1 \"def fFile\" ../src/fubar.py -A 9"
   ]
  },
  {
   "cell_type": "markdown",
   "id": "a7996969",
   "metadata": {},
   "source": [
    "<a id=\"top\"></a>\n",
    "***\n",
    "## Table of Contents\n",
    "***"
   ]
  },
  {
   "cell_type": "markdown",
   "id": "e321416a",
   "metadata": {},
   "source": [
    "## [Acronym](#top)\n",
    "\n",
    "- &#x1F4CC; Work-in-Progress (WIP)\n",
    "- ``obj``: object"
   ]
  },
  {
   "cell_type": "markdown",
   "id": "1f8ba50b",
   "metadata": {},
   "source": [
    "## [Abstract](#abstract)\n",
    "\n",
    "## [Introduction](#introduction)\n",
    "\n",
    "* [Programming](#mppProgramming) <br/><br/>\n",
    "    * [Paradigm](#mppProgrammingParadigm) <br/><br/>\n",
    "    * [Abstraction](#mppProgrammingAbstraction) <br/><br/>\n",
    "        * [Low-Level](#mppProgrammingParadigmLowHighLevel)&nbsp;&nbsp;|&nbsp;&nbsp;[High-Level](#mppProgrammingParadigmLowHighLevel) <br/><br/>\n",
    "    * [State](#mppProgrammingState) <br/><br/>\n",
    "* [Imperative](#mppImperative) <br/><br/>\n",
    "    * [Procedural](#mppProcedural) <br/><br/>\n",
    "        * [``C``](#cProgramming)&nbsp;&nbsp;|&nbsp;&nbsp;[Vs ``Python``](#cProgrammingVsPython) <br/><br/>\n",
    "            * [Menu](#cProgrammingMenu) <br/><br/>\n",
    "            * [Structs](#cProgrammingStructs) <br/><br/>\n",
    "            * [Function Prototypes](#cProgrammingFunctionPrototypes) <br/><br/>\n",
    "        * [``Python``](#mppImperativePython) <br/><br/>\n",
    "            * [Imperative](#mppImperativePythonImperative) <br/><br/>\n",
    "            * [Procedural](#mppImperativePythonProcedural) <br/><br/>\n",
    "* [Object-Oriented](#objectOrientedProgramming) &#x1F4CC; <br/><br/>\n",
    "    * [Object](#objectOrientedProgrammingObject) <br/><br/>\n",
    "        * [State](#objectOrientedProgrammingObjectState)&nbsp;&nbsp;|&nbsp;&nbsp;[Functionality](#objectOrientedProgrammingObjectFunctionality) <br/><br/>\n",
    "            * [Class](#objectOrientedProgrammingClass)&nbsp;&nbsp;|&nbsp;&nbsp;[Instantiation](#objectOrientedProgrammingClassInstantiation) <br/><br/> \n",
    "                * [Attribute](#objectOrientedProgrammingClassAttribute) <br/><br/>\n",
    "                * [Method](#objectOrientedProgrammingClassMethod) <br/><br/>\n",
    "            * [inheritance](#xxx) <br/><br/>\n",
    "    * [Java Programming](#objectOrientedJava) <br/><br/>        \n",
    "    * [Procedural Style (C)](#objectOrientedProgrammingProceduralStyle) <br/><br/>\n",
    "    * [Object-Oriented Style (Java)](#objectOrientedProgrammingObjectorientedStyleJava) <br/><br/>\n",
    "* [Declarative](#declarativeProgramming) <br/><br/>\n",
    "* [Functional](#functionalProgramming) <br/><br/>\n",
    "    * [Functions](#functions) <br/><br/>\n",
    "        * [Generic](https://nbviewer.jupyter.org/github/SeanOhAileasa/fda-data-functions/blob/main/fda-data-functions.ipynb) **[External Link]** <br/><br/>\n",
    "            * [Iterator](https://nbviewer.jupyter.org/github/SeanOhAileasa/fda-data-functions/blob/main/fda-data-functions.ipynb#iterator) **[External Link]** <br/><br/>\n",
    "                * [Map](https://nbviewer.jupyter.org/github/SeanOhAileasa/fda-data-functions/blob/main/fda-data-functions.ipynb#map) **[External Link]** <br/><br/>\n",
    "                    * [Anonymous](https://nbviewer.jupyter.org/github/SeanOhAileasa/fda-data-functions/blob/main/fda-data-functions.ipynb#anonymous-function) **[External Link]** <br/><br/>\n",
    "                * [Reduce](https://nbviewer.jupyter.org/github/SeanOhAileasa/fda-data-functions/blob/main/fda-data-functions.ipynb#reduce) **[External Link]** <br/><br/>\n",
    "        * [Data and Functions](https://nbviewer.jupyter.org/github/SeanOhAileasa/fda-data-functions/blob/main/fda-data-functions.ipynb#data-and-functions) **[External Link]**"
   ]
  },
  {
   "cell_type": "markdown",
   "id": "bbc9969d",
   "metadata": {},
   "source": [
    "<hr width=50%;>"
   ]
  },
  {
   "cell_type": "markdown",
   "id": "8a9f03af",
   "metadata": {},
   "source": [
    "## [Winter 21/22 Assessment](#solution)\n",
    "\n",
    "* [Shop Simulation (C)](#makingaShopSimulationinC) <br/><br/>\n",
    "    * [Passing Arguments as Pointer](#shopSimulationPassingArgumentsasPointer) <br/><br/>\n",
    "    * [Processing the Order](#shopSimulationProcessingtheOrder) <br/><br/>\n",
    "    * [Processing Customer Details](#shopSimulationProcessingCustomerDetails) <br/><br/>\n",
    "* [Shop Simulation (Python Procedural)](#makingaShopSimulationinProcedural) <br/><br/>\n",
    "    * [``struct``](#makingaShopSimulationinProceduralstructdataclass)&nbsp;&nbsp;|&nbsp;&nbsp;[``dataclass``](#makingaShopSimulationinProceduralstructdataclass) <br/><br/>\n",
    "    * [Type Safety](#makingaShopSimulationinProceduraltypesafety) <br/><br/>\n",
    "    * [Indexing](#makingaShopSimulationinProceduralIndexing) <br/><br/>\n",
    "    * [``createAndStockShop``](#makingaShopSimulationinProceduralcreateAndStockShop)&nbsp;&nbsp;|&nbsp;&nbsp;[``create_and_stock_shop``](#makingaShopSimulationinProceduralcreateAndStockShop) <br/><br/>\n",
    "    * [``printCustomer``](#makingaShopSimulationinProceduralprintCustomer)&nbsp;&nbsp;|&nbsp;&nbsp;[``print_customer``](#makingaShopSimulationinProceduralprintCustomer) <br/><br/>    \n",
    "* [OOP](#makingaShopSimulationinOOP) &#x1F6A7; <br/><br/>\n",
    "    * [Python Programming](#shopSimulationPython) <br/><br/>\n",
    "    * [Java Programming](#shopSimulationJava) <br/><br/>\n",
    "        * [User Input](#shopSimulationJavaUserInput)\n",
    "    \n",
    "## [Conclusion](#conclusion)\n",
    "\n",
    "- &#x1F6A7;"
   ]
  },
  {
   "cell_type": "markdown",
   "id": "ad13d4bd",
   "metadata": {},
   "source": [
    "***\n",
    "## END"
   ]
  },
  {
   "cell_type": "markdown",
   "id": "fb86e7eb",
   "metadata": {},
   "source": [
    "< [Table of Contents](#top) | [Introduction](#introduction) | [Solution](#solution) | [Conclusion](#conclusion) | [References](#references) >\n",
    "<a id=\"abstract\"></a>\n",
    "***\n",
    "## Abstract\n",
    "***"
   ]
  },
  {
   "cell_type": "markdown",
   "id": "624286e6",
   "metadata": {},
   "source": [
    "- Object-oriented programming \n",
    "\t- Encapsulation\n",
    "\t- Data and methods\n",
    "\t- Objects, classes, instances"
   ]
  },
  {
   "cell_type": "markdown",
   "id": "d52010b0",
   "metadata": {},
   "source": [
    "- Dataflow programming\n",
    "\t- Tables, spreadsheets, tensors\n",
    "\t- Dataflow graphs\n",
    "\t- Sessions"
   ]
  },
  {
   "cell_type": "markdown",
   "id": "fb09b580",
   "metadata": {},
   "source": [
    "- Functional programming\n",
    "\t- Lists, pairs\n",
    "\t- Map, reduce (often used for distributed workloads)\n",
    "\t- Recursion"
   ]
  },
  {
   "cell_type": "markdown",
   "id": "2dfe79cf",
   "metadata": {},
   "source": [
    "***\n",
    "## END"
   ]
  },
  {
   "cell_type": "markdown",
   "id": "ad0ca3b6",
   "metadata": {},
   "source": [
    "< [Table of Contents](#top) | [Abstract](#abstract) | [Solution](#solution) | [Conclusion](#conclusion) | [References](#references) >\n",
    "<a id=\"introduction\"></a>\n",
    "***\n",
    "## Introduction\n",
    "***"
   ]
  },
  {
   "cell_type": "code",
   "execution_count": null,
   "id": "20140b21",
   "metadata": {},
   "outputs": [],
   "source": [
    "# fFile(nParPath=\"./hide/01-Introduction/MPP - 1 - Module Introduction - 20-09-2019.mkv\")\n",
    "# fFile(nParPath=\"./hide/01-Introduction/MPP - 1 - Module Introduction - 20-09-2019.pdf\")"
   ]
  },
  {
   "cell_type": "markdown",
   "id": "60659dfd",
   "metadata": {},
   "source": [
    "- introduction to various programming paradigms such as object-oriented programming and functional programming and dataflow programming [1][2]"
   ]
  },
  {
   "cell_type": "markdown",
   "id": "0397e565",
   "metadata": {},
   "source": [
    "i. compare different programming paradigms [1]\n",
    "\n",
    "\n",
    "ii. select an appropriate programming paradigm for a given programming problem [1]\n",
    "\n",
    "\n",
    "iii. write programs using a variety of different programming paradigms [1] - perhaps the different paradigms may be manifest in different programming languages (some languages best exemplify particular paradigms) [2]\n",
    "\n",
    "\n",
    "iv. explain how various programming paradigms have evolved over time [1] (chosen as good abstractions in structuring programs) - knowing the relative strengths of each paradigm [2]"
   ]
  },
  {
   "cell_type": "markdown",
   "id": "c0067296",
   "metadata": {},
   "source": [
    "< [Table of Contents](#top) | [References](#references) >\n",
    "<a id=\"mppProgramming\"></a>\n",
    "***\n",
    "### Programming\n",
    "***"
   ]
  },
  {
   "cell_type": "code",
   "execution_count": null,
   "id": "6de27a2a",
   "metadata": {},
   "outputs": [],
   "source": [
    "# fFile(nParPath=\"./hide/01-Introduction/MPP - 2 - What Is a Programming Paradigm - 20-09-2019.mkv\")\n",
    "# fFile(nParPath=\"./hide/01-Introduction/MPP - 2 - What Is a Programming Paradigm - 20-09-2019.pdf\")"
   ]
  },
  {
   "cell_type": "markdown",
   "id": "857c3698",
   "metadata": {},
   "source": [
    "- programming is a method of communication between the end user (programmer/human) and the machine [3]"
   ]
  },
  {
   "cell_type": "markdown",
   "id": "77bd230e",
   "metadata": {},
   "source": [
    "- the machine does exactly what the human tells it to do - this is not always the same thing as what the human wants it to do because humans are imprecise and computers are very precise [3] "
   ]
  },
  {
   "cell_type": "markdown",
   "id": "cf7ff4a0",
   "metadata": {},
   "source": [
    "- everything in the world of software development is basically some means of making it easier to convey precise intent to the machine - this is where all the different kinds of software tools and layers of abstraction come from - trying to make it easier for the human to convey their intentions to the machine from a high-level down to the low-level (actual machine code itself) - all want to provide structure for the human in conveying intent which ultimately becomes a stream of ones and zeros [3]"
   ]
  },
  {
   "cell_type": "markdown",
   "id": "7e836112",
   "metadata": {},
   "source": [
    "- the approach at a high-level involves instructions input into the machine through some process (using a compiler and/or interpreter) by writing a solution to a problem in a high-level programming language [3]"
   ]
  },
  {
   "cell_type": "markdown",
   "id": "b9dcaf7e",
   "metadata": {},
   "source": [
    "- as the instructions get turned into machine code (executes on the machine) with all things being done correctly by the human and by the process of changing those human high-level instructions into the machine code then the problem can be solved (maybe the program has to solve some mathematical equation or store data into a database or act as a web-server) [3]"
   ]
  },
  {
   "cell_type": "markdown",
   "id": "53f0aab8",
   "metadata": {},
   "source": [
    "![High-Level (Instructions) to Low-Level](https://github.com/SeanOhAileasa/SeanOhAileasa/blob/master/rc/mpp/programmingParadigm/high-low.png?raw=true)\n",
    "\n",
    "***(Image) D. Carr, \"MPP - 2 - What Is a Programming Paradigm,\" GMIT, September 2019.***"
   ]
  },
  {
   "cell_type": "markdown",
   "id": "9faa7826",
   "metadata": {},
   "source": [
    "< [Table of Contents](#top) | [References](#references) >\n",
    "<a id=\"mppProgrammingParadigm\"></a>\n",
    "***\n",
    "###### Paradigm\n",
    "***"
   ]
  },
  {
   "cell_type": "markdown",
   "id": "be96c731",
   "metadata": {},
   "source": [
    "- a programming paradigm is a style or way of thinking about and approaching computer programming problems [3]"
   ]
  },
  {
   "cell_type": "markdown",
   "id": "66e40b9c",
   "metadata": {},
   "source": [
    "- the chosen paradigm will affect how the code is written and structured (thought about and organised) - it can heavily influence the way in which the human actually thinks about the problem [3]"
   ]
  },
  {
   "cell_type": "markdown",
   "id": "de01bb35",
   "metadata": {},
   "source": [
    "- some paradigms lend themselves very well to particular types of problems with each paradigm having its advocates - humans who are fiercely loyal to certain paradigms and detractors (each having particular advantages and disadvantages) [3]"
   ]
  },
  {
   "cell_type": "markdown",
   "id": "84086012",
   "metadata": {},
   "source": [
    "- a different programming language is not the same thing as a different paradigm - can have many languages which fit within the same paradigm such as ``C++`` and ``Java`` (both are general-purpose object-oriented) but are not the same language [3]"
   ]
  },
  {
   "cell_type": "markdown",
   "id": "33eb2b59",
   "metadata": {},
   "source": [
    "- some programming languages may be multi-paradigm such as ``Python`` - can be considered to be a procedural programming language with strong support for object-oriented programming [3]"
   ]
  },
  {
   "cell_type": "markdown",
   "id": "e5fe6c97",
   "metadata": {},
   "source": [
    "< [Table of Contents](#top) | [References](#references) >\n",
    "<a id=\"mppProgrammingAbstraction\"></a>\n",
    "***\n",
    "###### Abstraction\n",
    "***"
   ]
  },
  {
   "cell_type": "markdown",
   "id": "7ae7efc9",
   "metadata": {},
   "source": [
    "> \"if you ever code something that \"feels like a hack but it works,\" just remember that a CPU is literally a rock that we tricked into thinking\" [[daisyowl](https://twitter.com/daisyowl)]"
   ]
  },
  {
   "cell_type": "markdown",
   "id": "23dca847",
   "metadata": {},
   "source": [
    "- one of the most important concepts in software development [3]"
   ]
  },
  {
   "cell_type": "markdown",
   "id": "45dca2ec",
   "metadata": {},
   "source": [
    "- much of computer science is about abstraction (concurrency control/memory management/virtual machine/operating systems/drivers/API) [3]"
   ]
  },
  {
   "cell_type": "markdown",
   "id": "01666af6",
   "metadata": {},
   "source": [
    "- process of removing physical or spatial (where) or temporal (time) details or attributes in the study of objects or systems in order to focus attention on details of higher importance (very similar in nature to the process of generalisation) [3]"
   ]
  },
  {
   "cell_type": "markdown",
   "id": "b2fcb82f",
   "metadata": {},
   "source": [
    "- the creation of abstract concept-objects which are created by mirroring common features or attributes from various non-abstract objects or systems of study (the result of the process of abstraction) [3]"
   ]
  },
  {
   "cell_type": "markdown",
   "id": "524fd380",
   "metadata": {},
   "source": [
    "- all programming languages and paradigms are attempts to abstract low-level details to allow the human to think about and solve problems at a higher level (or perhaps a different level) [3]"
   ]
  },
  {
   "cell_type": "markdown",
   "id": "9267e9f1",
   "metadata": {},
   "source": [
    "< [Table of Contents](#top) | [References](#references) >\n",
    "<a id=\"mppProgrammingParadigmLowHighLevel\"></a>\n",
    "***\n",
    "###### Low-Level&nbsp;&nbsp;|&nbsp;&nbsp;High-Level\n",
    "***"
   ]
  },
  {
   "cell_type": "markdown",
   "id": "5bf330c3",
   "metadata": {},
   "source": [
    "- machines understand operations at a very low level (moving bits from one place to another) [3]"
   ]
  },
  {
   "cell_type": "markdown",
   "id": "79b2a65c",
   "metadata": {},
   "source": [
    "- the one plus two multiplied by five operation at the low level needs to: i) carry out the evaluation; ii) return the result and; perform an assignment - this is actually quite complex (its a rock tricked into thinking) [3]"
   ]
  },
  {
   "cell_type": "markdown",
   "id": "ff3930c4",
   "metadata": {},
   "source": [
    "- values are converted into binary - the calculations are broken apart into assembly instructions (operations such as shifting a binary register left or adding the binary complement of the contents of one register to another) [3]"
   ]
  },
  {
   "cell_type": "markdown",
   "id": "cc7e9eea",
   "metadata": {},
   "source": [
    "- assigning the resulting value to the variable ``a`` (placeholder) requires looking up the variable location in physical memory [3]\n",
    "\n",
    "```c\n",
    "a := (1 + 2) * 5\n",
    "```"
   ]
  },
  {
   "cell_type": "markdown",
   "id": "0b4807da",
   "metadata": {},
   "source": [
    "- the addition of two numbers using ``MIPS`` assembly is very low level (one step above binary) [3]\n",
    "\n",
    "```\n",
    "LUI R1, #1\n",
    "LUI R2, #2\n",
    "DADD R3, R1, R2\n",
    "```"
   ]
  },
  {
   "cell_type": "markdown",
   "id": "5b5e1ac4",
   "metadata": {},
   "source": [
    "- the addition of two numbers using ``C`` or ``Java`` is syntactically valid for both - ``C`` is higher level albeit most would consider a low-level language [3]\n",
    "\n",
    "```C\n",
    "x = 1 + 2\n",
    "```"
   ]
  },
  {
   "cell_type": "markdown",
   "id": "442ad231",
   "metadata": {},
   "source": [
    "- having no abstraction would require the human to specify all the register/binary-level steps every time [3]"
   ]
  },
  {
   "cell_type": "markdown",
   "id": "85a63a33",
   "metadata": {},
   "source": [
    "< [Table of Contents](#top) | [References](#references) >\n",
    "<a id=\"mppProgrammingState\"></a>\n",
    "***\n",
    "###### State\n",
    "***"
   ]
  },
  {
   "cell_type": "markdown",
   "id": "7babf02e",
   "metadata": {},
   "source": [
    "- data is stored in varialbes which map to storage locations in memory - the contents of these memory locations at any given point in the programs execution is called state [3]"
   ]
  },
  {
   "cell_type": "markdown",
   "id": "598f0fb9",
   "metadata": {},
   "source": [
    "- state effects the behaviour of the program - the more state the more unpredictable the program [3]"
   ]
  },
  {
   "cell_type": "markdown",
   "id": "ad572b53",
   "metadata": {},
   "source": [
    "> \"In programming mutable state is evil\" [[Unk](#)]"
   ]
  },
  {
   "cell_type": "markdown",
   "id": "ee394130",
   "metadata": {},
   "source": [
    "- some paradigms would seek to do away with state completely - functional programming resembles pure mathematical operations which do not store any information (not having side-effects only having input and process and output) [3]"
   ]
  },
  {
   "cell_type": "markdown",
   "id": "39a29bad",
   "metadata": {},
   "source": [
    "- other paradigms state is intrinsic - object-oriented programming without mutable state is not possible [3]"
   ]
  },
  {
   "cell_type": "markdown",
   "id": "5afbf797",
   "metadata": {},
   "source": [
    "***\n",
    "### END"
   ]
  },
  {
   "cell_type": "markdown",
   "id": "38861a64",
   "metadata": {},
   "source": [
    "< [Table of Contents](#top) | [References](#references) >\n",
    "<a id=\"mppImperative\"></a>\n",
    "***\n",
    "### Imperative\n",
    "***"
   ]
  },
  {
   "cell_type": "code",
   "execution_count": null,
   "id": "b0515fec",
   "metadata": {},
   "outputs": [],
   "source": [
    "# fFile(nParPath=\"./hide/02-ImperativeProcedural/MPP - 3 - ImperativeProcedural - 27-09-2019.mkv\")\n",
    "# fFile(nParPath=\"./hide/02-ImperativeProcedural/MPP - 3 - ImperativeProcedural - 27-09-2019.pdf\")"
   ]
  },
  {
   "cell_type": "markdown",
   "id": "58a8d0d4",
   "metadata": {},
   "source": [
    "- imperative programming involves an explicit sequence of commands that update state [4]"
   ]
  },
  {
   "cell_type": "markdown",
   "id": "46fd3554",
   "metadata": {},
   "source": [
    "- an imperative program says how to do something in the correct sequence it should be done therefore order of execution (order in which each statement is executed) is important (top to bottom) [4]"
   ]
  },
  {
   "cell_type": "markdown",
   "id": "353ea082",
   "metadata": {},
   "source": [
    "- a very general structure of an imperative program is: i) first do this; ii) next do that; iii) then possibility repeat something a number of times; iv) then finish [4]"
   ]
  },
  {
   "cell_type": "markdown",
   "id": "1ebd0e95",
   "metadata": {},
   "source": [
    "- it did provide a means of non-linear execution ``goto`` but it was messy - it was one of the first advances in programming maintainability first implemented in ALGOL in the 1950s [4]\n",
    "\n",
    "```c\n",
    "result = []\n",
    "i = 0\n",
    "start:\n",
    "  numPeople = length(people)\n",
    "  if i >= numPeople goto finished\n",
    "  p = people[i]\n",
    "  nameLength = length(p.name)\n",
    "  if nameLength <= 5 goto nextOne\n",
    "  upperName = toUpper(p.name)\n",
    "  addToList(result, upperName)\n",
    "nextOne:\n",
    "  i = i + 1\n",
    "  goto start\n",
    "finished:\n",
    "  return sort(result)\n",
    "```"
   ]
  },
  {
   "cell_type": "markdown",
   "id": "9ef07009",
   "metadata": {},
   "source": [
    "- often compile to binary executables that run more efficiently since all CPU instructions are themselves imperative statements [4]"
   ]
  },
  {
   "cell_type": "markdown",
   "id": "a368345e",
   "metadata": {},
   "source": [
    "- imperative approaches and low-level languages are often used where efficiency and code-footprint are important such as in embedded systems [4]"
   ]
  },
  {
   "cell_type": "markdown",
   "id": "e920bcce",
   "metadata": {},
   "source": [
    "- low-level refers to the closeness to the machine with regard to the level of abstraction whereby an approach like declarative programming would be more high-level [4] "
   ]
  },
  {
   "cell_type": "markdown",
   "id": "5d47009f",
   "metadata": {},
   "source": [
    "< [Table of Contents](#top) | [References](#references) >\n",
    "<a id=\"mppProcedural\"></a>\n",
    "***\n",
    "###### Procedural\n",
    "***"
   ]
  },
  {
   "cell_type": "markdown",
   "id": "c44412f8",
   "metadata": {},
   "source": [
    "- procedural programming is simply imperative programming with procedure calls (historically called sub-routines) [4]"
   ]
  },
  {
   "cell_type": "markdown",
   "id": "178f0e2a",
   "metadata": {},
   "source": [
    "- avoids repetition and provides structure - the early programmers realized they should group instructions together into re-usable elements called procedures (sub-routines) which can then be called when needed during program execution [4]"
   ]
  },
  {
   "cell_type": "markdown",
   "id": "705c019d",
   "metadata": {},
   "source": [
    "< [Table of Contents](#top) | [References](#references) >\n",
    "<a id=\"cProgramming\"></a>\n",
    "***\n",
    "###### ``C``\n",
    "***"
   ]
  },
  {
   "cell_type": "code",
   "execution_count": null,
   "id": "28e2f30a",
   "metadata": {},
   "outputs": [],
   "source": [
    "# fFile(nParPath=\"./hide/02-ImperativeProcedural/MPP - 3.1 - The C Programming Language - 27-09-2019.mkv\")\n",
    "# fFile(nParPath=\"./hide/02-ImperativeProcedural/MPP - 3.1 - The C Programming Language - 27-09-2019.pdf\")\n",
    "# fFile(nParPath=\"./hide/02-ImperativeProcedural/Simple Programming Exercises.zip\")\n",
    "# fFile(nParPath=\"./hide/02-ImperativeProcedural/MPP - 3.2 - Practical C - 27-09-2019.mkv\")"
   ]
  },
  {
   "cell_type": "markdown",
   "id": "ed94f67a",
   "metadata": {},
   "source": [
    "- ``C`` is a general-purpose and procedural programming language developed in 1972 at Bell Labs (research company Carnegie and Ritchie and currently owned by Alcatel Lucent) [5]"
   ]
  },
  {
   "cell_type": "markdown",
   "id": "0780d8ec",
   "metadata": {},
   "source": [
    "- it was developed not with any particular problem in mind but designed to be able to write general-purpose programs in a procedural style [4]"
   ]
  },
  {
   "cell_type": "markdown",
   "id": "e617fb33",
   "metadata": {},
   "source": [
    "- at the time it was written pretty much every programming language was procedural and has survived the test of time (still used around the world every day) [5]"
   ]
  },
  {
   "cell_type": "markdown",
   "id": "e7a8fafc",
   "metadata": {},
   "source": [
    "- supports: i) structured programming; ii) variable scope management and; iii) recursion [5]\n",
    "\n",
    "i. structured programming for the most part is being able to link different files together so that not all the code has to be in one file - this provides a structure which aids maintainability of the code [5]\n",
    "\n",
    "\n",
    "ii. variable scope is where a variable can be accessed from and managed [5]\n",
    "\n",
    "\n",
    "iii. recursion is a function which calls itself executing and solving problems - in some cases makes sense to use recursion rather than to use a loop construct (anything that can be done with a loop can be done with recursion) [5]"
   ]
  },
  {
   "cell_type": "markdown",
   "id": "6ef2a1d1",
   "metadata": {},
   "source": [
    "- static type system meaning the type has to be declared for each variable - a variable ``age`` has to be declared as an integer - this allows the language to provide safeguards against illegal values being put into variables [5]"
   ]
  },
  {
   "cell_type": "markdown",
   "id": "4d6a2405",
   "metadata": {},
   "source": [
    "- by its design the constructs in the ``C`` language map very efficiently to the typical machine instructions and because of this it creates very efficient code for running on the physical machine on the CPU [5]"
   ]
  },
  {
   "cell_type": "markdown",
   "id": "7a2193d1",
   "metadata": {},
   "source": [
    "- it has found long lasting applications in things that before would have been coded in assembly language which is quite cumbersome and very difficult to reason about and very low level [5]"
   ]
  },
  {
   "cell_type": "markdown",
   "id": "255fa858",
   "metadata": {},
   "source": [
    "- ``C`` was considered to be a great step up from assembly while still providing the kinds of efficiencies that are needed for certain application areas (embedded systems) [5]"
   ]
  },
  {
   "cell_type": "markdown",
   "id": "1e1ac60c",
   "metadata": {},
   "source": [
    "- in the context of history (1972) machines had a lot less processing power and less storage space - the efficiency of the code footprint and of the execution of a program was much more important than it is for the average programmer today [5]"
   ]
  },
  {
   "cell_type": "markdown",
   "id": "c18dd98d",
   "metadata": {},
   "source": [
    "- ``Python`` is run through an interpreter whereby the code does not get changed into assembly code or machine code directly - ``C`` is designed to be compiled using a straightforward compiler (``gcc`` - other compilers exist also) [5]"
   ]
  },
  {
   "cell_type": "markdown",
   "id": "1b291d5e",
   "metadata": {},
   "source": [
    "- compiler design is a whole research area  and is a very deep part of computer science - compilation generally lends itself to being able to produce more efficient code than running it through an interpreter - when there is a requirement to be very fast then its much better to use a compiled language rather than an interpreted language [5]"
   ]
  },
  {
   "cell_type": "markdown",
   "id": "71dc43eb",
   "metadata": {},
   "source": [
    "- it was designed to provide low level access to memory - the language constructs were supposed to map very efficiently to machine instructions (low-level access to memory) - the actual program itself can allocate and deallocate memory on the machine while it is running - when designed there was not much memory available so if a program no longer need a piece of information then it was to be removed by the program execution as quickly as possible - a skilled programmer was able to do manual memory management more efficiently than it being done by an automated process - programming language such as ``Java`` and ``Python`` have automatic memory management [5]"
   ]
  },
  {
   "cell_type": "markdown",
   "id": "30dd820d",
   "metadata": {},
   "source": [
    "- it was designed to work cross platform if written in a standards compliant way with portability in mind then can be compiled on different computer platforms with only a few changes to the source code [5]"
   ]
  },
  {
   "cell_type": "markdown",
   "id": "a5238bb3",
   "metadata": {},
   "source": [
    "- this was still a problem even though it was designed to work cross platform - there were still issues in terms of getting it to do this - one of the things that informed the design of ``Java`` (1995) was to provide really strong cross platform support hence the tagline ``write once run anywhere`` [5]"
   ]
  },
  {
   "cell_type": "markdown",
   "id": "b69548ed",
   "metadata": {},
   "source": [
    "- the reason why that would that resonated with people was because it turns out it was not so easy with other programming languages that have come before ``C`` - even though it was a step up from trying to write cross platform assembly code it never really took off - so the language is available on various platforms from embedded microcontrollers to supercomputers [5]"
   ]
  },
  {
   "cell_type": "markdown",
   "id": "d655018c",
   "metadata": {},
   "source": [
    "- embedded systems might find ``C`` on printers/microcontrollers that exist in modern dryers or modern washing machines or smart kettles or smart door locks - still found all over the world and used in a lot of internet of things applications [5]"
   ]
  },
  {
   "cell_type": "markdown",
   "id": "640ceafa",
   "metadata": {},
   "source": [
    "< [Table of Contents](#top) | [References](#references) >\n",
    "<a id=\"cProgrammingVsPython\"></a>\n",
    "***\n",
    "###### vs. ``Python``\n",
    "***"
   ]
  },
  {
   "cell_type": "markdown",
   "id": "56c969d7",
   "metadata": {},
   "source": [
    "- ``C`` is compiled and ``Python`` is interpreted which from a performance perspective means that code written in ``C`` is much faster than code written in ``Python`` - for a lot of application scenarios this does not really matter but in some cases such as embedded systems or real-time applications (air-traffic control systems or early warning hurricane systems) those little milliseconds add up to possibly being the difference between life and death - it can be very important how fast the code is [5]"
   ]
  },
  {
   "cell_type": "markdown",
   "id": "91e271f5",
   "metadata": {},
   "source": [
    "- ``C`` allows low-level memory access and ``Python`` does not (done automatically) [5]"
   ]
  },
  {
   "cell_type": "markdown",
   "id": "8bd0d61e",
   "metadata": {},
   "source": [
    "- ``Python`` supports object-oriented programming albeit can write procedural programs (mix and match) and ``C`` does not support object-orientated programming - ``C++`` was developed to basically extend ``C`` so that it would support object-orientated programming [5]"
   ]
  },
  {
   "cell_type": "markdown",
   "id": "c7a388f8",
   "metadata": {},
   "source": [
    "- ``Python`` has a lot more built-in functionality than ``C`` [5]"
   ]
  },
  {
   "cell_type": "markdown",
   "id": "198ab21b",
   "metadata": {},
   "source": [
    "- ``C`` variable types have to be declared whereas ``Python`` does not required this [5]"
   ]
  },
  {
   "cell_type": "markdown",
   "id": "c624eb80",
   "metadata": {},
   "source": [
    "- ``C`` programs are much more verbose than ``Python`` meaning that writing an equivalent program in ``C`` takes more lines of code - ``C`` is considered more difficult to learn than ``Python`` [5]"
   ]
  },
  {
   "cell_type": "markdown",
   "id": "7ceffd52",
   "metadata": {},
   "source": [
    "- ``C`` memory management is manual whereas ``Python`` has automated memory management through its interpreter - values stored in a name are no longer accessible by the code (gone out of scope) - the interpreter will delete the data from memory to free up the memory of the computer - this can have implications when you a ``Python`` script deals with millions of values but for the most part memory management is not too important [5]"
   ]
  },
  {
   "cell_type": "markdown",
   "id": "e42c0527",
   "metadata": {},
   "source": [
    "- there are many syntactical differences but some commonalities [5]"
   ]
  },
  {
   "cell_type": "markdown",
   "id": "d9ae311e",
   "metadata": {},
   "source": [
    "< [Table of Contents](#top) | [References](#references) >\n",
    "<a id=\"cProgrammingMenu\"></a>\n",
    "***\n",
    "###### Menu\n",
    "***"
   ]
  },
  {
   "cell_type": "code",
   "execution_count": null,
   "id": "900761e2",
   "metadata": {},
   "outputs": [],
   "source": [
    "# fFile(nParPath=\"./hide/04-ObjectOrientedProgramming/MPP - 6.6 - Week 6 - A Menu in C - 26-10-2020.mp4\")\n",
    "# fFile(nParPath=\"./hide/04-ObjectOrientedProgramming/menu_example.c\")"
   ]
  },
  {
   "cell_type": "markdown",
   "id": "2d5e5249",
   "metadata": {},
   "source": [
    "< [Table of Contents](#top) | [References](#references) >\n",
    "<a id=\"cProgrammingStructs\"></a>\n",
    "***\n",
    "###### Structs\n",
    "***"
   ]
  },
  {
   "cell_type": "code",
   "execution_count": null,
   "id": "d002313f",
   "metadata": {},
   "outputs": [],
   "source": [
    "# fFile(nParPath=\"./hide/02-ImperativeProcedural/MPP - 3.1 - The C Programming Language - 27-09-2019.mkv\")\n",
    "# fFile(nParPath=\"./hide/02-ImperativeProcedural/MPP - 3.1 - The C Programming Language - 27-09-2019.pdf\")"
   ]
  },
  {
   "cell_type": "code",
   "execution_count": null,
   "id": "022dc086",
   "metadata": {},
   "outputs": [],
   "source": [
    "# fFile(nParPath=\"./hide/04-ObjectOrientedProgramming/MPP - 6.7 - Week 6 - Structs Explained - 26-10-2020.mp4\")\n",
    "# fFile(nParPath=\"./hide/04-ObjectOrientedProgramming/structs_example.c\")"
   ]
  },
  {
   "cell_type": "markdown",
   "id": "53ad667b",
   "metadata": {},
   "source": [
    "< [Table of Contents](#top) | [References](#references) >\n",
    "<a id=\"cProgrammingFunctionPrototypes\"></a>\n",
    "***\n",
    "###### Function Prototypes\n",
    "***"
   ]
  },
  {
   "cell_type": "code",
   "execution_count": null,
   "id": "5a9d43ca",
   "metadata": {},
   "outputs": [],
   "source": [
    "# fFile(nParPath=\"./hide/02-ImperativeProcedural/01-MPP - C - Function Prototypes - 07-11-2019.mp4\")\n",
    "# fFile(nParPath=\"./hide/02-ImperativeProcedural/declaration.c\")"
   ]
  },
  {
   "cell_type": "markdown",
   "id": "3f3d9013",
   "metadata": {},
   "source": [
    "< [Table of Contents](#top) | [References](#references) >\n",
    "<a id=\"mppImperativePython\"></a>\n",
    "***\n",
    "###### ``Python``\n",
    "***"
   ]
  },
  {
   "cell_type": "markdown",
   "id": "5dd959d9",
   "metadata": {},
   "source": [
    "- in the procedural programming paradigm the overall program objective is decomposed into a series of functions which accomplish some smaller piece of the overall objective [9]"
   ]
  },
  {
   "cell_type": "markdown",
   "id": "a6e879c1",
   "metadata": {},
   "source": [
    "- this makes code easier to understand and to maintain and to reuse in future [9]"
   ]
  },
  {
   "cell_type": "markdown",
   "id": "8403fa48",
   "metadata": {},
   "source": [
    "- importing two functions from the ``math`` library and using one of them - this is much easier than reinventing the wheel - can add this thinking to programs [9]"
   ]
  },
  {
   "cell_type": "markdown",
   "id": "5f49079d",
   "metadata": {},
   "source": [
    "- python has a vast amount of reusable functions available in its standard library - this is in contrast to more low-level languages like ``C`` where the standard library is much smaller [9]"
   ]
  },
  {
   "cell_type": "code",
   "execution_count": 1,
   "id": "5b883981",
   "metadata": {},
   "outputs": [],
   "source": [
    "from math import exp,expm1"
   ]
  },
  {
   "cell_type": "code",
   "execution_count": 2,
   "id": "88a7cfaf",
   "metadata": {},
   "outputs": [
    {
     "data": {
      "text/plain": [
       "1.0000050000069649e-05"
      ]
     },
     "execution_count": 2,
     "metadata": {},
     "output_type": "execute_result"
    }
   ],
   "source": [
    "exp(1e-5)-1"
   ]
  },
  {
   "cell_type": "code",
   "execution_count": 3,
   "id": "e846f93b",
   "metadata": {},
   "outputs": [
    {
     "name": "stdout",
     "output_type": "stream",
     "text": [
      "Return e raised to the power of x.\n"
     ]
    }
   ],
   "source": [
    "print(exp.__doc__)"
   ]
  },
  {
   "cell_type": "markdown",
   "id": "afce9391",
   "metadata": {},
   "source": [
    "< [Table of Contents](#top) | [References](#references) >\n",
    "<a id=\"mppImperativePythonImperative\"></a>\n",
    "***\n",
    "###### Imperative\n",
    "***"
   ]
  },
  {
   "cell_type": "markdown",
   "id": "e096b1df",
   "metadata": {},
   "source": [
    "- program which opens a ``CSV`` file and performs from rudimentary extraction of statistical information [9]"
   ]
  },
  {
   "cell_type": "markdown",
   "id": "9480ec44",
   "metadata": {},
   "source": [
    "- the program is not the the most readable as there are no comments and the code has not been decomposed into a series of functions [9]"
   ]
  },
  {
   "cell_type": "markdown",
   "id": "13798e34",
   "metadata": {},
   "source": [
    "- it is essentially an imperative program [9]"
   ]
  },
  {
   "cell_type": "code",
   "execution_count": 4,
   "id": "7ed972e3",
   "metadata": {},
   "outputs": [],
   "source": [
    "import csv"
   ]
  },
  {
   "cell_type": "code",
   "execution_count": 5,
   "id": "19d8714a",
   "metadata": {},
   "outputs": [
    {
     "name": "stdout",
     "output_type": "stream",
     "text": [
      "Average: 60.77777777777778 Median: 65 Smallest: 94 Largest: 18 mode: 65\n"
     ]
    }
   ],
   "source": [
    "with open(\"./rc/example.csv\", mode ='r') as file:   \n",
    "    csvFile=csv.DictReader(file)\n",
    "    scores=[]\n",
    "    \n",
    "    for lines in csvFile:\n",
    "        score = int(lines[\"Score\"])\n",
    "        scores.append(score)    \n",
    "    \n",
    "    total = 0\n",
    "    for score in scores:\n",
    "        total += score\n",
    "        \n",
    "    average = total / len(scores)\n",
    "    \n",
    "    minimum = scores[0]\n",
    "    for score in scores:\n",
    "        if minimum < score:\n",
    "            minimum = score\n",
    "    \n",
    "    maximum = scores[0]\n",
    "    for score in scores:\n",
    "        if maximum > score:\n",
    "            maximum = score\n",
    "    \n",
    "    list1 = scores.copy()\n",
    "    for i in range(0,len(list1)-1):  \n",
    "        for j in range(len(list1)-1):  \n",
    "            if(list1[j]>list1[j+1]):  \n",
    "                temp = list1[j]  \n",
    "                list1[j] = list1[j+1]  \n",
    "                list1[j+1] = temp  \n",
    "    \n",
    "    median = list1[int(len(list1)/2)]\n",
    "    \n",
    "    highest_freq = 0\n",
    "    mode = scores[0]\n",
    "    for score in scores:\n",
    "        frequency = 0\n",
    "        for score2 in scores:\n",
    "            if score == score2:\n",
    "                frequency += 1\n",
    "        if frequency > highest_freq:\n",
    "            mode = score\n",
    "            highest_freq = frequency\n",
    "    \n",
    "    print(f'Average: {average} Median: {median} Smallest: {minimum} Largest: {maximum} mode: {mode}')"
   ]
  },
  {
   "cell_type": "markdown",
   "id": "2f94ae23",
   "metadata": {},
   "source": [
    "< [Table of Contents](#top) | [References](#references) >\n",
    "<a id=\"mppImperativePythonProcedural\"></a>\n",
    "***\n",
    "###### Procedural\n",
    "***"
   ]
  },
  {
   "cell_type": "markdown",
   "id": "a26a57f9",
   "metadata": {},
   "source": [
    "- a modied version of the python program which conforms to the procedural programming paradigm [9]"
   ]
  },
  {
   "cell_type": "markdown",
   "id": "fb1b83d8",
   "metadata": {},
   "source": [
    "- it produces the same results as the original but the code is more readable - it can be more easily understood by a programmer [9]"
   ]
  },
  {
   "cell_type": "markdown",
   "id": "f97d239f",
   "metadata": {},
   "source": [
    "- the computer does not care about paradigms - every paradigm and every abstraction is for the benefit of the programmer [9]"
   ]
  },
  {
   "cell_type": "markdown",
   "id": "e76a1724",
   "metadata": {},
   "source": [
    "- most functions represent the extraction of one piece of information from the imported data [9]"
   ]
  },
  {
   "cell_type": "markdown",
   "id": "b75f244e",
   "metadata": {},
   "source": [
    "- the function names are descriptive - making it easy to understand what they are intended to accomplish [9]"
   ]
  },
  {
   "cell_type": "markdown",
   "id": "08ed1056",
   "metadata": {},
   "source": [
    "- the function ``get_median_value`` uses another function ``bubble_sort`` to sort the data [9]"
   ]
  },
  {
   "cell_type": "markdown",
   "id": "dd6c4629",
   "metadata": {},
   "source": [
    "- the function ``get_average`` shows an example of a ``docstring`` which is a way to document what a method does and what inputs it has and what the return value is [9]"
   ]
  },
  {
   "cell_type": "code",
   "execution_count": 6,
   "id": "a3f68bc4",
   "metadata": {},
   "outputs": [
    {
     "name": "stdout",
     "output_type": "stream",
     "text": [
      "Average: 60.77777777777778 Median: 65 Smallest: None Largest: 18 mode: 65\n"
     ]
    }
   ],
   "source": [
    "def get_maximum_value(list):\n",
    "    maximum = list[0]\n",
    "    for l in list:\n",
    "        if maximum > l:\n",
    "            maximum = l\n",
    "    return maximum\n",
    "\n",
    "def get_minimum_value(list):\n",
    "    minimum = list[0]\n",
    "    for l in list:\n",
    "        if minimum < l:\n",
    "            minimum = l\n",
    "            \n",
    "def get_average(list):\n",
    "    \"\"\" \n",
    "        Given a list of numbers as input this function will return the numerical average.\n",
    "    \n",
    "        :param list: the list of numbers given as input\n",
    "        :return: the numerical average of the list\n",
    "    \"\"\"\n",
    "    total = 0\n",
    "    for l in list:\n",
    "        total += l\n",
    "        \n",
    "    average = total / len(list)\n",
    "    return average\n",
    "\n",
    "def get_median_value(list):\n",
    "    list1 = list.copy()\n",
    "    bubble_sort(list1)\n",
    "    median = list1[int(len(list1)/2)]\n",
    "    return median\n",
    "    \n",
    "def bubble_sort(list1):\n",
    "    for i in range(0,len(list1)-1):  \n",
    "        for j in range(len(list1)-1):  \n",
    "            if(list1[j]>list1[j+1]):  \n",
    "                temp = list1[j]  \n",
    "                list1[j] = list1[j+1]  \n",
    "                list1[j+1] = temp  \n",
    "    \n",
    "def get_mode(list):\n",
    "    highest_freq = 0\n",
    "    mode = scores[0]\n",
    "    for score in scores:\n",
    "        frequency = 0\n",
    "        for score2 in scores:\n",
    "            if score == score2:\n",
    "                frequency += 1\n",
    "        if frequency > highest_freq:\n",
    "            mode = score\n",
    "            highest_freq = frequency\n",
    "    return mode\n",
    "\n",
    "def read_scores_from_csv(filename):\n",
    "    scores = []\n",
    "    with open(filename, mode ='r') as file:   \n",
    "        csvFile = csv.DictReader(file)\n",
    "    \n",
    "        for lines in csvFile:\n",
    "            score = int(lines[\"Score\"])\n",
    "            scores.append(score)    \n",
    "    return scores\n",
    "    \n",
    "if __name__ == \"__main__\":\n",
    "\n",
    "    scores = read_scores_from_csv(\"./rc/example.csv\")\n",
    "    \n",
    "    average = get_average(scores)\n",
    "    minimum = get_minimum_value(scores)   \n",
    "    maximum = get_maximum_value(scores)\n",
    "    median = get_median_value(scores)\n",
    "    mode = get_mode(scores)\n",
    "\n",
    "    print(f'Average: {average} Median: {median} Smallest: {minimum} Largest: {maximum} mode: {mode}')\n",
    "    "
   ]
  },
  {
   "cell_type": "code",
   "execution_count": 7,
   "id": "84b12c98",
   "metadata": {},
   "outputs": [],
   "source": [
    "exit()"
   ]
  },
  {
   "cell_type": "markdown",
   "id": "21937a0c",
   "metadata": {},
   "source": [
    "***\n",
    "### END"
   ]
  },
  {
   "cell_type": "markdown",
   "id": "ea579eff",
   "metadata": {},
   "source": [
    "< [Table of Contents](#top) | [References](#references) >\n",
    "<a id=\"objectOrientedProgramming\"></a>\n",
    "***\n",
    "### Object-Oriented\n",
    "***"
   ]
  },
  {
   "cell_type": "code",
   "execution_count": null,
   "id": "5fc0db69",
   "metadata": {},
   "outputs": [],
   "source": [
    "# fFile(nParPath=\"./hide/04-ObjectOrientedProgramming/MPP - 6.1 - Object Oriented Programming - 17-10-2019.mkv\") # 06:00\n",
    "# fFile(nParPath=\"./hide/04-ObjectOrientedProgramming/MPP - 6.1 - Object Oriented Programming - 17-10-2019.pdf\")"
   ]
  },
  {
   "cell_type": "code",
   "execution_count": null,
   "id": "17124620",
   "metadata": {},
   "outputs": [],
   "source": [
    "# fFile(nParPath=\"./hide/04-ObjectOrientedProgramming/05-MPP - Week 7 - Clock in Python (OOP) - 03-11-2020.mp4\")\n",
    "# fFile(nParPath=\"./hide/04-ObjectOrientedProgramming/06-MPP - Week 7 - Alarm Clock (Inheritance) in Python - 03-11-2020.mp4\")\n",
    "# fFile(nParPath=\"./hide/04-ObjectOrientedProgramming\")"
   ]
  },
  {
   "cell_type": "code",
   "execution_count": null,
   "id": "a1ae92bf",
   "metadata": {},
   "outputs": [],
   "source": [
    "# ----- Private Methods -----\n",
    "# fFile(nParPath=\"./hide/04-ObjectOrientedProgramming/02-MPP - Week 8 - Private Methods in Python - 05-11-2020.mp4\")"
   ]
  },
  {
   "cell_type": "code",
   "execution_count": null,
   "id": "39a41a76",
   "metadata": {},
   "outputs": [],
   "source": [
    "# ----- Inheritance -----\n",
    "# fFile(nParPath=\"./hide/04-ObjectOrientedProgramming/03-MPP - Week 8 - Person Class Inheritance in Python - 05-11-2020.mp4\")"
   ]
  },
  {
   "cell_type": "markdown",
   "id": "c93a36b5",
   "metadata": {},
   "source": [
    "< [Table of Contents](#top) | [References](#references) >\n",
    "<a id=\"objectOrientedProgrammingObject\"></a>\n",
    "***\n",
    "###### Object\n",
    "***"
   ]
  },
  {
   "cell_type": "markdown",
   "id": "b3733a5b",
   "metadata": {},
   "source": [
    "- an object is a representational entity (animal - ``list``) representing something that may be a real world thing that can be visualised or it may not be [6]"
   ]
  },
  {
   "cell_type": "code",
   "execution_count": 1,
   "id": "957aac47",
   "metadata": {},
   "outputs": [
    {
     "data": {
      "text/html": [
       "<style>.container { width:100% !important; }</style>"
      ],
      "text/plain": [
       "<IPython.core.display.HTML object>"
      ]
     },
     "metadata": {},
     "output_type": "display_data"
    }
   ],
   "source": [
    "from sys import path; path.insert(1,\"../src\")\n",
    "from fubar import fIsObject"
   ]
  },
  {
   "cell_type": "code",
   "execution_count": 2,
   "id": "430d141e",
   "metadata": {},
   "outputs": [
    {
     "name": "stdout",
     "output_type": "stream",
     "text": [
      "# repository ./fubar-python\r\n",
      "def fIsObject(nParSomething):\r\n",
      "    \"\"\"Everything in python is an object.\r\n",
      "    \r\n",
      "Input: nParSomething\r\n",
      "Process: (isinstance)\r\n",
      "Output: boolean True or False\r\n",
      "\"\"\"\r\n",
      "    return isinstance(nParSomething,object)\r\n",
      "# --- END ---\r\n"
     ]
    }
   ],
   "source": [
    "%%script bash\n",
    "grep -1 \"def fIsObject\" ../src/fubar.py -A 8"
   ]
  },
  {
   "cell_type": "code",
   "execution_count": 3,
   "id": "367c70d2",
   "metadata": {},
   "outputs": [
    {
     "data": {
      "text/plain": [
       "True"
      ]
     },
     "execution_count": 3,
     "metadata": {},
     "output_type": "execute_result"
    }
   ],
   "source": [
    "fIsObject(nParSomething=0)"
   ]
  },
  {
   "cell_type": "code",
   "execution_count": 4,
   "id": "1c9217c4",
   "metadata": {},
   "outputs": [
    {
     "data": {
      "text/plain": [
       "True"
      ]
     },
     "execution_count": 4,
     "metadata": {},
     "output_type": "execute_result"
    }
   ],
   "source": [
    "fIsObject(nParSomething=fIsObject)"
   ]
  },
  {
   "cell_type": "code",
   "execution_count": 5,
   "id": "4dd7ab8a",
   "metadata": {},
   "outputs": [
    {
     "data": {
      "text/plain": [
       "True"
      ]
     },
     "execution_count": 5,
     "metadata": {},
     "output_type": "execute_result"
    }
   ],
   "source": [
    "fIsObject(nParSomething=fIsObject(0))"
   ]
  },
  {
   "cell_type": "code",
   "execution_count": 6,
   "id": "a4aeaaa6",
   "metadata": {},
   "outputs": [],
   "source": [
    "exit()"
   ]
  },
  {
   "cell_type": "markdown",
   "id": "4b5f6b16",
   "metadata": {},
   "source": [
    "- an object has both state and functionality [6]"
   ]
  },
  {
   "cell_type": "markdown",
   "id": "d7240011",
   "metadata": {},
   "source": [
    "< [Table of Contents](#top) | [References](#references) >\n",
    "<a id=\"objectOrientedProgrammingObjectState\"></a>\n",
    "***\n",
    "###### State\n",
    "***"
   ]
  },
  {
   "cell_type": "markdown",
   "id": "f73003fc",
   "metadata": {},
   "source": [
    "- the representation of an animal would have state meaning information about it - an animal would have a name and age and species and perhaps characteristics like number of number years expected to live etc which varies between different animals [6] "
   ]
  },
  {
   "cell_type": "markdown",
   "id": "dede2967",
   "metadata": {},
   "source": [
    "< [Table of Contents](#top) | [References](#references) >\n",
    "<a id=\"objectOrientedProgrammingObjectFunctionality\"></a>\n",
    "***\n",
    "###### Functionality\n",
    "***"
   ]
  },
  {
   "cell_type": "markdown",
   "id": "b2c41110",
   "metadata": {},
   "source": [
    "- the representation of an animal would have functionality meaning to perform some action - some actions would only be applicable to specific animals so there will be differences between different kinds of animals [6]"
   ]
  },
  {
   "cell_type": "markdown",
   "id": "d5dcad87",
   "metadata": {},
   "source": [
    "< [Table of Contents](#top) | [References](#references) >\n",
    "<a id=\"objectOrientedProgrammingClass\"></a>\n",
    "***\n",
    "###### Class\n",
    "***"
   ]
  },
  {
   "cell_type": "markdown",
   "id": "62dd1dcd",
   "metadata": {},
   "source": [
    "- the class of an object is like a template that specifies what kind of states the object can have and what functionality it can perform - each specific instance of the class is called an object [6]"
   ]
  },
  {
   "cell_type": "markdown",
   "id": "a163c721",
   "metadata": {},
   "source": [
    "- as a blueprint [7 p. 3] it may help to think of a class as an idea for how something should be defined [7 p. 2] (a form or questionnaire) - it defines the needed information [7 p .3]"
   ]
  },
  {
   "cell_type": "markdown",
   "id": "687511c7",
   "metadata": {},
   "source": [
    "- the keyword ``class`` indicates creation - the class is just for defining the ``CDog`` and not actually creating instances of individual dogs with specific names and ages [7 p .4]"
   ]
  },
  {
   "cell_type": "code",
   "execution_count": 1,
   "id": "86e53936",
   "metadata": {},
   "outputs": [],
   "source": [
    "# define class - CDog\n",
    "class CDog:\n",
    "    pass"
   ]
  },
  {
   "cell_type": "markdown",
   "id": "90215b33",
   "metadata": {},
   "source": [
    "- parentheses specifies the parent class that a programmer is inheriting from - with ``python3`` its no longer necessary because it is the implicit default whereby all classes create objects [7 p .4]"
   ]
  },
  {
   "cell_type": "code",
   "execution_count": 2,
   "id": "1aee98bc",
   "metadata": {},
   "outputs": [],
   "source": [
    "# define class - CDog\n",
    "class CDog(object):\n",
    "    pass"
   ]
  },
  {
   "cell_type": "code",
   "execution_count": 3,
   "id": "e57dbc6a",
   "metadata": {},
   "outputs": [],
   "source": [
    "exit()"
   ]
  },
  {
   "cell_type": "markdown",
   "id": "ca423246",
   "metadata": {},
   "source": [
    "- data (each thing or object) is an instance of some ``class`` [7 p .2]"
   ]
  },
  {
   "cell_type": "markdown",
   "id": "cce73e2b",
   "metadata": {},
   "source": [
    "- primitive data structures (numbers and strings and lists) are designed to represent simple things - if a programmer wanted to represent something more complicated such as tracking a number of different animals using the primitive data structure ``list`` then the first element could be the animal name and the second element could represent its age [7 p .4]"
   ]
  },
  {
   "cell_type": "markdown",
   "id": "55567210",
   "metadata": {},
   "source": [
    "- the problem with this approach is how would another programmer know which element is supposed to be which - what if another programmer had one-hundred different animals then can that programmer be certain each animal has both a name and an age - what if a programmer wanted to add other properties to these animals - this lacks organisation [7 p .4]"
   ]
  },
  {
   "cell_type": "markdown",
   "id": "c934bba1",
   "metadata": {},
   "source": [
    "- this is the exact need for classes and are used to create new user-defined data structures that contain arbitrary information about something [7 p .4]"
   ]
  },
  {
   "cell_type": "markdown",
   "id": "3c65b870",
   "metadata": {},
   "source": [
    "- in the case of an animal a programmer could create a ``class`` (name ``CAnimal``) to track properties about the animal like name and age - important to note that a ``class`` just provides structure and it is a blueprint for how something should be defined (it does not actually provide any real content itself) [7 p .4]"
   ]
  },
  {
   "cell_type": "markdown",
   "id": "4c48b2d5",
   "metadata": {},
   "source": [
    "- ``CAnimal`` may specify that the name and age are necessary for defining an animal but it will not actually state what a specific animals name or age is [7 p .4]"
   ]
  },
  {
   "cell_type": "markdown",
   "id": "55303d0a",
   "metadata": {},
   "source": [
    "< [Table of Contents](#top) | [References](#references) >\n",
    "<a id=\"objectOrientedProgrammingClassInstantiation\"></a>\n",
    "***\n",
    "###### Instantiation\n",
    "***"
   ]
  },
  {
   "cell_type": "markdown",
   "id": "4bb24024",
   "metadata": {},
   "source": [
    "- instantiating is a fancy term for creating a new unique instance of a ``class`` [7 p. 5]"
   ]
  },
  {
   "cell_type": "code",
   "execution_count": 1,
   "id": "8509985a",
   "metadata": {},
   "outputs": [],
   "source": [
    "# define class - CDog\n",
    "class CDog:\n",
    "    pass"
   ]
  },
  {
   "cell_type": "markdown",
   "id": "1e42b8bb",
   "metadata": {},
   "source": [
    "- creating two new dogs each assigned to different objects - to create an instance of a ``class`` use the ``class`` name followed by parentheses [7 p. 5]"
   ]
  },
  {
   "cell_type": "code",
   "execution_count": 2,
   "id": "ce1d5191",
   "metadata": {},
   "outputs": [
    {
     "data": {
      "text/plain": [
       "<__main__.CDog at 0x16e4314f340>"
      ]
     },
     "execution_count": 2,
     "metadata": {},
     "output_type": "execute_result"
    }
   ],
   "source": [
    "# instantiate object - CDog\n",
    "CDog()"
   ]
  },
  {
   "cell_type": "code",
   "execution_count": 3,
   "id": "bc98ca16",
   "metadata": {},
   "outputs": [
    {
     "data": {
      "text/plain": [
       "<__main__.CDog at 0x16e4314f880>"
      ]
     },
     "execution_count": 3,
     "metadata": {},
     "output_type": "execute_result"
    }
   ],
   "source": [
    "# instantiate object - CDog\n",
    "CDog()"
   ]
  },
  {
   "cell_type": "markdown",
   "id": "49f5cc81",
   "metadata": {},
   "source": [
    "- to verify each instance is different (create two more dogs) [7 p. 5]"
   ]
  },
  {
   "cell_type": "code",
   "execution_count": 4,
   "id": "d879df6f",
   "metadata": {},
   "outputs": [],
   "source": [
    "# instantiate object - CDog\n",
    "nInsObjA=CDog()"
   ]
  },
  {
   "cell_type": "code",
   "execution_count": 5,
   "id": "f7c589b0",
   "metadata": {},
   "outputs": [
    {
     "data": {
      "text/plain": [
       "1573083476272"
      ]
     },
     "execution_count": 5,
     "metadata": {},
     "output_type": "execute_result"
    }
   ],
   "source": [
    "id(nInsObjA)"
   ]
  },
  {
   "cell_type": "code",
   "execution_count": 6,
   "id": "97d7193f",
   "metadata": {},
   "outputs": [
    {
     "data": {
      "text/plain": [
       "__main__.CDog"
      ]
     },
     "execution_count": 6,
     "metadata": {},
     "output_type": "execute_result"
    }
   ],
   "source": [
    "type(nInsObjA)"
   ]
  },
  {
   "cell_type": "code",
   "execution_count": 7,
   "id": "be96ef72",
   "metadata": {},
   "outputs": [],
   "source": [
    "# instantiate object - CDog\n",
    "nInsObjB=CDog()"
   ]
  },
  {
   "cell_type": "code",
   "execution_count": 8,
   "id": "76f1d3cb",
   "metadata": {},
   "outputs": [
    {
     "data": {
      "text/plain": [
       "1573083478000"
      ]
     },
     "execution_count": 8,
     "metadata": {},
     "output_type": "execute_result"
    }
   ],
   "source": [
    "id(nInsObjB)"
   ]
  },
  {
   "cell_type": "code",
   "execution_count": 9,
   "id": "ff4a822c",
   "metadata": {},
   "outputs": [
    {
     "data": {
      "text/plain": [
       "__main__.CDog"
      ]
     },
     "execution_count": 9,
     "metadata": {},
     "output_type": "execute_result"
    }
   ],
   "source": [
    "type(nInsObjB)"
   ]
  },
  {
   "cell_type": "code",
   "execution_count": 10,
   "id": "b9e20aad",
   "metadata": {},
   "outputs": [
    {
     "data": {
      "text/plain": [
       "False"
      ]
     },
     "execution_count": 10,
     "metadata": {},
     "output_type": "execute_result"
    }
   ],
   "source": [
    "nInsObjA==nInsObjB"
   ]
  },
  {
   "cell_type": "code",
   "execution_count": 11,
   "id": "76f92153",
   "metadata": {},
   "outputs": [
    {
     "data": {
      "text/plain": [
       "__main__.CDog"
      ]
     },
     "execution_count": 11,
     "metadata": {},
     "output_type": "execute_result"
    }
   ],
   "source": [
    "type(CDog())"
   ]
  },
  {
   "cell_type": "code",
   "execution_count": 12,
   "id": "76b5ad78",
   "metadata": {},
   "outputs": [],
   "source": [
    "exit()"
   ]
  },
  {
   "cell_type": "markdown",
   "id": "7cda75b3",
   "metadata": {},
   "source": [
    "< [Table of Contents](#top) | [References](#references) >\n",
    "<a id=\"objectOrientedProgrammingClassAttribute\"></a>\n",
    "***\n",
    "###### Attribute\n",
    "***"
   ]
  },
  {
   "cell_type": "markdown",
   "id": "44f412cc",
   "metadata": {},
   "source": [
    "- ``class`` attributes are the same for all instances [7 p. 4]"
   ]
  },
  {
   "cell_type": "markdown",
   "id": "7051aee5",
   "metadata": {},
   "source": [
    "- while each dog has a unique name and age every dog will be a mammal [7 p. 4]"
   ]
  },
  {
   "cell_type": "code",
   "execution_count": 1,
   "id": "9bc5a783",
   "metadata": {},
   "outputs": [],
   "source": [
    "# define class - CDog\n",
    "class CDog:\n",
    "    nClsAttSpecies=\"mammal\""
   ]
  },
  {
   "cell_type": "markdown",
   "id": "d615750b",
   "metadata": {},
   "source": [
    "- ``instance`` attributes are specific to each object [7 p. 4]"
   ]
  },
  {
   "cell_type": "markdown",
   "id": "dadb434e",
   "metadata": {},
   "source": [
    "- a ``class`` creates objects and all objects contain characteristics called attributes (properties) [7 p. 4]"
   ]
  },
  {
   "cell_type": "markdown",
   "id": "17a262aa",
   "metadata": {},
   "source": [
    "- method ``__init__`` is used to initialise (specify) an objects initial attributes by giving a default value (state) [7 p. 4]"
   ]
  },
  {
   "cell_type": "markdown",
   "id": "cefe0199",
   "metadata": {},
   "source": [
    "-  ``__init__`` must have at least one argument (``self``) which refers to the object itself [7 p. 4]"
   ]
  },
  {
   "cell_type": "markdown",
   "id": "c064d7bb",
   "metadata": {},
   "source": [
    "- ``CDog`` will never have to call ``__init__`` as it gets called automatically when creating a new instance of ``CDog`` [7 p. 4]"
   ]
  },
  {
   "cell_type": "code",
   "execution_count": 2,
   "id": "6bfbf373",
   "metadata": {},
   "outputs": [],
   "source": [
    "# define class - CDog\n",
    "class CDog:\n",
    "    nClsAttSpecies=\"mammal\"\n",
    "    def __init__(self,nInsAttName,nInsAttAge):\n",
    "        self.nInsAttName=nInsAttName\n",
    "        self.nInsAttAge=nInsAttAge"
   ]
  },
  {
   "cell_type": "code",
   "execution_count": 3,
   "id": "67d93c29",
   "metadata": {},
   "outputs": [],
   "source": [
    "exit()"
   ]
  },
  {
   "cell_type": "markdown",
   "id": "08557471",
   "metadata": {},
   "source": [
    "- each dog has a specific name and age [7 p. 4]"
   ]
  },
  {
   "cell_type": "markdown",
   "id": "acb0d496",
   "metadata": {},
   "source": [
    "- when creating different dogs the ``class`` is just for defining the ``CDog`` and is not actually creating instances of individual dogs with specific names and ages [7 p. 4]"
   ]
  },
  {
   "cell_type": "markdown",
   "id": "280e7f16",
   "metadata": {},
   "source": [
    "- name ``self`` is also an instance of the ``class`` and since instances of a class have varying values a programmer could state [7 p. 4]\n",
    "\n",
    "```python\n",
    "CDog.nInsAttName=nInsAttName # rather than self\n",
    "```\n",
    "\n",
    "```python\n",
    "self.nInsAttName=nInsAttName\n",
    "```"
   ]
  },
  {
   "cell_type": "markdown",
   "id": "3fb00b96",
   "metadata": {},
   "source": [
    "- since not all dogs share the same name need to be able to assign different values to different instances hence the need for the special name ``self`` which will help keep track of individual instances of each ``class`` [7 p. 4]"
   ]
  },
  {
   "cell_type": "markdown",
   "id": "98909ba5",
   "metadata": {},
   "source": [
    "< [Table of Contents](#top) | [References](#references) >\n",
    "<a id=\"objectOrientedProgrammingClassMethod\"></a>\n",
    "***\n",
    "###### Method\n",
    "***"
   ]
  },
  {
   "cell_type": "markdown",
   "id": "d4cbb44c",
   "metadata": {},
   "source": [
    "- ``instance`` methods are defined inside a ``class``  [8]\n",
    "\n",
    "i) getting the contents of an instance and:\n",
    "\n",
    "ii) perform operations with the attributes of objects (like ``__init__`` the first argument is always ``self``) [8]"
   ]
  },
  {
   "cell_type": "code",
   "execution_count": 1,
   "id": "04d40f08",
   "metadata": {},
   "outputs": [],
   "source": [
    "# define class - CDog\n",
    "class CDog():\n",
    "    nClsAttSpecies=\"mammal\"\n",
    "    def __init__(self,nInsAttName,nInsAttAge):\n",
    "        self.nInsAttName=nInsAttName\n",
    "        self.nInsAttAge=nInsAttAge\n",
    "    def fInsMetDescription(self):\n",
    "        return \"{} is {} years old\".format(self.nInsAttName,self.nInsAttAge)\n",
    "    def fInsMetSpeak(self,nInsAttSound):\n",
    "        return \"{} says {}\".format(self.nInsAttName,nInsAttSound)"
   ]
  },
  {
   "cell_type": "markdown",
   "id": "9833c01d",
   "metadata": {},
   "source": [
    "- the new instance of ``CDog`` is assigned to name ``nInsObjMikey`` [8]"
   ]
  },
  {
   "cell_type": "markdown",
   "id": "3c7856b0",
   "metadata": {},
   "source": [
    "- the two arguments passed represent the dogs name and age respectively [8]"
   ]
  },
  {
   "cell_type": "markdown",
   "id": "672d0e06",
   "metadata": {},
   "source": [
    "- ``Mikey`` and ``6`` are the attributes passed to the ``__init__`` which gets called any time a new instance is created [8]"
   ]
  },
  {
   "cell_type": "markdown",
   "id": "d263c489",
   "metadata": {},
   "source": [
    "- the argument ``self`` is python magic in that when a new instance of the ``class`` is created python automatically determines what ``self`` is which is a dog in this case and passes it to ``__init__`` [8]"
   ]
  },
  {
   "cell_type": "code",
   "execution_count": 2,
   "id": "d4e365f1",
   "metadata": {},
   "outputs": [],
   "source": [
    "# instantiate object - CDog\n",
    "nInsObjMikey=CDog(\"Mikey\",6)"
   ]
  },
  {
   "cell_type": "markdown",
   "id": "4608bb64",
   "metadata": {},
   "source": [
    "- dot notation is used to access the ``class`` and ``instance`` (attributes from each object) [8]"
   ]
  },
  {
   "cell_type": "code",
   "execution_count": 3,
   "id": "ade78ad3",
   "metadata": {},
   "outputs": [
    {
     "name": "stdout",
     "output_type": "stream",
     "text": [
      "Mikey is a mammal!\n"
     ]
    }
   ],
   "source": [
    "if nInsObjMikey.nClsAttSpecies==\"mammal\":\n",
    "    print(\"{0} is a {1}!\".format(nInsObjMikey.nInsAttName,nInsObjMikey.nClsAttSpecies))"
   ]
  },
  {
   "cell_type": "code",
   "execution_count": 4,
   "id": "260038ce",
   "metadata": {},
   "outputs": [
    {
     "name": "stdout",
     "output_type": "stream",
     "text": [
      "Mikey is 6\n"
     ]
    }
   ],
   "source": [
    "print(\"{} is {}\".format(nInsObjMikey.nInsAttName,nInsObjMikey.nInsAttAge))"
   ]
  },
  {
   "cell_type": "code",
   "execution_count": 5,
   "id": "aa3c7339",
   "metadata": {},
   "outputs": [
    {
     "name": "stdout",
     "output_type": "stream",
     "text": [
      "Mikey is 6 years old\n",
      "Mikey says Gruff Gruff\n"
     ]
    }
   ],
   "source": [
    "print(nInsObjMikey.fInsMetDescription())\n",
    "print(nInsObjMikey.fInsMetSpeak(\"Gruff Gruff\"))"
   ]
  },
  {
   "cell_type": "markdown",
   "id": "b28c40e0",
   "metadata": {},
   "source": [
    "- can change the value of attributes based on some behaviour [8]"
   ]
  },
  {
   "cell_type": "markdown",
   "id": "d623d119",
   "metadata": {},
   "source": [
    "- ``fInsMetSendEmail`` updates the instance attribute ``nInsAttIsEmailSent`` when an email is sent [8]"
   ]
  },
  {
   "cell_type": "code",
   "execution_count": 6,
   "id": "ce18aabf",
   "metadata": {},
   "outputs": [],
   "source": [
    "# define class - CEmail\n",
    "class CEmail:\n",
    "    def __init__(self):\n",
    "        self.nInsAttIsEmailSent=False\n",
    "    def fInsMetSendEmail(self):\n",
    "        self.nInsAttIsEmailSent=True"
   ]
  },
  {
   "cell_type": "code",
   "execution_count": 7,
   "id": "0f0afb85",
   "metadata": {},
   "outputs": [],
   "source": [
    "# instantiate object - CEmail\n",
    "nInsObjMyEmail=CEmail()"
   ]
  },
  {
   "cell_type": "code",
   "execution_count": 8,
   "id": "ae239720",
   "metadata": {},
   "outputs": [
    {
     "data": {
      "text/plain": [
       "False"
      ]
     },
     "execution_count": 8,
     "metadata": {},
     "output_type": "execute_result"
    }
   ],
   "source": [
    "nInsObjMyEmail.nInsAttIsEmailSent"
   ]
  },
  {
   "cell_type": "code",
   "execution_count": 9,
   "id": "7f8162b0",
   "metadata": {},
   "outputs": [],
   "source": [
    "nInsObjMyEmail.fInsMetSendEmail()"
   ]
  },
  {
   "cell_type": "code",
   "execution_count": 10,
   "id": "755cf46e",
   "metadata": {},
   "outputs": [
    {
     "data": {
      "text/plain": [
       "True"
      ]
     },
     "execution_count": 10,
     "metadata": {},
     "output_type": "execute_result"
    }
   ],
   "source": [
    "nInsObjMyEmail.nInsAttIsEmailSent"
   ]
  },
  {
   "cell_type": "code",
   "execution_count": 11,
   "id": "eaed9e5f",
   "metadata": {},
   "outputs": [],
   "source": [
    "exit()"
   ]
  },
  {
   "cell_type": "markdown",
   "id": "9387a59f",
   "metadata": {},
   "source": [
    "< [Table of Contents](#top) | [References](#references) >\n",
    "<a id=\"objectOrientedJava\"></a>\n",
    "***\n",
    "###### Java Programming\n",
    "***"
   ]
  },
  {
   "cell_type": "code",
   "execution_count": null,
   "id": "30666e6e",
   "metadata": {},
   "outputs": [],
   "source": [
    "# fFile(nParPath=\"./hide/04-ObjectOrientedProgramming/MPP - 6.2 - Java - 17-10-2019.mp4\")\n",
    "# fFile(nParPath=\"./hide/04-ObjectOrientedProgramming/MPP - 6.3 - Java Part 2 - 17-10-2019.mp4\")\n",
    "# fFile(nParPath=\"./hide/04-ObjectOrientedProgramming/MPP - 6.2 - Java.pdf\")"
   ]
  },
  {
   "cell_type": "markdown",
   "id": "048569a2",
   "metadata": {},
   "source": [
    "[Java OOP Exercises](https://www.ntu.edu.sg/home/ehchua/programming/java/J3f_OOPExercises.html#zz-2)\n",
    "\n",
    "[How do I install Java(JVM) on a machine?](https://www.quora.com/How-do-I-install-Java-JVM-on-a-machine)"
   ]
  },
  {
   "cell_type": "markdown",
   "id": "2af3cf65",
   "metadata": {},
   "source": [
    "< [Table of Contents](#top) | [References](#references) >\n",
    "<a id=\"objectOrientedProgrammingProceduralStyle\"></a>\n",
    "***\n",
    "###### Procedural Style (C)\n",
    "***"
   ]
  },
  {
   "cell_type": "code",
   "execution_count": null,
   "id": "cf0a0c05",
   "metadata": {},
   "outputs": [],
   "source": [
    "# fFile(nParPath=\"./hide/04-ObjectOrientedProgramming/07-MPP - Week 7 - Clock in C (Procedural Style) - 03-11-2020.mp4\")"
   ]
  },
  {
   "cell_type": "markdown",
   "id": "e5e516dd",
   "metadata": {},
   "source": [
    "< [Table of Contents](#top) | [References](#references) >\n",
    "<a id=\"objectOrientedProgrammingObjectorientedStyleJava\"></a>\n",
    "***\n",
    "###### Object-Oriented Style (Java)\n",
    "***"
   ]
  },
  {
   "cell_type": "code",
   "execution_count": null,
   "id": "e8c27340",
   "metadata": {},
   "outputs": [],
   "source": [
    "# fFile(nParPath=\"./hide/04-ObjectOrientedProgramming/01-MPP - Week 8 - Java Clock (OOP) - 05-11-2020.mp4\")"
   ]
  },
  {
   "cell_type": "markdown",
   "id": "a7ecbe6a",
   "metadata": {},
   "source": [
    "***\n",
    "### END"
   ]
  },
  {
   "cell_type": "markdown",
   "id": "4b426712",
   "metadata": {},
   "source": [
    "< [Table of Contents](#top) | [References](#references) >\n",
    "<a id=\"declarativeProgramming\"></a>\n",
    "***\n",
    "### Declarative\n",
    "***"
   ]
  },
  {
   "cell_type": "code",
   "execution_count": null,
   "id": "1b10a96b",
   "metadata": {},
   "outputs": [],
   "source": [
    "# fFile(nParPath=\"./hide/05-DeclarativeProgramming/MPP - Week 9 - Declarative Programming___09-11-2019.mp4\")\n",
    "# fFile(nParPath=\"./hide/05-DeclarativeProgramming/MPP - Week 9 - Declarative Programming___09-11-2019.pdf\")"
   ]
  },
  {
   "cell_type": "markdown",
   "id": "68d22edc",
   "metadata": {},
   "source": [
    "***\n",
    "### END"
   ]
  },
  {
   "cell_type": "markdown",
   "id": "295c1255",
   "metadata": {},
   "source": [
    "< [Table of Contents](#top) | [References](#references) >\n",
    "<a id=\"functionalProgramming\"></a>\n",
    "***\n",
    "### Functional\n",
    "***"
   ]
  },
  {
   "cell_type": "code",
   "execution_count": null,
   "id": "a8ae9eb7",
   "metadata": {},
   "outputs": [],
   "source": [
    "# fFile(nParPath=\"./hide/06-FunctionalProgramming/MPP - 8.1 - Functional Programming - 17-11-2019.mp4\")\n",
    "# fFile(nParPath=\"./hide/06-FunctionalProgramming/MPP - 8.2 - Functional Programming - 17-11-2019.mp4\")\n",
    "# fFile(nParPath=\"./hide/06-FunctionalProgramming/MPP - 8.0 - Functional Programming.pdf\")"
   ]
  },
  {
   "cell_type": "code",
   "execution_count": null,
   "id": "11567dcf",
   "metadata": {},
   "outputs": [],
   "source": [
    "# fFile(nParPath=\"./hide/06-FunctionalProgramming/recursion.py\")"
   ]
  },
  {
   "cell_type": "code",
   "execution_count": null,
   "id": "063a06df",
   "metadata": {},
   "outputs": [],
   "source": [
    "# fFile(nParPath=\"./hide/06-FunctionalProgramming/MPP - Week 12 - Functional Programming in Python - 08-12-2020.mp4\")"
   ]
  },
  {
   "cell_type": "code",
   "execution_count": null,
   "id": "c7e7b353",
   "metadata": {},
   "outputs": [],
   "source": [
    "# fFile(nParPath=\"./hide/06-FunctionalProgramming/map_example.py\")\n",
    "# fFile(nParPath=\"./hide/06-FunctionalProgramming/iterator_example py3.py\")\n",
    "# fFile(nParPath=\"./hide/06-FunctionalProgramming/reduce_example_py3.py\")\n",
    "# fFile(nParPath=\"./hide/06-FunctionalProgramming/counter py3.py\")"
   ]
  },
  {
   "cell_type": "markdown",
   "id": "ad222a5e",
   "metadata": {},
   "source": [
    "< [Table of Contents](#top) | [References](#references) >\n",
    "<a id=\"functions\"></a>\n",
    "***\n",
    "###### Functions\n",
    "***"
   ]
  },
  {
   "cell_type": "markdown",
   "id": "e4053333",
   "metadata": {},
   "source": [
    "* [Abstract](https://nbviewer.jupyter.org/github/SeanOhAileasa/fda-data-functions/blob/main/fda-data-functions.ipynb#abstract) **[External Link]** <br/><br/>\n",
    "    * [Functions](https://nbviewer.jupyter.org/github/SeanOhAileasa/fda-data-functions/blob/main/fda-data-functions.ipynb#abstractFunctions) **[External Link]** <br/><br/>\n",
    "* [Introduction](https://nbviewer.jupyter.org/github/SeanOhAileasa/fda-data-functions/blob/main/fda-data-functions.ipynb#introduction) **[External Link]** <br/><br/>\n",
    "* [Solution](https://nbviewer.jupyter.org/github/SeanOhAileasa/fda-data-functions/blob/main/fda-data-functions.ipynb#solution) **[External Link]** <br/><br/>\n",
    "    * [Iterator](https://nbviewer.jupyter.org/github/SeanOhAileasa/fda-data-functions/blob/main/fda-data-functions.ipynb#iterator) **[External Link]** <br/><br/>\n",
    "    * [Map](https://nbviewer.jupyter.org/github/SeanOhAileasa/fda-data-functions/blob/main/fda-data-functions.ipynb#map) **[External Link]** <br/><br/>\n",
    "    * [Anonymous](https://nbviewer.jupyter.org/github/SeanOhAileasa/fda-data-functions/blob/main/fda-data-functions.ipynb#anonymous-function) **[External Link]** <br/><br/>\n",
    "    * [Reduce](https://nbviewer.jupyter.org/github/SeanOhAileasa/fda-data-functions/blob/main/fda-data-functions.ipynb#reduce) **[External Link]** <br/><br/>\n",
    "* [Conclusion](https://nbviewer.jupyter.org/github/SeanOhAileasa/fda-data-functions/blob/main/fda-data-functions.ipynb#conclusion) **[External Link]** <br/><br/>\n",
    "    * [Data and Functions](https://nbviewer.jupyter.org/github/SeanOhAileasa/fda-data-functions/blob/main/fda-data-functions.ipynb#data-and-functions) **[External Link]**"
   ]
  },
  {
   "cell_type": "markdown",
   "id": "56c1d556",
   "metadata": {},
   "source": [
    "***\n",
    "### END"
   ]
  },
  {
   "cell_type": "markdown",
   "id": "388298e6",
   "metadata": {},
   "source": [
    "***\n",
    "## END"
   ]
  },
  {
   "cell_type": "markdown",
   "id": "cfd2bb71",
   "metadata": {},
   "source": [
    "< [Table of Contents](#top) | [Abstract](#abstract) | [Introduction](#introduction) | [Conclusion](#conclusion) | [References](#references) >\n",
    "<a id=\"solution\"></a>\n",
    "***\n",
    "## Winter 21/22 Assessment\n",
    "***"
   ]
  },
  {
   "cell_type": "code",
   "execution_count": null,
   "id": "26fb04fe",
   "metadata": {},
   "outputs": [],
   "source": [
    "# fFile(nParPath=\"./hide/04-ObjectOrientedProgramming/MPP - Week 5 - Shop Assignment Description - 18-10-2020.mkv\")\n",
    "# fFile(nParPath=\"./hide/04-ObjectOrientedProgramming/Assignment 1 - Shop.pdf\")"
   ]
  },
  {
   "cell_type": "code",
   "execution_count": null,
   "id": "1eb4812d",
   "metadata": {},
   "outputs": [],
   "source": [
    "# fFile(nParPath=\"./hide/04-ObjectOrientedProgramming/G00000001 - Dominic Carr - Assignment 1/\")"
   ]
  },
  {
   "cell_type": "markdown",
   "id": "c5b21ab8",
   "metadata": {},
   "source": [
    "The assignment requires building upon the shop program developed during the semester. Tasked to add some additional functionality:"
   ]
  },
  {
   "cell_type": "markdown",
   "id": "f35c4be3",
   "metadata": {},
   "source": [
    "***\n",
    "###### Functionality\n",
    "***"
   ]
  },
  {
   "cell_type": "markdown",
   "id": "662cd0eb",
   "metadata": {},
   "source": [
    "### a.) The shop CSV should hold the initial cash value for the shop."
   ]
  },
  {
   "cell_type": "markdown",
   "id": "c4fcff25",
   "metadata": {},
   "source": [
    "### b.) Read in customer orders from a CSV file.\n",
    "\n",
    "i. That file should include all the products they wish to buy and in what quantity.\n",
    "\n",
    "ii. It should also include their name and their budget."
   ]
  },
  {
   "cell_type": "markdown",
   "id": "4bad1f3f",
   "metadata": {},
   "source": [
    "### c.) The shop must be able to process the orders of the customer.\n",
    "\n",
    "i. Update the cash in the shop based on money received.\n",
    "\n",
    "- It is important that the state of the shop be consistent.\n",
    "\n",
    "- Should create customer test files (CSVs) which cannot be completed by the shop e.g. customer wants 400 loaves of bread but the shop only has 20, or the customer wants 2 cans of coke but can only afford 1.\n",
    "\n",
    "- If these files don’t exist penalties will be applied.\n",
    "\n",
    "ii. Know whether or not the shop can fill an order.\n",
    "\n",
    "- Thrown an appropriate error."
   ]
  },
  {
   "cell_type": "markdown",
   "id": "321a8a0f",
   "metadata": {},
   "source": [
    "### d.) Operate in a live mode, where the user can enter a product by name, specify a quantity, and pay for it.\n",
    "\n",
    "- The user should be able to buy many products in this way."
   ]
  },
  {
   "cell_type": "markdown",
   "id": "dec1527b",
   "metadata": {},
   "source": [
    "***\n",
    "###### Notes\n",
    "***"
   ]
  },
  {
   "cell_type": "markdown",
   "id": "23e17290",
   "metadata": {},
   "source": [
    "i. The above described functionality should be completed in ``Python`` and ``C``. This is to be done in a procedural programming style."
   ]
  },
  {
   "cell_type": "markdown",
   "id": "2422764b",
   "metadata": {},
   "source": [
    "ii. The second part of the assessment involves replicating the functionality of the shop in an Object-Oriented manner. This can be done in either ``Python`` or ``Java``."
   ]
  },
  {
   "cell_type": "markdown",
   "id": "43ef8d05",
   "metadata": {},
   "source": [
    "iii. Complete a short report, around 3-5 pages, which compares the solutions achieved using the procedural approach and the object oriented approach.\n",
    "\n",
    "\n",
    "- Excessively long reports will be penalised.\n",
    "\n",
    "\n",
    "- The report should be about comparing the implementations."
   ]
  },
  {
   "cell_type": "markdown",
   "id": "2ad00dd0",
   "metadata": {},
   "source": [
    "iv. The live mode, and the input files, should have the exact same behaviour in ALL implementations.\n",
    "\n",
    "\n",
    "- For example should be able to use the ``Python`` implementation in the same way as the ``C`` one i.e. same CSV filles, and the same process when doing an order in live mode.\n",
    "\n",
    "\n",
    "- The user experience of each implementation should be identical."
   ]
  },
  {
   "cell_type": "markdown",
   "id": "62d89dbb",
   "metadata": {},
   "source": [
    "***\n",
    "###### Marking Scheme\n",
    "***"
   ]
  },
  {
   "cell_type": "markdown",
   "id": "e9e9b61a",
   "metadata": {},
   "source": [
    "- Procedural Python Program (20%)\n",
    "\n",
    "\n",
    "i. Good Procedural Programming (NOT OOP) (10%)\n",
    "\n",
    "\n",
    "ii. Level of functionality (5%)\n",
    "\n",
    "\n",
    "iii. Documentation and code quality (5%)"
   ]
  },
  {
   "cell_type": "markdown",
   "id": "2f2c8d1f",
   "metadata": {},
   "source": [
    "- Procedural C Program (30%)\n",
    "\n",
    "\n",
    "i. Good Procedural Programming (10%)\n",
    "\n",
    "\n",
    "ii. Level of functionality (10%)\n",
    "\n",
    "\n",
    "iii. Documentation and code quality (10%)"
   ]
  },
  {
   "cell_type": "markdown",
   "id": "492defb7",
   "metadata": {},
   "source": [
    "- OOP Java or Python Program (30%)\n",
    "\n",
    "\n",
    "i. Good Object Oriented Programming (10%)\n",
    "\n",
    "\n",
    "ii. Level of functionality (10%)\n",
    "\n",
    "\n",
    "iii. Documentation and code quality (10%)"
   ]
  },
  {
   "cell_type": "markdown",
   "id": "99c245b3",
   "metadata": {},
   "source": [
    "- Report (20%)\n",
    "\n",
    "\n",
    "i. Document Quality (5%)\n",
    "\n",
    "ii. Analysis of similarities (7.5%)\n",
    "\n",
    "iii. Analysis of di\u000b",
    "erences (7.5%)"
   ]
  },
  {
   "cell_type": "markdown",
   "id": "7fb157fd",
   "metadata": {},
   "source": [
    "<hr width=50%;>"
   ]
  },
  {
   "cell_type": "markdown",
   "id": "868d0b87",
   "metadata": {},
   "source": [
    "< [Table of Contents](#top) | [References](#references) >\n",
    "<a id=\"makingaShopSimulationinC\"></a>\n",
    "***\n",
    "### Shop Simulation (C)\n",
    "***"
   ]
  },
  {
   "cell_type": "markdown",
   "id": "a79bb3c0",
   "metadata": {},
   "source": [
    "- ``C`` Solution: [![nbviewer](https://raw.githubusercontent.com/jupyter/design/master/logos/Badges/nbviewer_badge.svg)](https://nbviewer.org/github/SeanOhAileasa/fubar-c/blob/main/fubar-c.ipynb#solution)"
   ]
  },
  {
   "cell_type": "code",
   "execution_count": null,
   "id": "c6b94ad0",
   "metadata": {},
   "outputs": [],
   "source": [
    "# fFile(nParPath=\"./hide/03-MakingaShopSimulationinC/MPP - 4.1 - Shop in C Part 1 - 04-10-2019.mkv\")\n",
    "# fFile(nParPath=\"./hide/03-MakingaShopSimulationinC/MPP - 4.2 - Shop in C Part 2 - 04-10-2019.mkv\")\n",
    "# fFile(nParPath=\"./hide/03-MakingaShopSimulationinC/shop.c\")\n",
    "# fFile(nParPath=\"./hide/03-MakingaShopSimulationinC/stock.csv\")"
   ]
  },
  {
   "cell_type": "markdown",
   "id": "2e26d12e",
   "metadata": {},
   "source": [
    "< [Table of Contents](#top) | [References](#references) >\n",
    "<a id=\"shopSimulationPassingArgumentsasPointer\"></a>\n",
    "***\n",
    "###### Passing Arguments as Pointer\n",
    "***"
   ]
  },
  {
   "cell_type": "code",
   "execution_count": null,
   "id": "a63d6949",
   "metadata": {},
   "outputs": [],
   "source": [
    "# fFile(nParPath=\"./hide/03-MakingaShopSimulationinC/02-MPP - C - Passing Arguments as Pointer - 07-11-2019.mp4\")\n",
    "# fFile(nParPath=\"./hide/03-MakingaShopSimulationinC/passPointers.c\")"
   ]
  },
  {
   "cell_type": "markdown",
   "id": "3851af61",
   "metadata": {},
   "source": [
    "< [Table of Contents](#top) | [References](#references) >\n",
    "<a id=\"shopSimulationProcessingtheOrder\"></a>\n",
    "***\n",
    "###### Processing the Order\n",
    "***"
   ]
  },
  {
   "cell_type": "code",
   "execution_count": null,
   "id": "ec52cc2a",
   "metadata": {},
   "outputs": [],
   "source": [
    "# fFile(nParPath=\"./hide/03-MakingaShopSimulationinC/03-MPP - Shop C - Processing the Order - 03-11-2019.mp4\")\n",
    "# fFile(nParPath=\"./hide/03-MakingaShopSimulationinC/ProductStock.c\")"
   ]
  },
  {
   "cell_type": "markdown",
   "id": "d0792a38",
   "metadata": {},
   "source": [
    "< [Table of Contents](#top) | [References](#references) >\n",
    "<a id=\"shopSimulationProcessingCustomerDetails\"></a>\n",
    "***\n",
    "###### Processing Customer Details\n",
    "***"
   ]
  },
  {
   "cell_type": "code",
   "execution_count": null,
   "id": "6896342b",
   "metadata": {},
   "outputs": [],
   "source": [
    "# fFile(nParPath=\"./hide/03-MakingaShopSimulationinC/04-MPP - Shop C Processing Customer Details - 03-11-2019.mp4\")\n",
    "# fFile(nParPath=\"./hide/03-MakingaShopSimulationinC/customerInfo.c\")"
   ]
  },
  {
   "cell_type": "markdown",
   "id": "668843ea",
   "metadata": {},
   "source": [
    "***\n",
    "### END"
   ]
  },
  {
   "cell_type": "markdown",
   "id": "524e9a43",
   "metadata": {},
   "source": [
    "< [Table of Contents](#top) | [References](#references) >\n",
    "<a id=\"makingaShopSimulationinProcedural\"></a>\n",
    "***\n",
    "### Shop Simulation (Python Procedural)\n",
    "***"
   ]
  },
  {
   "cell_type": "markdown",
   "id": "2859dc7e",
   "metadata": {},
   "source": [
    "- ``Python`` Solution:"
   ]
  },
  {
   "cell_type": "code",
   "execution_count": 1,
   "id": "a8493596",
   "metadata": {
    "scrolled": false
   },
   "outputs": [
    {
     "name": "stdout",
     "output_type": "stream",
     "text": [
      "from dataclasses import dataclass, field\r\n",
      "from typing import List\r\n",
      "import csv\r\n",
      "\r\n",
      "from enum import IntEnum # set integer values\r\n",
      "from os import path # file error checking\r\n",
      "from os import system # clear screen output\r\n",
      "\r\n",
      "# capitals represent constants\r\n",
      "MAX_CHARACTERS=49 # display purposes only\r\n",
      "\r\n",
      "@dataclass # original source code\r\n",
      "class Product:\r\n",
      "    name: str\r\n",
      "    price: float = 0.0\r\n",
      "\r\n",
      "@dataclass # original source code\r\n",
      "class ProductStock:\r\n",
      "    product: Product\r\n",
      "    quantity: int\r\n",
      "\r\n",
      "@dataclass # original source code\r\n",
      "class Shop:\r\n",
      "    cash: float = 0.0\r\n",
      "    stock: List[ProductStock] = field(default_factory=list)\r\n",
      "\r\n",
      "@dataclass # original source code\r\n",
      "class Customer:\r\n",
      "    name: str = ''\r\n",
      "    budget: float = 0.0\r\n",
      "    shopping_list: List[ProductStock] = field(default_factory=list)\r\n",
      "\r\n",
      "def print_product(p): # original source code\r\n",
      "    \"\"\"Amend function print_product to only display the product name via:\r\n",
      "    i. option 2 'Read Orders'.\r\n",
      "\"\"\"   \r\n",
      "    if p.price!=0: # option 1 \"Shop Inventory\"\r\n",
      "        print(f'PRODUCT NAME: {p.name} \\nPRODUCT PRICE: EUR{p.price:.2f}') # original source code\r\n",
      "    else: # option 2 \"Read Orders\"\r\n",
      "        print(f'PRODUCT NAME: {p.name}') # display name only\r\n",
      "    ui_shop_menu_display('-',13); print() # display purposes only\r\n",
      "\r\n",
      "def print_customer_update_shop_state(c,s):\r\n",
      "    \"\"\"Amend function print_customer (signature: 'def print_customer(c)') having:\r\n",
      "      i. the same functionality as before;\r\n",
      "     ii. updating shop state and;\r\n",
      "    iii. return shop state to function main. \r\n",
      "\"\"\"\r\n",
      "    countNoProductMatch=0 # cart shop iterations\r\n",
      "    shoppingCartInvoice=0.0 # empty until add\r\n",
      "    canFillFullOrder=1 # assume is true\r\n",
      "    countOuterCustomer=0 # check equal countInnerShop\r\n",
      "    countInnerShop=0 # check equal countOuterCustomer\r\n",
      "\r\n",
      "    # print(f'CUSTOMER NAME: {c.name} \\nCUSTOMER BUDGET: EUR{c.budget}') # original source code\r\n",
      "    print(f'\\n\\n\\nCUSTOMER NAME: {c.name} \\nCUSTOMER BUDGET: EUR{c.budget:.2f}') # display purposes only\r\n",
      "    ui_shop_menu_display('-',13); print() # display purposes only\r\n",
      "\r\n",
      "    #\r\n",
      "    # for each customer\r\n",
      "    #\r\n",
      "    for item in c.shopping_list: # original source code\r\n",
      "        countShopIterations=0 # cart shop iterations\r\n",
      "        countNoProductMatch=0 # reset next customer\r\n",
      "\r\n",
      "        print_product(item.product) # original source code\r\n",
      "        print(f'{c.name} ORDERS {item.quantity:.0f} OF ABOVE PRODUCT') # original source code\r\n",
      "        ui_shop_menu_display('-',13); print() # display purposes only\r\n",
      "\r\n",
      "        #\r\n",
      "        # iterate all stock\r\n",
      "        #\r\n",
      "        for shop_item in s.stock: # update stop state\r\n",
      "            # cost = item.quantity * item.product.price # original source code\r\n",
      "            cost=item.quantity*shop_item.product.price # product full cost\r\n",
      "            countShopIterations+=1 # latter compare countNoProductMatch \r\n",
      "\r\n",
      "            if item.product.name==shop_item.product.name: # shop stocks product\r\n",
      "                print(f'The cost to {c.name} will be EUR{cost:.2f}') # original source code\r\n",
      "                ui_shop_menu_display('-',13); print() # display purposes only\r\n",
      "            else:\r\n",
      "                countNoProductMatch+=1 # determines product existence\r\n",
      "\r\n",
      "            if item.product.name!=shop_item.product.name: # product not exist\r\n",
      "                continue # continue sanity checking\r\n",
      "            elif item.quantity>shop_item.quantity: # exceed shop quantity\r\n",
      "                if shop_item.quantity<=0: # product all gone\r\n",
      "                    print(f'(Invalid Shop Quantity: Out of Stock)   >>> {item.product.name}') # thrown appropriate error\r\n",
      "                    print(f'The cost to {c.name} will be EUR0.00') # thrown appropriate error\r\n",
      "                else:\r\n",
      "                    print(f'(Invalid Shop Quantity: Quantity Limit) >>> {shop_item.quantity:.0f}') # thrown appropriate error\r\n",
      "                    shoppingCartInvoice+=shop_item.quantity*shop_item.product.price # product partial cost \r\n",
      "                    print(f'The cost to {c.name} will be \\\r\n",
      "                        EUR{shop_item.quantity*shop_item.product.price:.2f}') # thrown appropriate error\r\n",
      "                ui_shop_menu_display('-',13); print() # display purposes only\r\n",
      "                canFillFullOrder=0 # partial order false\r\n",
      "            elif c.budget<cost: # budget not allowing\r\n",
      "                canOnlyAfford=int(c.budget/shop_item.product.price) # price into budget\r\n",
      "                \r\n",
      "                if canOnlyAfford>=int(c.budget): # complete partial order\r\n",
      "                    print(f'Unfortunately {c.name} has a budget of EUR{c.budget:.2f}') # display purposes only\r\n",
      "                    shoppingCartInvoice+=canOnlyAfford*shop_item.product.price # update cart affordability \r\n",
      "                    c.budget-=canOnlyAfford*shop_item.product.price # reduce budget accordingly\r\n",
      "                    print(f'{c.name} can only afford {canOnlyAfford} {shop_item.product.name} at a cost of \\\r\n",
      "                        EUR{canOnlyAfford*shop_item.product.price:.2f}') # display purposes only\r\n",
      "                    item.quantity=canOnlyAfford # quanitity shop state\r\n",
      "                else:\r\n",
      "                    item.quantity-=item.quantity # quanitity shop state\r\n",
      "                    print(f'Unfortunately {c.name} cannot purchase any {shop_item.product.name}') # display purposes only\r\n",
      "                ui_shop_menu_display('-',13); print() # display purposes only\r\n",
      "                canFillFullOrder=0 # now partial order\r\n",
      "            elif c.budget>=cost: # all going well\r\n",
      "                shoppingCartInvoice+=cost # add to cart\r\n",
      "                c.budget-=shoppingCartInvoice # reduce down budget\r\n",
      "            \r\n",
      "            shop_item.quantity-=item.quantity # quanitity shop state\r\n",
      "\r\n",
      "            if shop_item.quantity<0: # shop negative quantities                \r\n",
      "                shop_item.quantity=0 # quanitity shop state\r\n",
      "            \r\n",
      "            countInnerShop+=1 # full partial order\r\n",
      "\r\n",
      "        #\r\n",
      "        # onto next customer\r\n",
      "        #\r\n",
      "        if countShopIterations==countNoProductMatch: # iteration no match\r\n",
      "            print(f'(Invalid Shop Product: <NOT IN STOCK>)  >>> {item.product.name}') # thrown appropriate error\r\n",
      "            print(f'The cost to {c.name} will be EUR0.00') # thrown appropriate error\r\n",
      "            ui_shop_menu_display('-',13); print() # display purposes only\r\n",
      "\r\n",
      "        countOuterCustomer+=1 # full partial order                \r\n",
      "\r\n",
      "    #\r\n",
      "    # all customers done\r\n",
      "    #\r\n",
      "    if shoppingCartInvoice>0: \r\n",
      "        if canFillFullOrder==1 and countInnerShop==countOuterCustomer:\r\n",
      "            print(f'(Completed <FULL> Order: Now Due)       >>> EUR{shoppingCartInvoice:.2f}') # display full order\r\n",
      "        else:\r\n",
      "            print(f'(Completed <PARTIAL> Order: Now Due)    >>> EUR{shoppingCartInvoice:.2f}') # display partial order\r\n",
      "    else:\r\n",
      "        print(f'(Invalid Order: <NIL> Shopping Cart)    >>> EUR{shoppingCartInvoice:.2f}') # thrown appropriate error\r\n",
      "\r\n",
      "    s.cash+=shoppingCartInvoice # cash shop state\r\n",
      "\r\n",
      "    return s # full shop state\r\n",
      "\r\n",
      "def print_shop(s): # original source code\r\n",
      "    \"\"\"Function printShop having no original functionality changed:\r\n",
      "    i. minor amendments for display purposes only.\r\n",
      "\"\"\" \r\n",
      "    print(f'Shop has {s.cash:.2f} in cash') # original source code\r\n",
      "    ui_shop_menu_display('_',24); print(); print()  # display partial order\r\n",
      "    for item in s.stock: # original source code\r\n",
      "        print_product(item.product) # original source code\r\n",
      "        print(f'The Shop has {item.quantity:.0f} of the above') # original source code\r\n",
      "        ui_shop_menu_display('-',13); print() # partial order display\r\n",
      "\r\n",
      "def create_and_stock_shop():\r\n",
      "    \"\"\"Amend function create_and_stock_shop (otherwise unchanged) having:\r\n",
      "     i. error message displayed (before exit) if the file (stock.csv) cannot be located (or name is changed).\r\n",
      "    Additional:\r\n",
      "    ii. closing file (stock.csv) after reading (returning the shop state to main - now in memory).\r\n",
      "\"\"\"\r\n",
      "    s = Shop()\r\n",
      "\r\n",
      "    try: # handle runtime exceptions\r\n",
      "        with open('../stock.csv') as csv_file:\r\n",
      "            csv_reader = csv.reader(csv_file, delimiter=',')\r\n",
      "            first_row = next(csv_reader)\r\n",
      "            s.cash = float(first_row[0])\r\n",
      "            for row in csv_reader:\r\n",
      "                p = Product(row[0], float(row[1]))\r\n",
      "                ps = ProductStock(p, float(row[2]))\r\n",
      "                s.stock.append(ps)\r\n",
      "                #print(ps)            \r\n",
      "    except FileNotFoundError: # check file exists\r\n",
      "        shop_menu_display_header('ERROR - stock.csv!'); # display purposes only\r\n",
      "        exit() # terminate the program\r\n",
      "\r\n",
      "    csv_file.close() # close CSV file\r\n",
      "    \r\n",
      "    return s\r\n",
      "\r\n",
      "def read_customer(file_path): # original source code\r\n",
      "    \"\"\"Amend function read_customer using most of the original functionality:\r\n",
      "    i .adding additional error runtime exceptions.\r\n",
      "\"\"\" \r\n",
      "    try: # handle runtime exceptions\r\n",
      "        with open('../'+file_path) as csv_file: # original source code           \r\n",
      "            csv_reader = csv.reader(csv_file, delimiter=',') # original source code\r\n",
      "            first_row = next(csv_reader) # original source code\r\n",
      "            c = Customer(first_row[0], float(first_row[1])) # original source code\r\n",
      "            for row in csv_reader: # original source code\r\n",
      "                name = row[0] # original source code\r\n",
      "                quantity = float(row[1]) # original source code\r\n",
      "                p = Product(name) # original source code\r\n",
      "                ps = ProductStock(p, quantity) # original source code\r\n",
      "                c.shopping_list.append(ps) # original source code             \r\n",
      "    except FileNotFoundError: # check file exists\r\n",
      "        print(f'(Invalid File: CSV file does not exist) >>> {file_path}\\n') # prompt error message\r\n",
      "        name=''; # customer not exist\r\n",
      "        budget=0 # therefore no budget\r\n",
      "        notRealCustomer=Customer(name,budget) # create non-existent customer\r\n",
      "        return notRealCustomer # return dummy customer\r\n",
      "    else:\r\n",
      "\r\n",
      "        csv_file.close() # close CSV file \r\n",
      "\r\n",
      "        if c.budget==0: # see customer david.csv\r\n",
      "            print(f'\\n\\n\\n\\t\\t<<<<<NO MONEY>>>>>') # display purposes only\r\n",
      "\r\n",
      "        return c # original source code\r\n",
      "\r\n",
      "def create_customer_live_mode():\r\n",
      "    \"\"\"Function create_customer_live_mode via shop menu option 3 \"Live Mode\" and return live customer.\r\n",
      "\"\"\"\r\n",
      "    shop_menu_live_display_header() # display purposes only\r\n",
      "\r\n",
      "    print(f'(Valid Input: Customer Name)            >>> ',end=\"\") # display purposes only\r\n",
      "    while True: # infinite until False\r\n",
      "        try: # handle runtime exceptions\r\n",
      "            name=str(input()) # user input string\r\n",
      "            if name=='': # check no input\r\n",
      "                raise ReplicateShopDotCError('COMMENT: allow newline character') # replicate shop.c behaviour\r\n",
      "        except (ValueError, # check for string\r\n",
      "            ReplicateShopDotCError): # custom exception created\r\n",
      "            print(end=\"\") # shop.c allows newline\r\n",
      "        else:\r\n",
      "            break # nothing to do\r\n",
      "\r\n",
      "    print(f'(Valid Input: Customer Budget)          >>> EUR',end=\"\") # display purposes only\r\n",
      "    while True: # infinite until False\r\n",
      "        try: # handle runtime exceptions\r\n",
      "            budget=float(input()) # user input string\r\n",
      "            while budget<=0: # error check budget\r\n",
      "                print(f'(Valid Input: Customer Budget)          >>> EUR',end=\"\") # display purposes only\r\n",
      "                budget=float(input()) # continue until correct\r\n",
      "        except ValueError: # check for float\r\n",
      "            print(end=\"\") # shop.c allows newline\r\n",
      "        else:\r\n",
      "            c=Customer(name.capitalize(),budget) # populate live customer\r\n",
      "            break\r\n",
      "\r\n",
      "    return c\r\n",
      "\r\n",
      "def create_live_mode_checkout(cart):\r\n",
      "    \"\"\" Function create_live_mode_checkout passing live customer via function create_customer_live_mode and return cart.\r\n",
      "\"\"\" \r\n",
      "    class live_menu_choice(IntEnum): # set integer values [1] \r\n",
      "        quit=0 # False then exit\r\n",
      "        add_product_to_cart=1 # shop option 1\r\n",
      "\r\n",
      "    shop_menu_live_display_header() # display purposes only\r\n",
      "    shop_menu_live_display() # display purposes only\r\n",
      "    \r\n",
      "    while True: # infinite until False        \r\n",
      "\r\n",
      "        try: # handle runtime exceptions\r\n",
      "            user=str(input()) # user input integer\r\n",
      "            if user=='': # check no input\r\n",
      "                raise ReplicateShopDotCError('COMMENT: allow newline character') # replicate shop.c behaviour\r\n",
      "        except (ValueError, # check for characters\r\n",
      "            ReplicateShopDotCError): # custom exception created\r\n",
      "            print(end=\"\") # shop.c allows newline\r\n",
      "        else:\r\n",
      "            pass\r\n",
      "\r\n",
      "        try:\r\n",
      "            user=int(user) # correct format integer\r\n",
      "            if user<0 or user>len(live_menu_choice)-1: # range interval [0,4)\r\n",
      "                raise ShopMenuChoiceError('COMMENT: allowable input [0,3]') # outside choice range\r\n",
      "        except (ValueError, # check for characters\r\n",
      "            ShopMenuChoiceError): # custom exception created \r\n",
      "            print(end=\"\") # shop.c allows newline\r\n",
      "        else:\r\n",
      "\r\n",
      "            if user==live_menu_choice.quit: # user input 0\r\n",
      "                return cart # send back cart\r\n",
      "            elif user==live_menu_choice.add_product_to_cart: # user input 1\r\n",
      "                print(f'(Valid Input: Product Name - Case-sensitive!)') # display purposes only\r\n",
      "                print(f'(Correct Uppercase/Lowercase Letters)   >>> ',end=\"\") # display purposes only\r\n",
      "                p_name=str(input()) # input product name\r\n",
      "                p_price=0; # not displaying price\r\n",
      "\r\n",
      "                while True:\r\n",
      "                    print(f'(Valid Input: Product Quantity)         >>> ',end=\"\") # display purposes only\r\n",
      "                    try:\r\n",
      "                        quantity=int(input()) # user input integer\r\n",
      "                        if quantity<=0: # zero or negative\r\n",
      "                            raise ValueError # continue requesting input\r\n",
      "                    except ValueError: # check for characters\r\n",
      "                        continue\r\n",
      "                    else:\r\n",
      "                        break\r\n",
      "\r\n",
      "                product=Product(p_name,p_price) # populate the dataclass\r\n",
      "                customer_item=ProductStock(product,quantity) # populate the dataclass\r\n",
      "\r\n",
      "                cart.shopping_list.append(customer_item) # full shopping cart\r\n",
      "                shop_menu_live_display() # display purposes only\r\n",
      "\r\n",
      "    return cart # live customer basket\r\n",
      "\r\n",
      "def main():\r\n",
      "    \"\"\"Implementation ground zero.\r\n",
      "\"\"\" \r\n",
      "    class shop_menu_choice(IntEnum): # set integer values [1] \r\n",
      "        quit=0 # False then exit\r\n",
      "        shop_inventory=1 # shop option 1\r\n",
      "        read_orders=2 # shop option 2\r\n",
      "        live_mode=3 # shop option 3\r\n",
      "\r\n",
      "    shop=create_and_stock_shop() # CSV return shop\r\n",
      "\r\n",
      "    system('clear') # clear screen output [2]\r\n",
      "    shop_menu_display() # display purposes only\r\n",
      "\r\n",
      "    while True: # infinite until False\r\n",
      "        try: # handle runtime exceptions\r\n",
      "            user=int(input()) # user input integer\r\n",
      "            if user<0 or user>len(shop_menu_choice)-1: # range interval [0,4)\r\n",
      "                raise ShopMenuChoiceError('COMMENT: allowable input [0,3]') # outside choice range\r\n",
      "        except (ValueError, # check for characters\r\n",
      "            ShopMenuChoiceError, # custom exception created \r\n",
      "            EOFError, # input EOF Ctrl-Z\r\n",
      "            KeyboardInterrupt): # terminate Ctrl-C etc\r\n",
      "            shop_menu_display_header('Invalid Choice!!!!'); print() # display purposes only\r\n",
      "            shop_menu_display() # display purposes only\r\n",
      "        else:\r\n",
      "\r\n",
      "            if user==shop_menu_choice.quit: # user input 0\r\n",
      "                shop_menu_display_header('\\tBye!'); print() # display purposes only\r\n",
      "                break # exit program bye!\r\n",
      "            if user==shop_menu_choice.shop_inventory: # user input 1\r\n",
      "                shop_menu_display_header('1 - Shop Inventory'); print() # display purposes only\r\n",
      "                print_shop(shop) # display shop inventory\r\n",
      "                shop_menu_display_footer() # display purposes only\r\n",
      "            if user==shop_menu_choice.read_orders: # user input 2\r\n",
      "                shop_menu_display_header('2 -  Read Orders'); print() # display purposes only\r\n",
      "                print(f'(Valid Input: Name - excluding \\'.csv\\')  >>> ',end=\"\") # CSV name only\r\n",
      "                csv_file=str(input()).lower()+'.csv' # CSV excluding '../'\r\n",
      "                customer=read_customer(csv_file) # read customer CSV\r\n",
      "                if customer.name!=\"\" and customer.budget!=0: # read_customer not notRealCustomer\r\n",
      "                    shop=print_customer_update_shop_state(customer,shop) # update shop state\r\n",
      "                shop_menu_display_footer() # display purposes only\r\n",
      "            if user==shop_menu_choice.live_mode: # user input 3\r\n",
      "                shop_menu_display_header('  Shop Inventory'); print() # display purposes only\r\n",
      "                print_shop(shop) # display shop inventory\r\n",
      "                live_customer=create_customer_live_mode() # create live customer\r\n",
      "                live_customer_cart=create_live_mode_checkout(live_customer) # create shopping basket \r\n",
      "                system('clear') # clear screen output [2]               \r\n",
      "                shop=print_customer_update_shop_state(live_customer_cart,shop) # update shop state\r\n",
      "                shop_menu_display_footer() # display purposes only\r\n",
      "\r\n",
      "'''\r\n",
      " *\r\n",
      " * Custom exception handling (includes programmer message).\r\n",
      " *\r\n",
      "'''\r\n",
      "\r\n",
      "class ShopMenuChoiceError(ValueError): pass # input outside range\r\n",
      "\r\n",
      "class ReplicateShopDotCError(ValueError): pass # allow newline character \r\n",
      "\r\n",
      "\"\"\"\r\n",
      " * \r\n",
      " * Display purposes only (no functionality).  \r\n",
      " *\r\n",
      "\"\"\"\r\n",
      "\r\n",
      "def ui_shop_menu_display(c, n):\r\n",
      "    \"\"\"Display purposes only.\r\n",
      "\"\"\" \r\n",
      "    for i in range(n):\r\n",
      "        print(c,end='')\r\n",
      "\r\n",
      "def shop_menu_display():\r\n",
      "    \"\"\"Display purposes only.\r\n",
      "\"\"\"     \r\n",
      "    ui_shop_menu_display('+',MAX_CHARACTERS)\r\n",
      "    print(f'\\n\\t\\t------ SHOP ------')\r\n",
      "    print(f'\\t\\t1 - Shop Inventory')\r\n",
      "    print(f'\\t\\t2 -  Read Orders')\r\n",
      "    print(f'\\t\\t3 -   Live Mode')\r\n",
      "    print(f'\\t\\t0 -     Exit')\r\n",
      "    ui_shop_menu_display('+',MAX_CHARACTERS)\r\n",
      "    print(f'\\n(Valid Input: 0 or 1 or 2 or 3)\\t\\t>>> ',end='')\r\n",
      "\r\n",
      "def shop_menu_display_header(s):\r\n",
      "    \"\"\"Display purposes only.\r\n",
      "\"\"\" \r\n",
      "    system('clear') # clear screen output [2]\r\n",
      "    ui_shop_menu_display('\\n',3) # display range [1,3]\r\n",
      "    ui_shop_menu_display('\\t',2); print(s) # display line 4\r\n",
      "    ui_shop_menu_display(' ',16); ui_shop_menu_display('-',18) # display line 5\r\n",
      "    ui_shop_menu_display('\\n',3) # display range [6,8]    \r\n",
      "\r\n",
      "def shop_menu_display_footer():\r\n",
      "    \"\"\"Display purposes only.\r\n",
      "\"\"\" \r\n",
      "    ui_shop_menu_display('\\n',3) # display range [1,3]\r\n",
      "    ui_shop_menu_display(' ',16); ui_shop_menu_display('-',18) # display line 4\r\n",
      "    ui_shop_menu_display('\\n',4) # display range [5,7]\r\n",
      "    shop_menu_display() # display shop men\r\n",
      "\r\n",
      "def shop_menu_live_display_header():\r\n",
      "    \"\"\"Display purposes only.\r\n",
      "\"\"\"     \r\n",
      "    ui_shop_menu_display('\\n',3)\r\n",
      "    ui_shop_menu_display(' ',16); ui_shop_menu_display('-',18)\r\n",
      "    ui_shop_menu_display('\\n',4)\r\n",
      "\r\n",
      "def shop_menu_live_display():\r\n",
      "    \"\"\"Display purposes only.\r\n",
      "\"\"\" \r\n",
      "    ui_shop_menu_display('+',MAX_CHARACTERS)\r\n",
      "    print(f'\\n\\t\\t---- LIVE MODE----')\r\n",
      "    print(f'\\t\\t1 -  Add to Cart')\r\n",
      "    print(f'\\t\\t0 -     Exit')\r\n",
      "    ui_shop_menu_display('+',MAX_CHARACTERS)\r\n",
      "    print(f'\\n(Valid Input: 0 or 1)\\t\\t\\t>>> ',end='')  \r\n",
      "\r\n",
      "if __name__=='__main__': # __name__ current module\r\n",
      "    main() # call function main\r\n",
      "\r\n",
      "'''\r\n",
      " *\r\n",
      " * References:\r\n",
      " * [1] https://www.python.org/dev/peps/pep-0435/#intenum\r\n",
      " * [2] https://codecap.org/clear-screen-in-python/\r\n",
      " *\r\n",
      "'''"
     ]
    }
   ],
   "source": [
    "%%script bash\n",
    "cat ./rc/gmit/python/shop.py"
   ]
  },
  {
   "cell_type": "code",
   "execution_count": null,
   "id": "758c7e39",
   "metadata": {},
   "outputs": [],
   "source": [
    "# fFile(nParPath=\"./hide/04-ObjectOrientedProgramming/MPP - 6.4 - Week 6 - Shop in Python & Comparison - 24-10-2020.mp4\")\n",
    "# fFile(nParPath=\"./hide/04-ObjectOrientedProgramming/MPP - 6.5 - Week 6 - Reading CSV in Python & C - 24-10-2020.mp4\")"
   ]
  },
  {
   "cell_type": "markdown",
   "id": "bcb05f11",
   "metadata": {},
   "source": [
    "- ``Python`` is a language which supports multiple paradigms [10]"
   ]
  },
  {
   "cell_type": "markdown",
   "id": "ac198f44",
   "metadata": {},
   "source": [
    "- it supports procedural programming and object oriented programming (plus functional programming and others) [10]"
   ]
  },
  {
   "cell_type": "markdown",
   "id": "b7e1c275",
   "metadata": {},
   "source": [
    "< [Table of Contents](#top) | [References](#references) >\n",
    "<a id=\"makingaShopSimulationinProceduralstructdataclass\"></a>\n",
    "***\n",
    "###### ``struct`` | ``dataclass``\n",
    "***"
   ]
  },
  {
   "cell_type": "markdown",
   "id": "38cb183e",
   "metadata": {},
   "source": [
    "- the closest construct to a ``struct`` in ``C`` that exists in ``Python`` is the ``dataclass`` [10]"
   ]
  },
  {
   "cell_type": "markdown",
   "id": "b13aece5",
   "metadata": {},
   "source": [
    "- a ``dataclass`` is like any other kind of class - its annotated and marked as a data class and is to be treated as a data container [10]\n",
    "\n",
    "```C\n",
    "struct Product {\n",
    "    char* name;\n",
    "    double price;\n",
    "};\n",
    "```\n",
    "\n",
    "```python\n",
    "@dataclass\n",
    "class Product:\n",
    "    name: str\n",
    "    price: float\n",
    "```"
   ]
  },
  {
   "cell_type": "markdown",
   "id": "1465ed76",
   "metadata": {},
   "source": [
    "< [Table of Contents](#top) | [References](#references) >\n",
    "<a id=\"makingaShopSimulationinProceduraltypesafety\"></a>\n",
    "***\n",
    "###### Type Safety\n",
    "***"
   ]
  },
  {
   "cell_type": "markdown",
   "id": "487ac3eb",
   "metadata": {},
   "source": [
    "- at first glance might think that type safety has been introduced to ``Python`` because in ``class Product`` the ``name`` is supposed to be a ``str`` [10]"
   ]
  },
  {
   "cell_type": "markdown",
   "id": "7eaeb754",
   "metadata": {},
   "source": [
    "- this is more like a direction for the programmer to use - it actually does not give type safety [10]"
   ]
  },
  {
   "cell_type": "markdown",
   "id": "05b5c743",
   "metadata": {},
   "source": [
    "- can put a number into that ``name`` instead of a ``str`` and it would allow this because ``Python`` is a dynamically typed language - the types of variables can change over time [10]"
   ]
  },
  {
   "cell_type": "markdown",
   "id": "cde51141",
   "metadata": {},
   "source": [
    "- ``C`` is a statically typed language - once declared a ``double`` then it always has to be a ``double`` - ``Python`` does not have this but this technique is a way of stating what types the variable should contain [10]\n",
    "\n",
    "```C\n",
    "struct Product {\n",
    "    char* name;\n",
    "    double price;\n",
    "};\n",
    "```\n",
    "\n",
    "```python\n",
    "@dataclass\n",
    "class Product:\n",
    "    name: str\n",
    "    price: float\n",
    "```"
   ]
  },
  {
   "cell_type": "markdown",
   "id": "15aaf60f",
   "metadata": {},
   "source": [
    "< [Table of Contents](#top) | [References](#references) >\n",
    "<a id=\"makingaShopSimulationinProceduralIndexing\"></a>\n",
    "***\n",
    "###### Indexing\n",
    "***"
   ]
  },
  {
   "cell_type": "markdown",
   "id": "2bc4783c",
   "metadata": {},
   "source": [
    "- ``Python`` being a higher-level language (unlike ``C``) there is no need to track the index when inserting elements into the two arrays in ``Shop`` and ``Customer`` [10]"
   ]
  },
  {
   "cell_type": "markdown",
   "id": "00aab87a",
   "metadata": {},
   "source": [
    "- there is only three types of variables in the ``Customer`` as opposed to four in the ``C`` version and two in the ``Shop`` as opposed to three in the ``C`` version [10]\n",
    "\n",
    "```python\n",
    "@dataclass\n",
    "class Shop:\n",
    "    cash: float\n",
    "    stock: List[ProductStock]\n",
    "\n",
    "@dataclass\n",
    "class Customer:\n",
    "    name: str\n",
    "    budget: float\n",
    "    shopping_list: List[ProductStock]\n",
    "```\n",
    "\n",
    "```C\n",
    "struct Shop {\n",
    "    double cash;\n",
    "    struct ProductStock stock[20];\n",
    "    int index;\n",
    "}\n",
    "\n",
    "struct Customer\n",
    "    char* name;\n",
    "    double budget;\n",
    "    struct ProductStock shoppingList[10];\n",
    "    int index;\n",
    "```"
   ]
  },
  {
   "cell_type": "markdown",
   "id": "bc28c0d5",
   "metadata": {},
   "source": [
    "< [Table of Contents](#top) | [References](#references) >\n",
    "<a id=\"makingaShopSimulationinProceduralcreateAndStockShop\"></a>\n",
    "***\n",
    "###### ``createAndStockShop`` | ``create_and_stock_shop``\n",
    "***"
   ]
  },
  {
   "cell_type": "markdown",
   "id": "d838f008",
   "metadata": {},
   "source": [
    "- ``Python``:\n",
    "```python\n",
    "def create_and_stock_shop():\n",
    "    s = Shop()\n",
    "    with open('../stock.csv') as csv_file:\n",
    "        csv_reader = csv.reader(csv_file, delimiter=',')\n",
    "        first_row = next(csv_reader)\n",
    "        s.cash = float(first_row[0])\n",
    "        for row in csv_reader:\n",
    "            p = Product(row[0], float(row[1]))\n",
    "            ps = ProductStock(p, float(row[2]))\n",
    "            s.stock.append(ps)\n",
    "            #print(ps)\n",
    "    return s\n",
    "```"
   ]
  },
  {
   "cell_type": "markdown",
   "id": "8830333d",
   "metadata": {},
   "source": [
    "- ``C``:\n",
    "```C\n",
    "struct Shop createAndStockShop()\n",
    "{\n",
    "    FILE * fp;\n",
    "    char * line = NULL;\n",
    "    size_t len = 0;\n",
    "    ssize_t read;\n",
    "\n",
    "    fp = fopen(\"../stock.csv\", \"r\");\n",
    "    if (fp == NULL)\n",
    "        exit(EXIT_FAILURE);\n",
    "\n",
    "\tread = getline(&line, &len, fp);\n",
    "\tfloat cash = atof(line);\n",
    "\t// printf(\"cash in shop is %.2f\\n\", cash);\n",
    "\t\n",
    "\tstruct Shop shop = { cash };\n",
    "\n",
    "    while ((read = getline(&line, &len, fp)) != -1) {\n",
    "        // printf(\"Retrieved line of length %zu:\\n\", read);\n",
    "        // printf(\"%s IS A LINE\", line);\n",
    "\t\tchar *n = strtok(line, \",\");\n",
    "\t\tchar *p = strtok(NULL, \",\");\n",
    "\t\tchar *q = strtok(NULL, \",\");\n",
    "\t\tint quantity = atoi(q);\n",
    "\t\tdouble price = atof(p);\n",
    "\t\tchar *name = malloc(sizeof(char) * 50);\n",
    "\t\tstrcpy(name, n);\n",
    "\t\tstruct Product product = { name, price };\n",
    "\t\tstruct ProductStock stockItem = { product, quantity };\n",
    "\t\tshop.stock[shop.index++] = stockItem;\n",
    "\t\t// printf(\"NAME OF PRODUCT %s PRICE %.2f QUANTITY %d\\n\", name, price, quantity);\n",
    "    }\n",
    "\t\n",
    "\treturn shop;\n",
    "}\n",
    "````"
   ]
  },
  {
   "cell_type": "markdown",
   "id": "edce6d16",
   "metadata": {},
   "source": [
    "- ``C`` does not have a ``csv`` library like ``Python`` - instead in ``C`` using the actual CSV file as a text file and using the function ``strtok`` to break apart the file [10]\n",
    "\n",
    "```C\n",
    "char *n = strtok(line, \",\");\n",
    "char *p = strtok(NULL, \",\");\n",
    "char *q = strtok(NULL, \",\");\n",
    "```"
   ]
  },
  {
   "cell_type": "markdown",
   "id": "1d9fedc4",
   "metadata": {},
   "source": [
    "- ``Python`` function ``csv_reader`` does the above [10]\n",
    "\n",
    "```Python\n",
    "with open('../stock.csv') as csv_file:\n",
    "    csv_reader = csv.reader(csv_file, delimiter=',')\n",
    "```"
   ]
  },
  {
   "cell_type": "markdown",
   "id": "fa27f7da",
   "metadata": {},
   "source": [
    "- ``Python`` requires no memory allocation [10]"
   ]
  },
  {
   "cell_type": "markdown",
   "id": "fa2b99cf",
   "metadata": {},
   "source": [
    "< [Table of Contents](#top) | [References](#references) >\n",
    "<a id=\"makingaShopSimulationinProceduralprintCustomer\"></a>\n",
    "***\n",
    "###### ``printCustomer`` | ``print_customer``\n",
    "***"
   ]
  },
  {
   "cell_type": "markdown",
   "id": "0c480403",
   "metadata": {},
   "source": [
    "- ``Python``:\n",
    "\n",
    "```Python\n",
    "def print_customer(c):\n",
    "    print(f'CUSTOMER NAME: {c.name} \\nCUSTOMER BUDGET: {c.budget}')\n",
    "    \n",
    "    for item in c.shopping_list:\n",
    "        print_product(item.product)\n",
    "        \n",
    "        print(f'{c.name} ORDERS {item.quantity} OF ABOVE PRODUCT')\n",
    "        cost = item.quantity * item.product.price\n",
    "        print(f'The cost to {c.name} will be €{cost}')\n",
    "```"
   ]
  },
  {
   "cell_type": "markdown",
   "id": "79e173b6",
   "metadata": {},
   "source": [
    "- ``C``:\n",
    "\n",
    "```C\n",
    "void printCustomer(struct Customer c)\n",
    "{\n",
    "\tprintf(\"CUSTOMER NAME: %s \\nCUSTOMER BUDGET: %.2f\\n\", c.name, c.budget);\n",
    "\tprintf(\"-------------\\n\");\n",
    "\tfor(int i = 0; i < c.index; i++)\n",
    "\t{\n",
    "\t\tprintProduct(c.shoppingList[i].product);\n",
    "\t\tprintf(\"%s ORDERS %d OF ABOVE PRODUCT\\n\", c.name, c.shoppingList[i].quantity);\n",
    "\t\tdouble cost = c.shoppingList[i].quantity * c.shoppingList[i].product.price; \n",
    "\t\tprintf(\"The cost to %s will be €%.2f\\n\", c.name, cost);\n",
    "\t}\n",
    "}\n",
    "```"
   ]
  },
  {
   "cell_type": "markdown",
   "id": "c602ad64",
   "metadata": {},
   "source": [
    "- ``Python`` has a higher level construct for arrays [10]\n",
    "\n",
    "```Python\n",
    "for item in c.shopping_list:\n",
    "```\n",
    "\n",
    "```C\n",
    "for(int i = 0; i < c.index; i++)\n",
    "```"
   ]
  },
  {
   "cell_type": "markdown",
   "id": "2946689a",
   "metadata": {},
   "source": [
    " # Work\n",
    " ***"
   ]
  },
  {
   "cell_type": "code",
   "execution_count": 38,
   "id": "95140d78",
   "metadata": {},
   "outputs": [
    {
     "name": "stdout",
     "output_type": "stream",
     "text": [
      "1\n"
     ]
    }
   ],
   "source": [
    "s=input()"
   ]
  },
  {
   "cell_type": "code",
   "execution_count": 39,
   "id": "babd6ded",
   "metadata": {},
   "outputs": [
    {
     "data": {
      "text/plain": [
       "str"
      ]
     },
     "execution_count": 39,
     "metadata": {},
     "output_type": "execute_result"
    }
   ],
   "source": [
    "type(s)"
   ]
  },
  {
   "cell_type": "code",
   "execution_count": 40,
   "id": "343941e1",
   "metadata": {},
   "outputs": [],
   "source": [
    "d=float(s)"
   ]
  },
  {
   "cell_type": "code",
   "execution_count": 31,
   "id": "e86ac07d",
   "metadata": {},
   "outputs": [
    {
     "data": {
      "text/plain": [
       "'3'"
      ]
     },
     "execution_count": 31,
     "metadata": {},
     "output_type": "execute_result"
    }
   ],
   "source": [
    "s"
   ]
  },
  {
   "cell_type": "code",
   "execution_count": 32,
   "id": "e1cc4890",
   "metadata": {},
   "outputs": [
    {
     "data": {
      "text/plain": [
       "str"
      ]
     },
     "execution_count": 32,
     "metadata": {},
     "output_type": "execute_result"
    }
   ],
   "source": [
    "type(s)"
   ]
  },
  {
   "cell_type": "code",
   "execution_count": 33,
   "id": "9332c9f7",
   "metadata": {},
   "outputs": [
    {
     "data": {
      "text/plain": [
       "3.0"
      ]
     },
     "execution_count": 33,
     "metadata": {},
     "output_type": "execute_result"
    }
   ],
   "source": [
    "d"
   ]
  },
  {
   "cell_type": "code",
   "execution_count": 34,
   "id": "7829675e",
   "metadata": {},
   "outputs": [
    {
     "data": {
      "text/plain": [
       "float"
      ]
     },
     "execution_count": 34,
     "metadata": {},
     "output_type": "execute_result"
    }
   ],
   "source": [
    "type(d)"
   ]
  },
  {
   "cell_type": "code",
   "execution_count": null,
   "id": "45ea2fac",
   "metadata": {},
   "outputs": [],
   "source": []
  },
  {
   "cell_type": "code",
   "execution_count": null,
   "id": "a44dbaae",
   "metadata": {},
   "outputs": [],
   "source": []
  },
  {
   "cell_type": "code",
   "execution_count": null,
   "id": "ed5040e7",
   "metadata": {},
   "outputs": [],
   "source": []
  },
  {
   "cell_type": "markdown",
   "id": "7ace62db",
   "metadata": {},
   "source": [
    "< [Table of Contents](#top) | [References](#references) >\n",
    "<a id=\"makingaShopSimulationinOOP\"></a>\n",
    "***\n",
    "### OOP\n",
    "***"
   ]
  },
  {
   "cell_type": "markdown",
   "id": "6f812c2c",
   "metadata": {},
   "source": [
    "&#x1F6A7;"
   ]
  },
  {
   "cell_type": "markdown",
   "id": "b60ae231",
   "metadata": {},
   "source": [
    "< [Table of Contents](#top) | [References](#references) >\n",
    "<a id=\"shopSimulationPython\"></a>\n",
    "***\n",
    "###### Python Programming\n",
    "***"
   ]
  },
  {
   "cell_type": "code",
   "execution_count": null,
   "id": "022633b3",
   "metadata": {},
   "outputs": [],
   "source": [
    "# fFile(nParPath=\"./hide/04-ObjectOrientedProgramming/08-MPP - Week 7 - OOP Shop Python Part 1 - 03-11-2020.mp4\")\n",
    "# fFile(nParPath=\"./hide/04-ObjectOrientedProgramming/09-MPP - Week 7 - OOP Shop Python Part 2 - 03-11-2020.mp4\")\n",
    "# fFile(nParPath=\"./hide/04-ObjectOrientedProgramming/shop_oop.py\")"
   ]
  },
  {
   "cell_type": "markdown",
   "id": "9e97975e",
   "metadata": {},
   "source": [
    "***\n",
    "### END"
   ]
  },
  {
   "cell_type": "markdown",
   "id": "a04d2afc",
   "metadata": {},
   "source": [
    "< [Table of Contents](#top) | [References](#references) >\n",
    "<a id=\"shopSimulationJava\"></a>\n",
    "***\n",
    "###### Java Programming\n",
    "***"
   ]
  },
  {
   "cell_type": "code",
   "execution_count": null,
   "id": "7db3d5a8",
   "metadata": {},
   "outputs": [],
   "source": [
    "# fFile(nParPath=\"./hide/04-ObjectOrientedProgramming/04-MPP - Week 8 - Shop in Java Part 1 - 05-11-2020.mp4\")\n",
    "# fFile(nParPath=\"./hide/04-ObjectOrientedProgramming/05-MPP - Week 8 - Shop in Java Part 2 (Subclassing) - 05-11-2020.mp4\")\n",
    "# fFile(nParPath=\"./hide/04-ObjectOrientedProgramming/JavaShopCode.zip\")"
   ]
  },
  {
   "cell_type": "markdown",
   "id": "6f121544",
   "metadata": {},
   "source": [
    "< [Table of Contents](#top) | [References](#references) >\n",
    "<a id=\"shopSimulationJavaUserInput\"></a>\n",
    "***\n",
    "###### User Input\n",
    "***"
   ]
  },
  {
   "cell_type": "code",
   "execution_count": null,
   "id": "040314b0",
   "metadata": {},
   "outputs": [],
   "source": [
    "# fFile(nParPath=\"./hide/04-ObjectOrientedProgramming/06-MPP - Week 8 - User Input in Java - 05-11-2020.mp4\")"
   ]
  },
  {
   "cell_type": "markdown",
   "id": "9583a3ee",
   "metadata": {},
   "source": [
    "***\n",
    "### END"
   ]
  },
  {
   "cell_type": "markdown",
   "id": "83e95f4a",
   "metadata": {},
   "source": [
    "<!-- - refer [Appendix](#appendix-df) to view the full dataset <a id=\"go-back-df\"></a> -->\n",
    "<!-- print(fGetModuleType(___x___),fDocumentation(___x___)) -->\n",
    "***\n",
    "## END"
   ]
  },
  {
   "cell_type": "markdown",
   "id": "d0aff9d2",
   "metadata": {},
   "source": [
    "< [Table of Contents](#top) | [Abstract](#abstract) | [Introduction](#introduction) | [Solution](#solution) | [References](#references) >\n",
    "<a id=\"conclusion\"></a>\n",
    "***\n",
    "## Conclusion\n",
    "***"
   ]
  },
  {
   "cell_type": "markdown",
   "id": "2223c2ba",
   "metadata": {},
   "source": [
    "&#x1F6A7;"
   ]
  },
  {
   "cell_type": "markdown",
   "id": "9530e9ad",
   "metadata": {},
   "source": [
    "***\n",
    "## END"
   ]
  },
  {
   "cell_type": "markdown",
   "id": "072953f8",
   "metadata": {},
   "source": [
    "< [Table of Contents](#top) | [Abstract](#abstract) | [Introduction](#introduction) | [Solution](#solution) | [Conclusion](#conclusion) | [References](#references) >\n",
    "<a id=\"references\"></a>\n",
    "***\n",
    "## References\n",
    "***\n",
    "\n",
    "&nbsp;&nbsp;&nbsp;&nbsp;&nbsp;&nbsp;&nbsp;&nbsp;&nbsp;[1] D. Carr, \"Moodle (Multi-Paradigm Programming),\" GMIT, (n.d.).\n",
    "\n",
    "&nbsp;&nbsp;&nbsp;&nbsp;&nbsp;&nbsp;&nbsp;&nbsp;&nbsp;[2] D. Carr, \"MPP - 1 - Module Introduction,\" GMIT, September 2019.\n",
    "\n",
    "&nbsp;&nbsp;&nbsp;&nbsp;&nbsp;&nbsp;&nbsp;&nbsp;&nbsp;[3] D. Carr, \"MPP - 2 - What Is a Programming Paradigm,\" GMIT, September 2019.\n",
    "\n",
    "&nbsp;&nbsp;&nbsp;&nbsp;&nbsp;&nbsp;&nbsp;&nbsp;&nbsp;[4] D. Carr, \"MPP - 3 - ImperativeProcedural,\" GMIT, September 2019.\n",
    "\n",
    "&nbsp;&nbsp;&nbsp;&nbsp;&nbsp;&nbsp;&nbsp;&nbsp;&nbsp;[5] D. Carr, \"MPP - 3.1 - The C Programming Language,\" GMIT, September 2019.\n",
    "\n",
    "&nbsp;&nbsp;&nbsp;&nbsp;&nbsp;&nbsp;&nbsp;&nbsp;&nbsp;[6] D. Carr, \"MPP - 6.1 - Object Oriented Programming,\" GMIT, October 2019.\n",
    "\n",
    "&nbsp;&nbsp;&nbsp;&nbsp;&nbsp;&nbsp;&nbsp;&nbsp;&nbsp;[7] J. VanderPlas, \"Built-In Data Structures,\" A Whirlwind Tour of Python, August 2016.\n",
    "\n",
    "&nbsp;&nbsp;&nbsp;&nbsp;&nbsp;&nbsp;&nbsp;&nbsp;&nbsp;[8] D. Amos, \"Object-Oriented Programming (OOP) in Python 3,\" [Real Python](https://web.archive.org/web/20201107154103/https://realpython.com/python3-object-oriented-programming/), July 2020.\n",
    "\n",
    "&nbsp;&nbsp;&nbsp;&nbsp;&nbsp;&nbsp;&nbsp;&nbsp;&nbsp;[9] D. Carr, \"Procedural Programming Example in Python,\" GMIT, October 2021.\n",
    "\n",
    "&nbsp;&nbsp;&nbsp;&nbsp;&nbsp;&nbsp;&nbsp;[10] D. Carr, \"MPP - 6.4 - Week 6 - Shop in Python & Comparison,\" GMIT, October 2020."
   ]
  },
  {
   "cell_type": "markdown",
   "id": "be25330a",
   "metadata": {},
   "source": [
    "***\n",
    "## END"
   ]
  },
  {
   "cell_type": "markdown",
   "id": "d23f1e41",
   "metadata": {},
   "source": [
    "< [Table of Contents](#top) | [Abstract](#abstract) | [Introduction](#introduction) | [Solution](#solution) | [Conclusion](#conclusion) | [References](#references) >\n",
    "<a id=\"appendix\"></a>\n",
    "***\n",
    "## Appendix\n",
    "***"
   ]
  },
  {
   "cell_type": "markdown",
   "id": "251e9e1b",
   "metadata": {},
   "source": [
    "< [Table of Contents](#top) | [References](#references) >"
   ]
  },
  {
   "cell_type": "markdown",
   "id": "28fe5f51",
   "metadata": {},
   "source": [
    "&#x1F6A7;"
   ]
  },
  {
   "cell_type": "markdown",
   "id": "6c483528",
   "metadata": {},
   "source": [
    "<a id=\"appendix-some-reference\"></a>\n",
    "< [Go Back](#top) >"
   ]
  },
  {
   "cell_type": "markdown",
   "id": "cfd0fa93",
   "metadata": {},
   "source": [
    "```python\n",
    "from matplotlib.pyplot import box,yticks,xlabel,bar,text,title,show\n",
    "\n",
    "from sys import path; path.insert(1,\"../src\")\n",
    "from fubar import fDarkReader\n",
    "\n",
    "%%script bash\n",
    "grep -1 \"def fDarkReader\" ../src/fubar.py -A 9\n",
    "\n",
    "fDarkReader()\n",
    "```"
   ]
  },
  {
   "cell_type": "markdown",
   "id": "aa3f406d",
   "metadata": {},
   "source": [
    "⚡"
   ]
  },
  {
   "cell_type": "markdown",
   "id": "696c01b6",
   "metadata": {},
   "source": [
    "```python\n",
    "from sys import path; path.insert(1,\"../src\")\n",
    "from fubar import fFile\n",
    "\n",
    "%%script bash\n",
    "grep -1 \"def fFile\" ../src/fubar.py -A 9\n",
    "\n",
    "fFile(nParPath=\"\")\n",
    "\n",
    "exit()\n",
    "```"
   ]
  },
  {
   "cell_type": "markdown",
   "id": "cce95208",
   "metadata": {},
   "source": [
    "###### Github\n",
    "***"
   ]
  },
  {
   "cell_type": "markdown",
   "id": "c20bcab1",
   "metadata": {},
   "source": [
    "```\n",
    "git push -f origin HEAD^:master && git reset HEAD~\n",
    "```"
   ]
  },
  {
   "cell_type": "markdown",
   "id": "f2abae09",
   "metadata": {},
   "source": [
    "###### Functions\n",
    "***"
   ]
  },
  {
   "cell_type": "markdown",
   "id": "edaf60f2",
   "metadata": {},
   "source": [
    "```python\n",
    "# %%writefile -a ../src/fubar.py\n",
    "# repository ./fubar-python\n",
    "def f():\n",
    "    \"\"\"\n",
    "\n",
    "Input:\n",
    "Process:\n",
    "Output:\n",
    "\"\"\"\n",
    "    pass\n",
    "# -- END ---\n",
    "```"
   ]
  },
  {
   "cell_type": "markdown",
   "id": "0e8976bb",
   "metadata": {},
   "source": [
    "###### Functions - ../src/fubar.py\n",
    "***"
   ]
  },
  {
   "cell_type": "markdown",
   "id": "22226fc4",
   "metadata": {},
   "source": [
    "```\n",
    "%%script bash\n",
    "cat ../src/fubar.py\n",
    "```"
   ]
  },
  {
   "cell_type": "code",
   "execution_count": null,
   "id": "15c6c6c8",
   "metadata": {},
   "outputs": [],
   "source": [
    "%%script bash\n",
    "grep -1 \"def fFullScreen\" ../src/fubar.py -A 9"
   ]
  },
  {
   "cell_type": "markdown",
   "id": "7fdb8afd",
   "metadata": {},
   "source": [
    "```\n",
    "git commit -m \"update repository ./fubar-python - Everything in python is an object.\"\n",
    "```"
   ]
  },
  {
   "cell_type": "markdown",
   "id": "8e1eca07",
   "metadata": {},
   "source": [
    "###### Images\n",
    "***"
   ]
  },
  {
   "cell_type": "markdown",
   "id": "8c434378",
   "metadata": {},
   "source": [
    "![gumball](https://github.com/SeanOhAileasa/SeanOhAileasa/blob/master/rc/cta/analysing/gumball.png?raw=true)\n",
    "\n",
    "***(Image) P. Mannion, \"03 Analysing Algorithms Part 1,\" GMIT, October 2017.***"
   ]
  },
  {
   "cell_type": "markdown",
   "id": "fc8f81f2",
   "metadata": {},
   "source": [
    "###### Tables\n",
    "***"
   ]
  },
  {
   "cell_type": "markdown",
   "id": "b5f4d9d6",
   "metadata": {},
   "source": [
    "|aaa|bbbbbb|ccccccccc|\n",
    "|:------------------------- | :------------------------- | :------------------------- |\n",
    "|aaa|bbbbbb|ccccccccc|"
   ]
  },
  {
   "cell_type": "markdown",
   "id": "3024df08",
   "metadata": {},
   "source": [
    "###### References\n",
    "***"
   ]
  },
  {
   "cell_type": "markdown",
   "id": "0d8e60b8",
   "metadata": {},
   "source": [
    "&nbsp;&nbsp;&nbsp;&nbsp;&nbsp;&nbsp;&nbsp;&nbsp;&nbsp;[0] x. xxx, \"xxx,\" xxx, JanXXXry 2XX1.\n",
    "\n",
    "&nbsp;&nbsp;&nbsp;&nbsp;&nbsp;&nbsp;&nbsp;&nbsp;&nbsp;[0] Anaconda (built-in), \"range,\" Docstring, Conda:4.9.2 (Python:3.8.5).\n",
    "\n",
    "&nbsp;&nbsp;&nbsp;&nbsp;&nbsp;&nbsp;&nbsp;&nbsp;&nbsp;[0] Anaconda (plot), \"matplotlib.pyplot,\" Docstring, Conda:4.9.2 (Python:3.8.5).\n",
    "\n",
    "&nbsp;&nbsp;&nbsp;&nbsp;&nbsp;&nbsp;&nbsp;&nbsp;&nbsp;[0] D. Carr, \"CTA - Lecture 1 Part 1,\" GMIT, January 2021.\n",
    "\n",
    "&nbsp;&nbsp;&nbsp;&nbsp;&nbsp;&nbsp;&nbsp;&nbsp;&nbsp;[0] A. Beatty, \"xxx,\" GMIT, January 202x.\n",
    "\n",
    "&nbsp;&nbsp;&nbsp;&nbsp;&nbsp;&nbsp;&nbsp;&nbsp;&nbsp;[0] M. R. Fellows, I. Parberry, \"SIGACT Trying to Get Children Excited About CS,\" [ianparberry](https://web.archive.org/web/20210220071000/http://ianparberry.com/research/cseducation), January 1993.\n",
    "\n",
    "###### fubar-000\n",
    "\n",
    "&nbsp;&nbsp;&nbsp;&nbsp;&nbsp;&nbsp;&nbsp;&nbsp;&nbsp;[0] A. Beatty, \"prog 0.0 introduction (Module: Programming for Cybersecurity),\" GMIT (Programme: Certificate in Cybersecurity Operations), January 2021."
   ]
  },
  {
   "cell_type": "markdown",
   "id": "e7c09db3",
   "metadata": {},
   "source": [
    "***\n",
    "## END"
   ]
  },
  {
   "cell_type": "markdown",
   "id": "0453efb4",
   "metadata": {},
   "source": [
    "# END JUPYTER NOTEBOOK"
   ]
  }
 ],
 "metadata": {
  "kernelspec": {
   "display_name": "Python 3",
   "language": "python",
   "name": "python3"
  },
  "language_info": {
   "codemirror_mode": {
    "name": "ipython",
    "version": 3
   },
   "file_extension": ".py",
   "mimetype": "text/x-python",
   "name": "python",
   "nbconvert_exporter": "python",
   "pygments_lexer": "ipython3",
   "version": "3.8.8"
  }
 },
 "nbformat": 4,
 "nbformat_minor": 5
}
