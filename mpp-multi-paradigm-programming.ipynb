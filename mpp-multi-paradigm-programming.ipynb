{
 "cells": [
  {
   "cell_type": "code",
   "execution_count": null,
   "id": "c318f0ed",
   "metadata": {},
   "outputs": [
    {
     "data": {
      "text/html": [
       "<script>Jupyter.notebook.kernel.restart()</script>"
      ]
     },
     "metadata": {},
     "output_type": "display_data"
    }
   ],
   "source": [
    "from IPython.core.display import display_html\n",
    "display_html(\"<script>Jupyter.notebook.kernel.restart()</script>\",raw=True)"
   ]
  },
  {
   "cell_type": "code",
   "execution_count": 1,
   "id": "b837249e",
   "metadata": {},
   "outputs": [
    {
     "data": {
      "text/html": [
       "<style>.container { width:100% !important; }</style>"
      ],
      "text/plain": [
       "<IPython.core.display.HTML object>"
      ]
     },
     "metadata": {},
     "output_type": "display_data"
    },
    {
     "data": {
      "text/html": [
       "<style>.container { width:100% !important; }</style>"
      ],
      "text/plain": [
       "<IPython.core.display.HTML object>"
      ]
     },
     "metadata": {},
     "output_type": "display_data"
    }
   ],
   "source": [
    "from sys import path; path.insert(1,\"../src\");\n",
    "import fubar; from importlib import reload; reload(fubar);"
   ]
  },
  {
   "cell_type": "markdown",
   "id": "fd8a0ce7",
   "metadata": {},
   "source": [
    "***\n",
    "< [GMIT Data Analytics](https://web.archive.org/web/20201029063153/https://www.gmit.ie/computer-science-and-applied-physics/higher-diploma-science-computing-data-analytics-ict) | [Home](https://github.com/SeanOhAileasa) | [README](https://github.com/SeanOhAileasa/mpp-multi-paradigm-programming/blob/main/README.md) >\n",
    "\n",
    "[![GMIT](https://github.com/SeanOhAileasa/SeanOhAileasa/blob/master/rc/gmit.png?raw=true)](https://web.archive.org/web/20201029063153/https://www.gmit.ie/computer-science-and-applied-physics/higher-diploma-science-computing-data-analytics-ict)\n",
    "\n",
    "## Multi-Paradigm Programming - Course Material 2021\n",
    "### Topic: [Multi-Paradigm Programming](https://nbviewer.jupyter.org/github/SeanOhAileasa/mpp-multi-paradigm-programming/blob/main/mpp-multi-paradigm-programming.ipynb)\n",
    "\n",
    "Course material for the ``Multi-Paradigm Programming`` module (5 Credits) of the ``Higher Diploma in Science in Computing (Data Analytics) (H.Dip)`` programme (75 Credits) at **Galway-Mayo Institute of Technology (GMIT)**.\n",
    "***"
   ]
  },
  {
   "cell_type": "code",
   "execution_count": 2,
   "id": "568acc13",
   "metadata": {},
   "outputs": [],
   "source": [
    "from sys import path; path.insert(1,\"../src\")\n",
    "from fubar import fFile"
   ]
  },
  {
   "cell_type": "code",
   "execution_count": 3,
   "id": "89ee0f58",
   "metadata": {},
   "outputs": [
    {
     "name": "stdout",
     "output_type": "stream",
     "text": [
      "# repository ./SeanOhAileasa\r\n",
      "def fFile(nParPath):\r\n",
      "    \"\"\"Start a file with its associated application.\r\n",
      "\r\n",
      "Input: nParPath\r\n",
      "Process: (os.path.realpath; os.startfile)\r\n",
      "Output: file opened with associated application\r\n",
      "\"\"\"\r\n",
      "    from os import path,startfile\r\n",
      "    return startfile(path.realpath(nParPath))\r\n",
      "# --- END ---\r\n"
     ]
    }
   ],
   "source": [
    "%%script bash\n",
    "grep -1 \"def fFile\" ../src/fubar.py -A 9"
   ]
  },
  {
   "cell_type": "markdown",
   "id": "8a9f03af",
   "metadata": {},
   "source": [
    "<a id=\"top\"></a>\n",
    "***\n",
    "## Table of Contents\n",
    "***\n",
    "\n",
    "## [Abstract](#abstract)\n",
    "\n",
    "## [Introduction](#introduction)\n",
    "\n",
    "* [Programming](#mppProgramming) <br/><br/>\n",
    "    * [Paradigm](#mppProgrammingParadigm) <br/><br/>\n",
    "    * [Abstraction](#mppProgrammingAbstraction) <br/><br/>\n",
    "        * [Low-Level](#mppProgrammingParadigmLowHighLevel)&nbsp;&nbsp;|&nbsp;&nbsp;[High-Level](#mppProgrammingParadigmLowHighLevel) <br/><br/>\n",
    "    * [State](#mppProgrammingState) <br/><br/>\n",
    "* [Imperative](#mppImperative) <br/><br/>\n",
    "    * [Procedural](#mppProcedural) <br/><br/>\n",
    "        * [``C``](#cProgramming)&nbsp;&nbsp;|&nbsp;&nbsp;[Vs ``Python``](#cProgrammingVsPython) <br/><br/>\n",
    "            * [Menu](#cProgrammingMenu) <br/><br/>\n",
    "            * [Structs](#cProgrammingStructs) <br/><br/>\n",
    "            * [Function Prototypes](#cProgrammingFunctionPrototypes) <br/><br/>\n",
    "* [Object-Oriented](#objectOrientedProgramming) <br/><br/>\n",
    "    * [Java Programming](#objectOrientedJava) <br/><br/>\n",
    "    * [Python Programming](#objectOrientedPython) <br/><br/>\n",
    "        * [Private Methods](#objectOrientedProgrammingPrivateMethods) <br/><br/>\n",
    "        * [Inheritance](#objectOrientedProgrammingInheritance) <br/><br/>\n",
    "    * [Procedural Style (C)](#objectOrientedProgrammingProceduralStyle) <br/><br/>\n",
    "    * [Object-Oriented Style (Java)](#objectOrientedProgrammingObjectorientedStyleJava) <br/><br/>\n",
    "* [Declarative](#declarativeProgramming) <br/><br/>\n",
    "* [Functional](#functionalProgramming) <br/><br/>\n",
    "    * [Functions](#functions) &#x1F6A7; <br/><br/>\n",
    "        * [Generic](https://nbviewer.jupyter.org/github/SeanOhAileasa/fda-data-functions/blob/main/fda-data-functions.ipynb) **[External Link]** <br/><br/>\n",
    "            * [Iterator](https://nbviewer.jupyter.org/github/SeanOhAileasa/fda-data-functions/blob/main/fda-data-functions.ipynb#iterator) **[External Link]** <br/><br/>\n",
    "                * [Map](https://nbviewer.jupyter.org/github/SeanOhAileasa/fda-data-functions/blob/main/fda-data-functions.ipynb#map) **[External Link]** <br/><br/>\n",
    "                    * [Anonymous](https://nbviewer.jupyter.org/github/SeanOhAileasa/fda-data-functions/blob/main/fda-data-functions.ipynb#anonymous-function) **[External Link]** <br/><br/>\n",
    "                * [Reduce](https://nbviewer.jupyter.org/github/SeanOhAileasa/fda-data-functions/blob/main/fda-data-functions.ipynb#reduce) **[External Link]** <br/><br/>\n",
    "        * [Data and Functions](https://nbviewer.jupyter.org/github/SeanOhAileasa/fda-data-functions/blob/main/fda-data-functions.ipynb#data-and-functions) **[External Link]**\n",
    "\n",
    "## [Solution](#solution)\n",
    "\n",
    "* [Shop Simulation (C)](#makingaShopSimulationinC) <br/><br/>\n",
    "    * [Passing Arguments as Pointer](#shopSimulationPassingArgumentsasPointer) <br/><br/>\n",
    "    * [Processing the Order](#shopSimulationProcessingtheOrder) <br/><br/>\n",
    "    * [Processing Customer Details](#shopSimulationProcessingCustomerDetails) <br/><br/>\n",
    "* [Python Programming](#shopSimulationPython) <br/><br/>\n",
    "* [Java Programming](#shopSimulationJava) <br/><br/>\n",
    "    * [User Input](#shopSimulationJavaUserInput)\n",
    "    \n",
    "## [Conclusion](#conclusion)\n",
    "\n",
    "- &#x1F6A7;\n",
    "\n",
    "<!--\n",
    "- [C](https://nbviewer.jupyter.org/github/SeanOhAileasa/mpp-multi-paradigm-programming/blob/main/rc/c.ipynb) \n",
    "\n",
    "- [v-python](https://nbviewer.jupyter.org/github/SeanOhAileasa/mpp-multi-paradigm-programming/blob/main/rc/c-v-python.ipynb) \n",
    "\n",
    "    - [process](https://nbviewer.jupyter.org/github/SeanOhAileasa/mpp-multi-paradigm-programming/blob/main/rc/c-v-python-process.ipynb) \n",
    "\n",
    "- [simulation](https://nbviewer.jupyter.org/github/SeanOhAileasa/mpp-multi-paradigm-programming/blob/main/rc/simulation-intentionally-blank.ipynb) \n",
    "\n",
    "    - [shop](https://nbviewer.jupyter.org/github/SeanOhAileasa/mpp-multi-paradigm-programming/blob/main/rc/simulation-shop.ipynb)\n",
    "-->"
   ]
  },
  {
   "cell_type": "markdown",
   "id": "ad13d4bd",
   "metadata": {},
   "source": [
    "***\n",
    "## END"
   ]
  },
  {
   "cell_type": "markdown",
   "id": "fb86e7eb",
   "metadata": {},
   "source": [
    "< [Table of Contents](#top) | [Introduction](#introduction) | [Solution](#solution) | [Conclusion](#conclusion) | [References](#references) >\n",
    "<a id=\"abstract\"></a>\n",
    "***\n",
    "## Abstract\n",
    "***"
   ]
  },
  {
   "cell_type": "markdown",
   "id": "624286e6",
   "metadata": {},
   "source": [
    "- Object-oriented programming \n",
    "\t- Encapsulation\n",
    "\t- Data and methods\n",
    "\t- Objects, classes, instances"
   ]
  },
  {
   "cell_type": "markdown",
   "id": "d52010b0",
   "metadata": {},
   "source": [
    "- Dataflow programming\n",
    "\t- Tables, spreadsheets, tensors\n",
    "\t- Dataflow graphs\n",
    "\t- Sessions"
   ]
  },
  {
   "cell_type": "markdown",
   "id": "fb09b580",
   "metadata": {},
   "source": [
    "- Functional programming\n",
    "\t- Lists, pairs\n",
    "\t- Map, reduce (often used for distributed workloads)\n",
    "\t- Recursion"
   ]
  },
  {
   "cell_type": "markdown",
   "id": "2dfe79cf",
   "metadata": {},
   "source": [
    "***\n",
    "## END"
   ]
  },
  {
   "cell_type": "markdown",
   "id": "ad0ca3b6",
   "metadata": {},
   "source": [
    "< [Table of Contents](#top) | [Abstract](#abstract) | [Solution](#solution) | [Conclusion](#conclusion) | [References](#references) >\n",
    "<a id=\"introduction\"></a>\n",
    "***\n",
    "## Introduction\n",
    "***"
   ]
  },
  {
   "cell_type": "code",
   "execution_count": null,
   "id": "20140b21",
   "metadata": {},
   "outputs": [],
   "source": [
    "# fFile(nParPath=\"./hide/01-Introduction/MPP - 1 - Module Introduction - 20-09-2019.mkv\")\n",
    "# fFile(nParPath=\"./hide/01-Introduction/MPP - 1 - Module Introduction - 20-09-2019.pdf\")"
   ]
  },
  {
   "cell_type": "markdown",
   "id": "60659dfd",
   "metadata": {},
   "source": [
    "- introduction to various programming paradigms such as object-oriented programming and functional programming and dataflow programming [1][2]"
   ]
  },
  {
   "cell_type": "markdown",
   "id": "0397e565",
   "metadata": {},
   "source": [
    "1. compare different programming paradigms [1]\n",
    "\n",
    "\n",
    "2. select an appropriate programming paradigm for a given programming problem [1]\n",
    "\n",
    "\n",
    "3. write programs using a variety of different programming paradigms [1] - perhaps the different paradigms may be manifest in different programming languages (some languages best exemplify particular paradigms) [2]\n",
    "\n",
    "\n",
    "4. explain how various programming paradigms have evolved over time [1] (chosen as good abstractions in structuring programs) - knowing the relative strengths of each paradigm [2]"
   ]
  },
  {
   "cell_type": "markdown",
   "id": "c0067296",
   "metadata": {},
   "source": [
    "< [Table of Contents](#top) | [References](#references) >\n",
    "<a id=\"mppProgramming\"></a>\n",
    "***\n",
    "### Programming\n",
    "***"
   ]
  },
  {
   "cell_type": "code",
   "execution_count": null,
   "id": "6de27a2a",
   "metadata": {},
   "outputs": [],
   "source": [
    "# fFile(nParPath=\"./hide/01-Introduction/MPP - 2 - What Is a Programming Paradigm - 20-09-2019.mkv\")\n",
    "# fFile(nParPath=\"./hide/01-Introduction/MPP - 2 - What Is a Programming Paradigm - 20-09-2019.pdf\")"
   ]
  },
  {
   "cell_type": "markdown",
   "id": "857c3698",
   "metadata": {},
   "source": [
    "- programming is a method of communication between the end user (programmer/human) and the machine [3]"
   ]
  },
  {
   "cell_type": "markdown",
   "id": "77bd230e",
   "metadata": {},
   "source": [
    "- the machine does exactly what the human tells it to do - this is not always the same thing as what the human wants it to do because humans are imprecise and computers are very precise [3] "
   ]
  },
  {
   "cell_type": "markdown",
   "id": "cf7ff4a0",
   "metadata": {},
   "source": [
    "- everything in the world of software development is basically some means of making it easier to convey precise intent to the machine - this is where all the different kinds of software tools and layers of abstraction come from - trying to make it easier for the human to convey their intentions to the machine from a high-level down to the low-level (actual machine code itself) - all want to provide structure for the human in conveying intent which ultimately becomes a stream of ones and zeros [3]"
   ]
  },
  {
   "cell_type": "markdown",
   "id": "7e836112",
   "metadata": {},
   "source": [
    "- the approach at a high-level involves instructions input into the machine through some process (using a compiler and/or interpreter) by writing a solution to a problem in a high-level programming language [3]"
   ]
  },
  {
   "cell_type": "markdown",
   "id": "b9dcaf7e",
   "metadata": {},
   "source": [
    "- as the instructions get turned into machine code (executes on the machine) with all things being done correctly by the human and by the process of changing those human high-level instructions into the machine code then the problem can be solved (maybe the program has to solve some mathematical equation or store data into a database or act as a web-server) [3]"
   ]
  },
  {
   "cell_type": "markdown",
   "id": "53f0aab8",
   "metadata": {},
   "source": [
    "![High-Level (Instructions) to Low-Level](https://github.com/SeanOhAileasa/SeanOhAileasa/blob/master/rc/mpp/programmingParadigm/high-low.png?raw=true)\n",
    "\n",
    "***(Image) D. Carr, \"MPP - 2 - What Is a Programming Paradigm,\" GMIT, September 2019.***"
   ]
  },
  {
   "cell_type": "markdown",
   "id": "9faa7826",
   "metadata": {},
   "source": [
    "< [Table of Contents](#top) | [References](#references) >\n",
    "<a id=\"mppProgrammingParadigm\"></a>\n",
    "***\n",
    "###### Paradigm\n",
    "***"
   ]
  },
  {
   "cell_type": "markdown",
   "id": "be96c731",
   "metadata": {},
   "source": [
    "- a programming paradigm is a style or way of thinking about and approaching computer programming problems [3]"
   ]
  },
  {
   "cell_type": "markdown",
   "id": "66e40b9c",
   "metadata": {},
   "source": [
    "- the chosen paradigm will affect how the code is written and structured (thought about and organised) - it can heavily influence the way in which the human actually thinks about the problem [3]"
   ]
  },
  {
   "cell_type": "markdown",
   "id": "de01bb35",
   "metadata": {},
   "source": [
    "- some paradigms lend themselves very well to particular types of problems with each paradigm having its advocates - humans who are fiercely loyal to certain paradigms and detractors (each having particular advantages and disadvantages) [3]"
   ]
  },
  {
   "cell_type": "markdown",
   "id": "84086012",
   "metadata": {},
   "source": [
    "- a different programming language is not the same thing as a different paradigm - can have many languages which fit within the same paradigm such as ``C++`` and ``Java`` (both are general-purpose object-oriented) but are not the same language [3]"
   ]
  },
  {
   "cell_type": "markdown",
   "id": "33eb2b59",
   "metadata": {},
   "source": [
    "- some programming languages may be multi-paradigm such as ``Python`` - can be considered to be a procedural programming language with strong support for object-oriented programming [3]"
   ]
  },
  {
   "cell_type": "markdown",
   "id": "e5fe6c97",
   "metadata": {},
   "source": [
    "< [Table of Contents](#top) | [References](#references) >\n",
    "<a id=\"mppProgrammingAbstraction\"></a>\n",
    "***\n",
    "###### Abstraction\n",
    "***"
   ]
  },
  {
   "cell_type": "markdown",
   "id": "7ae7efc9",
   "metadata": {},
   "source": [
    "> \"if you ever code something that \"feels like a hack but it works,\" just remember that a CPU is literally a rock that we tricked into thinking\" [[daisyowl](https://twitter.com/daisyowl)]"
   ]
  },
  {
   "cell_type": "markdown",
   "id": "45dca2ec",
   "metadata": {},
   "source": [
    "- one of the most important concepts in software development - so much of computer science is about abstraction (concurrency control/memory management/virtual machine/operating systems/drivers/API) [3]"
   ]
  },
  {
   "cell_type": "markdown",
   "id": "01666af6",
   "metadata": {},
   "source": [
    "- process of removing physical or spatial (where) or temporal (time) details or attributes in the study of objects or systems in order to focus attention on details of higher importance - also very similar in nature to the process of generalisation [3]"
   ]
  },
  {
   "cell_type": "markdown",
   "id": "b2fcb82f",
   "metadata": {},
   "source": [
    "- the creation of abstract concept-objects which are created by mirroring common features or attributes from various non-abstract objects or systems of study (the result of the process of abstraction) [3]"
   ]
  },
  {
   "cell_type": "markdown",
   "id": "524fd380",
   "metadata": {},
   "source": [
    "- all programming languages and paradigms are attempts to abstract low-level details to allow the human to think about and solve problems at a higher level (or perhaps a different level) [3]"
   ]
  },
  {
   "cell_type": "markdown",
   "id": "9267e9f1",
   "metadata": {},
   "source": [
    "< [Table of Contents](#top) | [References](#references) >\n",
    "<a id=\"mppProgrammingParadigmLowHighLevel\"></a>\n",
    "***\n",
    "###### Low-Level&nbsp;&nbsp;|&nbsp;&nbsp;High-Level\n",
    "***"
   ]
  },
  {
   "cell_type": "markdown",
   "id": "5bf330c3",
   "metadata": {},
   "source": [
    "- machines understand operations at a very low level (moving bits from one place to another) [3]"
   ]
  },
  {
   "cell_type": "markdown",
   "id": "79b2a65c",
   "metadata": {},
   "source": [
    "- the one plus two multiplied by five operation at the low level needs to: i) carry out the evaluation; ii) return the result and; perform an assignment - this is actually quite complex (its a rock tricked into thinking) [3]"
   ]
  },
  {
   "cell_type": "markdown",
   "id": "ff3930c4",
   "metadata": {},
   "source": [
    "- values are converted into binary - the calculations are broken apart into assembly instructions (operations such as shifting a binary register left or adding the binary complement of the contents of one register to another [3]"
   ]
  },
  {
   "cell_type": "markdown",
   "id": "cc7e9eea",
   "metadata": {},
   "source": [
    "- assigning the resulting value to the variable ``a`` requires looking up the variable location in physical memory [3]\n",
    "\n",
    "```c\n",
    "a := (1 + 2) * 5\n",
    "```"
   ]
  },
  {
   "cell_type": "markdown",
   "id": "0b4807da",
   "metadata": {},
   "source": [
    "- the addition of two numbers using ``MIPS`` assembly is very low level (one step above binary) [3]\n",
    "\n",
    "```\n",
    "LUI R1, #1\n",
    "LUI R2, #2\n",
    "DADD R3, R1, R2\n",
    "```"
   ]
  },
  {
   "cell_type": "markdown",
   "id": "5b5e1ac4",
   "metadata": {},
   "source": [
    "- the addition of two numbers using ``C`` or ``Java`` is syntactically valid for both - ``C`` is higher level albeit most would consider a low-level language [3]\n",
    "\n",
    "```C\n",
    "x = 1 + 2\n",
    "```"
   ]
  },
  {
   "cell_type": "markdown",
   "id": "442ad231",
   "metadata": {},
   "source": [
    "- having no abstraction would require the human to specify all the register/binary-level steps every time [3]"
   ]
  },
  {
   "cell_type": "markdown",
   "id": "85a63a33",
   "metadata": {},
   "source": [
    "< [Table of Contents](#top) | [References](#references) >\n",
    "<a id=\"mppProgrammingState\"></a>\n",
    "***\n",
    "###### State\n",
    "***"
   ]
  },
  {
   "cell_type": "markdown",
   "id": "7babf02e",
   "metadata": {},
   "source": [
    "- data is stored in varialbes which map to storage locations in memory - the contents of these memory locations at any given point in the programs execution is called state [3]"
   ]
  },
  {
   "cell_type": "markdown",
   "id": "598f0fb9",
   "metadata": {},
   "source": [
    "- state effects the behaviour of the program - the more state the more unpredictable the program [3]"
   ]
  },
  {
   "cell_type": "markdown",
   "id": "ad572b53",
   "metadata": {},
   "source": [
    "> \"In programming mutable state is evil\" [[Unk](#)]"
   ]
  },
  {
   "cell_type": "markdown",
   "id": "ee394130",
   "metadata": {},
   "source": [
    "- some paradigms would seek to do away with state completely - functional programming resembles pure mathematical operations which do not store any information (not having side-effects only having input and process and output) [3]"
   ]
  },
  {
   "cell_type": "markdown",
   "id": "39a29bad",
   "metadata": {},
   "source": [
    "- other paradigms state is intrinsic - object-oriented programming without mutable state is not possible [3]"
   ]
  },
  {
   "cell_type": "markdown",
   "id": "5afbf797",
   "metadata": {},
   "source": [
    "***\n",
    "### END"
   ]
  },
  {
   "cell_type": "markdown",
   "id": "38861a64",
   "metadata": {},
   "source": [
    "< [Table of Contents](#top) | [References](#references) >\n",
    "<a id=\"mppImperative\"></a>\n",
    "***\n",
    "### Imperative\n",
    "***"
   ]
  },
  {
   "cell_type": "code",
   "execution_count": null,
   "id": "b0515fec",
   "metadata": {},
   "outputs": [],
   "source": [
    "# fFile(nParPath=\"./hide/02-ImperativeProcedural/MPP - 3 - ImperativeProcedural - 27-09-2019.mkv\")\n",
    "# fFile(nParPath=\"./hide/02-ImperativeProcedural/MPP - 3 - ImperativeProcedural - 27-09-2019.pdf\")"
   ]
  },
  {
   "cell_type": "markdown",
   "id": "58a8d0d4",
   "metadata": {},
   "source": [
    "- imperative programming involves an explicit sequence of commands that update state [4]"
   ]
  },
  {
   "cell_type": "markdown",
   "id": "46fd3554",
   "metadata": {},
   "source": [
    "- an imperative program says how to do something in the correct sequence it should be done therefore order of execution (order in which each statement is executed) is important (top to bottom) [4]"
   ]
  },
  {
   "cell_type": "markdown",
   "id": "353ea082",
   "metadata": {},
   "source": [
    "- a very general structure of an imperative program is: i) first do this; ii) next do that; iii) then possibility repeat something a number of times; iv) then finish [4]"
   ]
  },
  {
   "cell_type": "markdown",
   "id": "1ebd0e95",
   "metadata": {},
   "source": [
    "- it did provide a means of non-linear execution ``goto`` but it was messy - it was one of the first advances in programming maintainability first implemented in ALGOL in the 1950s [4]\n",
    "\n",
    "```c\n",
    "result = []\n",
    "i = 0\n",
    "start:\n",
    "  numPeople = length(people)\n",
    "  if i >= numPeople goto finished\n",
    "  p = people[i]\n",
    "  nameLength = length(p.name)\n",
    "  if nameLength <= 5 goto nextOne\n",
    "  upperName = toUpper(p.name)\n",
    "  addToList(result, upperName)\n",
    "nextOne:\n",
    "  i = i + 1\n",
    "  goto start\n",
    "finished:\n",
    "  return sort(result)\n",
    "```"
   ]
  },
  {
   "cell_type": "markdown",
   "id": "9ef07009",
   "metadata": {},
   "source": [
    "- often compile to binary executables that run more efficiently since all CPU instructions are themselves imperative statements [4]"
   ]
  },
  {
   "cell_type": "markdown",
   "id": "a368345e",
   "metadata": {},
   "source": [
    "- imperative approaches and low-level languages are often used where efficiency and code-footprint are important such as in embedded systems [4]"
   ]
  },
  {
   "cell_type": "markdown",
   "id": "e920bcce",
   "metadata": {},
   "source": [
    "- low-level refers to the closeness to the machine with regard to the level of abstraction whereby an approach like declarative programming would be more high-level [4] "
   ]
  },
  {
   "cell_type": "markdown",
   "id": "5d47009f",
   "metadata": {},
   "source": [
    "< [Table of Contents](#top) | [References](#references) >\n",
    "<a id=\"mppProcedural\"></a>\n",
    "***\n",
    "###### Procedural\n",
    "***"
   ]
  },
  {
   "cell_type": "markdown",
   "id": "c44412f8",
   "metadata": {},
   "source": [
    "- procedural programming is simply imperative programming with procedure calls (historically called sub-routines) [4]"
   ]
  },
  {
   "cell_type": "markdown",
   "id": "178f0e2a",
   "metadata": {},
   "source": [
    "- avoids repetition and provides structure - the early programmers realized they should group instructions together into re-usable elements called procedures (sub-routines) which can then be called when needed during program execution [4]"
   ]
  },
  {
   "cell_type": "markdown",
   "id": "705c019d",
   "metadata": {},
   "source": [
    "< [Table of Contents](#top) | [References](#references) >\n",
    "<a id=\"cProgramming\"></a>\n",
    "***\n",
    "###### ``C``\n",
    "***"
   ]
  },
  {
   "cell_type": "code",
   "execution_count": null,
   "id": "28e2f30a",
   "metadata": {},
   "outputs": [],
   "source": [
    "# fFile(nParPath=\"./hide/02-ImperativeProcedural/MPP - 3.1 - The C Programming Language - 27-09-2019.mkv\")\n",
    "# fFile(nParPath=\"./hide/02-ImperativeProcedural/MPP - 3.1 - The C Programming Language - 27-09-2019.pdf\")\n",
    "# fFile(nParPath=\"./hide/02-ImperativeProcedural/Simple Programming Exercises.zip\")\n",
    "# fFile(nParPath=\"./hide/02-ImperativeProcedural/MPP - 3.2 - Practical C - 27-09-2019.mkv\")"
   ]
  },
  {
   "cell_type": "markdown",
   "id": "ed94f67a",
   "metadata": {},
   "source": [
    "- ``C`` is a general-purpose and procedural programming language developed in 1972 at Bell Labs (research company Carnegie and Ritchie and currently owned by Alcatel Lucent) [5]"
   ]
  },
  {
   "cell_type": "markdown",
   "id": "0780d8ec",
   "metadata": {},
   "source": [
    "- it was developed not with any particular problem in mind but designed to be able to write general-purpose programs in a procedural style [4]"
   ]
  },
  {
   "cell_type": "markdown",
   "id": "e617fb33",
   "metadata": {},
   "source": [
    "- at the time it was written pretty much every programming language was procedural and has survived the test of time (still used around the world every day) [5]"
   ]
  },
  {
   "cell_type": "markdown",
   "id": "e7a8fafc",
   "metadata": {},
   "source": [
    "- supports: i) structured programming; ii) variable scope management and; iii) recursion [5]\n",
    "\n",
    "i. structured programming for the most part is being able to link different files together so that not all the code has to be in one file - this provides a structure which aids maintainability of the code [5]\n",
    "\n",
    "\n",
    "ii. variable scope is where a variable can be accessed from and managed [5]\n",
    "\n",
    "\n",
    "iii. recursion is a function which calls itself executing and solving problems - in some cases makes sense to use recursion rather than to use a loop construct (anything that can be done with a loop can be done with recursion) [5]"
   ]
  },
  {
   "cell_type": "markdown",
   "id": "6ef2a1d1",
   "metadata": {},
   "source": [
    "- static type system meaning the type has to be declared for each variable - a variable ``age`` has to be declared as an integer - this allows the language to provide safeguards against illegal values being put into variables [5]"
   ]
  },
  {
   "cell_type": "markdown",
   "id": "4d6a2405",
   "metadata": {},
   "source": [
    "- by its design the constructs in the ``C`` language map very efficiently to the typical machine instructions and because of this it creates very efficient code for running on the physical machine on the CPU [5]"
   ]
  },
  {
   "cell_type": "markdown",
   "id": "7a2193d1",
   "metadata": {},
   "source": [
    "- it has found long lasting applications in things that before would have been coded in assembly language which is quite cumbersome and very difficult to reason about and very low level [5]"
   ]
  },
  {
   "cell_type": "markdown",
   "id": "255fa858",
   "metadata": {},
   "source": [
    "- ``C`` was considered to be a great step up from assembly while still providing the kinds of efficiencies that are needed for certain application areas (embedded systems) [5]"
   ]
  },
  {
   "cell_type": "markdown",
   "id": "1e1ac60c",
   "metadata": {},
   "source": [
    "- in the context of history (1972) machines had a lot less processing power and less storage space - the efficiency of the code footprint and of the execution of a program was much more important than it is for the average programmer today [5]"
   ]
  },
  {
   "cell_type": "markdown",
   "id": "c18dd98d",
   "metadata": {},
   "source": [
    "- ``Python`` is run through an interpreter whereby the code does not get changed into assembly code or machine code directly - ``C`` is designed to be compiled using a straightforward compiler (``gcc`` - other compilers exist also) [5]"
   ]
  },
  {
   "cell_type": "markdown",
   "id": "1b291d5e",
   "metadata": {},
   "source": [
    "- compiler design is a whole research area  and is a very deep part of computer science - compilation generally lends itself to being able to produce more efficient code than running it through an interpreter - when there is a requirement to be very fast then its much better to use a compiled language rather than an interpreted language [5]"
   ]
  },
  {
   "cell_type": "markdown",
   "id": "71dc43eb",
   "metadata": {},
   "source": [
    "- it was designed to provide low level access to memory - the language constructs were supposed to map very efficiently to machine instructions (low-level access to memory) - the actual program itself can allocate and deallocate memory on the machine while it is running - when designed there was not much memory available so if a program no longer need a piece of information then it was to be removed by the program execution as quickly as possible - a skilled programmer was able to do manual memory management more efficiently than it being done by an automated process - programming language such as ``Java`` and ``Python`` have automatic memory management [5]"
   ]
  },
  {
   "cell_type": "markdown",
   "id": "30dd820d",
   "metadata": {},
   "source": [
    "- it was designed to work cross platform if written in a standards compliant way with portability in mind then can be compiled on different computer platforms with only a few changes to the source code [5]"
   ]
  },
  {
   "cell_type": "markdown",
   "id": "a5238bb3",
   "metadata": {},
   "source": [
    "- this was still a problem even though it was designed to work cross platform - there were still issues in terms of getting it to do this - one of the things that informed the design of ``Java`` (1995) was to provide really strong cross platform support hence the tagline ``write once run anywhere`` [5]"
   ]
  },
  {
   "cell_type": "markdown",
   "id": "b69548ed",
   "metadata": {},
   "source": [
    "- the reason why that would that resonated with people was because it turns out it was not so easy with other programming languages that have come before ``C`` - even though it was a step up from trying to write cross platform assembly code it never really took off - so the language is available on various platforms from embedded microcontrollers to supercomputers [5]"
   ]
  },
  {
   "cell_type": "markdown",
   "id": "d655018c",
   "metadata": {},
   "source": [
    "- embedded systems might find ``C`` on printers/microcontrollers that exist in modern dryers or modern washing machines or smart kettles or smart door locks - still found all over the world and used in a lot of internet of things applications [5]"
   ]
  },
  {
   "cell_type": "markdown",
   "id": "640ceafa",
   "metadata": {},
   "source": [
    "< [Table of Contents](#top) | [References](#references) >\n",
    "<a id=\"cProgrammingVsPython\"></a>\n",
    "***\n",
    "###### vs. ``Python``\n",
    "***"
   ]
  },
  {
   "cell_type": "markdown",
   "id": "56c969d7",
   "metadata": {},
   "source": [
    "- ``C`` is compiled and ``Python`` is interpreted which from a performance perspective means that code written in ``C`` is much faster than code written in ``Python`` - for a lot of application scenarios this does not really matter but in some cases such as embedded systems or real-time applications (air-traffic control systems or early warning hurricane systems) those little milliseconds add up to possibly being the difference between life and death - it can be very important how fast the code is [5]"
   ]
  },
  {
   "cell_type": "markdown",
   "id": "91e271f5",
   "metadata": {},
   "source": [
    "- ``C`` allows low-level memory access and ``Python`` does not (done automatically) [5]"
   ]
  },
  {
   "cell_type": "markdown",
   "id": "8bd0d61e",
   "metadata": {},
   "source": [
    "- ``Python`` supports object-oriented programming albeit can write procedural programs (mix and match) and ``C`` does not support object-orientated programming - ``C++`` was developed to basically extend ``C`` so that it would support object-orientated programming [5]"
   ]
  },
  {
   "cell_type": "markdown",
   "id": "c7a388f8",
   "metadata": {},
   "source": [
    "- ``Python`` has a lot more built-in functionality than ``C`` [5]"
   ]
  },
  {
   "cell_type": "markdown",
   "id": "198ab21b",
   "metadata": {},
   "source": [
    "- ``C`` variable types have to be declared whereas ``Python`` does not required this [5]"
   ]
  },
  {
   "cell_type": "markdown",
   "id": "c624eb80",
   "metadata": {},
   "source": [
    "- ``C`` programs are much more verbose than ``Python`` meaning that writing an equivalent program in ``C`` takes more lines of code - ``C`` is considered more difficult to learn than ``Python`` [5]"
   ]
  },
  {
   "cell_type": "markdown",
   "id": "7ceffd52",
   "metadata": {},
   "source": [
    "- ``C`` memory management is manual whereas ``Python`` has automated memory management through its interpreter - values stored in a name are no longer accessible by the code (gone out of scope) - the interpreter will delete the data from memory to free up the memory of the computer - this can have implications when you a ``Python`` script deals with millions of values but for the most part memory management is not too important [5]"
   ]
  },
  {
   "cell_type": "markdown",
   "id": "e42c0527",
   "metadata": {},
   "source": [
    "- there are many syntactical differences but some commonalities [5]"
   ]
  },
  {
   "cell_type": "markdown",
   "id": "d9ae311e",
   "metadata": {},
   "source": [
    "< [Table of Contents](#top) | [References](#references) >\n",
    "<a id=\"cProgrammingMenu\"></a>\n",
    "***\n",
    "###### Menu\n",
    "***"
   ]
  },
  {
   "cell_type": "code",
   "execution_count": null,
   "id": "900761e2",
   "metadata": {},
   "outputs": [],
   "source": [
    "# fFile(nParPath=\"./hide/04-ObjectOrientedProgramming/MPP - 6.6 - Week 6 - A Menu in C - 26-10-2020.mp4\")\n",
    "# fFile(nParPath=\"./hide/04-ObjectOrientedProgramming/menu_example.c\")"
   ]
  },
  {
   "cell_type": "markdown",
   "id": "2d5e5249",
   "metadata": {},
   "source": [
    "< [Table of Contents](#top) | [References](#references) >\n",
    "<a id=\"cProgrammingStructs\"></a>\n",
    "***\n",
    "###### Structs\n",
    "***"
   ]
  },
  {
   "cell_type": "code",
   "execution_count": null,
   "id": "d002313f",
   "metadata": {},
   "outputs": [],
   "source": [
    "# fFile(nParPath=\"./hide/02-ImperativeProcedural/MPP - 3.1 - The C Programming Language - 27-09-2019.mkv\")\n",
    "# fFile(nParPath=\"./hide/02-ImperativeProcedural/MPP - 3.1 - The C Programming Language - 27-09-2019.pdf\")"
   ]
  },
  {
   "cell_type": "code",
   "execution_count": null,
   "id": "022dc086",
   "metadata": {},
   "outputs": [],
   "source": [
    "# fFile(nParPath=\"./hide/04-ObjectOrientedProgramming/MPP - 6.7 - Week 6 - Structs Explained - 26-10-2020.mp4\")\n",
    "# fFile(nParPath=\"./hide/04-ObjectOrientedProgramming/structs_example.c\")"
   ]
  },
  {
   "cell_type": "markdown",
   "id": "53ad667b",
   "metadata": {},
   "source": [
    "< [Table of Contents](#top) | [References](#references) >\n",
    "<a id=\"cProgrammingFunctionPrototypes\"></a>\n",
    "***\n",
    "###### Function Prototypes\n",
    "***"
   ]
  },
  {
   "cell_type": "code",
   "execution_count": null,
   "id": "5a9d43ca",
   "metadata": {},
   "outputs": [],
   "source": [
    "# fFile(nParPath=\"./hide/02-ImperativeProcedural/01-MPP - C - Function Prototypes - 07-11-2019.mp4\")\n",
    "# fFile(nParPath=\"./hide/02-ImperativeProcedural/declaration.c\")"
   ]
  },
  {
   "cell_type": "markdown",
   "id": "21937a0c",
   "metadata": {},
   "source": [
    "***\n",
    "### END"
   ]
  },
  {
   "cell_type": "markdown",
   "id": "ea579eff",
   "metadata": {},
   "source": [
    "< [Table of Contents](#top) | [References](#references) >\n",
    "<a id=\"objectOrientedProgramming\"></a>\n",
    "***\n",
    "### Object-Oriented\n",
    "***"
   ]
  },
  {
   "cell_type": "code",
   "execution_count": null,
   "id": "5fc0db69",
   "metadata": {},
   "outputs": [],
   "source": [
    "# fFile(nParPath=\"./hide/04-ObjectOrientedProgramming/MPP - 6.1 - Object Oriented Programming - 17-10-2019.mkv\")\n",
    "# fFile(nParPath=\"./hide/04-ObjectOrientedProgramming/MPP - 6.1 - Object Oriented Programming - 17-10-2019.pdf\")"
   ]
  },
  {
   "cell_type": "markdown",
   "id": "e3eacae5",
   "metadata": {},
   "source": [
    "< [Table of Contents](#top) | [References](#references) >\n",
    "<a id=\"objectOrientedJava\"></a>\n",
    "***\n",
    "###### Java Programming\n",
    "***"
   ]
  },
  {
   "cell_type": "code",
   "execution_count": null,
   "id": "303aaff6",
   "metadata": {},
   "outputs": [],
   "source": [
    "# fFile(nParPath=\"./hide/04-ObjectOrientedProgramming/MPP - 6.2 - Java - 17-10-2019.mp4\")\n",
    "# fFile(nParPath=\"./hide/04-ObjectOrientedProgramming/MPP - 6.3 - Java Part 2 - 17-10-2019.mp4\")\n",
    "# fFile(nParPath=\"./hide/04-ObjectOrientedProgramming/MPP - 6.2 - Java.pdf\")"
   ]
  },
  {
   "cell_type": "markdown",
   "id": "ce54b283",
   "metadata": {},
   "source": [
    "[Java OOP Exercises](https://www.ntu.edu.sg/home/ehchua/programming/java/J3f_OOPExercises.html#zz-2)\n",
    "\n",
    "\n",
    "[How do I install Java(JVM) on a machine?](https://www.quora.com/How-do-I-install-Java-JVM-on-a-machine)"
   ]
  },
  {
   "cell_type": "markdown",
   "id": "4ef37b0d",
   "metadata": {},
   "source": [
    "< [Table of Contents](#top) | [References](#references) >\n",
    "<a id=\"objectOrientedPython\"></a>\n",
    "***\n",
    "###### Python Programming\n",
    "***"
   ]
  },
  {
   "cell_type": "code",
   "execution_count": null,
   "id": "17124620",
   "metadata": {},
   "outputs": [],
   "source": [
    "# fFile(nParPath=\"./hide/04-ObjectOrientedProgramming/05-MPP - Week 7 - Clock in Python (OOP) - 03-11-2020.mp4\")\n",
    "# fFile(nParPath=\"./hide/04-ObjectOrientedProgramming/06-MPP - Week 7 - Alarm Clock (Inheritance) in Python - 03-11-2020.mp4\")\n",
    "# fFile(nParPath=\"./hide/04-ObjectOrientedProgramming\")"
   ]
  },
  {
   "cell_type": "markdown",
   "id": "572effb5",
   "metadata": {},
   "source": [
    "< [Table of Contents](#top) | [References](#references) >\n",
    "<a id=\"objectOrientedProgrammingPrivateMethods\"></a>\n",
    "***\n",
    "###### Private Methods\n",
    "***"
   ]
  },
  {
   "cell_type": "code",
   "execution_count": null,
   "id": "a1ae92bf",
   "metadata": {},
   "outputs": [],
   "source": [
    "# fFile(nParPath=\"./hide/04-ObjectOrientedProgramming/02-MPP - Week 8 - Private Methods in Python - 05-11-2020.mp4\")"
   ]
  },
  {
   "cell_type": "markdown",
   "id": "e909be1c",
   "metadata": {},
   "source": [
    "< [Table of Contents](#top) | [References](#references) >\n",
    "<a id=\"objectOrientedProgrammingInheritance\"></a>\n",
    "***\n",
    "###### Inheritance\n",
    "***"
   ]
  },
  {
   "cell_type": "code",
   "execution_count": null,
   "id": "39a41a76",
   "metadata": {},
   "outputs": [],
   "source": [
    "# fFile(nParPath=\"./hide/04-ObjectOrientedProgramming/03-MPP - Week 8 - Person Class Inheritance in Python - 05-11-2020.mp4\")"
   ]
  },
  {
   "cell_type": "markdown",
   "id": "2af3cf65",
   "metadata": {},
   "source": [
    "< [Table of Contents](#top) | [References](#references) >\n",
    "<a id=\"objectOrientedProgrammingProceduralStyle\"></a>\n",
    "***\n",
    "###### Procedural Style (C)\n",
    "***"
   ]
  },
  {
   "cell_type": "code",
   "execution_count": null,
   "id": "cf0a0c05",
   "metadata": {},
   "outputs": [],
   "source": [
    "# fFile(nParPath=\"./hide/04-ObjectOrientedProgramming/07-MPP - Week 7 - Clock in C (Procedural Style) - 03-11-2020.mp4\")"
   ]
  },
  {
   "cell_type": "markdown",
   "id": "e5e516dd",
   "metadata": {},
   "source": [
    "< [Table of Contents](#top) | [References](#references) >\n",
    "<a id=\"objectOrientedProgrammingObjectorientedStyleJava\"></a>\n",
    "***\n",
    "###### Object-Oriented Style (Java)\n",
    "***"
   ]
  },
  {
   "cell_type": "code",
   "execution_count": null,
   "id": "e8c27340",
   "metadata": {},
   "outputs": [],
   "source": [
    "# fFile(nParPath=\"./hide/04-ObjectOrientedProgramming/01-MPP - Week 8 - Java Clock (OOP) - 05-11-2020.mp4\")"
   ]
  },
  {
   "cell_type": "markdown",
   "id": "a7ecbe6a",
   "metadata": {},
   "source": [
    "***\n",
    "### END"
   ]
  },
  {
   "cell_type": "markdown",
   "id": "4b426712",
   "metadata": {},
   "source": [
    "< [Table of Contents](#top) | [References](#references) >\n",
    "<a id=\"declarativeProgramming\"></a>\n",
    "***\n",
    "### Declarative\n",
    "***"
   ]
  },
  {
   "cell_type": "code",
   "execution_count": null,
   "id": "1b10a96b",
   "metadata": {},
   "outputs": [],
   "source": [
    "# fFile(nParPath=\"./hide/05-DeclarativeProgramming/MPP - Week 9 - Declarative Programming___09-11-2019.mp4\")\n",
    "# fFile(nParPath=\"./hide/05-DeclarativeProgramming/MPP - Week 9 - Declarative Programming___09-11-2019.pdf\")"
   ]
  },
  {
   "cell_type": "markdown",
   "id": "68d22edc",
   "metadata": {},
   "source": [
    "***\n",
    "### END"
   ]
  },
  {
   "cell_type": "markdown",
   "id": "295c1255",
   "metadata": {},
   "source": [
    "< [Table of Contents](#top) | [References](#references) >\n",
    "<a id=\"functionalProgramming\"></a>\n",
    "***\n",
    "### Functional\n",
    "***"
   ]
  },
  {
   "cell_type": "code",
   "execution_count": null,
   "id": "a8ae9eb7",
   "metadata": {},
   "outputs": [],
   "source": [
    "# fFile(nParPath=\"./hide/06-FunctionalProgramming/MPP - 8.1 - Functional Programming - 17-11-2019.mp4\")\n",
    "# fFile(nParPath=\"./hide/06-FunctionalProgramming/MPP - 8.2 - Functional Programming - 17-11-2019.mp4\")\n",
    "# fFile(nParPath=\"./hide/06-FunctionalProgramming/MPP - 8.0 - Functional Programming.pdf\")"
   ]
  },
  {
   "cell_type": "code",
   "execution_count": null,
   "id": "11567dcf",
   "metadata": {},
   "outputs": [],
   "source": [
    "# fFile(nParPath=\"./hide/06-FunctionalProgramming/recursion.py\")"
   ]
  },
  {
   "cell_type": "code",
   "execution_count": null,
   "id": "063a06df",
   "metadata": {},
   "outputs": [],
   "source": [
    "# fFile(nParPath=\"./hide/06-FunctionalProgramming/MPP - Week 12 - Functional Programming in Python - 08-12-2020.mp4\")"
   ]
  },
  {
   "cell_type": "code",
   "execution_count": null,
   "id": "c7e7b353",
   "metadata": {},
   "outputs": [],
   "source": [
    "# fFile(nParPath=\"./hide/06-FunctionalProgramming/map_example.py\")\n",
    "# fFile(nParPath=\"./hide/06-FunctionalProgramming/iterator_example py3.py\")\n",
    "# fFile(nParPath=\"./hide/06-FunctionalProgramming/reduce_example_py3.py\")\n",
    "# fFile(nParPath=\"./hide/06-FunctionalProgramming/counter py3.py\")"
   ]
  },
  {
   "cell_type": "markdown",
   "id": "ad222a5e",
   "metadata": {},
   "source": [
    "< [Table of Contents](#top) | [References](#references) >\n",
    "<a id=\"functions\"></a>\n",
    "***\n",
    "###### Functions\n",
    "***"
   ]
  },
  {
   "cell_type": "markdown",
   "id": "9b0f9a4c",
   "metadata": {},
   "source": [
    "&#x1F6A7;"
   ]
  },
  {
   "cell_type": "markdown",
   "id": "95439ad1",
   "metadata": {},
   "source": [
    "< [Table of Contents](#top) | [References](#references) >\n",
    "***"
   ]
  },
  {
   "cell_type": "markdown",
   "id": "e4053333",
   "metadata": {},
   "source": [
    "* [Abstract](https://nbviewer.jupyter.org/github/SeanOhAileasa/fda-data-functions/blob/main/fda-data-functions.ipynb#abstract) **[External Link]** <br/><br/>\n",
    "    * [Functions](https://nbviewer.jupyter.org/github/SeanOhAileasa/fda-data-functions/blob/main/fda-data-functions.ipynb#abstractFunctions) **[External Link]** <br/><br/>\n",
    "* [Introduction](https://nbviewer.jupyter.org/github/SeanOhAileasa/fda-data-functions/blob/main/fda-data-functions.ipynb#introduction) **[External Link]** <br/><br/>\n",
    "* [Solution](https://nbviewer.jupyter.org/github/SeanOhAileasa/fda-data-functions/blob/main/fda-data-functions.ipynb#solution) **[External Link]** <br/><br/>\n",
    "    * [Iterator](https://nbviewer.jupyter.org/github/SeanOhAileasa/fda-data-functions/blob/main/fda-data-functions.ipynb#iterator) **[External Link]** <br/><br/>\n",
    "    * [Map](https://nbviewer.jupyter.org/github/SeanOhAileasa/fda-data-functions/blob/main/fda-data-functions.ipynb#map) **[External Link]** <br/><br/>\n",
    "    * [Anonymous](https://nbviewer.jupyter.org/github/SeanOhAileasa/fda-data-functions/blob/main/fda-data-functions.ipynb#anonymous-function) **[External Link]** <br/><br/>\n",
    "    * [Reduce](https://nbviewer.jupyter.org/github/SeanOhAileasa/fda-data-functions/blob/main/fda-data-functions.ipynb#reduce) **[External Link]** <br/><br/>\n",
    "* [Conclusion](https://nbviewer.jupyter.org/github/SeanOhAileasa/fda-data-functions/blob/main/fda-data-functions.ipynb#conclusion) **[External Link]** <br/><br/>\n",
    "    * [Data and Functions](https://nbviewer.jupyter.org/github/SeanOhAileasa/fda-data-functions/blob/main/fda-data-functions.ipynb#data-and-functions) **[External Link]**"
   ]
  },
  {
   "cell_type": "markdown",
   "id": "56c1d556",
   "metadata": {},
   "source": [
    "***\n",
    "### END"
   ]
  },
  {
   "cell_type": "markdown",
   "id": "388298e6",
   "metadata": {},
   "source": [
    "***\n",
    "## END"
   ]
  },
  {
   "cell_type": "markdown",
   "id": "cfd2bb71",
   "metadata": {},
   "source": [
    "< [Table of Contents](#top) | [Abstract](#abstract) | [Introduction](#introduction) | [Conclusion](#conclusion) | [References](#references) >\n",
    "<a id=\"solution\"></a>\n",
    "***\n",
    "## Solution\n",
    "***"
   ]
  },
  {
   "cell_type": "code",
   "execution_count": null,
   "id": "26fb04fe",
   "metadata": {},
   "outputs": [],
   "source": [
    "# fFile(nParPath=\"./hide/04-ObjectOrientedProgramming/MPP - Week 5 - Shop Assignment Description - 18-10-2020.mkv\")\n",
    "# fFile(nParPath=\"./hide/04-ObjectOrientedProgramming/Assignment 1 - Shop.pdf\")"
   ]
  },
  {
   "cell_type": "code",
   "execution_count": null,
   "id": "1eb4812d",
   "metadata": {},
   "outputs": [],
   "source": [
    "# fFile(nParPath=\"./hide/04-ObjectOrientedProgramming/G00000001 - Dominic Carr - Assignment 1/\")"
   ]
  },
  {
   "cell_type": "markdown",
   "id": "868d0b87",
   "metadata": {},
   "source": [
    "< [Table of Contents](#top) | [References](#references) >\n",
    "<a id=\"makingaShopSimulationinC\"></a>\n",
    "***\n",
    "### Shop Simulation (C)\n",
    "***"
   ]
  },
  {
   "cell_type": "code",
   "execution_count": null,
   "id": "c6b94ad0",
   "metadata": {},
   "outputs": [],
   "source": [
    "# fFile(nParPath=\"./hide/03-MakingaShopSimulationinC/MPP - 4.1 - Shop in C Part 1 - 04-10-2019.mkv\")\n",
    "# fFile(nParPath=\"./hide/03-MakingaShopSimulationinC/MPP - 4.2 - Shop in C Part 2 - 04-10-2019.mkv\")\n",
    "# fFile(nParPath=\"./hide/03-MakingaShopSimulationinC/shop.c\")\n",
    "# fFile(nParPath=\"./hide/03-MakingaShopSimulationinC/stock.csv\")"
   ]
  },
  {
   "cell_type": "markdown",
   "id": "2e26d12e",
   "metadata": {},
   "source": [
    "< [Table of Contents](#top) | [References](#references) >\n",
    "<a id=\"shopSimulationPassingArgumentsasPointer\"></a>\n",
    "***\n",
    "###### Passing Arguments as Pointer\n",
    "***"
   ]
  },
  {
   "cell_type": "code",
   "execution_count": null,
   "id": "a63d6949",
   "metadata": {},
   "outputs": [],
   "source": [
    "# fFile(nParPath=\"./hide/03-MakingaShopSimulationinC/02-MPP - C - Passing Arguments as Pointer - 07-11-2019.mp4\")\n",
    "# fFile(nParPath=\"./hide/03-MakingaShopSimulationinC/passPointers.c\")"
   ]
  },
  {
   "cell_type": "markdown",
   "id": "3851af61",
   "metadata": {},
   "source": [
    "< [Table of Contents](#top) | [References](#references) >\n",
    "<a id=\"shopSimulationProcessingtheOrder\"></a>\n",
    "***\n",
    "###### Processing the Order\n",
    "***"
   ]
  },
  {
   "cell_type": "code",
   "execution_count": null,
   "id": "ec52cc2a",
   "metadata": {},
   "outputs": [],
   "source": [
    "# fFile(nParPath=\"./hide/03-MakingaShopSimulationinC/03-MPP - Shop C - Processing the Order - 03-11-2019.mp4\")\n",
    "# fFile(nParPath=\"./hide/03-MakingaShopSimulationinC/ProductStock.c\")"
   ]
  },
  {
   "cell_type": "markdown",
   "id": "d0792a38",
   "metadata": {},
   "source": [
    "< [Table of Contents](#top) | [References](#references) >\n",
    "<a id=\"shopSimulationProcessingCustomerDetails\"></a>\n",
    "***\n",
    "###### Processing Customer Details\n",
    "***"
   ]
  },
  {
   "cell_type": "code",
   "execution_count": null,
   "id": "6896342b",
   "metadata": {},
   "outputs": [],
   "source": [
    "# fFile(nParPath=\"./hide/03-MakingaShopSimulationinC/04-MPP - Shop C Processing Customer Details - 03-11-2019.mp4\")\n",
    "# fFile(nParPath=\"./hide/03-MakingaShopSimulationinC/customerInfo.c\")"
   ]
  },
  {
   "cell_type": "markdown",
   "id": "668843ea",
   "metadata": {},
   "source": [
    "***\n",
    "### END"
   ]
  },
  {
   "cell_type": "markdown",
   "id": "b60ae231",
   "metadata": {},
   "source": [
    "< [Table of Contents](#top) | [References](#references) >\n",
    "<a id=\"shopSimulationPython\"></a>\n",
    "***\n",
    "### Python Programming\n",
    "***"
   ]
  },
  {
   "cell_type": "code",
   "execution_count": null,
   "id": "137335b1",
   "metadata": {},
   "outputs": [],
   "source": [
    "# fFile(nParPath=\"./hide/04-ObjectOrientedProgramming/MPP - 6.4 - Week 6 - Shop in Python & Comparison - 24-10-2020.mp4\")\n",
    "# fFile(nParPath=\"./hide/04-ObjectOrientedProgramming/MPP - 6.5 - Week 6 - Reading CSV in Python & C - 24-10-2020.mp4\")"
   ]
  },
  {
   "cell_type": "code",
   "execution_count": null,
   "id": "022633b3",
   "metadata": {},
   "outputs": [],
   "source": [
    "# fFile(nParPath=\"./hide/04-ObjectOrientedProgramming/08-MPP - Week 7 - OOP Shop Python Part 1 - 03-11-2020.mp4\")\n",
    "# fFile(nParPath=\"./hide/04-ObjectOrientedProgramming/09-MPP - Week 7 - OOP Shop Python Part 2 - 03-11-2020.mp4\")\n",
    "# fFile(nParPath=\"./hide/04-ObjectOrientedProgramming/shop_oop.py\")"
   ]
  },
  {
   "cell_type": "markdown",
   "id": "9e97975e",
   "metadata": {},
   "source": [
    "***\n",
    "### END"
   ]
  },
  {
   "cell_type": "markdown",
   "id": "a04d2afc",
   "metadata": {},
   "source": [
    "< [Table of Contents](#top) | [References](#references) >\n",
    "<a id=\"shopSimulationJava\"></a>\n",
    "***\n",
    "### Java Programming\n",
    "***"
   ]
  },
  {
   "cell_type": "code",
   "execution_count": null,
   "id": "7db3d5a8",
   "metadata": {},
   "outputs": [],
   "source": [
    "# fFile(nParPath=\"./hide/04-ObjectOrientedProgramming/04-MPP - Week 8 - Shop in Java Part 1 - 05-11-2020.mp4\")\n",
    "# fFile(nParPath=\"./hide/04-ObjectOrientedProgramming/05-MPP - Week 8 - Shop in Java Part 2 (Subclassing) - 05-11-2020.mp4\")\n",
    "# fFile(nParPath=\"./hide/04-ObjectOrientedProgramming/JavaShopCode.zip\")"
   ]
  },
  {
   "cell_type": "markdown",
   "id": "6f121544",
   "metadata": {},
   "source": [
    "< [Table of Contents](#top) | [References](#references) >\n",
    "<a id=\"shopSimulationJavaUserInput\"></a>\n",
    "***\n",
    "###### User Input\n",
    "***"
   ]
  },
  {
   "cell_type": "code",
   "execution_count": null,
   "id": "040314b0",
   "metadata": {},
   "outputs": [],
   "source": [
    "# fFile(nParPath=\"./hide/04-ObjectOrientedProgramming/06-MPP - Week 8 - User Input in Java - 05-11-2020.mp4\")"
   ]
  },
  {
   "cell_type": "markdown",
   "id": "9583a3ee",
   "metadata": {},
   "source": [
    "***\n",
    "### END"
   ]
  },
  {
   "cell_type": "markdown",
   "id": "83e95f4a",
   "metadata": {},
   "source": [
    "<!-- - refer [Appendix](#appendix-df) to view the full dataset <a id=\"go-back-df\"></a> -->\n",
    "<!-- print(fGetModuleType(___x___),fDocumentation(___x___)) -->\n",
    "***\n",
    "## END"
   ]
  },
  {
   "cell_type": "markdown",
   "id": "d0aff9d2",
   "metadata": {},
   "source": [
    "< [Table of Contents](#top) | [Abstract](#abstract) | [Introduction](#introduction) | [Solution](#solution) | [References](#references) >\n",
    "<a id=\"conclusion\"></a>\n",
    "***\n",
    "## Conclusion\n",
    "***"
   ]
  },
  {
   "cell_type": "markdown",
   "id": "2223c2ba",
   "metadata": {},
   "source": [
    "&#x1F6A7;"
   ]
  },
  {
   "cell_type": "markdown",
   "id": "9530e9ad",
   "metadata": {},
   "source": [
    "***\n",
    "## END"
   ]
  },
  {
   "cell_type": "markdown",
   "id": "072953f8",
   "metadata": {},
   "source": [
    "< [Table of Contents](#top) | [Abstract](#abstract) | [Introduction](#introduction) | [Solution](#solution) | [Conclusion](#conclusion) | [References](#references) >\n",
    "<a id=\"references\"></a>\n",
    "***\n",
    "## References\n",
    "***\n",
    "\n",
    "&nbsp;&nbsp;&nbsp;&nbsp;&nbsp;&nbsp;&nbsp;&nbsp;&nbsp;[1] D. Carr, \"Moodle (Multi-Paradigm Programming),\" GMIT, (n.d.).\n",
    "\n",
    "&nbsp;&nbsp;&nbsp;&nbsp;&nbsp;&nbsp;&nbsp;&nbsp;&nbsp;[2] D. Carr, \"MPP - 1 - Module Introduction,\" GMIT, September 2019.\n",
    "\n",
    "&nbsp;&nbsp;&nbsp;&nbsp;&nbsp;&nbsp;&nbsp;&nbsp;&nbsp;[3] D. Carr, \"MPP - 2 - What Is a Programming Paradigm,\" GMIT, September 2019.\n",
    "\n",
    "&nbsp;&nbsp;&nbsp;&nbsp;&nbsp;&nbsp;&nbsp;&nbsp;&nbsp;[4] D. Carr, \"MPP - 3 - ImperativeProcedural,\" GMIT, September 2019.\n",
    "\n",
    "&nbsp;&nbsp;&nbsp;&nbsp;&nbsp;&nbsp;&nbsp;&nbsp;&nbsp;[5] D. Carr, \"MPP - 3.1 - The C Programming Language,\" GMIT, September 2019."
   ]
  },
  {
   "cell_type": "markdown",
   "id": "be25330a",
   "metadata": {},
   "source": [
    "***\n",
    "## END"
   ]
  },
  {
   "cell_type": "markdown",
   "id": "d23f1e41",
   "metadata": {},
   "source": [
    "< [Table of Contents](#top) | [Abstract](#abstract) | [Introduction](#introduction) | [Solution](#solution) | [Conclusion](#conclusion) | [References](#references) >\n",
    "<a id=\"appendix\"></a>\n",
    "***\n",
    "## Appendix\n",
    "***"
   ]
  },
  {
   "cell_type": "markdown",
   "id": "251e9e1b",
   "metadata": {},
   "source": [
    "< [Table of Contents](#top) | [References](#references) >"
   ]
  },
  {
   "cell_type": "markdown",
   "id": "28fe5f51",
   "metadata": {},
   "source": [
    "&#x1F6A7;"
   ]
  },
  {
   "cell_type": "markdown",
   "id": "6c483528",
   "metadata": {},
   "source": [
    "<a id=\"appendix-some-reference\"></a>\n",
    "< [Go Back](#top) >"
   ]
  },
  {
   "cell_type": "markdown",
   "id": "cfd0fa93",
   "metadata": {},
   "source": [
    "```python\n",
    "from matplotlib.pyplot import box,yticks,xlabel,bar,text,title,show\n",
    "\n",
    "from sys import path; path.insert(1,\"../src\")\n",
    "from fubar import fDarkReader\n",
    "\n",
    "%%script bash\n",
    "grep -1 \"def fDarkReader\" ../src/fubar.py -A 9\n",
    "\n",
    "fDarkReader()\n",
    "```"
   ]
  },
  {
   "cell_type": "markdown",
   "id": "aa3f406d",
   "metadata": {},
   "source": [
    "⚡"
   ]
  },
  {
   "cell_type": "markdown",
   "id": "696c01b6",
   "metadata": {},
   "source": [
    "```python\n",
    "from sys import path; path.insert(1,\"../src\")\n",
    "from fubar import fFile\n",
    "\n",
    "%%script bash\n",
    "grep -1 \"def fFile\" ../src/fubar.py -A 9\n",
    "\n",
    "fFile(nParPath=\"\")\n",
    "\n",
    "exit()\n",
    "```"
   ]
  },
  {
   "cell_type": "markdown",
   "id": "cce95208",
   "metadata": {},
   "source": [
    "###### Github\n",
    "***"
   ]
  },
  {
   "cell_type": "markdown",
   "id": "c20bcab1",
   "metadata": {},
   "source": [
    "```\n",
    "git push -f origin HEAD^:master && git reset HEAD~\n",
    "```"
   ]
  },
  {
   "cell_type": "markdown",
   "id": "f2abae09",
   "metadata": {},
   "source": [
    "###### Functions\n",
    "***"
   ]
  },
  {
   "cell_type": "markdown",
   "id": "edaf60f2",
   "metadata": {},
   "source": [
    "```python\n",
    "# %%writefile -a ../src/fubar.py\n",
    "# repository ./fubar-python\n",
    "def f():\n",
    "    \"\"\"\n",
    "\n",
    "Input:\n",
    "Process:\n",
    "Output:\n",
    "\"\"\"\n",
    "    pass\n",
    "# -- END ---\n",
    "```"
   ]
  },
  {
   "cell_type": "markdown",
   "id": "0e8976bb",
   "metadata": {},
   "source": [
    "###### Functions - ../src/fubar.py\n",
    "***"
   ]
  },
  {
   "cell_type": "markdown",
   "id": "22226fc4",
   "metadata": {},
   "source": [
    "```\n",
    "%%script bash\n",
    "cat ../src/fubar.py\n",
    "```"
   ]
  },
  {
   "cell_type": "code",
   "execution_count": null,
   "id": "15c6c6c8",
   "metadata": {},
   "outputs": [],
   "source": [
    "%%script bash\n",
    "grep -1 \"def fFullScreen\" ../src/fubar.py -A 9"
   ]
  },
  {
   "cell_type": "markdown",
   "id": "7fdb8afd",
   "metadata": {},
   "source": [
    "```\n",
    "git commit -m \"update repository ./fubar-python - Everything in python is an object.\"\n",
    "```"
   ]
  },
  {
   "cell_type": "markdown",
   "id": "8e1eca07",
   "metadata": {},
   "source": [
    "###### Images\n",
    "***"
   ]
  },
  {
   "cell_type": "markdown",
   "id": "8c434378",
   "metadata": {},
   "source": [
    "![gumball](https://github.com/SeanOhAileasa/SeanOhAileasa/blob/master/rc/cta/analysing/gumball.png?raw=true)\n",
    "\n",
    "***(Image) P. Mannion, \"03 Analysing Algorithms Part 1,\" GMIT, October 2017.***"
   ]
  },
  {
   "cell_type": "markdown",
   "id": "fc8f81f2",
   "metadata": {},
   "source": [
    "###### Tables\n",
    "***"
   ]
  },
  {
   "cell_type": "markdown",
   "id": "b5f4d9d6",
   "metadata": {},
   "source": [
    "|aaa|bbbbbb|ccccccccc|\n",
    "|:------------------------- | :------------------------- | :------------------------- |\n",
    "|aaa|bbbbbb|ccccccccc|"
   ]
  },
  {
   "cell_type": "markdown",
   "id": "3024df08",
   "metadata": {},
   "source": [
    "###### References\n",
    "***"
   ]
  },
  {
   "cell_type": "markdown",
   "id": "0d8e60b8",
   "metadata": {},
   "source": [
    "&nbsp;&nbsp;&nbsp;&nbsp;&nbsp;&nbsp;&nbsp;&nbsp;&nbsp;[0] x. xxx, \"xxx,\" xxx, JanXXXry 2XX1.\n",
    "\n",
    "&nbsp;&nbsp;&nbsp;&nbsp;&nbsp;&nbsp;&nbsp;&nbsp;&nbsp;[0] Anaconda (built-in), \"range,\" Docstring, Conda:4.9.2 (Python:3.8.5).\n",
    "\n",
    "&nbsp;&nbsp;&nbsp;&nbsp;&nbsp;&nbsp;&nbsp;&nbsp;&nbsp;[0] Anaconda (plot), \"matplotlib.pyplot,\" Docstring, Conda:4.9.2 (Python:3.8.5).\n",
    "\n",
    "&nbsp;&nbsp;&nbsp;&nbsp;&nbsp;&nbsp;&nbsp;&nbsp;&nbsp;[0] D. Carr, \"CTA - Lecture 1 Part 1,\" GMIT, January 2021.\n",
    "\n",
    "&nbsp;&nbsp;&nbsp;&nbsp;&nbsp;&nbsp;&nbsp;&nbsp;&nbsp;[0] A. Beatty, \"xxx,\" GMIT, January 202x.\n",
    "\n",
    "&nbsp;&nbsp;&nbsp;&nbsp;&nbsp;&nbsp;&nbsp;&nbsp;&nbsp;[0] M. R. Fellows, I. Parberry, \"SIGACT Trying to Get Children Excited About CS,\" [ianparberry](https://web.archive.org/web/20210220071000/http://ianparberry.com/research/cseducation), January 1993.\n",
    "\n",
    "###### fubar-000\n",
    "\n",
    "&nbsp;&nbsp;&nbsp;&nbsp;&nbsp;&nbsp;&nbsp;&nbsp;&nbsp;[0] A. Beatty, \"prog 0.0 introduction (Module: Programming for Cybersecurity),\" GMIT (Programme: Certificate in Cybersecurity Operations), January 2021."
   ]
  },
  {
   "cell_type": "markdown",
   "id": "e7c09db3",
   "metadata": {},
   "source": [
    "***\n",
    "## END"
   ]
  },
  {
   "cell_type": "markdown",
   "id": "0453efb4",
   "metadata": {},
   "source": [
    "# END JUPYTER NOTEBOOK"
   ]
  }
 ],
 "metadata": {
  "kernelspec": {
   "display_name": "Python 3",
   "language": "python",
   "name": "python3"
  },
  "language_info": {
   "codemirror_mode": {
    "name": "ipython",
    "version": 3
   },
   "file_extension": ".py",
   "mimetype": "text/x-python",
   "name": "python",
   "nbconvert_exporter": "python",
   "pygments_lexer": "ipython3",
   "version": "3.8.8"
  }
 },
 "nbformat": 4,
 "nbformat_minor": 5
}
