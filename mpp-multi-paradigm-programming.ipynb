{
 "cells": [
  {
   "cell_type": "code",
   "execution_count": null,
   "id": "c318f0ed",
   "metadata": {},
   "outputs": [
    {
     "data": {
      "text/html": [
       "<script>Jupyter.notebook.kernel.restart()</script>"
      ]
     },
     "metadata": {},
     "output_type": "display_data"
    }
   ],
   "source": [
    "from IPython.core.display import display_html\n",
    "display_html(\"<script>Jupyter.notebook.kernel.restart()</script>\",raw=True)"
   ]
  },
  {
   "cell_type": "code",
   "execution_count": 1,
   "id": "b837249e",
   "metadata": {},
   "outputs": [
    {
     "data": {
      "text/html": [
       "<style>.container { width:100% !important; }</style>"
      ],
      "text/plain": [
       "<IPython.core.display.HTML object>"
      ]
     },
     "metadata": {},
     "output_type": "display_data"
    },
    {
     "data": {
      "text/html": [
       "<style>.container { width:100% !important; }</style>"
      ],
      "text/plain": [
       "<IPython.core.display.HTML object>"
      ]
     },
     "metadata": {},
     "output_type": "display_data"
    }
   ],
   "source": [
    "from sys import path; path.insert(1,\"../src\");\n",
    "import fubar; from importlib import reload; reload(fubar);"
   ]
  },
  {
   "cell_type": "markdown",
   "id": "fd8a0ce7",
   "metadata": {},
   "source": [
    "***\n",
    "< [GMIT Data Analytics](https://web.archive.org/web/20201029063153/https://www.gmit.ie/computer-science-and-applied-physics/higher-diploma-science-computing-data-analytics-ict) | [Home](https://github.com/SeanOhAileasa) | [README](https://github.com/SeanOhAileasa/mpp-multi-paradigm-programming/blob/main/README.md) >\n",
    "\n",
    "[![GMIT](https://github.com/SeanOhAileasa/SeanOhAileasa/blob/master/rc/gmit.png?raw=true)](https://web.archive.org/web/20201029063153/https://www.gmit.ie/computer-science-and-applied-physics/higher-diploma-science-computing-data-analytics-ict)\n",
    "\n",
    "## Multi-Paradigm Programming - Course Material 2021\n",
    "### Topic: [Multi-Paradigm Programming](https://nbviewer.jupyter.org/github/SeanOhAileasa/mpp-multi-paradigm-programming/blob/main/mpp-multi-paradigm-programming.ipynb) using ``Python`` with a focus on ``C`` (Procedural) and ``Java`` (Object-oriented)\n",
    "***"
   ]
  },
  {
   "cell_type": "markdown",
   "id": "0820489e",
   "metadata": {},
   "source": [
    "Course material for the ``Multi-Paradigm Programming`` module (5 Credits) of the ``Higher Diploma in Science in Computing (Data Analytics) (H.Dip)`` programme (75 Credits) at **Galway-Mayo Institute of Technology (GMIT)**."
   ]
  },
  {
   "cell_type": "code",
   "execution_count": 2,
   "id": "568acc13",
   "metadata": {},
   "outputs": [],
   "source": [
    "from sys import path; path.insert(1,\"../src\")\n",
    "from fubar import fFile"
   ]
  },
  {
   "cell_type": "code",
   "execution_count": 3,
   "id": "89ee0f58",
   "metadata": {},
   "outputs": [
    {
     "name": "stdout",
     "output_type": "stream",
     "text": [
      "# repository ./SeanOhAileasa\r\n",
      "def fFile(nParPath):\r\n",
      "    \"\"\"Start a file with its associated application.\r\n",
      "\r\n",
      "Input: nParPath\r\n",
      "Process: (os.path.realpath; os.startfile)\r\n",
      "Output: file opened with associated application\r\n",
      "\"\"\"\r\n",
      "    from os import path,startfile\r\n",
      "    return startfile(path.realpath(nParPath))\r\n",
      "# --- END ---\r\n"
     ]
    }
   ],
   "source": [
    "%%script bash\n",
    "grep -1 \"def fFile\" ../src/fubar.py -A 9"
   ]
  },
  {
   "cell_type": "markdown",
   "id": "a7996969",
   "metadata": {},
   "source": [
    "<a id=\"top\"></a>\n",
    "***\n",
    "## Table of Contents\n",
    "***"
   ]
  },
  {
   "cell_type": "markdown",
   "id": "e321416a",
   "metadata": {},
   "source": [
    "## [Acronym](#top)\n",
    "<hr width=50%;>\n",
    "\n",
    "- &#x1F4CC; Work-in-Progress (WIP)\n",
    "- ``obj``: object"
   ]
  },
  {
   "cell_type": "markdown",
   "id": "31602624",
   "metadata": {},
   "source": [
    "<hr width=50%;>"
   ]
  },
  {
   "cell_type": "markdown",
   "id": "d36b0eee",
   "metadata": {},
   "source": [
    "## [Learning Outcomes](#abstractLearningOutcomes)\n",
    "<hr width=50%;>"
   ]
  },
  {
   "cell_type": "markdown",
   "id": "9fb94f2d",
   "metadata": {},
   "source": [
    "* [Roadmap](#abstractRoadmap)"
   ]
  },
  {
   "cell_type": "markdown",
   "id": "46cde122",
   "metadata": {},
   "source": [
    "<hr width=50%;>"
   ]
  },
  {
   "cell_type": "markdown",
   "id": "617bbef0",
   "metadata": {},
   "source": [
    "## [Module Topics](#introduction)\n",
    "<hr width=50%;>"
   ]
  },
  {
   "cell_type": "markdown",
   "id": "0ae23d3e",
   "metadata": {},
   "source": [
    "i. compare different programming paradigms [1]"
   ]
  },
  {
   "cell_type": "markdown",
   "id": "4c073f0d",
   "metadata": {},
   "source": [
    "ii. select an appropriate programming paradigm for a given programming problem [1]"
   ]
  },
  {
   "cell_type": "markdown",
   "id": "36c70726",
   "metadata": {},
   "source": [
    "iii. write programs using a variety of different programming paradigms [1] - perhaps the different paradigms may be manifest in different programming languages (some languages best exemplify particular paradigms) [2]"
   ]
  },
  {
   "cell_type": "markdown",
   "id": "3b90d0b5",
   "metadata": {},
   "source": [
    "iv. explain how various programming paradigms have evolved over time [1] (chosen as good abstractions in structuring programs) - knowing the relative strengths of each paradigm [2]"
   ]
  },
  {
   "cell_type": "markdown",
   "id": "90a5a844",
   "metadata": {},
   "source": [
    "<hr width=50%;>"
   ]
  },
  {
   "cell_type": "markdown",
   "id": "e84f0d0a",
   "metadata": {},
   "source": [
    "### [Programming](#mppProgramming)\n",
    "<hr width=50%;>\n",
    "\n",
    "* [Paradigm](#mppProgrammingParadigm) <br/><br/>\n",
    "* [Abstraction](#mppProgrammingAbstraction) <br/><br/>\n",
    "    * [Low-Level](#mppProgrammingParadigmLowHighLevel)&nbsp;&nbsp;|&nbsp;&nbsp;[High-Level](#mppProgrammingParadigmLowHighLevel) <br/><br/>\n",
    "* [State](#mppProgrammingState)"
   ]
  },
  {
   "cell_type": "markdown",
   "id": "dd8f98e6",
   "metadata": {},
   "source": [
    "<hr width=50%;>"
   ]
  },
  {
   "cell_type": "markdown",
   "id": "07687654",
   "metadata": {},
   "source": [
    "### [Imperative](#mppImperative) \n",
    "<hr width=50%;>\n",
    "\n",
    "* [Procedural](#mppProcedural) <br/><br/>\n",
    "    * [``C``](#cProgramming)&nbsp;&nbsp;|&nbsp;&nbsp;[Vs ``Python``](#cProgrammingVsPython) <br/><br/>\n",
    "        * [Menu](#cProgrammingMenu) <br/><br/>\n",
    "        * [Structs](#cProgrammingStructs) <br/><br/>\n",
    "        * [Function Prototypes](#cProgrammingFunctionPrototypes) <br/><br/>\n",
    "    * [``Python``](#mppImperativePython) <br/><br/>\n",
    "        * [Imperative](#mppImperativePythonImperative) <br/><br/>\n",
    "        * [Procedural](#mppImperativePythonProcedural)"
   ]
  },
  {
   "cell_type": "markdown",
   "id": "6fdf4de4",
   "metadata": {},
   "source": [
    "<hr width=50%;>"
   ]
  },
  {
   "cell_type": "markdown",
   "id": "560e2667",
   "metadata": {},
   "source": [
    "### [Object-Oriented](#objectOrientedProgramming) \n",
    "<hr width=50%;>\n",
    "\n",
    "* [Object](#objectOrientedProgrammingObject) <br/><br/>\n",
    "    * [State](#objectOrientedProgrammingObjectState)&nbsp;&nbsp;|&nbsp;&nbsp;[Functionality](#objectOrientedProgrammingObjectFunctionality) <br/><br/>\n",
    "* [Class](#objectOrientedProgrammingClass)&nbsp;&nbsp;|&nbsp;&nbsp;[Instantiation](#objectOrientedProgrammingClassInstantiation) <br/><br/> \n",
    "    * [Attribute](#objectOrientedProgrammingClassAttribute) <br/><br/>\n",
    "        * [Method](#objectOrientedProgrammingClassMethod) <br/><br/>\n",
    "    * [Inheritance](#objectOrientedProgrammingInheritance) <br/><br/>\n",
    "* [Java Programming](#objectOrientedJava)&nbsp;&nbsp;|&nbsp;&nbsp;[Hello](#objectOrientedJavaHello)&nbsp;&nbsp;|&nbsp;&nbsp;[Run](#objectOrientedJavaRun) <br/><br/> \n",
    "    * [Object](#objectOrientedJavaObject)&nbsp;&nbsp;|&nbsp;&nbsp;[``struct``](#objectOrientedJavaObjectvstruct) <br/><br/>\n",
    "    * [Message Passing](#objectOrientedJavaMessagePassing) <br/><br/>\n",
    "    * [Pure](#objectOrientedProgrammingPureImpure)&nbsp;&nbsp;|&nbsp;&nbsp;[Impure](#objectOrientedProgrammingPureImpure) <br/><br/>\n",
    "        * [Object Wrapper](#objectOrientedProgrammingPureImpureObjectWrapper) <br/><br/>\n",
    "    * [Inheritence](#objectOrientedProgrammingInheritence) <br/><br/>\n",
    "    * [Polymorphism](#objectOrientedProgrammingPolymorphism) <br/><br/>\n",
    "    * [Interface](#objectOrientedProgrammingInterface) <br/><br/>  "
   ]
  },
  {
   "cell_type": "markdown",
   "id": "370e8550",
   "metadata": {},
   "source": [
    "<hr width=50%;>"
   ]
  },
  {
   "cell_type": "markdown",
   "id": "bf138767",
   "metadata": {},
   "source": [
    "### ``C`` | ``Python`` | ``Java`` \n",
    "<hr width=50%;>\n",
    "\n",
    "* [``C``](#clockCPythonJavaC) <br/><br/>\n",
    "* [``Python``](#clockCPythonJavaPython) <br/><br/>\n",
    "* [``Java``](#clockCPythonJavaJava)"
   ]
  },
  {
   "cell_type": "markdown",
   "id": "98889277",
   "metadata": {},
   "source": [
    "<hr width=50%;>"
   ]
  },
  {
   "cell_type": "markdown",
   "id": "a872e3b2",
   "metadata": {},
   "source": [
    "### [Declarative](#declarativeProgramming)\n",
    "<hr width=50%;>\n",
    "\n",
    "* [``SQL``](#declarativeProgrammingSQL) <br/><br/>\n",
    "    * [Syntax](#declarativeProgrammingSQLSyntax) <br/><br/>\n",
    "    * [Elements](#declarativeProgrammingSQLElements) <br/><br/>\n",
    "    * [``C``](#declarativeProgrammingSQLElementsC) <br/><br/>\n",
    "    * [Level of Abstraction](#declarativeProgrammingSQLElementsLevelofAbstraction) <br/><br/>\n",
    "* [``make``](#declarativeProgrammingmake)"
   ]
  },
  {
   "cell_type": "markdown",
   "id": "cf355fc3",
   "metadata": {},
   "source": [
    "<hr width=50%;>"
   ]
  },
  {
   "cell_type": "markdown",
   "id": "1f8ba50b",
   "metadata": {},
   "source": [
    "### [Functional](#functionalProgramming) \n",
    "<hr width=50%;>\n",
    "\n",
    "* [Functions](#functions) <br/><br/>\n",
    "    * [Generic](https://nbviewer.jupyter.org/github/SeanOhAileasa/fda-data-functions/blob/main/fda-data-functions.ipynb) **[External Link]** <br/><br/>\n",
    "        * [Iterator](https://nbviewer.jupyter.org/github/SeanOhAileasa/fda-data-functions/blob/main/fda-data-functions.ipynb#iterator) **[External Link]** <br/><br/>\n",
    "            * [Map](https://nbviewer.jupyter.org/github/SeanOhAileasa/fda-data-functions/blob/main/fda-data-functions.ipynb#map) **[External Link]** <br/><br/>\n",
    "                * [Anonymous](https://nbviewer.jupyter.org/github/SeanOhAileasa/fda-data-functions/blob/main/fda-data-functions.ipynb#anonymous-function) **[External Link]** <br/><br/>\n",
    "            * [Reduce](https://nbviewer.jupyter.org/github/SeanOhAileasa/fda-data-functions/blob/main/fda-data-functions.ipynb#reduce) **[External Link]** <br/><br/>\n",
    "    * [Data and Functions](https://nbviewer.jupyter.org/github/SeanOhAileasa/fda-data-functions/blob/main/fda-data-functions.ipynb#data-and-functions) **[External Link]**"
   ]
  },
  {
   "cell_type": "markdown",
   "id": "bbc9969d",
   "metadata": {},
   "source": [
    "<hr width=50%;>"
   ]
  },
  {
   "cell_type": "markdown",
   "id": "837eef80",
   "metadata": {},
   "source": [
    "### [Winter 21/22 Assessment](#solution) \n",
    "<hr width=50%;>"
   ]
  },
  {
   "cell_type": "markdown",
   "id": "e8cfe080",
   "metadata": {},
   "source": [
    "The assignment requires building upon the shop program developed during the semester. Tasked to add some additional functionality:"
   ]
  },
  {
   "cell_type": "markdown",
   "id": "b8760717",
   "metadata": {},
   "source": [
    "***\n",
    "###### Functionality\n",
    "***"
   ]
  },
  {
   "cell_type": "markdown",
   "id": "ec65c811",
   "metadata": {},
   "source": [
    "### a.) The shop CSV should hold the initial cash value for the shop."
   ]
  },
  {
   "cell_type": "markdown",
   "id": "11b54670",
   "metadata": {},
   "source": [
    "### b.) Read in customer orders from a CSV file."
   ]
  },
  {
   "cell_type": "markdown",
   "id": "3ab9b6fa",
   "metadata": {},
   "source": [
    "i. That file should include all the products they wish to buy and in what quantity."
   ]
  },
  {
   "cell_type": "markdown",
   "id": "29b5a539",
   "metadata": {},
   "source": [
    "ii. It should also include their name and their budget."
   ]
  },
  {
   "cell_type": "markdown",
   "id": "f521aa59",
   "metadata": {},
   "source": [
    "### c.) The shop must be able to process the orders of the customer."
   ]
  },
  {
   "cell_type": "markdown",
   "id": "cfaa067d",
   "metadata": {},
   "source": [
    "i. Update the cash in the shop based on money received."
   ]
  },
  {
   "cell_type": "markdown",
   "id": "985479f6",
   "metadata": {},
   "source": [
    "- It is important that the state of the shop be consistent."
   ]
  },
  {
   "cell_type": "markdown",
   "id": "7c469f5f",
   "metadata": {},
   "source": [
    "- Should create customer test files (CSVs) which cannot be completed by the shop e.g. customer wants 400 loaves of bread but the shop only has 20, or the customer wants 2 cans of coke but can only afford 1."
   ]
  },
  {
   "cell_type": "markdown",
   "id": "6bb0941d",
   "metadata": {},
   "source": [
    "- If these files don’t exist penalties will be applied."
   ]
  },
  {
   "cell_type": "markdown",
   "id": "43e2521e",
   "metadata": {},
   "source": [
    "ii. Know whether or not the shop can fill an order."
   ]
  },
  {
   "cell_type": "markdown",
   "id": "fb043a61",
   "metadata": {},
   "source": [
    "- Thrown an appropriate error."
   ]
  },
  {
   "cell_type": "markdown",
   "id": "bd0e40b6",
   "metadata": {},
   "source": [
    "### d.) Operate in a live mode, where the user can enter a product by name, specify a quantity, and pay for it."
   ]
  },
  {
   "cell_type": "markdown",
   "id": "ccfa5f3c",
   "metadata": {},
   "source": [
    "- The user should be able to buy many products in this way."
   ]
  },
  {
   "cell_type": "markdown",
   "id": "a61fcdd6",
   "metadata": {},
   "source": [
    "<hr width=50%;>"
   ]
  },
  {
   "cell_type": "markdown",
   "id": "244fdfdb",
   "metadata": {},
   "source": [
    "### C\n",
    "<hr width=50%;>\n",
    "\n",
    "* [Shop Simulation (C)](#makingaShopSimulationinC) <br/><br/>\n",
    "    * [Passing Arguments as Pointer](#shopSimulationPassingArgumentsasPointer) <br/><br/>\n",
    "    * [Processing the Order](#shopSimulationProcessingtheOrder) <br/><br/>\n",
    "    * [Processing Customer Details](#shopSimulationProcessingCustomerDetails)"
   ]
  },
  {
   "cell_type": "markdown",
   "id": "d53bbec2",
   "metadata": {},
   "source": [
    "### Python\n",
    "<hr width=50%;>\n",
    "\n",
    "* [Shop Simulation (Python Procedural)](#makingaShopSimulationinProcedural) <br/><br/>\n",
    "    * [``struct``](#makingaShopSimulationinProceduralstructdataclass)&nbsp;&nbsp;|&nbsp;&nbsp;[``dataclass``](#makingaShopSimulationinProceduralstructdataclass) <br/><br/>\n",
    "    * [Type Safety](#makingaShopSimulationinProceduraltypesafety) <br/><br/>\n",
    "    * [Indexing](#makingaShopSimulationinProceduralIndexing) <br/><br/>\n",
    "    * [``createAndStockShop``](#makingaShopSimulationinProceduralcreateAndStockShop)&nbsp;&nbsp;|&nbsp;&nbsp;[``create_and_stock_shop``](#makingaShopSimulationinProceduralcreateAndStockShop) <br/><br/>\n",
    "\n",
    "* [``printCustomer``](#makingaShopSimulationinProceduralprintCustomer)&nbsp;&nbsp;|&nbsp;&nbsp;[``print_customer``](#makingaShopSimulationinProceduralprintCustomer)"
   ]
  },
  {
   "cell_type": "markdown",
   "id": "1460c581",
   "metadata": {},
   "source": [
    "### OOP\n",
    "<hr width=50%;>\n",
    "\n",
    "* [Shop Simulation (Python OOP)](#shopSimulationPython)"
   ]
  },
  {
   "cell_type": "markdown",
   "id": "54408b88",
   "metadata": {},
   "source": [
    "* [Shop Simulation (Java OOP)](#shopSimulationJava) <br/><br/>\n",
    "    * [User Input](#shopSimulationJavaUserInput)"
   ]
  },
  {
   "cell_type": "markdown",
   "id": "ca698212",
   "metadata": {},
   "source": [
    "<hr width=50%;>"
   ]
  },
  {
   "cell_type": "markdown",
   "id": "8a9f03af",
   "metadata": {},
   "source": [
    "### [Report](#conclusion)\n",
    "<hr width=50%;>\n",
    "\n",
    "- complete a short report (around 3-5 pages) which compares the solutions achieved using the procedural approach and the object oriented approach\n",
    "\n",
    "\n",
    "i. excessively long reports will be penalised\n",
    "\n",
    "\n",
    "ii. should be about comparing implementations"
   ]
  },
  {
   "cell_type": "markdown",
   "id": "b8f544c0",
   "metadata": {},
   "source": [
    "<hr width=50%;>"
   ]
  },
  {
   "cell_type": "markdown",
   "id": "ad13d4bd",
   "metadata": {},
   "source": [
    "***\n",
    "## END"
   ]
  },
  {
   "cell_type": "markdown",
   "id": "27a8e4cd",
   "metadata": {},
   "source": [
    "< [Table of Contents](#top) | [Module Topics](#introduction) | [Winter 21/22 Assessment](#solution](#solution) | [Report](#conclusion) | [References](#references) >\n",
    "<a id=\"abstractLearningOutcomes\"></a>\n",
    "***\n",
    "## Learning Outcomes\n",
    "***"
   ]
  },
  {
   "cell_type": "markdown",
   "id": "66b5ad40",
   "metadata": {},
   "source": [
    "i. Compare different programming paradigms."
   ]
  },
  {
   "cell_type": "markdown",
   "id": "9af053bc",
   "metadata": {},
   "source": [
    "ii. Select an appropriate programming paradigm for a given programming problem."
   ]
  },
  {
   "cell_type": "markdown",
   "id": "f3b5097b",
   "metadata": {},
   "source": [
    "iii. Write programs using a variety of different programming paradigms."
   ]
  },
  {
   "cell_type": "markdown",
   "id": "2ea573b4",
   "metadata": {},
   "source": [
    "iv. Explain how various programming paradigms have evolved over time."
   ]
  },
  {
   "cell_type": "markdown",
   "id": "fb86e7eb",
   "metadata": {},
   "source": [
    "< [Table of Contents](#top) | [References](#references) >\n",
    "<a id=\"abstractRoadmap\"></a>\n",
    "***\n",
    "### Roadmap\n",
    "***"
   ]
  },
  {
   "cell_type": "markdown",
   "id": "624286e6",
   "metadata": {},
   "source": [
    "- Object-oriented programming \n",
    "\t- Encapsulation\n",
    "\t- Data and methods\n",
    "\t- Objects, classes, instances"
   ]
  },
  {
   "cell_type": "markdown",
   "id": "d52010b0",
   "metadata": {},
   "source": [
    "- Dataflow programming\n",
    "\t- Tables, spreadsheets, tensors\n",
    "\t- Dataflow graphs\n",
    "\t- Sessions"
   ]
  },
  {
   "cell_type": "markdown",
   "id": "fb09b580",
   "metadata": {},
   "source": [
    "- Functional programming\n",
    "\t- Lists, pairs\n",
    "\t- Map, reduce (often used for distributed workloads)\n",
    "\t- Recursion"
   ]
  },
  {
   "cell_type": "markdown",
   "id": "2dfe79cf",
   "metadata": {},
   "source": [
    "***\n",
    "## END"
   ]
  },
  {
   "cell_type": "markdown",
   "id": "ad0ca3b6",
   "metadata": {},
   "source": [
    "< [Table of Contents](#top) | [Learning Outcomes](#abstractLearningOutcomes) | [Winter 21/22 Assessment](#solution](#solution) | [Report](#conclusion) | [References](#references) >\n",
    "<a id=\"introduction\"></a>\n",
    "***\n",
    "## Module Topics\n",
    "***"
   ]
  },
  {
   "cell_type": "code",
   "execution_count": null,
   "id": "20140b21",
   "metadata": {},
   "outputs": [],
   "source": [
    "# fFile(nParPath=\"./hide/01-Introduction/MPP - 1 - Module Introduction - 20-09-2019.mkv\")\n",
    "# fFile(nParPath=\"./hide/01-Introduction/MPP - 1 - Module Introduction - 20-09-2019.pdf\")"
   ]
  },
  {
   "cell_type": "markdown",
   "id": "60659dfd",
   "metadata": {},
   "source": [
    "- introduction to various programming paradigms such as object-oriented programming and functional programming and dataflow programming [1][2]"
   ]
  },
  {
   "cell_type": "markdown",
   "id": "c0067296",
   "metadata": {},
   "source": [
    "< [Table of Contents](#top) | [References](#references) >\n",
    "<a id=\"mppProgramming\"></a>\n",
    "***\n",
    "### Programming\n",
    "***"
   ]
  },
  {
   "cell_type": "code",
   "execution_count": null,
   "id": "6de27a2a",
   "metadata": {},
   "outputs": [],
   "source": [
    "# fFile(nParPath=\"./hide/01-Introduction/MPP - 2 - What Is a Programming Paradigm - 20-09-2019.mkv\")\n",
    "# fFile(nParPath=\"./hide/01-Introduction/MPP - 2 - What Is a Programming Paradigm - 20-09-2019.pdf\")"
   ]
  },
  {
   "cell_type": "markdown",
   "id": "857c3698",
   "metadata": {},
   "source": [
    "- programming is a method of communication between the end user (programmer/human) and the machine [3]"
   ]
  },
  {
   "cell_type": "markdown",
   "id": "77bd230e",
   "metadata": {},
   "source": [
    "- the machine does exactly what the human tells it to do - this is not always the same thing as what the human wants it to do because humans are imprecise and computers are very precise [3] "
   ]
  },
  {
   "cell_type": "markdown",
   "id": "cf7ff4a0",
   "metadata": {},
   "source": [
    "- everything in the world of software development is basically some means of making it easier to convey precise intent to the machine - this is where all the different kinds of software tools and layers of abstraction come from - trying to make it easier for the human to convey their intentions to the machine from a high-level down to the low-level (actual machine code itself) - all want to provide structure for the human in conveying intent which ultimately becomes a stream of ones and zeros [3]"
   ]
  },
  {
   "cell_type": "markdown",
   "id": "7e836112",
   "metadata": {},
   "source": [
    "- the approach at a high-level involves instructions input into the machine through some process (using a compiler and/or interpreter) by writing a solution to a problem in a high-level programming language [3]"
   ]
  },
  {
   "cell_type": "markdown",
   "id": "b9dcaf7e",
   "metadata": {},
   "source": [
    "- as the instructions get turned into machine code (executes on the machine) with all things being done correctly by the human and by the process of changing those human high-level instructions into the machine code then the problem can be solved (maybe the program has to solve some mathematical equation or store data into a database or act as a web-server) [3]"
   ]
  },
  {
   "cell_type": "markdown",
   "id": "53f0aab8",
   "metadata": {},
   "source": [
    "![High-Level (Instructions) to Low-Level](https://github.com/SeanOhAileasa/SeanOhAileasa/blob/master/rc/mpp/programmingParadigm/high-low.png?raw=true)\n",
    "\n",
    "***(Image) D. Carr, \"MPP - 2 - What Is a Programming Paradigm,\" GMIT, September 2019.***"
   ]
  },
  {
   "cell_type": "markdown",
   "id": "9faa7826",
   "metadata": {},
   "source": [
    "< [Table of Contents](#top) | [References](#references) >\n",
    "<a id=\"mppProgrammingParadigm\"></a>\n",
    "***\n",
    "###### Paradigm\n",
    "***"
   ]
  },
  {
   "cell_type": "markdown",
   "id": "be96c731",
   "metadata": {},
   "source": [
    "- a programming paradigm is a style or way of thinking about and approaching computer programming problems [3]"
   ]
  },
  {
   "cell_type": "markdown",
   "id": "66e40b9c",
   "metadata": {},
   "source": [
    "- the chosen paradigm will affect how the code is written and structured (thought about and organised) - it can heavily influence the way in which the human actually thinks about the problem [3]"
   ]
  },
  {
   "cell_type": "markdown",
   "id": "de01bb35",
   "metadata": {},
   "source": [
    "- some paradigms lend themselves very well to particular types of problems with each paradigm having its advocates - humans who are fiercely loyal to certain paradigms and detractors (each having particular advantages and disadvantages) [3]"
   ]
  },
  {
   "cell_type": "markdown",
   "id": "84086012",
   "metadata": {},
   "source": [
    "- a different programming language is not the same thing as a different paradigm - can have many languages which fit within the same paradigm such as ``C++`` and ``Java`` (both are general-purpose object-oriented) but are not the same language [3]"
   ]
  },
  {
   "cell_type": "markdown",
   "id": "33eb2b59",
   "metadata": {},
   "source": [
    "- some programming languages may be multi-paradigm such as ``Python`` - can be considered to be a procedural programming language with strong support for object-oriented programming [3]"
   ]
  },
  {
   "cell_type": "markdown",
   "id": "e5fe6c97",
   "metadata": {},
   "source": [
    "< [Table of Contents](#top) | [References](#references) >\n",
    "<a id=\"mppProgrammingAbstraction\"></a>\n",
    "***\n",
    "###### Abstraction\n",
    "***"
   ]
  },
  {
   "cell_type": "markdown",
   "id": "7ae7efc9",
   "metadata": {},
   "source": [
    "> \"if you ever code something that \"feels like a hack but it works,\" just remember that a CPU is literally a rock that we tricked into thinking\" [[daisyowl](https://twitter.com/daisyowl)]"
   ]
  },
  {
   "cell_type": "markdown",
   "id": "23dca847",
   "metadata": {},
   "source": [
    "- one of the most important concepts in software development [3]"
   ]
  },
  {
   "cell_type": "markdown",
   "id": "45dca2ec",
   "metadata": {},
   "source": [
    "- much of computer science is about abstraction (concurrency control/memory management/virtual machine/operating systems/drivers/API) [3]"
   ]
  },
  {
   "cell_type": "markdown",
   "id": "01666af6",
   "metadata": {},
   "source": [
    "- process of removing physical or spatial (where) or temporal (time) details or attributes in the study of objects or systems in order to focus attention on details of higher importance (very similar in nature to the process of generalisation) [3]"
   ]
  },
  {
   "cell_type": "markdown",
   "id": "b2fcb82f",
   "metadata": {},
   "source": [
    "- the creation of abstract concept-objects which are created by mirroring common features or attributes from various non-abstract objects or systems of study (the result of the process of abstraction) [3]"
   ]
  },
  {
   "cell_type": "markdown",
   "id": "524fd380",
   "metadata": {},
   "source": [
    "- all programming languages and paradigms are attempts to abstract low-level details to allow the human to think about and solve problems at a higher level (or perhaps a different level) [3]"
   ]
  },
  {
   "cell_type": "markdown",
   "id": "9267e9f1",
   "metadata": {},
   "source": [
    "< [Table of Contents](#top) | [References](#references) >\n",
    "<a id=\"mppProgrammingParadigmLowHighLevel\"></a>\n",
    "***\n",
    "###### Low-Level&nbsp;&nbsp;|&nbsp;&nbsp;High-Level\n",
    "***"
   ]
  },
  {
   "cell_type": "markdown",
   "id": "5bf330c3",
   "metadata": {},
   "source": [
    "- machines understand operations at a very low level (moving bits from one place to another) [3]"
   ]
  },
  {
   "cell_type": "markdown",
   "id": "79b2a65c",
   "metadata": {},
   "source": [
    "- the one plus two multiplied by five operation at the low level needs to: i) carry out the evaluation; ii) return the result and; perform an assignment - this is actually quite complex (its a rock tricked into thinking) [3]"
   ]
  },
  {
   "cell_type": "markdown",
   "id": "ff3930c4",
   "metadata": {},
   "source": [
    "- values are converted into binary - the calculations are broken apart into assembly instructions (operations such as shifting a binary register left or adding the binary complement of the contents of one register to another) [3]"
   ]
  },
  {
   "cell_type": "markdown",
   "id": "cc7e9eea",
   "metadata": {},
   "source": [
    "- assigning the resulting value to the variable ``a`` (placeholder) requires looking up the variable location in physical memory [3]\n",
    "\n",
    "```c\n",
    "a := (1 + 2) * 5\n",
    "```"
   ]
  },
  {
   "cell_type": "markdown",
   "id": "0b4807da",
   "metadata": {},
   "source": [
    "- the addition of two numbers using ``MIPS`` assembly is very low level (one step above binary) [3]\n",
    "\n",
    "```\n",
    "LUI R1, #1\n",
    "LUI R2, #2\n",
    "DADD R3, R1, R2\n",
    "```"
   ]
  },
  {
   "cell_type": "markdown",
   "id": "5b5e1ac4",
   "metadata": {},
   "source": [
    "- the addition of two numbers using ``C`` or ``Java`` is syntactically valid for both - ``C`` is higher level albeit most would consider a low-level language [3]\n",
    "\n",
    "```C\n",
    "x = 1 + 2\n",
    "```"
   ]
  },
  {
   "cell_type": "markdown",
   "id": "442ad231",
   "metadata": {},
   "source": [
    "- having no abstraction would require the human to specify all the register/binary-level steps every time [3]"
   ]
  },
  {
   "cell_type": "markdown",
   "id": "85a63a33",
   "metadata": {},
   "source": [
    "< [Table of Contents](#top) | [References](#references) >\n",
    "<a id=\"mppProgrammingState\"></a>\n",
    "***\n",
    "###### State\n",
    "***"
   ]
  },
  {
   "cell_type": "markdown",
   "id": "7babf02e",
   "metadata": {},
   "source": [
    "- data is stored in varialbes which map to storage locations in memory - the contents of these memory locations at any given point in the programs execution is called state [3]"
   ]
  },
  {
   "cell_type": "markdown",
   "id": "598f0fb9",
   "metadata": {},
   "source": [
    "- state effects the behaviour of the program - the more state the more unpredictable the program [3]"
   ]
  },
  {
   "cell_type": "markdown",
   "id": "ad572b53",
   "metadata": {},
   "source": [
    "> \"In programming mutable state is evil\" [[Unk](#)]"
   ]
  },
  {
   "cell_type": "markdown",
   "id": "ee394130",
   "metadata": {},
   "source": [
    "- some paradigms would seek to do away with state completely - functional programming resembles pure mathematical operations which do not store any information (not having side-effects only having input and process and output) [3]"
   ]
  },
  {
   "cell_type": "markdown",
   "id": "39a29bad",
   "metadata": {},
   "source": [
    "- other paradigms state is intrinsic - object-oriented programming without mutable state is not possible [3]"
   ]
  },
  {
   "cell_type": "markdown",
   "id": "73f46f9b",
   "metadata": {},
   "source": [
    "<hr width=50%;>"
   ]
  },
  {
   "cell_type": "markdown",
   "id": "38861a64",
   "metadata": {},
   "source": [
    "< [Table of Contents](#top) | [References](#references) >\n",
    "<a id=\"mppImperative\"></a>\n",
    "***\n",
    "### Imperative\n",
    "***"
   ]
  },
  {
   "cell_type": "code",
   "execution_count": null,
   "id": "b0515fec",
   "metadata": {},
   "outputs": [],
   "source": [
    "# fFile(nParPath=\"./hide/02-ImperativeProcedural/MPP - 3 - ImperativeProcedural - 27-09-2019.mkv\")\n",
    "# fFile(nParPath=\"./hide/02-ImperativeProcedural/MPP - 3 - ImperativeProcedural - 27-09-2019.pdf\")"
   ]
  },
  {
   "cell_type": "markdown",
   "id": "58a8d0d4",
   "metadata": {},
   "source": [
    "- imperative programming involves an explicit sequence of commands that update state [4]"
   ]
  },
  {
   "cell_type": "markdown",
   "id": "46fd3554",
   "metadata": {},
   "source": [
    "- an imperative program says how to do something in the correct sequence it should be done therefore order of execution (order in which each statement is executed) is important (top to bottom) [4]"
   ]
  },
  {
   "cell_type": "markdown",
   "id": "353ea082",
   "metadata": {},
   "source": [
    "- a very general structure of an imperative program is: i) first do this; ii) next do that; iii) then possibility repeat something a number of times; iv) then finish [4]"
   ]
  },
  {
   "cell_type": "markdown",
   "id": "1ebd0e95",
   "metadata": {},
   "source": [
    "- it did provide a means of non-linear execution ``goto`` but it was messy - it was one of the first advances in programming maintainability first implemented in ALGOL in the 1950s [4]\n",
    "\n",
    "```c\n",
    "result = []\n",
    "i = 0\n",
    "start:\n",
    "  numPeople = length(people)\n",
    "  if i >= numPeople goto finished\n",
    "  p = people[i]\n",
    "  nameLength = length(p.name)\n",
    "  if nameLength <= 5 goto nextOne\n",
    "  upperName = toUpper(p.name)\n",
    "  addToList(result, upperName)\n",
    "nextOne:\n",
    "  i = i + 1\n",
    "  goto start\n",
    "finished:\n",
    "  return sort(result)\n",
    "```"
   ]
  },
  {
   "cell_type": "markdown",
   "id": "9ef07009",
   "metadata": {},
   "source": [
    "- often compile to binary executables that run more efficiently since all CPU instructions are themselves imperative statements [4]"
   ]
  },
  {
   "cell_type": "markdown",
   "id": "a368345e",
   "metadata": {},
   "source": [
    "- imperative approaches and low-level languages are often used where efficiency and code-footprint are important such as in embedded systems [4]"
   ]
  },
  {
   "cell_type": "markdown",
   "id": "e920bcce",
   "metadata": {},
   "source": [
    "- low-level refers to the closeness to the machine with regard to the level of abstraction whereby an approach like declarative programming would be more high-level [4] "
   ]
  },
  {
   "cell_type": "markdown",
   "id": "5d47009f",
   "metadata": {},
   "source": [
    "< [Table of Contents](#top) | [References](#references) >\n",
    "<a id=\"mppProcedural\"></a>\n",
    "***\n",
    "###### Procedural\n",
    "***"
   ]
  },
  {
   "cell_type": "markdown",
   "id": "c44412f8",
   "metadata": {},
   "source": [
    "- procedural programming is simply imperative programming with procedure calls (historically called sub-routines) [4]"
   ]
  },
  {
   "cell_type": "markdown",
   "id": "178f0e2a",
   "metadata": {},
   "source": [
    "- avoids repetition and provides structure - the early programmers realized they should group instructions together into re-usable elements called procedures (sub-routines) which can then be called when needed during program execution [4]"
   ]
  },
  {
   "cell_type": "markdown",
   "id": "705c019d",
   "metadata": {},
   "source": [
    "< [Table of Contents](#top) | [References](#references) >\n",
    "<a id=\"cProgramming\"></a>\n",
    "***\n",
    "###### ``C``\n",
    "***"
   ]
  },
  {
   "cell_type": "code",
   "execution_count": null,
   "id": "28e2f30a",
   "metadata": {},
   "outputs": [],
   "source": [
    "# fFile(nParPath=\"./hide/02-ImperativeProcedural/MPP - 3.1 - The C Programming Language - 27-09-2019.mkv\")\n",
    "# fFile(nParPath=\"./hide/02-ImperativeProcedural/MPP - 3.1 - The C Programming Language - 27-09-2019.pdf\")\n",
    "# fFile(nParPath=\"./hide/02-ImperativeProcedural/Simple Programming Exercises.zip\")\n",
    "# fFile(nParPath=\"./hide/02-ImperativeProcedural/MPP - 3.2 - Practical C - 27-09-2019.mkv\")"
   ]
  },
  {
   "cell_type": "markdown",
   "id": "ed94f67a",
   "metadata": {},
   "source": [
    "- ``C`` is a general-purpose and procedural programming language developed in 1972 at Bell Labs (research company Carnegie and Ritchie and currently owned by Alcatel Lucent) [5]"
   ]
  },
  {
   "cell_type": "markdown",
   "id": "0780d8ec",
   "metadata": {},
   "source": [
    "- it was developed not with any particular problem in mind but designed to be able to write general-purpose programs in a procedural style [4]"
   ]
  },
  {
   "cell_type": "markdown",
   "id": "e617fb33",
   "metadata": {},
   "source": [
    "- at the time it was written pretty much every programming language was procedural and has survived the test of time (still used around the world every day) [5]"
   ]
  },
  {
   "cell_type": "markdown",
   "id": "e7a8fafc",
   "metadata": {},
   "source": [
    "- supports: i) structured programming; ii) variable scope management and; iii) recursion [5]\n",
    "\n",
    "i. structured programming for the most part is being able to link different files together so that not all the code has to be in one file - this provides a structure which aids maintainability of the code [5]\n",
    "\n",
    "\n",
    "ii. variable scope is where a variable can be accessed from and managed [5]\n",
    "\n",
    "\n",
    "iii. recursion is a function which calls itself executing and solving problems - in some cases makes sense to use recursion rather than to use a loop construct (anything that can be done with a loop can be done with recursion) [5]"
   ]
  },
  {
   "cell_type": "markdown",
   "id": "6ef2a1d1",
   "metadata": {},
   "source": [
    "- static type system meaning the type has to be declared for each variable - a variable ``age`` has to be declared as an integer - this allows the language to provide safeguards against illegal values being put into variables [5]"
   ]
  },
  {
   "cell_type": "markdown",
   "id": "4d6a2405",
   "metadata": {},
   "source": [
    "- by its design the constructs in the ``C`` language map very efficiently to the typical machine instructions and because of this it creates very efficient code for running on the physical machine on the CPU [5]"
   ]
  },
  {
   "cell_type": "markdown",
   "id": "7a2193d1",
   "metadata": {},
   "source": [
    "- it has found long lasting applications in things that before would have been coded in assembly language which is quite cumbersome and very difficult to reason about and very low level [5]"
   ]
  },
  {
   "cell_type": "markdown",
   "id": "255fa858",
   "metadata": {},
   "source": [
    "- ``C`` was considered to be a great step up from assembly while still providing the kinds of efficiencies that are needed for certain application areas (embedded systems) [5]"
   ]
  },
  {
   "cell_type": "markdown",
   "id": "1e1ac60c",
   "metadata": {},
   "source": [
    "- in the context of history (1972) machines had a lot less processing power and less storage space - the efficiency of the code footprint and of the execution of a program was much more important than it is for the average programmer today [5]"
   ]
  },
  {
   "cell_type": "markdown",
   "id": "c18dd98d",
   "metadata": {},
   "source": [
    "- ``Python`` is run through an interpreter whereby the code does not get changed into assembly code or machine code directly - ``C`` is designed to be compiled using a straightforward compiler (``gcc`` - other compilers exist also) [5]"
   ]
  },
  {
   "cell_type": "markdown",
   "id": "1b291d5e",
   "metadata": {},
   "source": [
    "- compiler design is a whole research area  and is a very deep part of computer science - compilation generally lends itself to being able to produce more efficient code than running it through an interpreter - when there is a requirement to be very fast then its much better to use a compiled language rather than an interpreted language [5]"
   ]
  },
  {
   "cell_type": "markdown",
   "id": "71dc43eb",
   "metadata": {},
   "source": [
    "- it was designed to provide low level access to memory - the language constructs were supposed to map very efficiently to machine instructions (low-level access to memory) - the actual program itself can allocate and deallocate memory on the machine while it is running - when designed there was not much memory available so if a program no longer need a piece of information then it was to be removed by the program execution as quickly as possible - a skilled programmer was able to do manual memory management more efficiently than it being done by an automated process - programming language such as ``Java`` and ``Python`` have automatic memory management [5]"
   ]
  },
  {
   "cell_type": "markdown",
   "id": "30dd820d",
   "metadata": {},
   "source": [
    "- it was designed to work cross platform if written in a standards compliant way with portability in mind then can be compiled on different computer platforms with only a few changes to the source code [5]"
   ]
  },
  {
   "cell_type": "markdown",
   "id": "a5238bb3",
   "metadata": {},
   "source": [
    "- this was still a problem even though it was designed to work cross platform - there were still issues in terms of getting it to do this - one of the things that informed the design of ``Java`` (1995) was to provide really strong cross platform support hence the tagline ``write once run anywhere`` [5]"
   ]
  },
  {
   "cell_type": "markdown",
   "id": "b69548ed",
   "metadata": {},
   "source": [
    "- the reason why that would that resonated with people was because it turns out it was not so easy with other programming languages that have come before ``C`` - even though it was a step up from trying to write cross platform assembly code it never really took off - so the language is available on various platforms from embedded microcontrollers to supercomputers [5]"
   ]
  },
  {
   "cell_type": "markdown",
   "id": "d655018c",
   "metadata": {},
   "source": [
    "- embedded systems might find ``C`` on printers/microcontrollers that exist in modern dryers or modern washing machines or smart kettles or smart door locks - still found all over the world and used in a lot of internet of things applications [5]"
   ]
  },
  {
   "cell_type": "markdown",
   "id": "640ceafa",
   "metadata": {},
   "source": [
    "< [Table of Contents](#top) | [References](#references) >\n",
    "<a id=\"cProgrammingVsPython\"></a>\n",
    "***\n",
    "###### vs. ``Python``\n",
    "***"
   ]
  },
  {
   "cell_type": "markdown",
   "id": "56c969d7",
   "metadata": {},
   "source": [
    "- ``C`` is compiled and ``Python`` is interpreted which from a performance perspective means that code written in ``C`` is much faster than code written in ``Python`` - for a lot of application scenarios this does not really matter but in some cases such as embedded systems or real-time applications (air-traffic control systems or early warning hurricane systems) those little milliseconds add up to possibly being the difference between life and death - it can be very important how fast the code is [5]"
   ]
  },
  {
   "cell_type": "markdown",
   "id": "91e271f5",
   "metadata": {},
   "source": [
    "- ``C`` allows low-level memory access and ``Python`` does not (done automatically) [5]"
   ]
  },
  {
   "cell_type": "markdown",
   "id": "8bd0d61e",
   "metadata": {},
   "source": [
    "- ``Python`` supports object-oriented programming albeit can write procedural programs (mix and match) and ``C`` does not support object-orientated programming - ``C++`` was developed to basically extend ``C`` so that it would support object-orientated programming [5]"
   ]
  },
  {
   "cell_type": "markdown",
   "id": "c7a388f8",
   "metadata": {},
   "source": [
    "- ``Python`` has a lot more built-in functionality than ``C`` [5]"
   ]
  },
  {
   "cell_type": "markdown",
   "id": "198ab21b",
   "metadata": {},
   "source": [
    "- ``C`` variable types have to be declared whereas ``Python`` does not required this [5]"
   ]
  },
  {
   "cell_type": "markdown",
   "id": "c624eb80",
   "metadata": {},
   "source": [
    "- ``C`` programs are much more verbose than ``Python`` meaning that writing an equivalent program in ``C`` takes more lines of code - ``C`` is considered more difficult to learn than ``Python`` [5]"
   ]
  },
  {
   "cell_type": "markdown",
   "id": "7ceffd52",
   "metadata": {},
   "source": [
    "- ``C`` memory management is manual whereas ``Python`` has automated memory management through its interpreter - values stored in a name are no longer accessible by the code (gone out of scope) - the interpreter will delete the data from memory to free up the memory of the computer - this can have implications when you a ``Python`` script deals with millions of values but for the most part memory management is not too important [5]"
   ]
  },
  {
   "cell_type": "markdown",
   "id": "e42c0527",
   "metadata": {},
   "source": [
    "- there are many syntactical differences but some commonalities [5]"
   ]
  },
  {
   "cell_type": "markdown",
   "id": "d9ae311e",
   "metadata": {},
   "source": [
    "< [Table of Contents](#top) | [References](#references) >\n",
    "<a id=\"cProgrammingMenu\"></a>\n",
    "***\n",
    "###### Menu\n",
    "***"
   ]
  },
  {
   "cell_type": "code",
   "execution_count": null,
   "id": "900761e2",
   "metadata": {},
   "outputs": [],
   "source": [
    "# fFile(nParPath=\"./hide/04-ObjectOrientedProgramming/MPP - 6.6 - Week 6 - A Menu in C - 26-10-2020.mp4\")\n",
    "# fFile(nParPath=\"./hide/04-ObjectOrientedProgramming/menu_example.c\")"
   ]
  },
  {
   "cell_type": "markdown",
   "id": "2d5e5249",
   "metadata": {},
   "source": [
    "< [Table of Contents](#top) | [References](#references) >\n",
    "<a id=\"cProgrammingStructs\"></a>\n",
    "***\n",
    "###### Structs\n",
    "***"
   ]
  },
  {
   "cell_type": "code",
   "execution_count": null,
   "id": "d002313f",
   "metadata": {},
   "outputs": [],
   "source": [
    "# fFile(nParPath=\"./hide/02-ImperativeProcedural/MPP - 3.1 - The C Programming Language - 27-09-2019.mkv\")\n",
    "# fFile(nParPath=\"./hide/02-ImperativeProcedural/MPP - 3.1 - The C Programming Language - 27-09-2019.pdf\")"
   ]
  },
  {
   "cell_type": "code",
   "execution_count": null,
   "id": "022dc086",
   "metadata": {},
   "outputs": [],
   "source": [
    "# fFile(nParPath=\"./hide/04-ObjectOrientedProgramming/MPP - 6.7 - Week 6 - Structs Explained - 26-10-2020.mp4\")\n",
    "# fFile(nParPath=\"./hide/04-ObjectOrientedProgramming/structs_example.c\")"
   ]
  },
  {
   "cell_type": "markdown",
   "id": "53ad667b",
   "metadata": {},
   "source": [
    "< [Table of Contents](#top) | [References](#references) >\n",
    "<a id=\"cProgrammingFunctionPrototypes\"></a>\n",
    "***\n",
    "###### Function Prototypes\n",
    "***"
   ]
  },
  {
   "cell_type": "code",
   "execution_count": null,
   "id": "5a9d43ca",
   "metadata": {},
   "outputs": [],
   "source": [
    "# fFile(nParPath=\"./hide/02-ImperativeProcedural/01-MPP - C - Function Prototypes - 07-11-2019.mp4\")\n",
    "# fFile(nParPath=\"./hide/02-ImperativeProcedural/declaration.c\")"
   ]
  },
  {
   "cell_type": "markdown",
   "id": "3f3d9013",
   "metadata": {},
   "source": [
    "< [Table of Contents](#top) | [References](#references) >\n",
    "<a id=\"mppImperativePython\"></a>\n",
    "***\n",
    "###### ``Python``\n",
    "***"
   ]
  },
  {
   "cell_type": "markdown",
   "id": "5dd959d9",
   "metadata": {},
   "source": [
    "- in the procedural programming paradigm the overall program objective is decomposed into a series of functions which accomplish some smaller piece of the overall objective [9]"
   ]
  },
  {
   "cell_type": "markdown",
   "id": "a6e879c1",
   "metadata": {},
   "source": [
    "- this makes code easier to understand and to maintain and to reuse in future [9]"
   ]
  },
  {
   "cell_type": "markdown",
   "id": "8403fa48",
   "metadata": {},
   "source": [
    "- importing two functions from the ``math`` library and using one of them - this is much easier than reinventing the wheel - can add this thinking to programs [9]"
   ]
  },
  {
   "cell_type": "markdown",
   "id": "5f49079d",
   "metadata": {},
   "source": [
    "- python has a vast amount of reusable functions available in its standard library - this is in contrast to more low-level languages like ``C`` where the standard library is much smaller [9]"
   ]
  },
  {
   "cell_type": "code",
   "execution_count": 1,
   "id": "5b883981",
   "metadata": {},
   "outputs": [],
   "source": [
    "from math import exp,expm1"
   ]
  },
  {
   "cell_type": "code",
   "execution_count": 2,
   "id": "88a7cfaf",
   "metadata": {},
   "outputs": [
    {
     "data": {
      "text/plain": [
       "1.0000050000069649e-05"
      ]
     },
     "execution_count": 2,
     "metadata": {},
     "output_type": "execute_result"
    }
   ],
   "source": [
    "exp(1e-5)-1"
   ]
  },
  {
   "cell_type": "code",
   "execution_count": 3,
   "id": "e846f93b",
   "metadata": {},
   "outputs": [
    {
     "name": "stdout",
     "output_type": "stream",
     "text": [
      "Return e raised to the power of x.\n"
     ]
    }
   ],
   "source": [
    "print(exp.__doc__)"
   ]
  },
  {
   "cell_type": "markdown",
   "id": "afce9391",
   "metadata": {},
   "source": [
    "< [Table of Contents](#top) | [References](#references) >\n",
    "<a id=\"mppImperativePythonImperative\"></a>\n",
    "***\n",
    "###### Imperative\n",
    "***"
   ]
  },
  {
   "cell_type": "markdown",
   "id": "e096b1df",
   "metadata": {},
   "source": [
    "- program which opens a ``CSV`` file and performs from rudimentary extraction of statistical information [9]"
   ]
  },
  {
   "cell_type": "markdown",
   "id": "9480ec44",
   "metadata": {},
   "source": [
    "- the program is not the the most readable as there are no comments and the code has not been decomposed into a series of functions [9]"
   ]
  },
  {
   "cell_type": "markdown",
   "id": "13798e34",
   "metadata": {},
   "source": [
    "- it is essentially an imperative program [9]"
   ]
  },
  {
   "cell_type": "code",
   "execution_count": 4,
   "id": "7ed972e3",
   "metadata": {},
   "outputs": [],
   "source": [
    "import csv"
   ]
  },
  {
   "cell_type": "code",
   "execution_count": 5,
   "id": "19d8714a",
   "metadata": {},
   "outputs": [
    {
     "name": "stdout",
     "output_type": "stream",
     "text": [
      "Average: 60.77777777777778 Median: 65 Smallest: 94 Largest: 18 mode: 65\n"
     ]
    }
   ],
   "source": [
    "with open(\"./rc/example.csv\", mode ='r') as file:   \n",
    "    csvFile=csv.DictReader(file)\n",
    "    scores=[]\n",
    "    \n",
    "    for lines in csvFile:\n",
    "        score = int(lines[\"Score\"])\n",
    "        scores.append(score)    \n",
    "    \n",
    "    total = 0\n",
    "    for score in scores:\n",
    "        total += score\n",
    "        \n",
    "    average = total / len(scores)\n",
    "    \n",
    "    minimum = scores[0]\n",
    "    for score in scores:\n",
    "        if minimum < score:\n",
    "            minimum = score\n",
    "    \n",
    "    maximum = scores[0]\n",
    "    for score in scores:\n",
    "        if maximum > score:\n",
    "            maximum = score\n",
    "    \n",
    "    list1 = scores.copy()\n",
    "    for i in range(0,len(list1)-1):  \n",
    "        for j in range(len(list1)-1):  \n",
    "            if(list1[j]>list1[j+1]):  \n",
    "                temp = list1[j]  \n",
    "                list1[j] = list1[j+1]  \n",
    "                list1[j+1] = temp  \n",
    "    \n",
    "    median = list1[int(len(list1)/2)]\n",
    "    \n",
    "    highest_freq = 0\n",
    "    mode = scores[0]\n",
    "    for score in scores:\n",
    "        frequency = 0\n",
    "        for score2 in scores:\n",
    "            if score == score2:\n",
    "                frequency += 1\n",
    "        if frequency > highest_freq:\n",
    "            mode = score\n",
    "            highest_freq = frequency\n",
    "    \n",
    "    print(f'Average: {average} Median: {median} Smallest: {minimum} Largest: {maximum} mode: {mode}')"
   ]
  },
  {
   "cell_type": "markdown",
   "id": "2f94ae23",
   "metadata": {},
   "source": [
    "< [Table of Contents](#top) | [References](#references) >\n",
    "<a id=\"mppImperativePythonProcedural\"></a>\n",
    "***\n",
    "###### Procedural\n",
    "***"
   ]
  },
  {
   "cell_type": "markdown",
   "id": "a26a57f9",
   "metadata": {},
   "source": [
    "- a modied version of the python program which conforms to the procedural programming paradigm [9]"
   ]
  },
  {
   "cell_type": "markdown",
   "id": "fb1b83d8",
   "metadata": {},
   "source": [
    "- it produces the same results as the original but the code is more readable - it can be more easily understood by a programmer [9]"
   ]
  },
  {
   "cell_type": "markdown",
   "id": "f97d239f",
   "metadata": {},
   "source": [
    "- the computer does not care about paradigms - every paradigm and every abstraction is for the benefit of the programmer [9]"
   ]
  },
  {
   "cell_type": "markdown",
   "id": "e76a1724",
   "metadata": {},
   "source": [
    "- most functions represent the extraction of one piece of information from the imported data [9]"
   ]
  },
  {
   "cell_type": "markdown",
   "id": "b75f244e",
   "metadata": {},
   "source": [
    "- the function names are descriptive - making it easy to understand what they are intended to accomplish [9]"
   ]
  },
  {
   "cell_type": "markdown",
   "id": "08ed1056",
   "metadata": {},
   "source": [
    "- the function ``get_median_value`` uses another function ``bubble_sort`` to sort the data [9]"
   ]
  },
  {
   "cell_type": "markdown",
   "id": "dd6c4629",
   "metadata": {},
   "source": [
    "- the function ``get_average`` shows an example of a ``docstring`` which is a way to document what a method does and what inputs it has and what the return value is [9]"
   ]
  },
  {
   "cell_type": "code",
   "execution_count": 6,
   "id": "a3f68bc4",
   "metadata": {},
   "outputs": [
    {
     "name": "stdout",
     "output_type": "stream",
     "text": [
      "Average: 60.77777777777778 Median: 65 Smallest: None Largest: 18 mode: 65\n"
     ]
    }
   ],
   "source": [
    "def get_maximum_value(list):\n",
    "    maximum = list[0]\n",
    "    for l in list:\n",
    "        if maximum > l:\n",
    "            maximum = l\n",
    "    return maximum\n",
    "\n",
    "def get_minimum_value(list):\n",
    "    minimum = list[0]\n",
    "    for l in list:\n",
    "        if minimum < l:\n",
    "            minimum = l\n",
    "            \n",
    "def get_average(list):\n",
    "    \"\"\" \n",
    "        Given a list of numbers as input this function will return the numerical average.\n",
    "    \n",
    "        :param list: the list of numbers given as input\n",
    "        :return: the numerical average of the list\n",
    "    \"\"\"\n",
    "    total = 0\n",
    "    for l in list:\n",
    "        total += l\n",
    "        \n",
    "    average = total / len(list)\n",
    "    return average\n",
    "\n",
    "def get_median_value(list):\n",
    "    list1 = list.copy()\n",
    "    bubble_sort(list1)\n",
    "    median = list1[int(len(list1)/2)]\n",
    "    return median\n",
    "    \n",
    "def bubble_sort(list1):\n",
    "    for i in range(0,len(list1)-1):  \n",
    "        for j in range(len(list1)-1):  \n",
    "            if(list1[j]>list1[j+1]):  \n",
    "                temp = list1[j]  \n",
    "                list1[j] = list1[j+1]  \n",
    "                list1[j+1] = temp  \n",
    "    \n",
    "def get_mode(list):\n",
    "    highest_freq = 0\n",
    "    mode = scores[0]\n",
    "    for score in scores:\n",
    "        frequency = 0\n",
    "        for score2 in scores:\n",
    "            if score == score2:\n",
    "                frequency += 1\n",
    "        if frequency > highest_freq:\n",
    "            mode = score\n",
    "            highest_freq = frequency\n",
    "    return mode\n",
    "\n",
    "def read_scores_from_csv(filename):\n",
    "    scores = []\n",
    "    with open(filename, mode ='r') as file:   \n",
    "        csvFile = csv.DictReader(file)\n",
    "    \n",
    "        for lines in csvFile:\n",
    "            score = int(lines[\"Score\"])\n",
    "            scores.append(score)    \n",
    "    return scores\n",
    "    \n",
    "if __name__ == \"__main__\":\n",
    "\n",
    "    scores = read_scores_from_csv(\"./rc/example.csv\")\n",
    "    \n",
    "    average = get_average(scores)\n",
    "    minimum = get_minimum_value(scores)   \n",
    "    maximum = get_maximum_value(scores)\n",
    "    median = get_median_value(scores)\n",
    "    mode = get_mode(scores)\n",
    "\n",
    "    print(f'Average: {average} Median: {median} Smallest: {minimum} Largest: {maximum} mode: {mode}')\n",
    "    "
   ]
  },
  {
   "cell_type": "code",
   "execution_count": 7,
   "id": "84b12c98",
   "metadata": {},
   "outputs": [],
   "source": [
    "exit()"
   ]
  },
  {
   "cell_type": "markdown",
   "id": "d8be31bb",
   "metadata": {},
   "source": [
    "<hr width=50%;>"
   ]
  },
  {
   "cell_type": "markdown",
   "id": "ea579eff",
   "metadata": {},
   "source": [
    "< [Table of Contents](#top) | [References](#references) >\n",
    "<a id=\"objectOrientedProgramming\"></a>\n",
    "***\n",
    "### Object-Oriented\n",
    "***"
   ]
  },
  {
   "cell_type": "code",
   "execution_count": null,
   "id": "5fc0db69",
   "metadata": {},
   "outputs": [],
   "source": [
    "# fFile(nParPath=\"./hide/04-ObjectOrientedProgramming/MPP - 6.1 - Object Oriented Programming - 17-10-2019.mkv\") # 06:00\n",
    "# fFile(nParPath=\"./hide/04-ObjectOrientedProgramming/MPP - 6.1 - Object Oriented Programming - 17-10-2019.pdf\")"
   ]
  },
  {
   "cell_type": "markdown",
   "id": "731451ca",
   "metadata": {},
   "source": [
    "- procedural style - code is a sequence of steps to be carried out - common when doing data analysis - download the data and process and visualize it [11] "
   ]
  },
  {
   "cell_type": "markdown",
   "id": "e2bb0b93",
   "metadata": {},
   "source": [
    "- procedural thinking is natural - have breakfast and go to work [11]"
   ]
  },
  {
   "cell_type": "markdown",
   "id": "6937a294",
   "metadata": {},
   "source": [
    "- sequential viewpoint works great if trying to plan your day but a city planner has to think about thousands of people with their own routines [11]"
   ]
  },
  {
   "cell_type": "markdown",
   "id": "ad085cec",
   "metadata": {},
   "source": [
    "- trying to map out a sequence of actions for each individual would quickly get unsustainable - instead likely to start thinking about patterns of behaviours - same thing with code [11]"
   ]
  },
  {
   "cell_type": "markdown",
   "id": "827b83ff",
   "metadata": {},
   "source": [
    "- the more data it uses then more functionality it has - the harder it is to think about as just a sequence of steps [11] "
   ]
  },
  {
   "cell_type": "markdown",
   "id": "77004e6b",
   "metadata": {},
   "source": [
    "- instead view it as a collection of objects and patterns of their interactions - like users interacting with elements of an interface [11]"
   ]
  },
  {
   "cell_type": "markdown",
   "id": "36623523",
   "metadata": {},
   "source": [
    "- this point of view becomes invaluable when designing frameworks like application program interfaces or graphical user interfaces or building tools like the ``pandas`` ``DataFrames`` - helps to organize code better and making it more reusable and maintainable [11]"
   ]
  },
  {
   "cell_type": "markdown",
   "id": "8c721412",
   "metadata": {},
   "source": [
    "- the fundamental concepts of ``OOP`` are:\n",
    "\n",
    "i. objects\n",
    "\n",
    "\n",
    "ii. classes [11]"
   ]
  },
  {
   "cell_type": "markdown",
   "id": "c93a36b5",
   "metadata": {},
   "source": [
    "< [Table of Contents](#top) | [References](#references) >\n",
    "<a id=\"objectOrientedProgrammingObject\"></a>\n",
    "***\n",
    "###### Object\n",
    "***"
   ]
  },
  {
   "cell_type": "markdown",
   "id": "9687cd79",
   "metadata": {},
   "source": [
    "- in ``Python`` everything is an object [11]"
   ]
  },
  {
   "cell_type": "markdown",
   "id": "68fdf537",
   "metadata": {},
   "source": [
    "- numbers and strings and ``DataFrame`` and even functions are objects [11]"
   ]
  },
  {
   "cell_type": "markdown",
   "id": "98335c2b",
   "metadata": {},
   "source": [
    "- everything has a class - a blueprint associated with it under the hood - the existence of these unified interfaces is why any ``DataFrame`` can be used in the same way [11]"
   ]
  },
  {
   "cell_type": "markdown",
   "id": "b3733a5b",
   "metadata": {},
   "source": [
    "- an object is a representational entity (animal - ``list``) representing something that may be a real world thing that can be visualised or it may not be [6]"
   ]
  },
  {
   "cell_type": "markdown",
   "id": "7c4c12f3",
   "metadata": {},
   "source": [
    "- an object is a data structure incorporating information about state and behavior [11]"
   ]
  },
  {
   "cell_type": "markdown",
   "id": "271f18e1",
   "metadata": {},
   "source": [
    "- an object representing a customer can have a certain:\n",
    "\n",
    "i. state being phone number and email associated with them \n",
    "\n",
    "ii. behaviours like place order or cancel order [11]"
   ]
  },
  {
   "cell_type": "markdown",
   "id": "efda5c91",
   "metadata": {},
   "source": [
    "- an object representing a button on a website can have a label and can trigger an event when pressed [11]"
   ]
  },
  {
   "cell_type": "markdown",
   "id": "a620a57d",
   "metadata": {},
   "source": [
    "- the distinctive feature of OOP is that state and behavior are bundled together [11]\n",
    "\n",
    "$$Object = state + behavior$$"
   ]
  },
  {
   "cell_type": "markdown",
   "id": "1907ff3f",
   "metadata": {},
   "source": [
    "- instead of thinking of customer data separately from customer actions think of them as one unit representing a customer [11]"
   ]
  },
  {
   "cell_type": "markdown",
   "id": "612b8046",
   "metadata": {},
   "source": [
    "- called encapsulation and its one of the core tenets of object-oriented programming [11]"
   ]
  },
  {
   "cell_type": "code",
   "execution_count": 1,
   "id": "957aac47",
   "metadata": {},
   "outputs": [
    {
     "data": {
      "text/html": [
       "<style>.container { width:100% !important; }</style>"
      ],
      "text/plain": [
       "<IPython.core.display.HTML object>"
      ]
     },
     "metadata": {},
     "output_type": "display_data"
    }
   ],
   "source": [
    "from sys import path; path.insert(1,\"../src\")\n",
    "from fubar import fIsObject"
   ]
  },
  {
   "cell_type": "code",
   "execution_count": 2,
   "id": "430d141e",
   "metadata": {},
   "outputs": [
    {
     "name": "stdout",
     "output_type": "stream",
     "text": [
      "# repository ./fubar-python\r\n",
      "def fIsObject(nParSomething):\r\n",
      "    \"\"\"Everything in python is an object.\r\n",
      "    \r\n",
      "Input: nParSomething\r\n",
      "Process: (isinstance)\r\n",
      "Output: boolean True or False\r\n",
      "\"\"\"\r\n",
      "    return isinstance(nParSomething,object)\r\n",
      "# --- END ---\r\n"
     ]
    }
   ],
   "source": [
    "%%script bash\n",
    "grep -1 \"def fIsObject\" ../src/fubar.py -A 8"
   ]
  },
  {
   "cell_type": "code",
   "execution_count": 3,
   "id": "367c70d2",
   "metadata": {},
   "outputs": [
    {
     "data": {
      "text/plain": [
       "True"
      ]
     },
     "execution_count": 3,
     "metadata": {},
     "output_type": "execute_result"
    }
   ],
   "source": [
    "fIsObject(nParSomething=0)"
   ]
  },
  {
   "cell_type": "code",
   "execution_count": 4,
   "id": "1c9217c4",
   "metadata": {},
   "outputs": [
    {
     "data": {
      "text/plain": [
       "True"
      ]
     },
     "execution_count": 4,
     "metadata": {},
     "output_type": "execute_result"
    }
   ],
   "source": [
    "fIsObject(nParSomething=fIsObject)"
   ]
  },
  {
   "cell_type": "code",
   "execution_count": 5,
   "id": "4dd7ab8a",
   "metadata": {},
   "outputs": [
    {
     "data": {
      "text/plain": [
       "True"
      ]
     },
     "execution_count": 5,
     "metadata": {},
     "output_type": "execute_result"
    }
   ],
   "source": [
    "fIsObject(nParSomething=fIsObject(0))"
   ]
  },
  {
   "cell_type": "code",
   "execution_count": 6,
   "id": "a4aeaaa6",
   "metadata": {},
   "outputs": [],
   "source": [
    "exit()"
   ]
  },
  {
   "cell_type": "markdown",
   "id": "4b5f6b16",
   "metadata": {},
   "source": [
    "- an object has both state and functionality [6]"
   ]
  },
  {
   "cell_type": "markdown",
   "id": "d7240011",
   "metadata": {},
   "source": [
    "< [Table of Contents](#top) | [References](#references) >\n",
    "<a id=\"objectOrientedProgrammingObjectState\"></a>\n",
    "***\n",
    "###### State\n",
    "***"
   ]
  },
  {
   "cell_type": "markdown",
   "id": "f73003fc",
   "metadata": {},
   "source": [
    "- the representation of an animal would have state meaning information about it - an animal would have a name and age and species and perhaps characteristics like number of number years expected to live etc which varies between different animals [6] "
   ]
  },
  {
   "cell_type": "markdown",
   "id": "e901d29c",
   "metadata": {},
   "source": [
    "- attributes (or states) in ``Python`` objects are represented by variables (like numbers or strings or tuples in the case of the ``numpy`` array ``shape``) [11]"
   ]
  },
  {
   "cell_type": "markdown",
   "id": "7ecef386",
   "metadata": {},
   "source": [
    "$$attribute\\Leftrightarrow variables$$"
   ]
  },
  {
   "cell_type": "markdown",
   "id": "dede2967",
   "metadata": {},
   "source": [
    "< [Table of Contents](#top) | [References](#references) >\n",
    "<a id=\"objectOrientedProgrammingObjectFunctionality\"></a>\n",
    "***\n",
    "###### Functionality\n",
    "***"
   ]
  },
  {
   "cell_type": "markdown",
   "id": "b2c41110",
   "metadata": {},
   "source": [
    "- the representation of an animal would have functionality meaning to perform some action - some actions would only be applicable to specific animals so there will be differences between different kinds of animals [6]"
   ]
  },
  {
   "cell_type": "markdown",
   "id": "732c6b6f",
   "metadata": {},
   "source": [
    "- methods or behaviours are represented by functions [11]"
   ]
  },
  {
   "cell_type": "markdown",
   "id": "6d1f81f7",
   "metadata": {},
   "source": [
    "$$method\\Leftrightarrow function()$$"
   ]
  },
  {
   "cell_type": "markdown",
   "id": "6abcad04",
   "metadata": {},
   "source": [
    "- can list all the attributes and methods that an object has by calling ``dir`` on it [11]"
   ]
  },
  {
   "cell_type": "markdown",
   "id": "d5dcad87",
   "metadata": {},
   "source": [
    "< [Table of Contents](#top) | [References](#references) >\n",
    "<a id=\"objectOrientedProgrammingClass\"></a>\n",
    "***\n",
    "###### Class\n",
    "***"
   ]
  },
  {
   "cell_type": "markdown",
   "id": "375da02d",
   "metadata": {},
   "source": [
    "- real strength of OOP comes from utilizing classes [11]"
   ]
  },
  {
   "cell_type": "markdown",
   "id": "9add0223",
   "metadata": {},
   "source": [
    "- classes are like blueprints for objects [11]"
   ]
  },
  {
   "cell_type": "markdown",
   "id": "6bdbcd72",
   "metadata": {},
   "source": [
    "- describe the possible states and behaviours that every object of a certain type could have [11]"
   ]
  },
  {
   "cell_type": "markdown",
   "id": "43c3f97f",
   "metadata": {},
   "source": [
    "$$State\\Leftrightarrow attributes$$"
   ]
  },
  {
   "cell_type": "code",
   "execution_count": 1,
   "id": "9a54a7df",
   "metadata": {},
   "outputs": [],
   "source": [
    "import numpy as np"
   ]
  },
  {
   "cell_type": "code",
   "execution_count": 2,
   "id": "455970c1",
   "metadata": {},
   "outputs": [],
   "source": [
    "a=np.array([1,2,3,4])"
   ]
  },
  {
   "cell_type": "code",
   "execution_count": 3,
   "id": "e94068f6",
   "metadata": {},
   "outputs": [
    {
     "data": {
      "text/plain": [
       "(4,)"
      ]
     },
     "execution_count": 3,
     "metadata": {},
     "output_type": "execute_result"
    }
   ],
   "source": [
    "a.shape # access instance attribute"
   ]
  },
  {
   "cell_type": "markdown",
   "id": "f69aea51",
   "metadata": {},
   "source": [
    "$$Behaviour\\Leftrightarrow methods$$"
   ]
  },
  {
   "cell_type": "code",
   "execution_count": 4,
   "id": "01be76ab",
   "metadata": {},
   "outputs": [
    {
     "data": {
      "text/plain": [
       "array([1, 2, 3, 4])"
      ]
     },
     "execution_count": 4,
     "metadata": {},
     "output_type": "execute_result"
    }
   ],
   "source": [
    "a"
   ]
  },
  {
   "cell_type": "code",
   "execution_count": 5,
   "id": "a08f6e09",
   "metadata": {},
   "outputs": [
    {
     "data": {
      "text/plain": [
       "array([[1, 2],\n",
       "       [3, 4]])"
      ]
     },
     "execution_count": 5,
     "metadata": {},
     "output_type": "execute_result"
    }
   ],
   "source": [
    "a.reshape(2,2) # call instance method"
   ]
  },
  {
   "cell_type": "code",
   "execution_count": 6,
   "id": "b3855d17",
   "metadata": {},
   "outputs": [
    {
     "data": {
      "text/plain": [
       "4"
      ]
     },
     "execution_count": 6,
     "metadata": {},
     "output_type": "execute_result"
    }
   ],
   "source": [
    "a.max() # call instance method"
   ]
  },
  {
   "cell_type": "markdown",
   "id": "138984d9",
   "metadata": {},
   "source": [
    "- say \"every customer will have a phone number and an email and will be able to place and cancel orders\" then just defined a class - can talk about customers in a unified way [11]"
   ]
  },
  {
   "attachments": {
    "image.png": {
     "image/png": "[encoded data removed]"
    }
   },
   "cell_type": "markdown",
   "id": "7d33aedc",
   "metadata": {},
   "source": [
    "![image.png](attachment:image.png)"
   ]
  },
  {
   "cell_type": "markdown",
   "id": "ec614ae0",
   "metadata": {},
   "source": [
    "- a specific ``Customer`` object is just a realization of this class with particular state values [11]"
   ]
  },
  {
   "attachments": {
    "image.png": {
     "image/png": "[encoded data removed]"
    }
   },
   "cell_type": "markdown",
   "id": "434b0abf",
   "metadata": {},
   "source": [
    "![image.png](attachment:image.png)"
   ]
  },
  {
   "cell_type": "markdown",
   "id": "62dd1dcd",
   "metadata": {},
   "source": [
    "- so the class of an object is like a template that specifies what kind of states the object can have and what functionality it can perform - each specific instance of the class is called an object [6]"
   ]
  },
  {
   "cell_type": "markdown",
   "id": "a163c721",
   "metadata": {},
   "source": [
    "- as a blueprint [7 p. 3] it may help to think of a class as an idea for how something should be defined [7 p. 2] (a form or questionnaire) - it defines the needed information [7 p .3]"
   ]
  },
  {
   "cell_type": "markdown",
   "id": "687511c7",
   "metadata": {},
   "source": [
    "- the keyword ``class`` indicates creation - the class is just for defining the ``CDog`` and not actually creating instances of individual dogs with specific names and ages [7 p .4]"
   ]
  },
  {
   "cell_type": "code",
   "execution_count": 7,
   "id": "86e53936",
   "metadata": {},
   "outputs": [],
   "source": [
    "# define class - CDog\n",
    "class CDog:\n",
    "    pass"
   ]
  },
  {
   "cell_type": "markdown",
   "id": "90215b33",
   "metadata": {},
   "source": [
    "- parentheses specifies the parent class that a programmer is inheriting from - with ``python3`` its no longer necessary because it is the implicit default whereby all classes create objects [7 p .4]"
   ]
  },
  {
   "cell_type": "code",
   "execution_count": 8,
   "id": "1aee98bc",
   "metadata": {},
   "outputs": [],
   "source": [
    "# define class - CDog\n",
    "class CDog(object):\n",
    "    pass"
   ]
  },
  {
   "cell_type": "code",
   "execution_count": 9,
   "id": "e57dbc6a",
   "metadata": {},
   "outputs": [],
   "source": [
    "exit()"
   ]
  },
  {
   "cell_type": "markdown",
   "id": "ca423246",
   "metadata": {},
   "source": [
    "- data (each thing or object) is an instance of some ``class`` [7 p .2]"
   ]
  },
  {
   "cell_type": "markdown",
   "id": "cce73e2b",
   "metadata": {},
   "source": [
    "- primitive data structures (numbers and strings and lists) are designed to represent simple things - if a programmer wanted to represent something more complicated such as tracking a number of different animals using the primitive data structure ``list`` then the first element could be the animal name and the second element could represent its age [7 p .4]"
   ]
  },
  {
   "cell_type": "markdown",
   "id": "55567210",
   "metadata": {},
   "source": [
    "- the problem with this approach is how would another programmer know which element is supposed to be which - what if another programmer had one-hundred different animals then can that programmer be certain each animal has both a name and an age - what if a programmer wanted to add other properties to these animals - this lacks organisation [7 p .4]"
   ]
  },
  {
   "cell_type": "markdown",
   "id": "c934bba1",
   "metadata": {},
   "source": [
    "- this is the exact need for classes and are used to create new user-defined data structures that contain arbitrary information about something [7 p .4]"
   ]
  },
  {
   "cell_type": "markdown",
   "id": "3c65b870",
   "metadata": {},
   "source": [
    "- in the case of an animal a programmer could create a ``class`` (name ``CAnimal``) to track properties about the animal like name and age - important to note that a ``class`` just provides structure and it is a blueprint for how something should be defined (it does not actually provide any real content itself) [7 p .4]"
   ]
  },
  {
   "cell_type": "markdown",
   "id": "55303d0a",
   "metadata": {},
   "source": [
    "< [Table of Contents](#top) | [References](#references) >\n",
    "<a id=\"objectOrientedProgrammingClassInstantiation\"></a>\n",
    "***\n",
    "###### Instantiation\n",
    "***"
   ]
  },
  {
   "cell_type": "markdown",
   "id": "4bb24024",
   "metadata": {},
   "source": [
    "- instantiating is a fancy term for creating a new unique instance of a ``class`` [7 p. 5]"
   ]
  },
  {
   "cell_type": "code",
   "execution_count": 1,
   "id": "8509985a",
   "metadata": {},
   "outputs": [],
   "source": [
    "# define class - CDog\n",
    "class CDog:\n",
    "    pass"
   ]
  },
  {
   "cell_type": "markdown",
   "id": "1e42b8bb",
   "metadata": {},
   "source": [
    "- creating two new dogs each assigned to different objects - to create an instance of a ``class`` use the ``class`` name followed by parentheses [7 p. 5]"
   ]
  },
  {
   "cell_type": "code",
   "execution_count": 2,
   "id": "ce1d5191",
   "metadata": {},
   "outputs": [
    {
     "data": {
      "text/plain": [
       "<__main__.CDog at 0x1c67787e130>"
      ]
     },
     "execution_count": 2,
     "metadata": {},
     "output_type": "execute_result"
    }
   ],
   "source": [
    "# instantiate object - CDog\n",
    "CDog()"
   ]
  },
  {
   "cell_type": "code",
   "execution_count": 3,
   "id": "bc98ca16",
   "metadata": {},
   "outputs": [
    {
     "data": {
      "text/plain": [
       "<__main__.CDog at 0x1c67787ea30>"
      ]
     },
     "execution_count": 3,
     "metadata": {},
     "output_type": "execute_result"
    }
   ],
   "source": [
    "# instantiate object - CDog\n",
    "CDog()"
   ]
  },
  {
   "cell_type": "markdown",
   "id": "49f5cc81",
   "metadata": {},
   "source": [
    "- to verify each instance is different (create two more dogs) [7 p. 5]"
   ]
  },
  {
   "cell_type": "code",
   "execution_count": 4,
   "id": "d879df6f",
   "metadata": {},
   "outputs": [],
   "source": [
    "# instantiate object - CDog\n",
    "nInsObjA=CDog()"
   ]
  },
  {
   "cell_type": "code",
   "execution_count": 5,
   "id": "f7c589b0",
   "metadata": {},
   "outputs": [
    {
     "data": {
      "text/plain": [
       "1951920546240"
      ]
     },
     "execution_count": 5,
     "metadata": {},
     "output_type": "execute_result"
    }
   ],
   "source": [
    "id(nInsObjA)"
   ]
  },
  {
   "cell_type": "code",
   "execution_count": 6,
   "id": "97d7193f",
   "metadata": {},
   "outputs": [
    {
     "data": {
      "text/plain": [
       "__main__.CDog"
      ]
     },
     "execution_count": 6,
     "metadata": {},
     "output_type": "execute_result"
    }
   ],
   "source": [
    "type(nInsObjA)"
   ]
  },
  {
   "cell_type": "code",
   "execution_count": 7,
   "id": "be96ef72",
   "metadata": {},
   "outputs": [],
   "source": [
    "# instantiate object - CDog\n",
    "nInsObjB=CDog()"
   ]
  },
  {
   "cell_type": "code",
   "execution_count": 8,
   "id": "76f1d3cb",
   "metadata": {},
   "outputs": [
    {
     "data": {
      "text/plain": [
       "1951920548496"
      ]
     },
     "execution_count": 8,
     "metadata": {},
     "output_type": "execute_result"
    }
   ],
   "source": [
    "id(nInsObjB)"
   ]
  },
  {
   "cell_type": "code",
   "execution_count": 9,
   "id": "ff4a822c",
   "metadata": {},
   "outputs": [
    {
     "data": {
      "text/plain": [
       "__main__.CDog"
      ]
     },
     "execution_count": 9,
     "metadata": {},
     "output_type": "execute_result"
    }
   ],
   "source": [
    "type(nInsObjB)"
   ]
  },
  {
   "cell_type": "code",
   "execution_count": 10,
   "id": "b9e20aad",
   "metadata": {},
   "outputs": [
    {
     "data": {
      "text/plain": [
       "False"
      ]
     },
     "execution_count": 10,
     "metadata": {},
     "output_type": "execute_result"
    }
   ],
   "source": [
    "nInsObjA==nInsObjB"
   ]
  },
  {
   "cell_type": "code",
   "execution_count": 11,
   "id": "76f92153",
   "metadata": {},
   "outputs": [
    {
     "data": {
      "text/plain": [
       "__main__.CDog"
      ]
     },
     "execution_count": 11,
     "metadata": {},
     "output_type": "execute_result"
    }
   ],
   "source": [
    "type(CDog())"
   ]
  },
  {
   "cell_type": "code",
   "execution_count": 12,
   "id": "76b5ad78",
   "metadata": {},
   "outputs": [],
   "source": [
    "exit()"
   ]
  },
  {
   "cell_type": "markdown",
   "id": "7cda75b3",
   "metadata": {},
   "source": [
    "< [Table of Contents](#top) | [References](#references) >\n",
    "<a id=\"objectOrientedProgrammingClassAttribute\"></a>\n",
    "***\n",
    "###### Attribute\n",
    "***"
   ]
  },
  {
   "cell_type": "markdown",
   "id": "44f412cc",
   "metadata": {},
   "source": [
    "- ``class`` attributes are the same for all instances [7 p. 4]"
   ]
  },
  {
   "cell_type": "markdown",
   "id": "7051aee5",
   "metadata": {},
   "source": [
    "- while each dog has a unique name and age every dog will be a mammal [7 p. 4]"
   ]
  },
  {
   "cell_type": "code",
   "execution_count": 1,
   "id": "9bc5a783",
   "metadata": {},
   "outputs": [],
   "source": [
    "# define class - CDog\n",
    "class CDog:\n",
    "    nClsAttSpecies=\"mammal\""
   ]
  },
  {
   "cell_type": "markdown",
   "id": "d615750b",
   "metadata": {},
   "source": [
    "- ``instance`` attributes are specific to each object [7 p. 4]"
   ]
  },
  {
   "cell_type": "markdown",
   "id": "dadb434e",
   "metadata": {},
   "source": [
    "- a ``class`` creates objects and all objects contain characteristics called attributes (properties) [7 p. 4]"
   ]
  },
  {
   "cell_type": "markdown",
   "id": "17a262aa",
   "metadata": {},
   "source": [
    "- method ``__init__`` is used to initialise (specify) an objects initial attributes by giving a default value (state) [7 p. 4]"
   ]
  },
  {
   "cell_type": "markdown",
   "id": "cefe0199",
   "metadata": {},
   "source": [
    "-  ``__init__`` must have at least one argument (``self``) which refers to the object itself [7 p. 4]"
   ]
  },
  {
   "cell_type": "markdown",
   "id": "c064d7bb",
   "metadata": {},
   "source": [
    "- ``CDog`` will never have to call ``__init__`` as it gets called automatically when creating a new instance of ``CDog`` [7 p. 4]"
   ]
  },
  {
   "cell_type": "code",
   "execution_count": 2,
   "id": "6bfbf373",
   "metadata": {},
   "outputs": [],
   "source": [
    "# define class - CDog\n",
    "class CDog:\n",
    "    nClsAttSpecies=\"mammal\"\n",
    "    def __init__(self,nInsAttName,nInsAttAge):\n",
    "        self.nInsAttName=nInsAttName\n",
    "        self.nInsAttAge=nInsAttAge"
   ]
  },
  {
   "cell_type": "code",
   "execution_count": 3,
   "id": "67d93c29",
   "metadata": {},
   "outputs": [],
   "source": [
    "exit()"
   ]
  },
  {
   "cell_type": "markdown",
   "id": "08557471",
   "metadata": {},
   "source": [
    "- each dog has a specific name and age [7 p. 4]"
   ]
  },
  {
   "cell_type": "markdown",
   "id": "acb0d496",
   "metadata": {},
   "source": [
    "- when creating different dogs the keyword ``class`` is just for defining the ``CDog`` and is not actually creating instances of individual dogs with specific names and ages [7 p. 4]"
   ]
  },
  {
   "cell_type": "markdown",
   "id": "280e7f16",
   "metadata": {},
   "source": [
    "- name ``self`` is also an instance of the ``class`` and since instances of a class have varying values a programmer could state [7 p. 4]\n",
    "\n",
    "```python\n",
    "CDog.nInsAttName=nInsAttName # rather than self\n",
    "```\n",
    "\n",
    "```python\n",
    "self.nInsAttName=nInsAttName\n",
    "```"
   ]
  },
  {
   "cell_type": "markdown",
   "id": "3fb00b96",
   "metadata": {},
   "source": [
    "- since not all dogs share the same name need to be able to assign different values to different instances hence the need for the special name ``self`` which will help keep track of individual instances of each ``class`` [7 p. 4]"
   ]
  },
  {
   "cell_type": "markdown",
   "id": "98909ba5",
   "metadata": {},
   "source": [
    "< [Table of Contents](#top) | [References](#references) >\n",
    "<a id=\"objectOrientedProgrammingClassMethod\"></a>\n",
    "***\n",
    "###### Method\n",
    "***"
   ]
  },
  {
   "cell_type": "markdown",
   "id": "d4cbb44c",
   "metadata": {},
   "source": [
    "- ``instance`` methods are defined inside a ``class``  [8]\n",
    "\n",
    "i) getting the contents of an instance and:\n",
    "\n",
    "ii) perform operations with the attributes of objects (like ``__init__`` the first argument is always ``self``) [8]"
   ]
  },
  {
   "cell_type": "code",
   "execution_count": 1,
   "id": "04d40f08",
   "metadata": {},
   "outputs": [],
   "source": [
    "# define class - CDog\n",
    "class CDog():\n",
    "    nClsAttSpecies=\"mammal\"\n",
    "    def __init__(self,nInsAttName,nInsAttAge):\n",
    "        self.nInsAttName=nInsAttName\n",
    "        self.nInsAttAge=nInsAttAge\n",
    "    def fInsMetDescription(self):\n",
    "        return \"{} is {} years old\".format(self.nInsAttName,self.nInsAttAge)\n",
    "    def fInsMetSpeak(self,nInsAttSound):\n",
    "        return \"{} says {}\".format(self.nInsAttName,nInsAttSound)"
   ]
  },
  {
   "cell_type": "markdown",
   "id": "9833c01d",
   "metadata": {},
   "source": [
    "- the new instance of ``CDog`` is assigned to name ``nInsObjMikey`` [8]"
   ]
  },
  {
   "cell_type": "markdown",
   "id": "3c7856b0",
   "metadata": {},
   "source": [
    "- the two arguments passed represent the dogs name and age respectively [8]"
   ]
  },
  {
   "cell_type": "markdown",
   "id": "672d0e06",
   "metadata": {},
   "source": [
    "- ``Mikey`` and ``6`` are the attributes passed to the ``__init__`` which gets called any time a new instance is created [8]"
   ]
  },
  {
   "cell_type": "markdown",
   "id": "d263c489",
   "metadata": {},
   "source": [
    "- the argument ``self`` is python magic in that when a new instance of the ``class`` is created python automatically determines what ``self`` is which is a dog in this case and passes it to ``__init__`` [8]"
   ]
  },
  {
   "cell_type": "code",
   "execution_count": 2,
   "id": "d4e365f1",
   "metadata": {},
   "outputs": [],
   "source": [
    "# instantiate object - CDog\n",
    "nInsObjMikey=CDog(\"Mikey\",6)"
   ]
  },
  {
   "cell_type": "code",
   "execution_count": 3,
   "id": "a081f661",
   "metadata": {},
   "outputs": [
    {
     "name": "stdout",
     "output_type": "stream",
     "text": [
      "<__main__.CDog object at 0x000001B6686CF820>\n"
     ]
    }
   ],
   "source": [
    "print(nInsObjMikey)"
   ]
  },
  {
   "cell_type": "markdown",
   "id": "4608bb64",
   "metadata": {},
   "source": [
    "- dot notation is used to access the ``class`` and ``instance`` (attributes from each object) [8]"
   ]
  },
  {
   "cell_type": "code",
   "execution_count": 4,
   "id": "ade78ad3",
   "metadata": {},
   "outputs": [
    {
     "name": "stdout",
     "output_type": "stream",
     "text": [
      "Mikey is a mammal!\n"
     ]
    }
   ],
   "source": [
    "if nInsObjMikey.nClsAttSpecies==\"mammal\":\n",
    "    print(\"{0} is a {1}!\".format(nInsObjMikey.nInsAttName,nInsObjMikey.nClsAttSpecies))"
   ]
  },
  {
   "cell_type": "code",
   "execution_count": 5,
   "id": "260038ce",
   "metadata": {},
   "outputs": [
    {
     "name": "stdout",
     "output_type": "stream",
     "text": [
      "Mikey is 6\n"
     ]
    }
   ],
   "source": [
    "print(\"{} is {}\".format(nInsObjMikey.nInsAttName,nInsObjMikey.nInsAttAge))"
   ]
  },
  {
   "cell_type": "code",
   "execution_count": 6,
   "id": "aa3c7339",
   "metadata": {},
   "outputs": [
    {
     "name": "stdout",
     "output_type": "stream",
     "text": [
      "Mikey is 6 years old\n",
      "Mikey says Gruff Gruff\n"
     ]
    }
   ],
   "source": [
    "print(nInsObjMikey.fInsMetDescription())\n",
    "print(nInsObjMikey.fInsMetSpeak(\"Gruff Gruff\"))"
   ]
  },
  {
   "cell_type": "markdown",
   "id": "b28c40e0",
   "metadata": {},
   "source": [
    "- can change the value of attributes based on some behaviour [8]"
   ]
  },
  {
   "cell_type": "markdown",
   "id": "d623d119",
   "metadata": {},
   "source": [
    "- ``fInsMetSendEmail`` updates the instance attribute ``nInsAttIsEmailSent`` when an email is sent [8]"
   ]
  },
  {
   "cell_type": "code",
   "execution_count": 7,
   "id": "ce18aabf",
   "metadata": {},
   "outputs": [],
   "source": [
    "# define class - CEmail\n",
    "class CEmail:\n",
    "    def __init__(self):\n",
    "        self.nInsAttIsEmailSent=False\n",
    "    def fInsMetSendEmail(self):\n",
    "        self.nInsAttIsEmailSent=True"
   ]
  },
  {
   "cell_type": "code",
   "execution_count": 8,
   "id": "0f0afb85",
   "metadata": {},
   "outputs": [],
   "source": [
    "# instantiate object - CEmail\n",
    "nInsObjMyEmail=CEmail()"
   ]
  },
  {
   "cell_type": "code",
   "execution_count": 9,
   "id": "ae239720",
   "metadata": {},
   "outputs": [
    {
     "data": {
      "text/plain": [
       "False"
      ]
     },
     "execution_count": 9,
     "metadata": {},
     "output_type": "execute_result"
    }
   ],
   "source": [
    "nInsObjMyEmail.nInsAttIsEmailSent"
   ]
  },
  {
   "cell_type": "code",
   "execution_count": 10,
   "id": "7f8162b0",
   "metadata": {},
   "outputs": [],
   "source": [
    "nInsObjMyEmail.fInsMetSendEmail()"
   ]
  },
  {
   "cell_type": "code",
   "execution_count": 11,
   "id": "755cf46e",
   "metadata": {},
   "outputs": [
    {
     "data": {
      "text/plain": [
       "True"
      ]
     },
     "execution_count": 11,
     "metadata": {},
     "output_type": "execute_result"
    }
   ],
   "source": [
    "nInsObjMyEmail.nInsAttIsEmailSent"
   ]
  },
  {
   "cell_type": "code",
   "execution_count": 12,
   "id": "eaed9e5f",
   "metadata": {},
   "outputs": [],
   "source": [
    "exit()"
   ]
  },
  {
   "cell_type": "markdown",
   "id": "42c85bd3",
   "metadata": {},
   "source": [
    "< [Table of Contents](#top) | [References](#references) >\n",
    "<a id=\"objectOrientedProgrammingInheritance\"></a>\n",
    "***\n",
    "###### Inheritance\n",
    "***"
   ]
  },
  {
   "cell_type": "markdown",
   "id": "afe52690",
   "metadata": {},
   "source": [
    "- the process by which one class takes on the attributes and methods of another class [7]"
   ]
  },
  {
   "cell_type": "markdown",
   "id": "a2fb246c",
   "metadata": {},
   "source": [
    "- newly formed classes are called child classes [7]"
   ]
  },
  {
   "cell_type": "markdown",
   "id": "88948451",
   "metadata": {},
   "source": [
    "- the classes that child classes are derived from are called parent classes [7]"
   ]
  },
  {
   "cell_type": "markdown",
   "id": "091c3f09",
   "metadata": {},
   "source": [
    "- note that child classes override or extend the functionality (attributes and behaviours) of parent classes [7]"
   ]
  },
  {
   "cell_type": "markdown",
   "id": "496dc95f",
   "metadata": {},
   "source": [
    "- in other words child classes inherit all of the parents attributes and behaviours but can also specify different behaviour to follow [7]"
   ]
  },
  {
   "cell_type": "markdown",
   "id": "3c08d189",
   "metadata": {},
   "source": [
    "- most basic type of class is an object which generally all other classes inherit as their parent - python3 implicitly uses object as the parent class (both are the same) [7]"
   ]
  },
  {
   "cell_type": "code",
   "execution_count": 1,
   "id": "df6d5a3c",
   "metadata": {},
   "outputs": [],
   "source": [
    "# define class - PCDog\n",
    "class PCDog(object):\n",
    "    pass"
   ]
  },
  {
   "cell_type": "code",
   "execution_count": 2,
   "id": "70a7d5b8",
   "metadata": {},
   "outputs": [],
   "source": [
    "# define class - PCDog\n",
    "class PCDog:\n",
    "    pass"
   ]
  },
  {
   "cell_type": "markdown",
   "id": "5bdb67c8",
   "metadata": {},
   "source": [
    "- pretend at a dog park there are multiple dogs (objects) [7]"
   ]
  },
  {
   "cell_type": "markdown",
   "id": "71346c46",
   "metadata": {},
   "source": [
    "- the dogs are all engaging in dog behaviours - each with different attributes - regular-speak means is to say some dogs are running and some are stretching and some just watching other dogs [7]"
   ]
  },
  {
   "cell_type": "markdown",
   "id": "86e962de",
   "metadata": {},
   "source": [
    "- furthermore each dog has been named by its owner and since each dog is living and breathing therefore each dog ages - another way to differentiate one dog from another would be by breed [7]"
   ]
  },
  {
   "cell_type": "code",
   "execution_count": 3,
   "id": "c5f61948",
   "metadata": {},
   "outputs": [],
   "source": [
    "# define class - PCDog\n",
    "class PCDog:\n",
    "    # instance attributes - initialiser\n",
    "    def __init__(self,nInsAttBreed):\n",
    "        self.nInsAttBreed=nInsAttBreed"
   ]
  },
  {
   "cell_type": "code",
   "execution_count": 4,
   "id": "a8b4c2bd",
   "metadata": {},
   "outputs": [],
   "source": [
    "# instantiate object - PCDog\n",
    "nInsObjSpencer=PCDog(\"German Shepard\")"
   ]
  },
  {
   "cell_type": "code",
   "execution_count": 5,
   "id": "90e9632d",
   "metadata": {},
   "outputs": [
    {
     "data": {
      "text/plain": [
       "'German Shepard'"
      ]
     },
     "execution_count": 5,
     "metadata": {},
     "output_type": "execute_result"
    }
   ],
   "source": [
    "# instance attributes - access\n",
    "nInsObjSpencer.nInsAttBreed"
   ]
  },
  {
   "cell_type": "code",
   "execution_count": 6,
   "id": "bad87df3",
   "metadata": {},
   "outputs": [],
   "source": [
    "# instantiate object - PCDog\n",
    "nInsObjBob=PCDog(\"Springer Spaniel\")"
   ]
  },
  {
   "cell_type": "code",
   "execution_count": 7,
   "id": "203fbf17",
   "metadata": {},
   "outputs": [
    {
     "data": {
      "text/plain": [
       "'Springer Spaniel'"
      ]
     },
     "execution_count": 7,
     "metadata": {},
     "output_type": "execute_result"
    }
   ],
   "source": [
    "# instance attributes - access\n",
    "nInsObjBob.nInsAttBreed"
   ]
  },
  {
   "cell_type": "markdown",
   "id": "25a692c1",
   "metadata": {},
   "source": [
    "- each breed of dog has slightly different behaviours [7]"
   ]
  },
  {
   "cell_type": "markdown",
   "id": "f27f7ae1",
   "metadata": {},
   "source": [
    "- to take these into account creating separate classes for each breed [7]"
   ]
  },
  {
   "cell_type": "markdown",
   "id": "96a98eea",
   "metadata": {},
   "source": [
    "- ``CCDogGermanShepard`` and ``CCDogSpringerSpaniel`` are child classes of the parent ``PCDog`` class [7]"
   ]
  },
  {
   "cell_type": "code",
   "execution_count": 8,
   "id": "59c07f1b",
   "metadata": {},
   "outputs": [],
   "source": [
    "# define class - PCDog\n",
    "class PCDog:\n",
    "    # class attributes all\n",
    "    nClsAttSpecies=\"mammal\"\n",
    "    # instance attributes - initialiser\n",
    "    def __init__(self,nInsAttName,nInsAttAge):\n",
    "        self.nInsAttName=nInsAttName\n",
    "        self.nInsAttAge=nInsAttAge\n",
    "    # instance methods\n",
    "    def fInsMetDescription(self):\n",
    "        return \"{} is {} years old\".format(self.nInsAttName,self.nInsAttAge)\n",
    "    def fInsMetSound(self,nInsMetParSound):\n",
    "        return \"{} says {}\".format(self.nInsAttName,nInsMetParSound)"
   ]
  },
  {
   "cell_type": "markdown",
   "id": "1e2d549c",
   "metadata": {},
   "source": [
    "- child class ``CCDogGermanShepard`` inherits from parent class ``PCDog`` [7]"
   ]
  },
  {
   "cell_type": "code",
   "execution_count": 9,
   "id": "f62221eb",
   "metadata": {},
   "outputs": [],
   "source": [
    "# define class - CCDogGermanShepard\n",
    "class CCDogGermanShepard(PCDog):\n",
    "    # instance methods\n",
    "    def fInsMetRun(self,nInsMetParSpeed):\n",
    "        return \"{} runs {}\".format(self.nInsAttName,nInsMetParSpeed)"
   ]
  },
  {
   "cell_type": "markdown",
   "id": "ef261fbe",
   "metadata": {},
   "source": [
    "- child class ``CCDogSpringerSpaniel`` inherits from parent class ``PCDog`` [7]"
   ]
  },
  {
   "cell_type": "code",
   "execution_count": 10,
   "id": "106ed59f",
   "metadata": {},
   "outputs": [],
   "source": [
    "# define class - CCDogSpringerSpaniel\n",
    "class CCDogSpringerSpaniel(PCDog):    \n",
    "    # instance methods\n",
    "    def fInsMetRun(self,nInsMetParSpeed):\n",
    "        return \"{} runs {}\".format(self.nInsAttName,nInsMetParSpeed)"
   ]
  },
  {
   "cell_type": "markdown",
   "id": "bb7cdf4c",
   "metadata": {},
   "source": [
    "- child classes inherit attributes and behaviours from the parent class [7]"
   ]
  },
  {
   "cell_type": "markdown",
   "id": "04e9b3fb",
   "metadata": {},
   "source": [
    "- note not adding any special attributes or methods to differentiate a ``CCDogGermanShepard`` from a ``CCDogSpringerSpaniel`` given they are now two different classes - can for instance give them different class attributes defining their respective speeds [7]"
   ]
  },
  {
   "cell_type": "code",
   "execution_count": 11,
   "id": "b7de4b69",
   "metadata": {},
   "outputs": [],
   "source": [
    "# instantiate object - CCDogSpringerSpaniel\n",
    "nBobInsObj=CCDogSpringerSpaniel(\"bob\",13)"
   ]
  },
  {
   "cell_type": "code",
   "execution_count": 12,
   "id": "9bda72b7",
   "metadata": {},
   "outputs": [
    {
     "data": {
      "text/plain": [
       "'bob is 13 years old'"
      ]
     },
     "execution_count": 12,
     "metadata": {},
     "output_type": "execute_result"
    }
   ],
   "source": [
    "# instance methods - call\n",
    "nBobInsObj.fInsMetDescription()"
   ]
  },
  {
   "cell_type": "markdown",
   "id": "d7ef34e3",
   "metadata": {},
   "source": [
    "- child classes have specific attributes and behaviours as well [7]"
   ]
  },
  {
   "cell_type": "code",
   "execution_count": 13,
   "id": "8aa3154d",
   "metadata": {},
   "outputs": [
    {
     "name": "stdout",
     "output_type": "stream",
     "text": [
      "bob runs slowly\n"
     ]
    }
   ],
   "source": [
    "# instance methods - call\n",
    "print(nBobInsObj.fInsMetRun(\"slowly\"))"
   ]
  },
  {
   "cell_type": "markdown",
   "id": "3ed08607",
   "metadata": {},
   "source": [
    "- to determine if an instance is also an instance of a certain class (parent or child) can check if ``nBobInsObj`` is an instance of parent class ``PCDog`` [7]"
   ]
  },
  {
   "cell_type": "markdown",
   "id": "6e82d265",
   "metadata": {},
   "source": [
    "- ``nBobInsObj`` is an instance of the parent class ``PCDog`` [7]"
   ]
  },
  {
   "cell_type": "code",
   "execution_count": 14,
   "id": "74b2a6c7",
   "metadata": {},
   "outputs": [
    {
     "data": {
      "text/plain": [
       "True"
      ]
     },
     "execution_count": 14,
     "metadata": {},
     "output_type": "execute_result"
    }
   ],
   "source": [
    "isinstance(nBobInsObj,PCDog)"
   ]
  },
  {
   "cell_type": "markdown",
   "id": "9da59712",
   "metadata": {},
   "source": [
    "- ``nBobInsObj`` is an instance of child class ``CCDogSpringerSpaniel`` [7]"
   ]
  },
  {
   "cell_type": "code",
   "execution_count": 15,
   "id": "10552a5a",
   "metadata": {},
   "outputs": [
    {
     "data": {
      "text/plain": [
       "True"
      ]
     },
     "execution_count": 15,
     "metadata": {},
     "output_type": "execute_result"
    }
   ],
   "source": [
    "isinstance(nBobInsObj,CCDogSpringerSpaniel)"
   ]
  },
  {
   "cell_type": "markdown",
   "id": "52d914cb",
   "metadata": {},
   "source": [
    "- ``nBobInsObj`` is not an instance of child class ``CCDogGermanShepard`` [7]"
   ]
  },
  {
   "cell_type": "code",
   "execution_count": 16,
   "id": "3f5250a2",
   "metadata": {},
   "outputs": [
    {
     "data": {
      "text/plain": [
       "False"
      ]
     },
     "execution_count": 16,
     "metadata": {},
     "output_type": "execute_result"
    }
   ],
   "source": [
    "isinstance(nBobInsObj,CCDogGermanShepard)"
   ]
  },
  {
   "cell_type": "markdown",
   "id": "af4d0914",
   "metadata": {},
   "source": [
    "- checking if ``nBobInsObj`` is an instance of ``nTomInsObj`` [7]"
   ]
  },
  {
   "cell_type": "code",
   "execution_count": 17,
   "id": "4439ac21",
   "metadata": {},
   "outputs": [],
   "source": [
    "nTomInsObj=CCDogGermanShepard(\"tom\",3)"
   ]
  },
  {
   "cell_type": "markdown",
   "id": "7a6096da",
   "metadata": {},
   "source": [
    "- note this is impossible since both are instances of a class rather than a class itself (``TypeError``) [7]"
   ]
  },
  {
   "cell_type": "code",
   "execution_count": 18,
   "id": "8a11d0b1",
   "metadata": {},
   "outputs": [
    {
     "name": "stdout",
     "output_type": "stream",
     "text": [
      "not possible\n"
     ]
    }
   ],
   "source": [
    "try:\n",
    "    isinstance(nTomInsObj,nBobInsObj)\n",
    "except TypeError:\n",
    "    print(\"not possible\")\n",
    "else:\n",
    "    print(\"possible\")"
   ]
  },
  {
   "cell_type": "markdown",
   "id": "93e8c931",
   "metadata": {},
   "source": [
    "- overriding the functionality of a parent class [7]"
   ]
  },
  {
   "cell_type": "markdown",
   "id": "f58daa9a",
   "metadata": {},
   "source": [
    "- child classes can override attributes and behaviours from the parent class [7]"
   ]
  },
  {
   "cell_type": "code",
   "execution_count": 19,
   "id": "5f781238",
   "metadata": {},
   "outputs": [],
   "source": [
    "# define class - PCDog\n",
    "class PCDog:\n",
    "    # class attributes\n",
    "    nClsAttSpecies=\"mammal\""
   ]
  },
  {
   "cell_type": "code",
   "execution_count": 20,
   "id": "1afb4ae7",
   "metadata": {},
   "outputs": [],
   "source": [
    "# define class - PCDog\n",
    "class CCDogOther(PCDog):\n",
    "    pass"
   ]
  },
  {
   "cell_type": "code",
   "execution_count": 21,
   "id": "c8028d92",
   "metadata": {},
   "outputs": [],
   "source": [
    "# define class - PCDog\n",
    "class CCDogAnother(PCDog):\n",
    "    # class attributes\n",
    "    nClsAttSpecies=\"reptile\""
   ]
  },
  {
   "cell_type": "code",
   "execution_count": 22,
   "id": "e94e90d0",
   "metadata": {},
   "outputs": [],
   "source": [
    "# instantiate object - CCDogOther\n",
    "nAnnInsObj=CCDogOther()"
   ]
  },
  {
   "cell_type": "markdown",
   "id": "e42f401e",
   "metadata": {},
   "source": [
    "- the class ``CCDogOther`` inherits the class attribute ``nClsAttSpecies`` from the parent class ``PCDog``[7]"
   ]
  },
  {
   "cell_type": "code",
   "execution_count": 23,
   "id": "f40441c2",
   "metadata": {},
   "outputs": [
    {
     "data": {
      "text/plain": [
       "'mammal'"
      ]
     },
     "execution_count": 23,
     "metadata": {},
     "output_type": "execute_result"
    }
   ],
   "source": [
    "# class attributes - access\n",
    "nAnnInsObj.nClsAttSpecies"
   ]
  },
  {
   "cell_type": "markdown",
   "id": "62d4e4cc",
   "metadata": {},
   "source": [
    "- the class ``CCDogAnother`` overrides ``nClsAttSpecies`` setting it to ``reptile`` [7]"
   ]
  },
  {
   "cell_type": "code",
   "execution_count": 24,
   "id": "6a7cffe3",
   "metadata": {},
   "outputs": [],
   "source": [
    "# instantiate object - CCDogAnother\n",
    "nTedInsObj=CCDogAnother()"
   ]
  },
  {
   "cell_type": "code",
   "execution_count": 25,
   "id": "f230a354",
   "metadata": {},
   "outputs": [
    {
     "data": {
      "text/plain": [
       "'reptile'"
      ]
     },
     "execution_count": 25,
     "metadata": {},
     "output_type": "execute_result"
    }
   ],
   "source": [
    "# class attributes - access\n",
    "nTedInsObj.nClsAttSpecies"
   ]
  },
  {
   "cell_type": "code",
   "execution_count": 26,
   "id": "f8c9b585",
   "metadata": {},
   "outputs": [],
   "source": [
    "exit()"
   ]
  },
  {
   "cell_type": "markdown",
   "id": "9387a59f",
   "metadata": {},
   "source": [
    "< [Table of Contents](#top) | [References](#references) >\n",
    "<a id=\"objectOrientedJava\"></a>\n",
    "***\n",
    "###### Java Programming\n",
    "***"
   ]
  },
  {
   "cell_type": "code",
   "execution_count": null,
   "id": "cf590d80",
   "metadata": {},
   "outputs": [],
   "source": [
    "# fFile(nParPath=\"./hide/04-ObjectOrientedProgramming/MPP - 6.1 - Object Oriented Programming - 17-10-2019.mkv\") # 06:00"
   ]
  },
  {
   "cell_type": "code",
   "execution_count": null,
   "id": "30666e6e",
   "metadata": {},
   "outputs": [],
   "source": [
    "# fFile(nParPath=\"./hide/04-ObjectOrientedProgramming/MPP - 6.2 - Java - 17-10-2019.mp4\")\n",
    "# fFile(nParPath=\"./hide/04-ObjectOrientedProgramming/MPP - 6.3 - Java Part 2 - 17-10-2019.mp4\")\n",
    "# fFile(nParPath=\"./hide/04-ObjectOrientedProgramming/MPP - 6.2 - Java.pdf\")"
   ]
  },
  {
   "cell_type": "markdown",
   "id": "d624f099",
   "metadata": {},
   "source": [
    "- general-purpose programming language [14]"
   ]
  },
  {
   "cell_type": "markdown",
   "id": "6b80eea3",
   "metadata": {},
   "source": [
    "- as long as a machine has an implementation of the ``Java Virtual Machine`` (``JVM``) then the code can be executed and produce the same result regardless of OS [14]"
   ]
  },
  {
   "cell_type": "markdown",
   "id": "8979cb81",
   "metadata": {},
   "source": [
    "- class-based and object-oriented - not a pure object-oriented language as it contains primitive types [14]"
   ]
  },
  {
   "cell_type": "markdown",
   "id": "d347339c",
   "metadata": {},
   "source": [
    "- intended to let application developers write once and run anywhere (``WORA``) [6]"
   ]
  },
  {
   "cell_type": "markdown",
   "id": "dad8363d",
   "metadata": {},
   "source": [
    "> ``Write once, run anywhere`` - ``Java`` Language Tagline"
   ]
  },
  {
   "cell_type": "markdown",
   "id": "00d9e11f",
   "metadata": {},
   "source": [
    "- compiled ``Java`` code can run on all platforms that support ``Java`` without the need for recompilation [6]"
   ]
  },
  {
   "cell_type": "markdown",
   "id": "405ce2f3",
   "metadata": {},
   "source": [
    "- ``Java`` applications are typically compiled to ``bytecode`` that can run on any ``JVM`` [14]"
   ]
  },
  {
   "cell_type": "markdown",
   "id": "2235bd16",
   "metadata": {},
   "source": [
    "- syntax similar to ``C`` and ``C++`` but it has fewer lower-level facilities (``Java`` does automatic memory management  - [Automated Garbage Collector](https://www.geeksforgeeks.org/garbage-collection-java/) [14]"
   ]
  },
  {
   "cell_type": "markdown",
   "id": "99dd7bbe",
   "metadata": {},
   "source": [
    "< [Table of Contents](#top) | [References](#references) >\n",
    "<a id=\"objectOrientedJavaHello\"></a>\n",
    "***\n",
    "###### Hello\n",
    "***"
   ]
  },
  {
   "cell_type": "markdown",
   "id": "3d8247b8",
   "metadata": {},
   "source": [
    "> ### Kernel > Change kernel > Java\n",
    "<hr width=50%;>"
   ]
  },
  {
   "cell_type": "markdown",
   "id": "fc9de1ec",
   "metadata": {},
   "source": [
    "- the ``.java`` file must be named after the public class (``HelloWorldApp.java``) [14]"
   ]
  },
  {
   "cell_type": "markdown",
   "id": "821c9b12",
   "metadata": {},
   "source": [
    "- ``Java`` files are compiled into ``bytecode`` (executes on the ``JVM``) - when compiled the result is a ``HelloWorldApp.class`` [6]"
   ]
  },
  {
   "cell_type": "markdown",
   "id": "b5cb4c28",
   "metadata": {},
   "source": [
    "- keyword ``public`` denotes that a method can be called from code in other classes [14]\n",
    "\n",
    "```java\n",
    "public class HelloWorldApp {\n",
    "```"
   ]
  },
  {
   "cell_type": "markdown",
   "id": "6376aa31",
   "metadata": {},
   "source": [
    "- keyword ``static`` in front of a method indicates a static method which is associated only with the class and not with any specific instance of that class [14]"
   ]
  },
  {
   "cell_type": "markdown",
   "id": "ed71615b",
   "metadata": {},
   "source": [
    "- keyword ``void`` indicates that the ``main`` method does not return any value to the caller - if a ``Java`` program is to exit with an error code then it must call ``System.exit()`` explicitly [14]"
   ]
  },
  {
   "cell_type": "markdown",
   "id": "789285fa",
   "metadata": {},
   "source": [
    "- this is quite similar to function ``main`` in ``C`` - there are many commonalities between ``C`` and ``Java`` syntactically [14]"
   ]
  },
  {
   "cell_type": "markdown",
   "id": "83e5db1b",
   "metadata": {},
   "source": [
    "- like ``C`` the ``main`` function/method is the entry point into the program albeit not the first thing to execute [14]"
   ]
  },
  {
   "cell_type": "markdown",
   "id": "8f77ebfb",
   "metadata": {},
   "source": [
    "- the ``main`` method accepts an array of ``String`` as arguments to the program [14]"
   ]
  },
  {
   "cell_type": "markdown",
   "id": "9a67dad5",
   "metadata": {},
   "source": [
    "- can be used to capture command line flags and other user input [14]\n",
    "\n",
    "\n",
    "```java\n",
    "    public static void main(String[] args) {\n",
    "```"
   ]
  },
  {
   "cell_type": "markdown",
   "id": "6ee97495",
   "metadata": {},
   "source": [
    "- most methods written will be instance methods [14]"
   ]
  },
  {
   "cell_type": "markdown",
   "id": "4a62e16b",
   "metadata": {},
   "source": [
    "- class ``System`` holds a variable called ``out`` (output stream) with ``println`` being a method of that output stream [14]"
   ]
  },
  {
   "cell_type": "markdown",
   "id": "3fa3f3a4",
   "metadata": {},
   "source": [
    "- sending the string ``\"Hello World\"`` to the output stream of the system (standard output stream - print to the console abeit can also redirect elsewhere) [14]"
   ]
  },
  {
   "cell_type": "markdown",
   "id": "1a5b470d",
   "metadata": {},
   "source": [
    "- is an OOP version of the function ``printf`` in ``C`` [14]\n",
    "\n",
    "```java\n",
    "        System.out.println(\"Hello World!\"); // console print string\n",
    "````"
   ]
  },
  {
   "cell_type": "code",
   "execution_count": 1,
   "id": "1c427984",
   "metadata": {},
   "outputs": [],
   "source": [
    "public class HelloWorldApp {\n",
    "    public static void main(String[] args) {\n",
    "        System.out.println(\"Hello World!\"); // console print string\n",
    "    }\n",
    "}"
   ]
  },
  {
   "cell_type": "code",
   "execution_count": 2,
   "id": "5328d1db",
   "metadata": {},
   "outputs": [
    {
     "name": "stdout",
     "output_type": "stream",
     "text": [
      "Hello World!\r\n"
     ]
    }
   ],
   "source": [
    "System.out.println(\"Hello World!\"); // console print string"
   ]
  },
  {
   "cell_type": "markdown",
   "id": "9996ec7f",
   "metadata": {},
   "source": [
    "< [Table of Contents](#top) | [References](#references) >\n",
    "<a id=\"objectOrientedJavaRun\"></a>\n",
    "***\n",
    "###### Run\n",
    "***"
   ]
  },
  {
   "cell_type": "markdown",
   "id": "416d17c9",
   "metadata": {},
   "source": [
    "> ### Kernel > Change kernel > Python 3\n",
    "<hr width=50%;>"
   ]
  },
  {
   "cell_type": "code",
   "execution_count": 1,
   "id": "d3b8a49a",
   "metadata": {},
   "outputs": [
    {
     "name": "stdout",
     "output_type": "stream",
     "text": [
      "Overwriting ./rc/java/HelloWorldApp.java\n"
     ]
    }
   ],
   "source": [
    "%%writefile ./rc/java/HelloWorldApp.java\n",
    "public class HelloWorldApp {\n",
    "    public static void main(String[] args) {\n",
    "        System.out.println(\"Hello World!\"); // console print string\n",
    "    }\n",
    "}"
   ]
  },
  {
   "cell_type": "code",
   "execution_count": 2,
   "id": "121eba0a",
   "metadata": {},
   "outputs": [
    {
     "name": "stdout",
     "output_type": "stream",
     "text": [
      "./rc/java/HelloWorldApp.class\n"
     ]
    }
   ],
   "source": [
    "%%script bash\n",
    "javac ./rc/java/HelloWorldApp.java\n",
    "ls ./rc/java/*.class # compiled bytecode file"
   ]
  },
  {
   "cell_type": "code",
   "execution_count": 3,
   "id": "ba670106",
   "metadata": {},
   "outputs": [
    {
     "name": "stdout",
     "output_type": "stream",
     "text": [
      "Hello World!\r\n"
     ]
    }
   ],
   "source": [
    "%%script bash\n",
    "cd ./rc/java; java HelloWorldApp"
   ]
  },
  {
   "cell_type": "markdown",
   "id": "6c4908fc",
   "metadata": {},
   "source": [
    "< [Table of Contents](#top) | [References](#references) >\n",
    "<a id=\"objectOrientedJavaObject\"></a>\n",
    "***\n",
    "###### Object\n",
    "***"
   ]
  },
  {
   "cell_type": "markdown",
   "id": "edd6add9",
   "metadata": {},
   "source": [
    "> ### Kernel > Change kernel > Java\n",
    "<hr width=50%;>"
   ]
  },
  {
   "cell_type": "markdown",
   "id": "2ed4f5c2",
   "metadata": {},
   "source": [
    "- ``class`` represents a ``Person`` consisting of: i. ``name`` of type ``String`` and ii. ``age`` of type ``int`` [6]\n",
    "\n",
    "\n",
    "- a ``String`` is an object - hides the complexity of using a character array to store a string of characters [6]\n",
    "\n",
    "\n",
    "- ``final`` - given a value that will not change - makes it a constant therefore the value will not change once its assigned [6]\n",
    "\n",
    "\n",
    "- ``private`` is a way of hiding the information [6]\n",
    "\n",
    "\n",
    "```java\n",
    "public final class Person {\n",
    "    private final String name;\n",
    "    private final int age;\n",
    "```"
   ]
  },
  {
   "cell_type": "markdown",
   "id": "beac86a4",
   "metadata": {},
   "source": [
    "- the ``constructor`` makes new instances of a ``Person`` object (passing ``name`` and ``age``) [6]\n",
    "\n",
    "```java\n",
    "    public Person(String name, int age) {\n",
    "    this.name=name;\n",
    "    this.age=age;\n",
    "    }\n",
    "```"
   ]
  },
  {
   "cell_type": "markdown",
   "id": "18877f62",
   "metadata": {},
   "source": [
    "- the method ``toString`` prints out information about an object [6]\n",
    "\n",
    "```java\n",
    "    public String toString(){\n",
    "        return name + \" \" + info;\n",
    "    }\n",
    "```"
   ]
  },
  {
   "cell_type": "markdown",
   "id": "980ab8b9",
   "metadata": {},
   "source": [
    "- the ``Java`` version of ``main`` in ``C`` - the entry point for program execution - will start executing in the main method [6]\n",
    "\n",
    "\n",
    "- always have to write it the exact same way for the ``Java`` compiler to recognise it as the entry point of the program [6]\n",
    "\n",
    "```java\n",
    "public static void main(String[] args)\n",
    "```"
   ]
  },
  {
   "cell_type": "markdown",
   "id": "ab1bb80b",
   "metadata": {},
   "source": [
    "- creating two new instances of the ``Person`` object - object ``instantiation`` [6]\n",
    "\n",
    "\n",
    "- so the blueprint or template or ``class`` called ``Person`` is being used to create a new version of a ``Person`` and stores information about that person [6] \n",
    "\n",
    "```java\n",
    "        Person a = new Person(\"Alice\", 12);\n",
    "        Person b = new Person(\"John\", 34);\n",
    "```"
   ]
  },
  {
   "cell_type": "code",
   "execution_count": 1,
   "id": "053a4028",
   "metadata": {},
   "outputs": [],
   "source": [
    "public final class Person {\n",
    "    private final String name;\n",
    "    private final int age;\n",
    "    \n",
    "    public Person(String name, int age) {\n",
    "    this.name=name;\n",
    "    this.age=age;\n",
    "    }\n",
    "    \n",
    "    public String toString() {\n",
    "        return \"Name: \" + this.name + \" Age: \" + this.age;\n",
    "    }\n",
    "    \n",
    "    public static void main(String[] args) {\n",
    "        Person a = new Person(\"Alice\", 12);\n",
    "        Person b = new Person(\"John\", 34);\n",
    "        System.out.println(a); // automatically calls toString\n",
    "        System.out.println(b);       \n",
    "    }\n",
    "}"
   ]
  },
  {
   "cell_type": "markdown",
   "id": "8aeff3fe",
   "metadata": {},
   "source": [
    "> ### Kernel > Change kernel > Python 3\n",
    "<hr width=50%;>"
   ]
  },
  {
   "cell_type": "code",
   "execution_count": 1,
   "id": "d5a8876b",
   "metadata": {},
   "outputs": [
    {
     "name": "stdout",
     "output_type": "stream",
     "text": [
      "Overwriting ./rc/java/Person.java\n"
     ]
    }
   ],
   "source": [
    "%%writefile ./rc/java/Person.java\n",
    "public final class Person {\n",
    "    private final String name;\n",
    "    private final int age;\n",
    "    \n",
    "    public Person(String name, int age) {\n",
    "    this.name=name;\n",
    "    this.age=age;\n",
    "    }\n",
    "    \n",
    "    public String toString() {\n",
    "        return \"Name: \" + this.name + \" Age: \" + this.age;\n",
    "    }\n",
    "    \n",
    "    public static void main(String[] args) {\n",
    "        Person a = new Person(\"Alice\", 12);\n",
    "        Person b = new Person(\"John\", 34);\n",
    "        System.out.println(a); // automatically calls toString\n",
    "        System.out.println(b);       \n",
    "    }\n",
    "}"
   ]
  },
  {
   "cell_type": "code",
   "execution_count": 2,
   "id": "8ab3790d",
   "metadata": {},
   "outputs": [
    {
     "name": "stdout",
     "output_type": "stream",
     "text": [
      "./rc/java/HelloWorldApp.class\n",
      "./rc/java/Person.class\n"
     ]
    }
   ],
   "source": [
    "%%script bash\n",
    "javac ./rc/java/Person.java\n",
    "ls ./rc/java/*.class # compiled bytecode file"
   ]
  },
  {
   "cell_type": "code",
   "execution_count": 3,
   "id": "0b449795",
   "metadata": {},
   "outputs": [
    {
     "name": "stdout",
     "output_type": "stream",
     "text": [
      "Name: Alice Age: 12\r\n",
      "Name: John Age: 34\r\n"
     ]
    }
   ],
   "source": [
    "%%script bash\n",
    "cd ./rc/java; java Person"
   ]
  },
  {
   "cell_type": "markdown",
   "id": "f7147452",
   "metadata": {},
   "source": [
    "> ### Kernel > Change kernel > Java\n",
    "<hr width=50%;>"
   ]
  },
  {
   "cell_type": "code",
   "execution_count": 1,
   "id": "f9b1bb48",
   "metadata": {},
   "outputs": [],
   "source": [
    "public final class Person {\n",
    "    private final String name;\n",
    "    private final int age;\n",
    "    \n",
    "    public Person(String name, int age) {\n",
    "    this.name=name;\n",
    "    this.age=age;\n",
    "    }\n",
    "    \n",
    "    public String toString() {\n",
    "        return \"Name: \" + this.name + \" Age: \" + this.age;\n",
    "    }\n",
    "}"
   ]
  },
  {
   "cell_type": "code",
   "execution_count": 2,
   "id": "7d845d1c",
   "metadata": {},
   "outputs": [
    {
     "name": "stdout",
     "output_type": "stream",
     "text": [
      "Name: Alice Age: 12\r\n"
     ]
    }
   ],
   "source": [
    "Person a = new Person(\"Alice\", 12);\n",
    "System.out.println(a); // automatically calls toString"
   ]
  },
  {
   "cell_type": "code",
   "execution_count": 3,
   "id": "df9d3a3b",
   "metadata": {},
   "outputs": [
    {
     "name": "stdout",
     "output_type": "stream",
     "text": [
      "Name: John Age: 34\r\n"
     ]
    }
   ],
   "source": [
    "Person b = new Person(\"John\", 34);\n",
    "System.out.println(b);  "
   ]
  },
  {
   "cell_type": "markdown",
   "id": "9ab076f7",
   "metadata": {},
   "source": [
    "- different languages have the same paradigm - ``Python`` is dynamically typed whereas ``Java`` is strongly typed (like ``C`` declaring variable types) - ``Java`` is more verbose [6]"
   ]
  },
  {
   "cell_type": "markdown",
   "id": "e12cd487",
   "metadata": {},
   "source": [
    "- the first method in ``Java`` and ``Python`` is referred to commonly as the ``constructor`` - creates new instance of the objects: i. does not return a value and ii. has the same name as the ``class`` [6]"
   ]
  },
  {
   "cell_type": "markdown",
   "id": "a66943ee",
   "metadata": {},
   "source": [
    "< [Table of Contents](#top) | [References](#references) >\n",
    "<a id=\"objectOrientedJavaObjectvstruct\"></a>\n",
    "***\n",
    "###### ``struct``\n",
    "***"
   ]
  },
  {
   "cell_type": "markdown",
   "id": "bcef63a5",
   "metadata": {},
   "source": [
    "- in ``C`` the ``struct`` stores related pieces of information - is a grouping of variables under a single name [6]\n",
    "\n",
    "```C\n",
    "#include <stdio.h>\n",
    "\n",
    "struct person\n",
    "{\n",
    "   int age;\n",
    "   float weight;\n",
    "};\n",
    "\n",
    "int main()\n",
    "{\n",
    "   struct person *personPtr, person1;\n",
    "   personPtr = &person1;\n",
    "   printf(\"Enter age: \");\n",
    "   scanf(\"%d\", &personPtr->age);\n",
    "   printf(\"Enter weight: \");\n",
    "   scanf(\"%f\", &personPtr->weight);\n",
    "   printf(\"Age: %d\\n\", personPtr->age);\n",
    "   return 0;\n",
    "}\n",
    "```"
   ]
  },
  {
   "cell_type": "markdown",
   "id": "d54ccc35",
   "metadata": {},
   "source": [
    "- it is a data type itself and variables can be declared of its type [6]"
   ]
  },
  {
   "cell_type": "markdown",
   "id": "71b18a3c",
   "metadata": {},
   "source": [
    "- does not provide a way to store the functionality alongside the data - has state but not functionality [6]"
   ]
  },
  {
   "cell_type": "markdown",
   "id": "712cb569",
   "metadata": {},
   "source": [
    "- the primary difference between a ``struct`` and an ``object``: \n",
    "\n",
    "\n",
    "i. a ``struct`` is just data (or state) and \n",
    "\n",
    "\n",
    "ii. an object is data (or state) and functionality (state and functionality) [6]"
   ]
  },
  {
   "cell_type": "markdown",
   "id": "b0bce619",
   "metadata": {},
   "source": [
    "- modification to the state of a ``struct`` is done by functions outside of the ``struct`` [6]"
   ]
  },
  {
   "cell_type": "markdown",
   "id": "fc9c2393",
   "metadata": {},
   "source": [
    "- ``object`` - putting the state alongside the functionality inside a container (called a ``class``) allows the program to be split up into more logical functions - provides a lot of power to the developers working on the code [6]"
   ]
  },
  {
   "cell_type": "markdown",
   "id": "e9c989c1",
   "metadata": {},
   "source": [
    "< [Table of Contents](#top) | [References](#references) >\n",
    "<a id=\"objectOrientedJavaMessagePassing\"></a>\n",
    "***\n",
    "###### Message Passing\n",
    "***"
   ]
  },
  {
   "cell_type": "markdown",
   "id": "2ee899a5",
   "metadata": {},
   "source": [
    "- message passing is the means by which objects communicate with each other [6] - basically means method calls [6]"
   ]
  },
  {
   "cell_type": "markdown",
   "id": "6d9a6782",
   "metadata": {},
   "source": [
    "- sending a message to the ``receiver_object`` to perform ``method_name`` with given input [6]"
   ]
  },
  {
   "cell_type": "markdown",
   "id": "a8de645e",
   "metadata": {},
   "source": [
    "- calling a method on an object generally the format is: \n",
    "\n",
    "```java\n",
    "receiver_object.method_name(argument1,argument2,...)\n",
    "```"
   ]
  },
  {
   "cell_type": "markdown",
   "id": "bd7787ea",
   "metadata": {},
   "source": [
    "- message passing is a very important feature in an object-oriented programming language [6]"
   ]
  },
  {
   "cell_type": "markdown",
   "id": "20413045",
   "metadata": {},
   "source": [
    "< [Table of Contents](#top) | [References](#references) >\n",
    "<a id=\"objectOrientedProgrammingPureImpure\"></a>\n",
    "***\n",
    "###### Pure | Impure\n",
    "***"
   ]
  },
  {
   "cell_type": "markdown",
   "id": "761b4114",
   "metadata": {},
   "source": [
    "- some object-oriented programming languages are considered ``pure`` where everything is an object [6]"
   ]
  },
  {
   "cell_type": "markdown",
   "id": "a3932b27",
   "metadata": {},
   "source": [
    "- ``Ruby`` is one of those languages (everything is an object) - class ``Person`` in ``Ruby``: [6]\n",
    "\n",
    "```Ruby\n",
    "class Person\n",
    "    def initialize(name, age)\n",
    "       @name = name\n",
    "       @age = age\n",
    "    end\n",
    " \n",
    "    def name\n",
    "    # labelname is only in scope within the name\n",
    "        method\n",
    "    labelname = \"Fname:\"\n",
    "    return labelname + @name\n",
    "    end\n",
    "end\n",
    "```"
   ]
  },
  {
   "cell_type": "markdown",
   "id": "74b2f34e",
   "metadata": {},
   "source": [
    "- in ``Java`` and ``C++`` mostly everything is an object except for primitive data types [6]"
   ]
  },
  {
   "cell_type": "markdown",
   "id": "19fd83e7",
   "metadata": {},
   "source": [
    "- ``Java`` has impurities [6]"
   ]
  },
  {
   "cell_type": "markdown",
   "id": "21930b37",
   "metadata": {},
   "source": [
    "- message passing (method calls) is the means by which objects communicate with each other but integers and characters and floats and doubles etc. are not objects in ``Java`` [6] "
   ]
  },
  {
   "cell_type": "markdown",
   "id": "dea29c4e",
   "metadata": {},
   "source": [
    "- vast majority of ``Java`` use objects (doing method calls) [6]"
   ]
  },
  {
   "cell_type": "markdown",
   "id": "41f698f1",
   "metadata": {},
   "source": [
    "- cannot pass primitives messages - cannot invoke a method on primatives [6]\n",
    "\n",
    "```java\n",
    "1.toString()\n",
    "```"
   ]
  },
  {
   "cell_type": "markdown",
   "id": "62de6fab",
   "metadata": {},
   "source": [
    "- languages such as ``Ruby`` whereby everything is an object therefore can do method calls on primitives ($1$ is an object) [6]\n",
    "\n",
    "```Ruby\n",
    "1.to_s()\n",
    "```"
   ]
  },
  {
   "cell_type": "markdown",
   "id": "a751500e",
   "metadata": {},
   "source": [
    "- ``Java`` is syntically similiar to procedural ``C`` [6]"
   ]
  },
  {
   "cell_type": "markdown",
   "id": "8ca0175f",
   "metadata": {},
   "source": [
    "< [Table of Contents](#top) | [References](#references) >\n",
    "<a id=\"objectOrientedProgrammingPureImpureObjectWrapper\"></a>\n",
    "***\n",
    "###### Object Wrapper\n",
    "***"
   ]
  },
  {
   "cell_type": "markdown",
   "id": "b8539079",
   "metadata": {},
   "source": [
    "- ``Java`` impurity was dealt with somewhat with the introduction of object wrappers for the primitives such as ``double`` which is an object version of ``double`` [6]"
   ]
  },
  {
   "cell_type": "markdown",
   "id": "40a1ae96",
   "metadata": {},
   "source": [
    "- when ``Java`` needs to treat them as objects then ``auto-boxing`` is performed to convert them [6]"
   ]
  },
  {
   "cell_type": "markdown",
   "id": "34f2dc84",
   "metadata": {},
   "source": [
    "- such wrappers are a specail kind of object - are immutable objects - when it has a value then then value cannot be changed - another example would be the ``String`` class [6]"
   ]
  },
  {
   "cell_type": "markdown",
   "id": "a76a3b20",
   "metadata": {},
   "source": [
    "- immutability is sometimes a very useful property for certain objects [6]"
   ]
  },
  {
   "cell_type": "markdown",
   "id": "9add0459",
   "metadata": {},
   "source": [
    "< [Table of Contents](#top) | [References](#references) >\n",
    "<a id=\"objectOrientedProgrammingInheritence\"></a>\n",
    "***\n",
    "###### Inheritence\n",
    "***"
   ]
  },
  {
   "cell_type": "markdown",
   "id": "1a7241b3",
   "metadata": {},
   "source": [
    "- inheritance is a relation between two classes [6] - represents an ``is-a`` relationship between two classes (all ``Student`` are ``Human``) [6]"
   ]
  },
  {
   "cell_type": "markdown",
   "id": "dfeb2f7e",
   "metadata": {},
   "source": [
    "- it makes sense to model ``Student`` as a sub class of ``Human`` - a ``Student`` will have everything a ``Human`` has but they will have some specific state of their own such as their grades [14]"
   ]
  },
  {
   "cell_type": "markdown",
   "id": "8b2d1c90",
   "metadata": {},
   "source": [
    "- the superclass (parent) is something inherited from [6]"
   ]
  },
  {
   "cell_type": "markdown",
   "id": "442f9653",
   "metadata": {},
   "source": [
    "- subclass is the inheritor - it gets all the functionality of the superclass [6]"
   ]
  },
  {
   "cell_type": "markdown",
   "id": "599c9318",
   "metadata": {},
   "source": [
    "- inheritance promotes reusability (``Ruby``) [6]\n",
    "\n",
    "```java\n",
    "class Mammal\n",
    "  def breathe\n",
    "    puts \"inhale and exhale\"\n",
    "  end\n",
    "end\n",
    " \n",
    "class Lion < Mammal\n",
    "  def speak\n",
    "    puts \"Roar!!!\"\n",
    "  end\n",
    "end\n",
    "```"
   ]
  },
  {
   "cell_type": "markdown",
   "id": "cb963d39",
   "metadata": {},
   "source": [
    "- many ``OOP`` languages will allow only single inheritence - a subclass inherits state and functionality from only one parent class [6]\n",
    "\n",
    "\n",
    "- there are cases where multiple inheritence is supported through mixins [6]\n",
    "\n",
    "\n",
    "- it is possible for an object to take on additional roles by implementing an interface or through ``ducktyping`` [6]"
   ]
  },
  {
   "cell_type": "markdown",
   "id": "de5bbb38",
   "metadata": {},
   "source": [
    "- class ``B`` inherits from class ``A`` - everything ``A`` can do ``B`` can also (inheritance relationship) [6]"
   ]
  },
  {
   "cell_type": "markdown",
   "id": "48913f1e",
   "metadata": {},
   "source": [
    "- a class ``Student`` inherits from class ``Person`` - all ``Student`` are people but not all ``Person`` are ``Student`` (class ``Student`` is the subclass of ``Person``) [6] "
   ]
  },
  {
   "cell_type": "markdown",
   "id": "64205e17",
   "metadata": {},
   "source": [
    "![single inheritance](https://github.com/SeanOhAileasa/SeanOhAileasa/blob/master/rc/mpp/java/single-inheritance.png?raw=true)\n",
    "\n",
    "***(Image) D. Carr, \"MPP - 6.1 - Object Oriented Programming,\" GMIT, October 2019.***"
   ]
  },
  {
   "cell_type": "markdown",
   "id": "7970c0a6",
   "metadata": {},
   "source": [
    "- ``Java`` does not support multiple inheritance - class ``C`` can inherit from class ``A`` and class ``B`` [6]"
   ]
  },
  {
   "cell_type": "markdown",
   "id": "ee03ad14",
   "metadata": {},
   "source": [
    "![multiple inheritance](https://github.com/SeanOhAileasa/SeanOhAileasa/blob/master/rc/mpp/java/multiple-inheritance.png?raw=true)\n",
    "\n",
    "***(Image) D. Carr, \"MPP - 6.1 - Object Oriented Programming,\" GMIT, October 2019.***"
   ]
  },
  {
   "cell_type": "markdown",
   "id": "ba905f99",
   "metadata": {},
   "source": [
    "- class ``C`` inherits from ``B`` (parent) and it gets what ``B`` inherited from ``A`` (grandparent) [6]"
   ]
  },
  {
   "cell_type": "markdown",
   "id": "d98298f0",
   "metadata": {},
   "source": [
    "- in ``Ruby`` and ``Java`` (many others) all objects implicitly inherit from some base type - in ``Java`` this is the class ``Object`` [6]"
   ]
  },
  {
   "cell_type": "markdown",
   "id": "2ff14009",
   "metadata": {},
   "source": [
    "![multi-level inheritance](https://github.com/SeanOhAileasa/SeanOhAileasa/blob/master/rc/mpp/java/multi-level-inheritance.png?raw=true)\n",
    "\n",
    "***(Image) D. Carr, \"MPP - 6.1 - Object Oriented Programming,\" GMIT, October 2019.***"
   ]
  },
  {
   "cell_type": "markdown",
   "id": "6bc25485",
   "metadata": {},
   "source": [
    "- a common ancestor class whereby classes ``B`` and ``C`` and ``D`` can be considered siblings to class ``A`` (all are subclasses of class ``A``) - class ``A`` is a common parent [6]"
   ]
  },
  {
   "cell_type": "markdown",
   "id": "a2445660",
   "metadata": {},
   "source": [
    "- classes ``B`` and ``C`` and ``D`` inherit from class ``A`` (everything inheritable is inherited from the superclass) [6]"
   ]
  },
  {
   "cell_type": "markdown",
   "id": "e78c7ca3",
   "metadata": {},
   "source": [
    "![hierarchical inheritance](https://github.com/SeanOhAileasa/SeanOhAileasa/blob/master/rc/mpp/java/hierarchical-inheritance.png?raw=true)\n",
    "\n",
    "***(Image) D. Carr, \"MPP - 6.1 - Object Oriented Programming,\" GMIT, October 2019.***"
   ]
  },
  {
   "cell_type": "markdown",
   "id": "603a76e2",
   "metadata": {},
   "source": [
    "- hierarchy in the class ``Mammal`` - in ``Ruby`` both the class ``Lion`` and the class ``Monkey`` are ``Mammal`` (both inherit from the class ``Mammal``) [6]\n",
    "\n",
    "```java\n",
    "class Mammal\n",
    "  def breathe\n",
    "   puts \"inhale and exhale\"\n",
    "  end\n",
    "end\n",
    " \n",
    "class Lion < Mammal\n",
    "......\n",
    " \n",
    "end\n",
    " \n",
    "class Monkey < Mammal\n",
    "......\n",
    "end\n",
    "```"
   ]
  },
  {
   "cell_type": "markdown",
   "id": "126ff95a",
   "metadata": {},
   "source": [
    "< [Table of Contents](#top) | [References](#references) >\n",
    "<a id=\"objectOrientedProgrammingPolymorphism\"></a>\n",
    "***\n",
    "###### Polymorphism\n",
    "***"
   ]
  },
  {
   "cell_type": "markdown",
   "id": "232615e8",
   "metadata": {},
   "source": [
    "- ``poly`` means ``many`` [6]"
   ]
  },
  {
   "cell_type": "markdown",
   "id": "8c1115fd",
   "metadata": {},
   "source": [
    "- polymorphism is the ability of an object to take on many forms [6]"
   ]
  },
  {
   "cell_type": "markdown",
   "id": "7205dc61",
   "metadata": {},
   "source": [
    "- the most common use of polymorphism in OOP occurs when a parent class reference is used to refer to a child class object [6]"
   ]
  },
  {
   "cell_type": "markdown",
   "id": "e766d4f8",
   "metadata": {},
   "source": [
    "- for example in ``Ruby`` a ``Monkey`` is a ``Mammal`` so when a reference is needed to a ``Mammal`` then any ``Monkey`` can be substituted in [6]"
   ]
  },
  {
   "cell_type": "markdown",
   "id": "97269abe",
   "metadata": {},
   "source": [
    "- if a ``Lion`` was explicitly required then only its sub-types could be subsituted [6]\n",
    "\n",
    "```java\n",
    "class Mammal\n",
    "  def breathe\n",
    "   puts \"inhale and exhale\"\n",
    "  end\n",
    "end\n",
    " \n",
    "class Lion < Mammal\n",
    "......\n",
    " \n",
    "end\n",
    " \n",
    "class Monkey < Mammal\n",
    "......\n",
    "end\n",
    "```"
   ]
  },
  {
   "cell_type": "markdown",
   "id": "23a55378",
   "metadata": {},
   "source": [
    "< [Table of Contents](#top) | [References](#references) >\n",
    "<a id=\"objectOrientedProgrammingInterface\"></a>\n",
    "***\n",
    "###### Interface\n",
    "***"
   ]
  },
  {
   "cell_type": "markdown",
   "id": "9ea21cb9",
   "metadata": {},
   "source": [
    "- ``an interface is a shared boundary across which two or more separate components of a computer system exchange information`` [6]"
   ]
  },
  {
   "cell_type": "markdown",
   "id": "06641f29",
   "metadata": {},
   "source": [
    "- the mouse is an interface to the computer - it moves the pointer around the screen but the same can be acheived with a track pad or some kind of eye tracker etc [6]"
   ]
  },
  {
   "cell_type": "markdown",
   "id": "7e385f23",
   "metadata": {},
   "source": [
    "- the point is the machine does not care what is moving the pointer as long as the correct signals are sent from the input device (mouse or trackpad) to control the machine (OS) [6]"
   ]
  },
  {
   "cell_type": "markdown",
   "id": "227b3f53",
   "metadata": {},
   "source": [
    "- developers regularly use Application Programming Interfaces (API) to communicate with webservices such as twitter and facebook and tvmaze and weather etc [6]"
   ]
  },
  {
   "cell_type": "markdown",
   "id": "a2da7c43",
   "metadata": {},
   "source": [
    "<hr width=50%;>"
   ]
  },
  {
   "cell_type": "markdown",
   "id": "d697344a",
   "metadata": {},
   "source": [
    "< [Table of Contents](#top) | [References](#references) >\n",
    "<a id=\"clockCPythonJavaC\"></a>\n",
    "***\n",
    "### ``C``\n",
    "***"
   ]
  },
  {
   "cell_type": "code",
   "execution_count": null,
   "id": "91e1bb58",
   "metadata": {},
   "outputs": [],
   "source": [
    "# fFile(nParPath=\"./hide/04-ObjectOrientedProgramming/07-MPP - Week 7 - Clock in C (Procedural Style) - 03-11-2020.mp4\")"
   ]
  },
  {
   "cell_type": "markdown",
   "id": "d4ad40b3",
   "metadata": {},
   "source": [
    "- the ``struct`` holds ``hours`` and ``minutes`` and ``seconds`` [15]"
   ]
  },
  {
   "cell_type": "markdown",
   "id": "b569569e",
   "metadata": {},
   "source": [
    "- a piece of data - the ``struct`` is a composite data type - composed of three ``int`` to represent the ``hours`` and ``minutes`` and ``seconds`` [15]\n",
    "\n",
    "```C\n",
    "struct Clock // composite data type\n",
    "{\n",
    "\tint hours;\n",
    "\tint mins;\n",
    "\tint secs;\n",
    "}; // represents the data\n",
    "```"
   ]
  },
  {
   "cell_type": "markdown",
   "id": "1b212a08",
   "metadata": {},
   "source": [
    "- the difference between object-orientated programming and procedural programming is the way of thinking about and structuring the program [15]"
   ]
  },
  {
   "cell_type": "markdown",
   "id": "d72730ba",
   "metadata": {},
   "source": [
    "- in ``C`` the data is in the ``struct`` and the functions exist outside of the ``struct`` [15]"
   ]
  },
  {
   "cell_type": "markdown",
   "id": "b5aae014",
   "metadata": {},
   "source": [
    "- the ``struct`` and the functions that manipulate the ``struct`` are not the same thing (separate) [15]"
   ]
  },
  {
   "cell_type": "markdown",
   "id": "aca37bae",
   "metadata": {},
   "source": [
    "- in object-oriented programming the data and the methods which manipulate that data exist together in a class [15]"
   ]
  },
  {
   "cell_type": "markdown",
   "id": "0d6a9e33",
   "metadata": {},
   "source": [
    "- the primary difference is that in the procedural approach the data and the functions which manipulate the data are separate - conjoined in object-orientated programming [15]"
   ]
  },
  {
   "cell_type": "code",
   "execution_count": 1,
   "id": "f3e3d4f4",
   "metadata": {},
   "outputs": [
    {
     "name": "stdout",
     "output_type": "stream",
     "text": [
      "#include <stdio.h>\r\n",
      "#include <windows.h>\r\n",
      "\r\n",
      "struct Clock // composite data type\r\n",
      "{\r\n",
      "\tint hours;\r\n",
      "\tint mins;\r\n",
      "\tint secs;\r\n",
      "}; // represents the data\r\n",
      "\r\n",
      "void tick(struct Clock *c)\r\n",
      "{\r\n",
      "\tc->secs+=1;\r\n",
      "\t\r\n",
      "\tif (c->secs>59)\r\n",
      "\t{\r\n",
      "\t\tc->mins+=1;\r\n",
      "\t\tc->secs=0;\r\n",
      "\t}\r\n",
      "\r\n",
      "\tif (c->mins>59)\r\n",
      "\t{\r\n",
      "\t\tc->hours+=1;\r\n",
      "\t\tc->mins=0;\r\n",
      "\t}\r\n",
      "\r\n",
      "\tif (c->hours>12)\r\n",
      "\t{\r\n",
      "\t\tc->hours=1;\r\n",
      "\t\tc->mins=0;\r\n",
      "\t\tc->secs=0;\r\n",
      "\t}\r\n",
      "}\r\n",
      "\r\n",
      "// not changing Clock\r\n",
      "void printClock(struct Clock c) // pass by value\r\n",
      "{\r\n",
      "\tprintf(\"\\nClock\");\r\n",
      "\tprintf(\"\\n%02d:%02d:%02d\",c.hours,c.mins,c.secs);\r\n",
      "}\r\n",
      "\r\n",
      "// may change Clock\r\n",
      "void validate(struct Clock *c) // pass by reference\r\n",
      "{\r\n",
      "\tif (c->hours>12 || c->mins> 60 || c->secs>60)\r\n",
      "\t{\r\n",
      "\t\tc->hours=0;\r\n",
      "\t\tc->mins=0;\r\n",
      "\t\tc->secs=0;\r\n",
      "\t}\r\n",
      "}\r\n",
      "\r\n",
      "int main()\r\n",
      "{\r\n",
      "\tstruct Clock c={10,12,23}; // creating the struct\r\n",
      "\tvalidate(&c);\r\n",
      "\twhile(1) // loop until true\r\n",
      "\t{\r\n",
      "\t\ttick(&c);\r\n",
      "\t\tprintClock(c);\r\n",
      "\t\tSleep(1000); // millisecond equals second\r\n",
      "\t}\r\n",
      "\treturn 0;\r\n",
      "}"
     ]
    }
   ],
   "source": [
    "%%script bash\n",
    "cat ./rc/c/clock.c"
   ]
  },
  {
   "cell_type": "markdown",
   "id": "7cb30046",
   "metadata": {},
   "source": [
    "< [Table of Contents](#top) | [References](#references) >\n",
    "<a id=\"clockCPythonJavaPython\"></a>\n",
    "***\n",
    "### ``Python``\n",
    "***"
   ]
  },
  {
   "cell_type": "code",
   "execution_count": null,
   "id": "87abb0c7",
   "metadata": {},
   "outputs": [],
   "source": [
    "# fFile(nParPath=\"./hide/04-ObjectOrientedProgramming/05-MPP - Week 7 - Clock in Python (OOP) - 03-11-2020.mp4\")\n",
    "# fFile(nParPath=\"./hide/04-ObjectOrientedProgramming/06-MPP - Week 7 - Alarm Clock (Inheritance) in Python - 03-11-2020.mp4\")"
   ]
  },
  {
   "cell_type": "code",
   "execution_count": null,
   "id": "5deac63d",
   "metadata": {},
   "outputs": [],
   "source": [
    "# ----- Private Methods -----\n",
    "# fFile(nParPath=\"./hide/04-ObjectOrientedProgramming/02-MPP - Week 8 - Private Methods in Python - 05-11-2020.mp4\")"
   ]
  },
  {
   "cell_type": "code",
   "execution_count": null,
   "id": "4f09945d",
   "metadata": {},
   "outputs": [],
   "source": [
    "# ----- Inheritance -----\n",
    "# fFile(nParPath=\"./hide/04-ObjectOrientedProgramming/03-MPP - Week 8 - Person Class Inheritance in Python - 05-11-2020.mp4\")"
   ]
  },
  {
   "cell_type": "markdown",
   "id": "17313bd3",
   "metadata": {},
   "source": [
    "< [Table of Contents](#top) | [References](#references) >\n",
    "<a id=\"clockCPythonJavaJava\"></a>\n",
    "***\n",
    "### ``Java``\n",
    "***"
   ]
  },
  {
   "cell_type": "code",
   "execution_count": null,
   "id": "e8c27340",
   "metadata": {},
   "outputs": [],
   "source": [
    "# fFile(nParPath=\"./hide/04-ObjectOrientedProgramming/01-MPP - Week 8 - Java Clock (OOP) - 05-11-2020.mp4\")"
   ]
  },
  {
   "cell_type": "markdown",
   "id": "21773d21",
   "metadata": {},
   "source": [
    "<hr width=50%;>"
   ]
  },
  {
   "cell_type": "markdown",
   "id": "4b426712",
   "metadata": {},
   "source": [
    "< [Table of Contents](#top) | [References](#references) >\n",
    "<a id=\"declarativeProgramming\"></a>\n",
    "***\n",
    "### Declarative\n",
    "***"
   ]
  },
  {
   "cell_type": "code",
   "execution_count": null,
   "id": "7fca7bed",
   "metadata": {},
   "outputs": [],
   "source": [
    "# fFile(nParPath=\"./hide/05-DeclarativeProgramming/MPP - Week 9 - Declarative Programming___09-11-2019.mp4\")\n",
    "# fFile(nParPath=\"./hide/05-DeclarativeProgramming/MPP - Week 9 - Declarative Programming___09-11-2019.pdf\")"
   ]
  },
  {
   "cell_type": "markdown",
   "id": "e10eaf7e",
   "metadata": {},
   "source": [
    "- programming by specifying the result sought and not how to get it [16] "
   ]
  },
  {
   "cell_type": "markdown",
   "id": "e2c0e7b3",
   "metadata": {},
   "source": [
    "- would naturally assume the results will be pulled from a database table but really the declaration of what we want is independent of how it is retrieved [16]"
   ]
  },
  {
   "cell_type": "markdown",
   "id": "fa92b644",
   "metadata": {},
   "source": [
    "- could be from a text file - could be that a human has to type out the response - the data store could be local or it could be on an ``AWS`` host in another country [16]"
   ]
  },
  {
   "cell_type": "markdown",
   "id": "904a3a3a",
   "metadata": {},
   "source": [
    "- the point of the declarative language is to abstract somewhat from the how [16]"
   ]
  },
  {
   "cell_type": "markdown",
   "id": "df9a9800",
   "metadata": {},
   "source": [
    "- contrasts with imperative and procedural programming - declarative programming is a non-imperative style of programming - describes the result (not explicit about how to obtain it) [16]"
   ]
  },
  {
   "cell_type": "markdown",
   "id": "42a4cd3b",
   "metadata": {},
   "source": [
    "< [Table of Contents](#top) | [References](#references) >\n",
    "<a id=\"declarativeProgrammingSQL\"></a>\n",
    "***\n",
    "###### ``SQL``\n",
    "***"
   ]
  },
  {
   "cell_type": "markdown",
   "id": "63507bae",
   "metadata": {},
   "source": [
    "- Control flow is implicit - the programmer states only what the result should look like and not how to obtain it [16]"
   ]
  },
  {
   "cell_type": "markdown",
   "id": "fdcf1843",
   "metadata": {},
   "source": [
    "- no loop - no assignments [16]"
   ]
  },
  {
   "cell_type": "markdown",
   "id": "c566b29c",
   "metadata": {},
   "source": [
    "- whatever engine that interprets this code is supposed to go get the desired information - can use whatever approach it wants - ``SQL`` is declarative [16]\n",
    "\n",
    "```SQL\n",
    "SELECT UPPER(name)\n",
    "FROM people\n",
    "WHERE LENGTH(name) > 5\n",
    "ORDER BY name\n",
    "```"
   ]
  },
  {
   "cell_type": "markdown",
   "id": "e0572936",
   "metadata": {},
   "source": [
    "- structured query language - domain-specific language - designed for managing data held in a relational database management [16]"
   ]
  },
  {
   "cell_type": "markdown",
   "id": "e11fe7ac",
   "metadata": {},
   "source": [
    "- it is particularly useful in handing structured data (data incorporating relations among entities and variables) [16]"
   ]
  },
  {
   "cell_type": "markdown",
   "id": "793912e4",
   "metadata": {},
   "source": [
    "- dates back to 1970 - edgar codd wrote a paper describing a new system for organizing data in databases [16]"
   ]
  },
  {
   "cell_type": "markdown",
   "id": "16a494db",
   "metadata": {},
   "source": [
    "- by the end 70s prototypes of codds system had been built - query languages (the structured query langugae) were born to interact with these databases [16]"
   ]
  },
  {
   "cell_type": "markdown",
   "id": "4539ca24",
   "metadata": {},
   "source": [
    "< [Table of Contents](#top) | [References](#references) >\n",
    "<a id=\"declarativeProgrammingSQLSyntax\"></a>\n",
    "***\n",
    "###### Syntax\n",
    "***"
   ]
  },
  {
   "cell_type": "markdown",
   "id": "aff208b3",
   "metadata": {},
   "source": [
    "- the ``SQL`` language is subdivided into several language elements:"
   ]
  },
  {
   "cell_type": "markdown",
   "id": "22291182",
   "metadata": {},
   "source": [
    "- ``clauses`` which are constituent components of statements and queries (in some cases these are optional) [16]"
   ]
  },
  {
   "cell_type": "markdown",
   "id": "2f7ce0e2",
   "metadata": {},
   "source": [
    "- ``expressions`` which can produce either scalar values or tables consisting of columns and rows of data [16]"
   ]
  },
  {
   "cell_type": "markdown",
   "id": "4c82203f",
   "metadata": {},
   "source": [
    "- ``predicates`` which specify conditions that can be evaluated to ``SQL`` three-valued logic (3VL - true/flase/unknown) or boolean truth values and are used to limit the effects of statements and queries or to change program flow [16]"
   ]
  },
  {
   "cell_type": "markdown",
   "id": "d209629b",
   "metadata": {},
   "source": [
    "- ``queries`` which retrieve the data based on specific criteria - this is an important element of sql [16]"
   ]
  },
  {
   "cell_type": "markdown",
   "id": "7e708b28",
   "metadata": {},
   "source": [
    "- ``statements`` which may have a persistent effect on schemata and data or may control transactions or program flow or connections or sessions or diagnostics [16]"
   ]
  },
  {
   "cell_type": "markdown",
   "id": "9630e969",
   "metadata": {},
   "source": [
    "< [Table of Contents](#top) | [References](#references) >\n",
    "<a id=\"declarativeProgrammingSQLElements\"></a>\n",
    "***\n",
    "###### Elements\n",
    "***"
   ]
  },
  {
   "cell_type": "markdown",
   "id": "83674e39",
   "metadata": {},
   "source": [
    "![language-elements](https://github.com/SeanOhAileasa/SeanOhAileasa/blob/master/rc/mpp/sql/language-elements.png?raw=true)\n",
    "\n",
    "***(Image) D. Carr, \"MPP - Week 9 - Declarative Programming,\" GMIT, November 2019.***"
   ]
  },
  {
   "cell_type": "markdown",
   "id": "906f718e",
   "metadata": {},
   "source": [
    "```SQL\n",
    "SELECT OrderID, Quantity, \n",
    "CASE WHEN Quantity > 30 THEN \"The quantity is greater than 30\"\n",
    "WHEN Quantity = 30 THEN \"The quantity is 30\"\n",
    "ELSE \"The quanity is under 30\"\n",
    "END AS QuantityText\n",
    "FROM OrderDetails;\n",
    "```"
   ]
  },
  {
   "cell_type": "markdown",
   "id": "ef865c46",
   "metadata": {},
   "source": [
    "< [Table of Contents](#top) | [References](#references) >\n",
    "<a id=\"declarativeProgrammingSQLElementsC\"></a>\n",
    "***\n",
    "###### ``C``\n",
    "***"
   ]
  },
  {
   "cell_type": "markdown",
   "id": "6ac56ec1",
   "metadata": {},
   "source": [
    "- imagine the schema looks like:\n",
    "\n",
    "```sql\n",
    "personId INTEGER PRIMARY KEY, name VARCHAR(20), sex CHAR(1), birthday DATE, placeOfBrith VARCHAR(20);\n",
    "```"
   ]
  },
  {
   "cell_type": "markdown",
   "id": "923d1838",
   "metadata": {},
   "source": [
    "- to find the oldest person in the table:\n",
    "\n",
    "```sql\n",
    "SELECT * FROM people\n",
    " ORDER BYY birthday ASC\n",
    " LIMIT 1;\n",
    "```"
   ]
  },
  {
   "cell_type": "markdown",
   "id": "bff8a919",
   "metadata": {},
   "source": [
    "- ``C`` implementation [16]\n",
    "\n",
    "```C\n",
    "#include <stdio.h>\n",
    "#include <string.h>\n",
    "#include <stdlib.h>\n",
    " \n",
    "struct Person{\n",
    "    char* name;\n",
    "    char sex;\n",
    "    int age;\n",
    "    char* placeOfBirth;\n",
    "}\n",
    " \n",
    "int main(void)\n",
    "{\n",
    "    struct Person a = {\"Anthony Stynes\",\"M\", 12, \"New York\"};\n",
    "    struct Person b = {\"Bertie Corr\", \"M\", 1000, \"Boston\"};\n",
    "    struct Person c = {\"John Quin\", \"M\", 33, \"'Murica\"};  \n",
    " \n",
    "    struct Person arr[] = {a, b, c};\n",
    "    int maxAge = -1;\n",
    "    int index = 0;\n",
    "\n",
    "    for(int 1=0;i<3;i++)\n",
    "    {\n",
    "        if(int i=0;i<3; i++)\n",
    "        {\n",
    "            maxAge=arr[i].age;\n",
    "            index=i;\n",
    "        }\n",
    "    }\n",
    "    \n",
    "    printf(\"%s is oldest\\n\", arr[index].name);\n",
    "\n",
    "    return 0;\n",
    "}\n",
    "```"
   ]
  },
  {
   "cell_type": "markdown",
   "id": "9b5c015c",
   "metadata": {},
   "source": [
    "< [Table of Contents](#top) | [References](#references) >\n",
    "<a id=\"declarativeProgrammingSQLElementsLevelofAbstraction\"></a>\n",
    "***\n",
    "###### Level of Abstraction\n",
    "***"
   ]
  },
  {
   "cell_type": "markdown",
   "id": "795c3d84",
   "metadata": {},
   "source": [
    "![levels of abstraction](https://github.com/SeanOhAileasa/SeanOhAileasa/blob/master/rc/mpp/sql/abstraction.png?raw=true)\n",
    "\n",
    "***(Image) D. Carr, \"MPP - Week 9 - Declarative Programming,\" GMIT, November 2019.***"
   ]
  },
  {
   "cell_type": "markdown",
   "id": "fee1ca0a",
   "metadata": {},
   "source": [
    "< [Table of Contents](#top) | [References](#references) >\n",
    "<a id=\"declarativeProgrammingmake\"></a>\n",
    "***\n",
    "###### ``make``\n",
    "***"
   ]
  },
  {
   "cell_type": "markdown",
   "id": "2471e4b0",
   "metadata": {},
   "source": [
    "- ``make`` is a build automation tool [16]"
   ]
  },
  {
   "cell_type": "markdown",
   "id": "f131d8bb",
   "metadata": {},
   "source": [
    "- automatically builds executable programs and libraries from source code [16]"
   ]
  },
  {
   "cell_type": "markdown",
   "id": "b1823c10",
   "metadata": {},
   "source": [
    "- by reading files called ``makefiles`` which specify how to derive the target program [16]"
   ]
  },
  {
   "cell_type": "markdown",
   "id": "d47e54a2",
   "metadata": {},
   "source": [
    "- besides building programs ``make`` can be used to manage any project where some files must be updated automatically from others whenever the others change [16]"
   ]
  },
  {
   "cell_type": "markdown",
   "id": "853b7c1c",
   "metadata": {},
   "source": [
    "```C\n",
    "CFLAGS ?= -g\n",
    " \n",
    "all:helloworld\n",
    " \n",
    "helloworld: helloworld.o\n",
    "   # Commands start with TAB not spaces\n",
    "   $(CC) $(LDFLAGS) -o $@ $^\n",
    " \n",
    "helloworld.o : helloworld.c\n",
    "   $(CC) $(CFLAGS) -c -o $@ $<\n",
    " \n",
    "clean: FRC\n",
    "   rm -f helloworld helloworld.o\n",
    " \n",
    "#This pseudo target causes all targets that depend on FRC \n",
    "# to be remade even in case a file with the name of the target exists\n",
    "# this works with any make implementation under the assumption that\n",
    " \n",
    "# there is no file FRC in the current directory\n",
    "FRC: \n",
    "```"
   ]
  },
  {
   "cell_type": "markdown",
   "id": "dd40d55c",
   "metadata": {},
   "source": [
    "<hr width=50%;>"
   ]
  },
  {
   "cell_type": "markdown",
   "id": "295c1255",
   "metadata": {},
   "source": [
    "< [Table of Contents](#top) | [References](#references) >\n",
    "<a id=\"functionalProgramming\"></a>\n",
    "***\n",
    "### Functional\n",
    "***"
   ]
  },
  {
   "cell_type": "code",
   "execution_count": null,
   "id": "a8ae9eb7",
   "metadata": {},
   "outputs": [],
   "source": [
    "# fFile(nParPath=\"./hide/06-FunctionalProgramming/MPP - 8.1 - Functional Programming - 17-11-2019.mp4\")\n",
    "# fFile(nParPath=\"./hide/06-FunctionalProgramming/MPP - 8.2 - Functional Programming - 17-11-2019.mp4\")\n",
    "# fFile(nParPath=\"./hide/06-FunctionalProgramming/MPP - 8.0 - Functional Programming.pdf\")"
   ]
  },
  {
   "cell_type": "code",
   "execution_count": null,
   "id": "11567dcf",
   "metadata": {},
   "outputs": [],
   "source": [
    "# fFile(nParPath=\"./hide/06-FunctionalProgramming/recursion.py\")"
   ]
  },
  {
   "cell_type": "code",
   "execution_count": null,
   "id": "063a06df",
   "metadata": {},
   "outputs": [],
   "source": [
    "# fFile(nParPath=\"./hide/06-FunctionalProgramming/MPP - Week 12 - Functional Programming in Python - 08-12-2020.mp4\")"
   ]
  },
  {
   "cell_type": "code",
   "execution_count": null,
   "id": "c7e7b353",
   "metadata": {},
   "outputs": [],
   "source": [
    "# fFile(nParPath=\"./hide/06-FunctionalProgramming/map_example.py\")\n",
    "# fFile(nParPath=\"./hide/06-FunctionalProgramming/iterator_example py3.py\")\n",
    "# fFile(nParPath=\"./hide/06-FunctionalProgramming/reduce_example_py3.py\")\n",
    "# fFile(nParPath=\"./hide/06-FunctionalProgramming/counter py3.py\")"
   ]
  },
  {
   "cell_type": "markdown",
   "id": "ad222a5e",
   "metadata": {},
   "source": [
    "< [Table of Contents](#top) | [References](#references) >\n",
    "<a id=\"functions\"></a>\n",
    "***\n",
    "###### Functions\n",
    "***"
   ]
  },
  {
   "cell_type": "markdown",
   "id": "e4053333",
   "metadata": {},
   "source": [
    "* [Abstract](https://nbviewer.jupyter.org/github/SeanOhAileasa/fda-data-functions/blob/main/fda-data-functions.ipynb#abstract) **[External Link]** <br/><br/>\n",
    "    * [Functions](https://nbviewer.jupyter.org/github/SeanOhAileasa/fda-data-functions/blob/main/fda-data-functions.ipynb#abstractFunctions) **[External Link]** <br/><br/>\n",
    "* [Introduction](https://nbviewer.jupyter.org/github/SeanOhAileasa/fda-data-functions/blob/main/fda-data-functions.ipynb#introduction) **[External Link]** <br/><br/>\n",
    "* [Solution](https://nbviewer.jupyter.org/github/SeanOhAileasa/fda-data-functions/blob/main/fda-data-functions.ipynb#solution) **[External Link]** <br/><br/>\n",
    "    * [Iterator](https://nbviewer.jupyter.org/github/SeanOhAileasa/fda-data-functions/blob/main/fda-data-functions.ipynb#iterator) **[External Link]** <br/><br/>\n",
    "    * [Map](https://nbviewer.jupyter.org/github/SeanOhAileasa/fda-data-functions/blob/main/fda-data-functions.ipynb#map) **[External Link]** <br/><br/>\n",
    "    * [Anonymous](https://nbviewer.jupyter.org/github/SeanOhAileasa/fda-data-functions/blob/main/fda-data-functions.ipynb#anonymous-function) **[External Link]** <br/><br/>\n",
    "    * [Reduce](https://nbviewer.jupyter.org/github/SeanOhAileasa/fda-data-functions/blob/main/fda-data-functions.ipynb#reduce) **[External Link]** <br/><br/>\n",
    "* [Conclusion](https://nbviewer.jupyter.org/github/SeanOhAileasa/fda-data-functions/blob/main/fda-data-functions.ipynb#conclusion) **[External Link]** <br/><br/>\n",
    "    * [Data and Functions](https://nbviewer.jupyter.org/github/SeanOhAileasa/fda-data-functions/blob/main/fda-data-functions.ipynb#data-and-functions) **[External Link]**"
   ]
  },
  {
   "cell_type": "markdown",
   "id": "1fe798a6",
   "metadata": {},
   "source": [
    "<hr width=50%;>"
   ]
  },
  {
   "cell_type": "markdown",
   "id": "388298e6",
   "metadata": {},
   "source": [
    "***\n",
    "## END"
   ]
  },
  {
   "cell_type": "markdown",
   "id": "5b831b27",
   "metadata": {},
   "source": [
    "***\n",
    "< [Table of Contents](#top) | [Learning Outcomes](#abstractLearningOutcomes) | [Module Topics](#introduction) | [Report](#conclusion) | [References](#references) >\n",
    "<a id=\"solution\"></a>\n",
    "\n",
    "[![GMIT](https://github.com/SeanOhAileasa/SeanOhAileasa/blob/master/rc/gmit.png?raw=true)](https://web.archive.org/web/20201029063153/https://www.gmit.ie/computer-science-and-applied-physics/higher-diploma-science-computing-data-analytics-ict)\n",
    "\n",
    "## Multi-paradigm Programming, Winter 21/22\n",
    "### Due: last commit on or before December 22nd, 2021, 11:55 PM\n",
    "***"
   ]
  },
  {
   "cell_type": "code",
   "execution_count": null,
   "id": "26fb04fe",
   "metadata": {},
   "outputs": [],
   "source": [
    "# fFile(nParPath=\"./hide/04-ObjectOrientedProgramming/MPP - Week 5 - Shop Assignment Description - 18-10-2020.mkv\")\n",
    "# fFile(nParPath=\"./hide/04-ObjectOrientedProgramming/Assignment 1 - Shop.pdf\")"
   ]
  },
  {
   "cell_type": "code",
   "execution_count": null,
   "id": "1eb4812d",
   "metadata": {},
   "outputs": [],
   "source": [
    "# fFile(nParPath=\"./hide/04-ObjectOrientedProgramming/G00000001 - Dominic Carr - Assignment 1/\")"
   ]
  },
  {
   "cell_type": "markdown",
   "id": "c5b21ab8",
   "metadata": {},
   "source": [
    "The assignment requires building upon the shop program developed during the semester. Tasked to add some additional functionality:"
   ]
  },
  {
   "cell_type": "markdown",
   "id": "f35c4be3",
   "metadata": {},
   "source": [
    "***\n",
    "###### Functionality\n",
    "***"
   ]
  },
  {
   "cell_type": "markdown",
   "id": "662cd0eb",
   "metadata": {},
   "source": [
    "### a.) The shop CSV should hold the initial cash value for the shop."
   ]
  },
  {
   "cell_type": "markdown",
   "id": "c4fcff25",
   "metadata": {},
   "source": [
    "### b.) Read in customer orders from a CSV file.\n",
    "\n",
    "i. That file should include all the products they wish to buy and in what quantity.\n",
    "\n",
    "ii. It should also include their name and their budget."
   ]
  },
  {
   "cell_type": "markdown",
   "id": "4bad1f3f",
   "metadata": {},
   "source": [
    "### c.) The shop must be able to process the orders of the customer.\n",
    "\n",
    "i. Update the cash in the shop based on money received.\n",
    "\n",
    "- It is important that the state of the shop be consistent.\n",
    "\n",
    "- Should create customer test files (CSVs) which cannot be completed by the shop e.g. customer wants 400 loaves of bread but the shop only has 20, or the customer wants 2 cans of coke but can only afford 1.\n",
    "\n",
    "- If these files don’t exist penalties will be applied.\n",
    "\n",
    "ii. Know whether or not the shop can fill an order.\n",
    "\n",
    "- Thrown an appropriate error."
   ]
  },
  {
   "cell_type": "markdown",
   "id": "321a8a0f",
   "metadata": {},
   "source": [
    "### d.) Operate in a live mode, where the user can enter a product by name, specify a quantity, and pay for it.\n",
    "\n",
    "- The user should be able to buy many products in this way."
   ]
  },
  {
   "cell_type": "markdown",
   "id": "dec1527b",
   "metadata": {},
   "source": [
    "***\n",
    "###### Notes\n",
    "***"
   ]
  },
  {
   "cell_type": "markdown",
   "id": "23e17290",
   "metadata": {},
   "source": [
    "i. The above described functionality should be completed in ``Python`` and ``C``. This is to be done in a procedural programming style."
   ]
  },
  {
   "cell_type": "markdown",
   "id": "2422764b",
   "metadata": {},
   "source": [
    "ii. The second part of the assessment involves replicating the functionality of the shop in an Object-Oriented manner. This can be done in either ``Python`` or ``Java``."
   ]
  },
  {
   "cell_type": "markdown",
   "id": "43ef8d05",
   "metadata": {},
   "source": [
    "iii. Complete a short report, around 3-5 pages, which compares the solutions achieved using the procedural approach and the object oriented approach.\n",
    "\n",
    "\n",
    "- Excessively long reports will be penalised.\n",
    "\n",
    "\n",
    "- The report should be about comparing the implementations."
   ]
  },
  {
   "cell_type": "markdown",
   "id": "2ad00dd0",
   "metadata": {},
   "source": [
    "iv. The live mode, and the input files, should have the exact same behaviour in ALL implementations.\n",
    "\n",
    "\n",
    "- For example should be able to use the ``Python`` implementation in the same way as the ``C`` one i.e. same CSV filles, and the same process when doing an order in live mode.\n",
    "\n",
    "\n",
    "- The user experience of each implementation should be identical."
   ]
  },
  {
   "cell_type": "markdown",
   "id": "62d89dbb",
   "metadata": {},
   "source": [
    "***\n",
    "###### Marking Scheme\n",
    "***"
   ]
  },
  {
   "cell_type": "markdown",
   "id": "e9e9b61a",
   "metadata": {},
   "source": [
    "- Procedural Python Program (20%)\n",
    "\n",
    "\n",
    "i. Good Procedural Programming (NOT OOP) (10%)\n",
    "\n",
    "\n",
    "ii. Level of functionality (5%)\n",
    "\n",
    "\n",
    "iii. Documentation and code quality (5%)"
   ]
  },
  {
   "cell_type": "markdown",
   "id": "2f2c8d1f",
   "metadata": {},
   "source": [
    "- Procedural C Program (30%)\n",
    "\n",
    "\n",
    "i. Good Procedural Programming (10%)\n",
    "\n",
    "\n",
    "ii. Level of functionality (10%)\n",
    "\n",
    "\n",
    "iii. Documentation and code quality (10%)"
   ]
  },
  {
   "cell_type": "markdown",
   "id": "492defb7",
   "metadata": {},
   "source": [
    "- OOP Java or Python Program (30%)\n",
    "\n",
    "\n",
    "i. Good Object Oriented Programming (10%)\n",
    "\n",
    "\n",
    "ii. Level of functionality (10%)\n",
    "\n",
    "\n",
    "iii. Documentation and code quality (10%)"
   ]
  },
  {
   "cell_type": "markdown",
   "id": "99c245b3",
   "metadata": {},
   "source": [
    "- Report (20%)\n",
    "\n",
    "\n",
    "i. Document Quality (5%)\n",
    "\n",
    "ii. Analysis of similarities (7.5%)\n",
    "\n",
    "iii. Analysis of di\u000b",
    "erences (7.5%)"
   ]
  },
  {
   "cell_type": "markdown",
   "id": "7fb157fd",
   "metadata": {},
   "source": [
    "<hr width=50%;>"
   ]
  },
  {
   "cell_type": "markdown",
   "id": "868d0b87",
   "metadata": {},
   "source": [
    "< [Table of Contents](#top) | [References](#references) >\n",
    "<a id=\"makingaShopSimulationinC\"></a>\n",
    "***\n",
    "### Shop Simulation (C)\n",
    "***"
   ]
  },
  {
   "cell_type": "markdown",
   "id": "a79bb3c0",
   "metadata": {},
   "source": [
    "- ``C`` Solution: [![nbviewer](https://raw.githubusercontent.com/jupyter/design/master/logos/Badges/nbviewer_badge.svg)](https://nbviewer.org/github/SeanOhAileasa/fubar-c/blob/main/fubar-c.ipynb#solution)"
   ]
  },
  {
   "cell_type": "code",
   "execution_count": null,
   "id": "c6b94ad0",
   "metadata": {},
   "outputs": [],
   "source": [
    "# fFile(nParPath=\"./hide/03-MakingaShopSimulationinC/MPP - 4.1 - Shop in C Part 1 - 04-10-2019.mkv\")\n",
    "# fFile(nParPath=\"./hide/03-MakingaShopSimulationinC/MPP - 4.2 - Shop in C Part 2 - 04-10-2019.mkv\")\n",
    "# fFile(nParPath=\"./hide/03-MakingaShopSimulationinC/shop.c\")\n",
    "# fFile(nParPath=\"./hide/03-MakingaShopSimulationinC/stock.csv\")"
   ]
  },
  {
   "cell_type": "markdown",
   "id": "2e26d12e",
   "metadata": {},
   "source": [
    "< [Table of Contents](#top) | [References](#references) >\n",
    "<a id=\"shopSimulationPassingArgumentsasPointer\"></a>\n",
    "***\n",
    "###### Passing Arguments as Pointer\n",
    "***"
   ]
  },
  {
   "cell_type": "code",
   "execution_count": null,
   "id": "a63d6949",
   "metadata": {},
   "outputs": [],
   "source": [
    "# fFile(nParPath=\"./hide/03-MakingaShopSimulationinC/02-MPP - C - Passing Arguments as Pointer - 07-11-2019.mp4\")\n",
    "# fFile(nParPath=\"./hide/03-MakingaShopSimulationinC/passPointers.c\")"
   ]
  },
  {
   "cell_type": "markdown",
   "id": "3851af61",
   "metadata": {},
   "source": [
    "< [Table of Contents](#top) | [References](#references) >\n",
    "<a id=\"shopSimulationProcessingtheOrder\"></a>\n",
    "***\n",
    "###### Processing the Order\n",
    "***"
   ]
  },
  {
   "cell_type": "code",
   "execution_count": null,
   "id": "ec52cc2a",
   "metadata": {},
   "outputs": [],
   "source": [
    "# fFile(nParPath=\"./hide/03-MakingaShopSimulationinC/03-MPP - Shop C - Processing the Order - 03-11-2019.mp4\")\n",
    "# fFile(nParPath=\"./hide/03-MakingaShopSimulationinC/ProductStock.c\")"
   ]
  },
  {
   "cell_type": "markdown",
   "id": "d0792a38",
   "metadata": {},
   "source": [
    "< [Table of Contents](#top) | [References](#references) >\n",
    "<a id=\"shopSimulationProcessingCustomerDetails\"></a>\n",
    "***\n",
    "###### Processing Customer Details\n",
    "***"
   ]
  },
  {
   "cell_type": "code",
   "execution_count": null,
   "id": "6896342b",
   "metadata": {},
   "outputs": [],
   "source": [
    "# fFile(nParPath=\"./hide/03-MakingaShopSimulationinC/04-MPP - Shop C Processing Customer Details - 03-11-2019.mp4\")\n",
    "# fFile(nParPath=\"./hide/03-MakingaShopSimulationinC/customerInfo.c\")"
   ]
  },
  {
   "cell_type": "markdown",
   "id": "cd78a8d5",
   "metadata": {},
   "source": [
    "<hr width=50%;>"
   ]
  },
  {
   "cell_type": "markdown",
   "id": "524e9a43",
   "metadata": {},
   "source": [
    "< [Table of Contents](#top) | [References](#references) >\n",
    "<a id=\"makingaShopSimulationinProcedural\"></a>\n",
    "***\n",
    "### Shop Simulation (Python Procedural)\n",
    "***"
   ]
  },
  {
   "cell_type": "markdown",
   "id": "7e78f078",
   "metadata": {},
   "source": [
    "- ``Python`` Solution:"
   ]
  },
  {
   "cell_type": "code",
   "execution_count": 1,
   "id": "ada9ffd0",
   "metadata": {
    "scrolled": false
   },
   "outputs": [
    {
     "name": "stdout",
     "output_type": "stream",
     "text": [
      "from dataclasses import dataclass, field\r\n",
      "from typing import List\r\n",
      "import csv\r\n",
      "\r\n",
      "from enum import IntEnum # set integer values\r\n",
      "from os import path # file error checking\r\n",
      "from os import system # clear screen output\r\n",
      "\r\n",
      "# capitals represent constants\r\n",
      "MAX_CHARACTERS=49 # display purposes only\r\n",
      "\r\n",
      "@dataclass # original source code\r\n",
      "class Product:\r\n",
      "    name: str\r\n",
      "    price: float = 0.0\r\n",
      "\r\n",
      "@dataclass # original source code\r\n",
      "class ProductStock:\r\n",
      "    product: Product\r\n",
      "    quantity: int\r\n",
      "\r\n",
      "@dataclass # original source code\r\n",
      "class Shop:\r\n",
      "    cash: float = 0.0\r\n",
      "    stock: List[ProductStock] = field(default_factory=list)\r\n",
      "\r\n",
      "@dataclass # original source code\r\n",
      "class Customer:\r\n",
      "    name: str = ''\r\n",
      "    budget: float = 0.0\r\n",
      "    shopping_list: List[ProductStock] = field(default_factory=list)\r\n",
      "\r\n",
      "def print_product(p): # original source code\r\n",
      "    \"\"\"Amend function print_product to only display the product name via:\r\n",
      "    i. option 2 'Read Orders'.\r\n",
      "\"\"\"   \r\n",
      "    if p.price!=0: # option 1 \"Shop Inventory\"\r\n",
      "        print(f'PRODUCT NAME: {p.name} \\nPRODUCT PRICE: EUR{p.price:.2f}') # original source code\r\n",
      "    else: # option 2 \"Read Orders\"\r\n",
      "        print(f'PRODUCT NAME: {p.name}') # display name only\r\n",
      "    ui_shop_menu_display('-',13); print() # display purposes only\r\n",
      "\r\n",
      "def print_customer_update_shop_state(c,s):\r\n",
      "    \"\"\"Amend function print_customer (signature: 'def print_customer(c)') having:\r\n",
      "      i. the same functionality as before;\r\n",
      "     ii. updating shop state and;\r\n",
      "    iii. return shop state to function main. \r\n",
      "\"\"\"\r\n",
      "    countNoProductMatch=0 # cart shop iterations\r\n",
      "    shoppingCartInvoice=0.0 # empty until add\r\n",
      "    canFillFullOrder=1 # assume is true\r\n",
      "    countOuterCustomer=0 # check equal countInnerShop\r\n",
      "    countInnerShop=0 # check equal countOuterCustomer\r\n",
      "\r\n",
      "    # print(f'CUSTOMER NAME: {c.name} \\nCUSTOMER BUDGET: EUR{c.budget}') # original source code\r\n",
      "    print(f'\\n\\n\\nCUSTOMER NAME: {c.name} \\nCUSTOMER BUDGET: EUR{c.budget:.2f}') # display purposes only\r\n",
      "    ui_shop_menu_display('-',13); print() # display purposes only\r\n",
      "\r\n",
      "    #\r\n",
      "    # for each customer\r\n",
      "    #\r\n",
      "    for item in c.shopping_list: # original source code\r\n",
      "        countShopIterations=0 # cart shop iterations\r\n",
      "        countNoProductMatch=0 # reset next customer\r\n",
      "\r\n",
      "        print_product(item.product) # original source code\r\n",
      "        print(f'{c.name} ORDERS {item.quantity:.0f} OF ABOVE PRODUCT') # original source code\r\n",
      "        ui_shop_menu_display('-',13); print() # display purposes only\r\n",
      "\r\n",
      "        #\r\n",
      "        # iterate all stock\r\n",
      "        #\r\n",
      "        for shop_item in s.stock: # update stop state\r\n",
      "            # cost = item.quantity * item.product.price # original source code\r\n",
      "            cost=item.quantity*shop_item.product.price # product full cost\r\n",
      "            countShopIterations+=1 # latter compare countNoProductMatch \r\n",
      "\r\n",
      "            if item.product.name==shop_item.product.name: # shop stocks product\r\n",
      "                print(f'The cost to {c.name} will be EUR{cost:.2f}') # original source code\r\n",
      "                ui_shop_menu_display('-',13); print() # display purposes only\r\n",
      "            else:\r\n",
      "                countNoProductMatch+=1 # determines product existence\r\n",
      "\r\n",
      "            if item.product.name!=shop_item.product.name: # product not exist\r\n",
      "                continue # continue sanity checking\r\n",
      "            elif item.quantity>shop_item.quantity: # exceed shop quantity\r\n",
      "                if shop_item.quantity<=0: # product all gone\r\n",
      "                    print(f'(Invalid Shop Quantity: Out of Stock)   >>> {item.product.name}') # thrown appropriate error\r\n",
      "                    print(f'The cost to {c.name} will be EUR0.00') # thrown appropriate error\r\n",
      "                else:\r\n",
      "                    print(f'(Invalid Shop Quantity: Quantity Limit) >>> {shop_item.quantity:.0f}') # thrown appropriate error\r\n",
      "                    shoppingCartInvoice+=shop_item.quantity*shop_item.product.price # product partial cost \r\n",
      "                    print(f'The cost to {c.name} will be \\\r\n",
      "                        EUR{shop_item.quantity*shop_item.product.price:.2f}') # thrown appropriate error\r\n",
      "                ui_shop_menu_display('-',13); print() # display purposes only\r\n",
      "                canFillFullOrder=0 # partial order false\r\n",
      "            elif c.budget<cost: # budget not allowing\r\n",
      "                canOnlyAfford=int(c.budget/shop_item.product.price) # price into budget\r\n",
      "                \r\n",
      "                if canOnlyAfford>=int(c.budget): # complete partial order\r\n",
      "                    print(f'Unfortunately {c.name} has a budget of EUR{c.budget:.2f}') # display purposes only\r\n",
      "                    shoppingCartInvoice+=canOnlyAfford*shop_item.product.price # update cart affordability \r\n",
      "                    c.budget-=canOnlyAfford*shop_item.product.price # reduce budget accordingly\r\n",
      "                    print(f'{c.name} can only afford {canOnlyAfford} {shop_item.product.name} at a cost of \\\r\n",
      "                        EUR{canOnlyAfford*shop_item.product.price:.2f}') # display purposes only\r\n",
      "                    item.quantity=canOnlyAfford # quanitity shop state\r\n",
      "                else:\r\n",
      "                    item.quantity-=item.quantity # quanitity shop state\r\n",
      "                    print(f'Unfortunately {c.name} cannot purchase any {shop_item.product.name}') # display purposes only\r\n",
      "                ui_shop_menu_display('-',13); print() # display purposes only\r\n",
      "                canFillFullOrder=0 # now partial order\r\n",
      "            elif c.budget>=cost: # all going well\r\n",
      "                shoppingCartInvoice+=cost # add to cart\r\n",
      "                c.budget-=shoppingCartInvoice # reduce down budget\r\n",
      "            \r\n",
      "            shop_item.quantity-=item.quantity # quanitity shop state\r\n",
      "\r\n",
      "            if shop_item.quantity<0: # shop negative quantities                \r\n",
      "                shop_item.quantity=0 # quanitity shop state\r\n",
      "            \r\n",
      "            countInnerShop+=1 # full partial order\r\n",
      "\r\n",
      "        #\r\n",
      "        # onto next customer\r\n",
      "        #\r\n",
      "        if countShopIterations==countNoProductMatch: # iteration no match\r\n",
      "            print(f'(Invalid Shop Product: <NOT IN STOCK>)  >>> {item.product.name}') # thrown appropriate error\r\n",
      "            print(f'The cost to {c.name} will be EUR0.00') # thrown appropriate error\r\n",
      "            ui_shop_menu_display('-',13); print() # display purposes only\r\n",
      "\r\n",
      "        countOuterCustomer+=1 # full partial order                \r\n",
      "\r\n",
      "    #\r\n",
      "    # all customers done\r\n",
      "    #\r\n",
      "    if shoppingCartInvoice>0: \r\n",
      "        if canFillFullOrder==1 and countInnerShop==countOuterCustomer:\r\n",
      "            print(f'(Completed <FULL> Order: Now Due)       >>> EUR{shoppingCartInvoice:.2f}') # display full order\r\n",
      "        else:\r\n",
      "            print(f'(Completed <PARTIAL> Order: Now Due)    >>> EUR{shoppingCartInvoice:.2f}') # display partial order\r\n",
      "    else:\r\n",
      "        print(f'(Invalid Order: <NIL> Shopping Cart)    >>> EUR{shoppingCartInvoice:.2f}') # thrown appropriate error\r\n",
      "\r\n",
      "    s.cash+=shoppingCartInvoice # cash shop state\r\n",
      "\r\n",
      "    return s # full shop state\r\n",
      "\r\n",
      "def print_shop(s): # original source code\r\n",
      "    \"\"\"Function printShop having no original functionality changed:\r\n",
      "    i. minor amendments for display purposes only.\r\n",
      "\"\"\" \r\n",
      "    print(f'Shop has {s.cash:.2f} in cash') # original source code\r\n",
      "    ui_shop_menu_display('_',24); print(); print()  # display partial order\r\n",
      "    for item in s.stock: # original source code\r\n",
      "        print_product(item.product) # original source code\r\n",
      "        print(f'The Shop has {item.quantity:.0f} of the above') # original source code\r\n",
      "        ui_shop_menu_display('-',13); print() # partial order display\r\n",
      "\r\n",
      "def create_and_stock_shop():\r\n",
      "    \"\"\"Amend function create_and_stock_shop (otherwise unchanged) having:\r\n",
      "     i. error message displayed (before exit) if the file (stock.csv) cannot be located (or name is changed).\r\n",
      "    Additional:\r\n",
      "    ii. closing file (stock.csv) after reading (returning the shop state to main - now in memory).\r\n",
      "\"\"\"\r\n",
      "    s = Shop()\r\n",
      "\r\n",
      "    try: # handle runtime exceptions\r\n",
      "        with open('../stock.csv') as csv_file:\r\n",
      "            csv_reader = csv.reader(csv_file, delimiter=',')\r\n",
      "            first_row = next(csv_reader)\r\n",
      "            s.cash = float(first_row[0])\r\n",
      "            for row in csv_reader:\r\n",
      "                p = Product(row[0], float(row[1]))\r\n",
      "                ps = ProductStock(p, float(row[2]))\r\n",
      "                s.stock.append(ps)\r\n",
      "                #print(ps)            \r\n",
      "    except FileNotFoundError: # check file exists\r\n",
      "        shop_menu_display_header('ERROR - stock.csv!'); # display purposes only\r\n",
      "        exit() # terminate the program\r\n",
      "\r\n",
      "    csv_file.close() # close CSV file\r\n",
      "    \r\n",
      "    return s\r\n",
      "\r\n",
      "def read_customer(file_path): # original source code\r\n",
      "    \"\"\"Amend function read_customer using most of the original functionality:\r\n",
      "    i .adding additional error runtime exceptions.\r\n",
      "\"\"\" \r\n",
      "    try: # handle runtime exceptions\r\n",
      "        with open('../'+file_path) as csv_file: # original source code           \r\n",
      "            csv_reader = csv.reader(csv_file, delimiter=',') # original source code\r\n",
      "            first_row = next(csv_reader) # original source code\r\n",
      "            c = Customer(first_row[0], float(first_row[1])) # original source code\r\n",
      "            for row in csv_reader: # original source code\r\n",
      "                name = row[0] # original source code\r\n",
      "                quantity = float(row[1]) # original source code\r\n",
      "                p = Product(name) # original source code\r\n",
      "                ps = ProductStock(p, quantity) # original source code\r\n",
      "                c.shopping_list.append(ps) # original source code             \r\n",
      "    except FileNotFoundError: # check file exists\r\n",
      "        print(f'(Invalid File: CSV file does not exist) >>> {file_path}\\n') # prompt error message\r\n",
      "        name=''; # customer not exist\r\n",
      "        budget=0 # therefore no budget\r\n",
      "        notRealCustomer=Customer(name,budget) # create non-existent customer\r\n",
      "        return notRealCustomer # return dummy customer\r\n",
      "    else:\r\n",
      "\r\n",
      "        csv_file.close() # close CSV file \r\n",
      "\r\n",
      "        if c.budget==0: # see customer david.csv\r\n",
      "            print(f'\\n\\n\\n\\t\\t<<<<<NO MONEY>>>>>') # display purposes only\r\n",
      "\r\n",
      "        return c # original source code\r\n",
      "\r\n",
      "def create_customer_live_mode():\r\n",
      "    \"\"\"Function create_customer_live_mode via shop menu option 3 \"Live Mode\" and return live customer.\r\n",
      "\"\"\"\r\n",
      "    shop_menu_live_display_header() # display purposes only\r\n",
      "\r\n",
      "    print(f'(Valid Input: Customer Name)            >>> ',end=\"\") # display purposes only\r\n",
      "    while True: # infinite until False\r\n",
      "        try: # handle runtime exceptions\r\n",
      "            name=str(input()) # user input string\r\n",
      "            if name=='': # check no input\r\n",
      "                raise ReplicateShopDotCError('COMMENT: allow newline character') # replicate shop.c behaviour\r\n",
      "        except (ValueError, # check for string\r\n",
      "            ReplicateShopDotCError): # custom exception created\r\n",
      "            print(end=\"\") # shop.c allows newline\r\n",
      "        else:\r\n",
      "            break # nothing to do\r\n",
      "\r\n",
      "    print(f'(Valid Input: Customer Budget)          >>> EUR',end=\"\") # display purposes only\r\n",
      "    while True: # infinite until False\r\n",
      "        try: # handle runtime exceptions\r\n",
      "            budget=float(input()) # user input string\r\n",
      "            while budget<=0: # error check budget\r\n",
      "                print(f'(Valid Input: Customer Budget)          >>> EUR',end=\"\") # display purposes only\r\n",
      "                budget=float(input()) # continue until correct\r\n",
      "        except ValueError: # check for float\r\n",
      "            print(end=\"\") # shop.c allows newline\r\n",
      "        else:\r\n",
      "            c=Customer(name.capitalize(),budget) # populate live customer\r\n",
      "            break\r\n",
      "\r\n",
      "    return c\r\n",
      "\r\n",
      "def create_live_mode_checkout(cart):\r\n",
      "    \"\"\" Function create_live_mode_checkout passing live customer via function create_customer_live_mode and return cart.\r\n",
      "\"\"\" \r\n",
      "    class live_menu_choice(IntEnum): # set integer values [1] \r\n",
      "        quit=0 # False then exit\r\n",
      "        add_product_to_cart=1 # shop option 1\r\n",
      "\r\n",
      "    shop_menu_live_display_header() # display purposes only\r\n",
      "    shop_menu_live_display() # display purposes only\r\n",
      "    \r\n",
      "    while True: # infinite until False        \r\n",
      "\r\n",
      "        try: # handle runtime exceptions\r\n",
      "            user=str(input()) # user input integer\r\n",
      "            if user=='': # check no input\r\n",
      "                raise ReplicateShopDotCError('COMMENT: allow newline character') # replicate shop.c behaviour\r\n",
      "        except (ValueError, # check for characters\r\n",
      "            ReplicateShopDotCError): # custom exception created\r\n",
      "            print(end=\"\") # shop.c allows newline\r\n",
      "        else:\r\n",
      "            pass\r\n",
      "\r\n",
      "        try:\r\n",
      "            user=int(user) # correct format integer\r\n",
      "            if user<0 or user>len(live_menu_choice)-1: # range interval [0,4)\r\n",
      "                raise ShopMenuChoiceError('COMMENT: allowable input [0,3]') # outside choice range\r\n",
      "        except (ValueError, # check for characters\r\n",
      "            ShopMenuChoiceError): # custom exception created \r\n",
      "            print(end=\"\") # shop.c allows newline\r\n",
      "        else:\r\n",
      "\r\n",
      "            if user==live_menu_choice.quit: # user input 0\r\n",
      "                return cart # send back cart\r\n",
      "            elif user==live_menu_choice.add_product_to_cart: # user input 1\r\n",
      "                print(f'(Valid Input: Product Name - Case-sensitive!)') # display purposes only\r\n",
      "                print(f'(Correct Uppercase/Lowercase Letters)   >>> ',end=\"\") # display purposes only\r\n",
      "                p_name=str(input()) # input product name\r\n",
      "                p_price=0; # not displaying price\r\n",
      "\r\n",
      "                while True:\r\n",
      "                    print(f'(Valid Input: Product Quantity)         >>> ',end=\"\") # display purposes only\r\n",
      "                    try:\r\n",
      "                        quantity=int(input()) # user input integer\r\n",
      "                        if quantity<=0: # zero or negative\r\n",
      "                            raise ValueError # continue requesting input\r\n",
      "                    except ValueError: # check for characters\r\n",
      "                        continue\r\n",
      "                    else:\r\n",
      "                        break\r\n",
      "\r\n",
      "                product=Product(p_name,p_price) # populate the dataclass\r\n",
      "                customer_item=ProductStock(product,quantity) # populate the dataclass\r\n",
      "\r\n",
      "                cart.shopping_list.append(customer_item) # full shopping cart\r\n",
      "                shop_menu_live_display() # display purposes only\r\n",
      "\r\n",
      "    return cart # live customer basket\r\n",
      "\r\n",
      "def main():\r\n",
      "    \"\"\"Implementation ground zero.\r\n",
      "\"\"\" \r\n",
      "    class shop_menu_choice(IntEnum): # set integer values [1] \r\n",
      "        quit=0 # False then exit\r\n",
      "        shop_inventory=1 # shop option 1\r\n",
      "        read_orders=2 # shop option 2\r\n",
      "        live_mode=3 # shop option 3\r\n",
      "\r\n",
      "    shop=create_and_stock_shop() # CSV return shop\r\n",
      "\r\n",
      "    system('clear') # clear screen output [2]\r\n",
      "    shop_menu_display() # display purposes only\r\n",
      "\r\n",
      "    while True: # infinite until False\r\n",
      "        try: # handle runtime exceptions\r\n",
      "            user=int(input()) # user input integer\r\n",
      "            if user<0 or user>len(shop_menu_choice)-1: # range interval [0,4)\r\n",
      "                raise ShopMenuChoiceError('COMMENT: allowable input [0,3]') # outside choice range\r\n",
      "        except (ValueError, # check for characters\r\n",
      "            ShopMenuChoiceError, # custom exception created \r\n",
      "            EOFError, # input EOF Ctrl-Z\r\n",
      "            KeyboardInterrupt): # terminate Ctrl-C etc\r\n",
      "            shop_menu_display_header('Invalid Choice!!!!'); print() # display purposes only\r\n",
      "            shop_menu_display() # display purposes only\r\n",
      "        else:\r\n",
      "\r\n",
      "            if user==shop_menu_choice.quit: # user input 0\r\n",
      "                shop_menu_display_header('\\tBye!'); print() # display purposes only\r\n",
      "                break # exit program bye!\r\n",
      "            if user==shop_menu_choice.shop_inventory: # user input 1\r\n",
      "                shop_menu_display_header('1 - Shop Inventory'); print() # display purposes only\r\n",
      "                print_shop(shop) # display shop inventory\r\n",
      "                shop_menu_display_footer() # display purposes only\r\n",
      "            if user==shop_menu_choice.read_orders: # user input 2\r\n",
      "                shop_menu_display_header('2 -  Read Orders'); print() # display purposes only\r\n",
      "                print(f'(Valid Input: Name - excluding \\'.csv\\')  >>> ',end=\"\") # CSV name only\r\n",
      "                csv_file=str(input()).lower()+'.csv' # CSV excluding '../'\r\n",
      "                customer=read_customer(csv_file) # read customer CSV\r\n",
      "                if customer.name!=\"\" and customer.budget!=0: # read_customer not notRealCustomer\r\n",
      "                    shop=print_customer_update_shop_state(customer,shop) # update shop state\r\n",
      "                shop_menu_display_footer() # display purposes only\r\n",
      "            if user==shop_menu_choice.live_mode: # user input 3\r\n",
      "                shop_menu_display_header('  Shop Inventory'); print() # display purposes only\r\n",
      "                print_shop(shop) # display shop inventory\r\n",
      "                live_customer=create_customer_live_mode() # create live customer\r\n",
      "                live_customer_cart=create_live_mode_checkout(live_customer) # create shopping basket \r\n",
      "                system('clear') # clear screen output [2]               \r\n",
      "                shop=print_customer_update_shop_state(live_customer_cart,shop) # update shop state\r\n",
      "                shop_menu_display_footer() # display purposes only\r\n",
      "\r\n",
      "'''\r\n",
      " *\r\n",
      " * Custom exception handling (includes programmer message).\r\n",
      " *\r\n",
      "'''\r\n",
      "\r\n",
      "class ShopMenuChoiceError(ValueError): pass # input outside range\r\n",
      "\r\n",
      "class ReplicateShopDotCError(ValueError): pass # allow newline character \r\n",
      "\r\n",
      "\"\"\"\r\n",
      " * \r\n",
      " * Display purposes only (no functionality).  \r\n",
      " *\r\n",
      "\"\"\"\r\n",
      "\r\n",
      "def ui_shop_menu_display(c, n):\r\n",
      "    \"\"\"Display purposes only.\r\n",
      "\"\"\" \r\n",
      "    for i in range(n):\r\n",
      "        print(c,end='')\r\n",
      "\r\n",
      "def shop_menu_display():\r\n",
      "    \"\"\"Display purposes only.\r\n",
      "\"\"\"     \r\n",
      "    ui_shop_menu_display('+',MAX_CHARACTERS)\r\n",
      "    print(f'\\n\\t\\t------ SHOP ------')\r\n",
      "    print(f'\\t\\t1 - Shop Inventory')\r\n",
      "    print(f'\\t\\t2 -  Read Orders')\r\n",
      "    print(f'\\t\\t3 -   Live Mode')\r\n",
      "    print(f'\\t\\t0 -     Exit')\r\n",
      "    ui_shop_menu_display('+',MAX_CHARACTERS)\r\n",
      "    print(f'\\n(Valid Input: 0 or 1 or 2 or 3)\\t\\t>>> ',end='')\r\n",
      "\r\n",
      "def shop_menu_display_header(s):\r\n",
      "    \"\"\"Display purposes only.\r\n",
      "\"\"\" \r\n",
      "    system('clear') # clear screen output [2]\r\n",
      "    ui_shop_menu_display('\\n',3) # display range [1,3]\r\n",
      "    ui_shop_menu_display('\\t',2); print(s) # display line 4\r\n",
      "    ui_shop_menu_display(' ',16); ui_shop_menu_display('-',18) # display line 5\r\n",
      "    ui_shop_menu_display('\\n',3) # display range [6,8]    \r\n",
      "\r\n",
      "def shop_menu_display_footer():\r\n",
      "    \"\"\"Display purposes only.\r\n",
      "\"\"\" \r\n",
      "    ui_shop_menu_display('\\n',3) # display range [1,3]\r\n",
      "    ui_shop_menu_display(' ',16); ui_shop_menu_display('-',18) # display line 4\r\n",
      "    ui_shop_menu_display('\\n',4) # display range [5,7]\r\n",
      "    shop_menu_display() # display shop men\r\n",
      "\r\n",
      "def shop_menu_live_display_header():\r\n",
      "    \"\"\"Display purposes only.\r\n",
      "\"\"\"     \r\n",
      "    ui_shop_menu_display('\\n',3)\r\n",
      "    ui_shop_menu_display(' ',16); ui_shop_menu_display('-',18)\r\n",
      "    ui_shop_menu_display('\\n',4)\r\n",
      "\r\n",
      "def shop_menu_live_display():\r\n",
      "    \"\"\"Display purposes only.\r\n",
      "\"\"\" \r\n",
      "    ui_shop_menu_display('+',MAX_CHARACTERS)\r\n",
      "    print(f'\\n\\t\\t---- LIVE MODE----')\r\n",
      "    print(f'\\t\\t1 -  Add to Cart')\r\n",
      "    print(f'\\t\\t0 -     Exit')\r\n",
      "    ui_shop_menu_display('+',MAX_CHARACTERS)\r\n",
      "    print(f'\\n(Valid Input: 0 or 1)\\t\\t\\t>>> ',end='')  \r\n",
      "\r\n",
      "if __name__=='__main__': # __name__ current module\r\n",
      "    main() # call function main\r\n",
      "\r\n",
      "'''\r\n",
      " *\r\n",
      " * References:\r\n",
      " * [1] https://www.python.org/dev/peps/pep-0435/#intenum\r\n",
      " * [2] https://codecap.org/clear-screen-in-python/\r\n",
      " *\r\n",
      "'''"
     ]
    }
   ],
   "source": [
    "%%script bash\n",
    "cat ./rc/gmit/python/shop.py"
   ]
  },
  {
   "cell_type": "code",
   "execution_count": null,
   "id": "758c7e39",
   "metadata": {},
   "outputs": [],
   "source": [
    "# fFile(nParPath=\"./hide/04-ObjectOrientedProgramming/MPP - 6.4 - Week 6 - Shop in Python & Comparison - 24-10-2020.mp4\")\n",
    "# fFile(nParPath=\"./hide/04-ObjectOrientedProgramming/MPP - 6.5 - Week 6 - Reading CSV in Python & C - 24-10-2020.mp4\")"
   ]
  },
  {
   "cell_type": "markdown",
   "id": "bcb05f11",
   "metadata": {},
   "source": [
    "- ``Python`` is a language which supports multiple paradigms [10]"
   ]
  },
  {
   "cell_type": "markdown",
   "id": "ac198f44",
   "metadata": {},
   "source": [
    "- it supports procedural programming and object oriented programming (plus functional programming and others) [10]"
   ]
  },
  {
   "cell_type": "markdown",
   "id": "b7e1c275",
   "metadata": {},
   "source": [
    "< [Table of Contents](#top) | [References](#references) >\n",
    "<a id=\"makingaShopSimulationinProceduralstructdataclass\"></a>\n",
    "***\n",
    "###### ``struct`` | ``dataclass``\n",
    "***"
   ]
  },
  {
   "cell_type": "markdown",
   "id": "38cb183e",
   "metadata": {},
   "source": [
    "- the closest construct to a ``struct`` in ``C`` that exists in ``Python`` is the ``dataclass`` [10]"
   ]
  },
  {
   "cell_type": "markdown",
   "id": "b13aece5",
   "metadata": {},
   "source": [
    "- a ``dataclass`` is like any other kind of class - its annotated and marked as a data class and is to be treated as a data container [10]\n",
    "\n",
    "```C\n",
    "struct Product {\n",
    "    char* name;\n",
    "    double price;\n",
    "};\n",
    "```\n",
    "\n",
    "```python\n",
    "@dataclass\n",
    "class Product:\n",
    "    name: str\n",
    "    price: float\n",
    "```"
   ]
  },
  {
   "cell_type": "markdown",
   "id": "1465ed76",
   "metadata": {},
   "source": [
    "< [Table of Contents](#top) | [References](#references) >\n",
    "<a id=\"makingaShopSimulationinProceduraltypesafety\"></a>\n",
    "***\n",
    "###### Type Safety\n",
    "***"
   ]
  },
  {
   "cell_type": "markdown",
   "id": "487ac3eb",
   "metadata": {},
   "source": [
    "- at first glance might think that type safety has been introduced to ``Python`` because in ``class Product`` the ``name`` is supposed to be a ``str`` [10]"
   ]
  },
  {
   "cell_type": "markdown",
   "id": "7eaeb754",
   "metadata": {},
   "source": [
    "- this is more like a direction for the programmer to use - it actually does not give type safety [10]"
   ]
  },
  {
   "cell_type": "markdown",
   "id": "05b5c743",
   "metadata": {},
   "source": [
    "- can put a number into that ``name`` instead of a ``str`` and it would allow this because ``Python`` is a dynamically typed language - the types of variables can change over time [10]"
   ]
  },
  {
   "cell_type": "markdown",
   "id": "cde51141",
   "metadata": {},
   "source": [
    "- ``C`` is a statically typed language - once declared a ``double`` then it always has to be a ``double`` - ``Python`` does not have this but this technique is a way of stating what types the variable should contain [10]\n",
    "\n",
    "```C\n",
    "struct Product {\n",
    "    char* name;\n",
    "    double price;\n",
    "};\n",
    "```\n",
    "\n",
    "```python\n",
    "@dataclass\n",
    "class Product:\n",
    "    name: str\n",
    "    price: float\n",
    "```"
   ]
  },
  {
   "cell_type": "markdown",
   "id": "15aaf60f",
   "metadata": {},
   "source": [
    "< [Table of Contents](#top) | [References](#references) >\n",
    "<a id=\"makingaShopSimulationinProceduralIndexing\"></a>\n",
    "***\n",
    "###### Indexing\n",
    "***"
   ]
  },
  {
   "cell_type": "markdown",
   "id": "2bc4783c",
   "metadata": {},
   "source": [
    "- ``Python`` being a higher-level language (unlike ``C``) there is no need to track the index when inserting elements into the two arrays in ``Shop`` and ``Customer`` [10]"
   ]
  },
  {
   "cell_type": "markdown",
   "id": "00aab87a",
   "metadata": {},
   "source": [
    "- there is only three types of variables in the ``Customer`` as opposed to four in the ``C`` version and two in the ``Shop`` as opposed to three in the ``C`` version [10]\n",
    "\n",
    "```python\n",
    "@dataclass\n",
    "class Shop:\n",
    "    cash: float\n",
    "    stock: List[ProductStock]\n",
    "\n",
    "@dataclass\n",
    "class Customer:\n",
    "    name: str\n",
    "    budget: float\n",
    "    shopping_list: List[ProductStock]\n",
    "```\n",
    "\n",
    "```C\n",
    "struct Shop {\n",
    "    double cash;\n",
    "    struct ProductStock stock[20];\n",
    "    int index;\n",
    "}\n",
    "\n",
    "struct Customer\n",
    "    char* name;\n",
    "    double budget;\n",
    "    struct ProductStock shoppingList[10];\n",
    "    int index;\n",
    "```"
   ]
  },
  {
   "cell_type": "markdown",
   "id": "bc28c0d5",
   "metadata": {},
   "source": [
    "< [Table of Contents](#top) | [References](#references) >\n",
    "<a id=\"makingaShopSimulationinProceduralcreateAndStockShop\"></a>\n",
    "***\n",
    "###### ``createAndStockShop`` | ``create_and_stock_shop``\n",
    "***"
   ]
  },
  {
   "cell_type": "markdown",
   "id": "d838f008",
   "metadata": {},
   "source": [
    "- ``Python``:\n",
    "```python\n",
    "def create_and_stock_shop():\n",
    "    s = Shop()\n",
    "    with open('../stock.csv') as csv_file:\n",
    "        csv_reader = csv.reader(csv_file, delimiter=',')\n",
    "        first_row = next(csv_reader)\n",
    "        s.cash = float(first_row[0])\n",
    "        for row in csv_reader:\n",
    "            p = Product(row[0], float(row[1]))\n",
    "            ps = ProductStock(p, float(row[2]))\n",
    "            s.stock.append(ps)\n",
    "            #print(ps)\n",
    "    return s\n",
    "```"
   ]
  },
  {
   "cell_type": "markdown",
   "id": "8830333d",
   "metadata": {},
   "source": [
    "- ``C``:\n",
    "```C\n",
    "struct Shop createAndStockShop()\n",
    "{\n",
    "    FILE * fp;\n",
    "    char * line = NULL;\n",
    "    size_t len = 0;\n",
    "    ssize_t read;\n",
    "\n",
    "    fp = fopen(\"../stock.csv\", \"r\");\n",
    "    if (fp == NULL)\n",
    "        exit(EXIT_FAILURE);\n",
    "\n",
    "\tread = getline(&line, &len, fp);\n",
    "\tfloat cash = atof(line);\n",
    "\t// printf(\"cash in shop is %.2f\\n\", cash);\n",
    "\t\n",
    "\tstruct Shop shop = { cash };\n",
    "\n",
    "    while ((read = getline(&line, &len, fp)) != -1) {\n",
    "        // printf(\"Retrieved line of length %zu:\\n\", read);\n",
    "        // printf(\"%s IS A LINE\", line);\n",
    "\t\tchar *n = strtok(line, \",\");\n",
    "\t\tchar *p = strtok(NULL, \",\");\n",
    "\t\tchar *q = strtok(NULL, \",\");\n",
    "\t\tint quantity = atoi(q);\n",
    "\t\tdouble price = atof(p);\n",
    "\t\tchar *name = malloc(sizeof(char) * 50);\n",
    "\t\tstrcpy(name, n);\n",
    "\t\tstruct Product product = { name, price };\n",
    "\t\tstruct ProductStock stockItem = { product, quantity };\n",
    "\t\tshop.stock[shop.index++] = stockItem;\n",
    "\t\t// printf(\"NAME OF PRODUCT %s PRICE %.2f QUANTITY %d\\n\", name, price, quantity);\n",
    "    }\n",
    "\t\n",
    "\treturn shop;\n",
    "}\n",
    "````"
   ]
  },
  {
   "cell_type": "markdown",
   "id": "edce6d16",
   "metadata": {},
   "source": [
    "- ``C`` does not have a ``csv`` library like ``Python`` - instead in ``C`` using the actual CSV file as a text file and using the function ``strtok`` to break apart the file [10]\n",
    "\n",
    "```C\n",
    "char *n = strtok(line, \",\");\n",
    "char *p = strtok(NULL, \",\");\n",
    "char *q = strtok(NULL, \",\");\n",
    "```"
   ]
  },
  {
   "cell_type": "markdown",
   "id": "1d9fedc4",
   "metadata": {},
   "source": [
    "- ``Python`` function ``csv_reader`` does the above [10]\n",
    "\n",
    "```Python\n",
    "with open('../stock.csv') as csv_file:\n",
    "    csv_reader = csv.reader(csv_file, delimiter=',')\n",
    "```"
   ]
  },
  {
   "cell_type": "markdown",
   "id": "fa27f7da",
   "metadata": {},
   "source": [
    "- ``Python`` requires no memory allocation [10]"
   ]
  },
  {
   "cell_type": "markdown",
   "id": "fa2b99cf",
   "metadata": {},
   "source": [
    "< [Table of Contents](#top) | [References](#references) >\n",
    "<a id=\"makingaShopSimulationinProceduralprintCustomer\"></a>\n",
    "***\n",
    "###### ``printCustomer`` | ``print_customer``\n",
    "***"
   ]
  },
  {
   "cell_type": "markdown",
   "id": "0c480403",
   "metadata": {},
   "source": [
    "- ``Python``:\n",
    "\n",
    "```Python\n",
    "def print_customer(c):\n",
    "    print(f'CUSTOMER NAME: {c.name} \\nCUSTOMER BUDGET: {c.budget}')\n",
    "    \n",
    "    for item in c.shopping_list:\n",
    "        print_product(item.product)\n",
    "        \n",
    "        print(f'{c.name} ORDERS {item.quantity} OF ABOVE PRODUCT')\n",
    "        cost = item.quantity * item.product.price\n",
    "        print(f'The cost to {c.name} will be €{cost}')\n",
    "```"
   ]
  },
  {
   "cell_type": "markdown",
   "id": "79e173b6",
   "metadata": {},
   "source": [
    "- ``C``:\n",
    "\n",
    "```C\n",
    "void printCustomer(struct Customer c)\n",
    "{\n",
    "\tprintf(\"CUSTOMER NAME: %s \\nCUSTOMER BUDGET: %.2f\\n\", c.name, c.budget);\n",
    "\tprintf(\"-------------\\n\");\n",
    "\tfor(int i = 0; i < c.index; i++)\n",
    "\t{\n",
    "\t\tprintProduct(c.shoppingList[i].product);\n",
    "\t\tprintf(\"%s ORDERS %d OF ABOVE PRODUCT\\n\", c.name, c.shoppingList[i].quantity);\n",
    "\t\tdouble cost = c.shoppingList[i].quantity * c.shoppingList[i].product.price; \n",
    "\t\tprintf(\"The cost to %s will be €%.2f\\n\", c.name, cost);\n",
    "\t}\n",
    "}\n",
    "```"
   ]
  },
  {
   "cell_type": "markdown",
   "id": "c602ad64",
   "metadata": {},
   "source": [
    "- ``Python`` has a higher level construct for arrays [10]\n",
    "\n",
    "```Python\n",
    "for item in c.shopping_list:\n",
    "```\n",
    "\n",
    "```C\n",
    "for(int i = 0; i < c.index; i++)\n",
    "```"
   ]
  },
  {
   "cell_type": "markdown",
   "id": "e461741d",
   "metadata": {},
   "source": [
    "<hr width=50%;>"
   ]
  },
  {
   "cell_type": "markdown",
   "id": "b60ae231",
   "metadata": {},
   "source": [
    "< [Table of Contents](#top) | [References](#references) >\n",
    "<a id=\"shopSimulationPython\"></a>\n",
    "***\n",
    "### Shop Simulation (Python OOP)\n",
    "***"
   ]
  },
  {
   "cell_type": "markdown",
   "id": "bd692f1b",
   "metadata": {},
   "source": [
    "- ``Python`` Solution:"
   ]
  },
  {
   "cell_type": "code",
   "execution_count": 1,
   "id": "795a047a",
   "metadata": {
    "scrolled": false
   },
   "outputs": [
    {
     "name": "stdout",
     "output_type": "stream",
     "text": [
      "import csv\r\n",
      "\r\n",
      "from enum import IntEnum # set integer values\r\n",
      "from os import path # file error checking\r\n",
      "from os import system # clear screen output\r\n",
      "\r\n",
      "# \r\n",
      "# define class Product\r\n",
      "#\r\n",
      "class Product:\r\n",
      "\r\n",
      "    #\r\n",
      "    # instance attributes initialiser\r\n",
      "    # \r\n",
      "    def __init__(self,name,price=0): # default Product state\r\n",
      "        \"\"\"Initialise (specify) object initial attributes:\r\n",
      "         i. name;\r\n",
      "        ii. price.\r\n",
      "    \"\"\"    \r\n",
      "        self.name=name # assign instance attribute\r\n",
      "        self.price=price # assign instance attribute\r\n",
      "    # --- END (instance attributes) ---\r\n",
      "\r\n",
      "# ------------------------------------------------\r\n",
      "# --------------- END (class Product) ------------\r\n",
      "# ------------------------------------------------\r\n",
      "\r\n",
      "# \r\n",
      "# define class ProductStock\r\n",
      "#\r\n",
      "class ProductStock:\r\n",
      "    \r\n",
      "    #\r\n",
      "    # instance attributes initialiser\r\n",
      "    # \r\n",
      "    def __init__(self,product,quantity): # default ProductStock state\r\n",
      "        \"\"\"Initialise (specify) object initial attributes:\r\n",
      "         i. product;\r\n",
      "        ii. quantity.\r\n",
      "    \"\"\"      \r\n",
      "        self.product=product # assign instance attribute\r\n",
      "        self.quantity=quantity # assign instance attribute\r\n",
      "    # --- END (instance attributes) ---\r\n",
      "\r\n",
      "# ------------------------------------------------    \r\n",
      "# --------------- END (class ProductStock) -------\r\n",
      "# ------------------------------------------------\r\n",
      "\r\n",
      "# \r\n",
      "# define class Customer\r\n",
      "#\r\n",
      "class Customer():\r\n",
      "    \r\n",
      "    #\r\n",
      "    # instance attributes initialiser\r\n",
      "    #    \r\n",
      "    def __init__(self,path): # default Customer state\r\n",
      "        \"\"\"Read CSV and initialise (specify) object initial attributes:\r\n",
      "         i. name;\r\n",
      "        ii. budget.\r\n",
      "    \"\"\"      \r\n",
      "        self.shopping_list=[] # assign instance attribute\r\n",
      "        try: # handle runtime exceptions\r\n",
      "            with open('../'+path) as csv_file:\r\n",
      "                csv_reader=csv.reader(csv_file, delimiter=',')\r\n",
      "                first_row=next(csv_reader)\r\n",
      "                self.name=first_row[0] # assign instance attribute\r\n",
      "                self.budget=float(first_row[1]) # assign instance attribute\r\n",
      "                for row in csv_reader:\r\n",
      "                    name=row[0]\r\n",
      "                    quantity=float(row[1])\r\n",
      "                    p=Product(name)\r\n",
      "                    ps=ProductStock(p,quantity)\r\n",
      "                    self.shopping_list.append(ps) # populate instance attribute\r\n",
      "        except FileNotFoundError: # check file exists\r\n",
      "            print(f'(Invalid File: CSV file does not exist) >>> {path}\\n') # prompt error message\r\n",
      "            self.name=''; # assign attribute empty\r\n",
      "            self.budget=0 # assign attribute zero\r\n",
      "        else:\r\n",
      "\r\n",
      "            csv_file.close() # close CSV file \r\n",
      "\r\n",
      "            if self.budget==0: # see customer david.csv\r\n",
      "                print(f'\\n\\n\\n\\t\\t<<<<<NO MONEY>>>>>') # display purposes only\r\n",
      "    # --- END (instance attributes) ---\r\n",
      "\r\n",
      "# ------------------------------------------------\r\n",
      "# --------------- END (class Customer) -----------\r\n",
      "# ------------------------------------------------\r\n",
      "\r\n",
      "# \r\n",
      "# define class Shop\r\n",
      "#\r\n",
      "class Shop():\r\n",
      "\r\n",
      "    #\r\n",
      "    # class attributes all\r\n",
      "    #\r\n",
      "    MAX_CHARACTERS=49 # display purposes only\r\n",
      "    class shop_menu_choice(IntEnum): # set integer values\r\n",
      "        quit=0 # False then exit\r\n",
      "        shop_inventory=1 # shop option 1\r\n",
      "        read_orders=2 # shop option 2\r\n",
      "        live_mode=3 # shop option 3\r\n",
      "    class ShopMenuChoiceError(ValueError): pass # input outside range\r\n",
      "    # --- END (class attributes) ---\r\n",
      "\r\n",
      "    #\r\n",
      "    # instance attributes initialiser\r\n",
      "    #\r\n",
      "    def __init__(self,path): # default Shop state\r\n",
      "        self.stock=[] # assign instance attribute\r\n",
      "        try: # handle runtime exceptions\r\n",
      "            with open(path) as csv_file:\r\n",
      "                csv_reader=csv.reader(csv_file, delimiter=',')\r\n",
      "                first_row=next(csv_reader)\r\n",
      "                self.cash=float(first_row[0]) # assign instance attribute\r\n",
      "                for row in csv_reader:\r\n",
      "                    p=Product(row[0], float(row[1]))\r\n",
      "                    ps=ProductStock(p, float(row[2]))\r\n",
      "                    self.stock.append(ps) # populate instance attribute\r\n",
      "        except FileNotFoundError: # check file exists\r\n",
      "            self.shop_menu_display_header('ERROR - stock.csv!'); # call instance method\r\n",
      "            exit() # terminate the program\r\n",
      "\r\n",
      "        csv_file.close() # close CSV file\r\n",
      "    \r\n",
      "        system('clear') # clear screen output\r\n",
      "        self.shop_menu_display() # call instance method\r\n",
      "\r\n",
      "    # --- END (instance attributes) ---\r\n",
      "\r\n",
      "    #\r\n",
      "    # class instance methods\r\n",
      "    #\r\n",
      "    def ui_shop_menu_display(self,c,n):\r\n",
      "        \"\"\"Display purposes only.\r\n",
      "    \"\"\"\r\n",
      "        for i in range(n):\r\n",
      "            print(c,end='')\r\n",
      "\r\n",
      "    def shop_menu_display_header(self,s):\r\n",
      "        \"\"\"Display purposes only (using instance method ``ui_shop_menu_display``).\r\n",
      "    \"\"\"\r\n",
      "        system('clear') # clear screen output\r\n",
      "        self.ui_shop_menu_display('\\n',3) # call instance method\r\n",
      "        self.ui_shop_menu_display('\\t',2); print(s) # call instance method\r\n",
      "        self.ui_shop_menu_display(' ',16); self.ui_shop_menu_display('-',18) # call instance method\r\n",
      "        self.ui_shop_menu_display('\\n',3) # call instance method\r\n",
      "\r\n",
      "    def shop_menu_display(self):\r\n",
      "        \"\"\"Display purposes only (using instance method ``ui_shop_menu_display``) and \r\n",
      "        call instance method ``shop_menu``. Utilising class attribute ``MAX_CHARACTERS``.\r\n",
      "    \"\"\"\r\n",
      "        self.ui_shop_menu_display('+',self.MAX_CHARACTERS) # call instance method\r\n",
      "        print(f'\\n\\t\\t------ SHOP ------')\r\n",
      "        print(f'\\t\\t1 - Shop Inventory')\r\n",
      "        print(f'\\t\\t2 -  Read Orders')\r\n",
      "        print(f'\\t\\t3 -   Live Mode')\r\n",
      "        print(f'\\t\\t0 -     Exit')\r\n",
      "        self.ui_shop_menu_display('+',self.MAX_CHARACTERS) # call instance method\r\n",
      "        print(f'\\n(Valid Input: 0 or 1 or 2 or 3)\\t\\t>>> ',end='')\r\n",
      "\r\n",
      "        # ***behaviour sequence pattern***\r\n",
      "        self.shop_menu() # call instance method\r\n",
      "        # ################################\r\n",
      "\r\n",
      "    def print_product(self,p):\r\n",
      "        \"\"\"Amend function print_product to only display the product name via:\r\n",
      "        i. option 2 'Read Orders'.\r\n",
      "\r\n",
      "        (using instance method ``ui_shop_menu_display``)\r\n",
      "    \"\"\"   \r\n",
      "        if p.price!=0: # option 1 \"Shop Inventory\"\r\n",
      "            print(f'PRODUCT NAME: {p.name} \\nPRODUCT PRICE: EUR{p.price:.2f}') # original source code\r\n",
      "        else: # option 2 \"Read Orders\"\r\n",
      "            print(f'PRODUCT NAME: {p.name}') # display name only\r\n",
      "        self.ui_shop_menu_display('-',13); print() # call instance method\r\n",
      "\r\n",
      "    def print_shop(self,s):\r\n",
      "        \"\"\"Method print_shop having no original functionality changed:\r\n",
      "         i. minor amendments for display purposes only;\r\n",
      "        ii. using instance method ``ui_shop_menu_display`` for display purpoes.\r\n",
      "    \"\"\" \r\n",
      "        print(f'Shop has {s.cash:.2f} in cash') # original source code\r\n",
      "        self.ui_shop_menu_display('_',24); print(); print() # call instance method\r\n",
      "        for item in s.stock: # original source code\r\n",
      "            self.print_product(item.product) # call instance method\r\n",
      "            print(f'The Shop has {item.quantity:.0f} of the above') # original source code\r\n",
      "            self.ui_shop_menu_display('-',13); print() # call instance method\r\n",
      "\r\n",
      "    def shop_menu_display_footer(self):\r\n",
      "        \"\"\"Display purposes only (using instance method ``ui_shop_menu_display``) and \r\n",
      "        call instance method ``shop_menu_display``.\r\n",
      "    \"\"\"\r\n",
      "        self.ui_shop_menu_display('\\n',3) # call instance method\r\n",
      "        self.ui_shop_menu_display(' ',16); self.ui_shop_menu_display('-',18) # call instance method\r\n",
      "        self.ui_shop_menu_display('\\n',4) # call instance method\r\n",
      "\r\n",
      "        # ***behaviour sequence pattern***\r\n",
      "        self.shop_menu_display() # call instance method\r\n",
      "        # ################################\r\n",
      "\r\n",
      "    def print_customer_update_shop_state(self,c,s):\r\n",
      "        \"\"\"Method:\r\n",
      "         i. updating shop state;\r\n",
      "        ii. using instance method ``ui_shop_menu_display`` for display purposes\r\n",
      "    \"\"\"\r\n",
      "        count_no_product_match=0 # cart shop iterations\r\n",
      "        shopping_cart_invoice=0.0 # empty until add\r\n",
      "        can_fill_full_order=1 # assume is true\r\n",
      "        count_outer_customer=0 # check equal count_inner_shop\r\n",
      "        count_inner_shop=0 # check equal count_outer_customer\r\n",
      "\r\n",
      "        print(f'\\n\\n\\nCUSTOMER NAME: {c.name} \\nCUSTOMER BUDGET: EUR{c.budget:.2f}') # display purposes only\r\n",
      "        self.ui_shop_menu_display('-',13); print() # call instance method\r\n",
      "\r\n",
      "        #\r\n",
      "        # for each customer\r\n",
      "        #\r\n",
      "        for item in c.shopping_list: # original source code\r\n",
      "            countShopIterations=0 # cart shop iterations\r\n",
      "            count_no_product_match=0 # reset next customer\r\n",
      "\r\n",
      "            self.print_product(item.product) # call instance method\r\n",
      "            print(f'{c.name} ORDERS {item.quantity:.0f} OF ABOVE PRODUCT') # original source code\r\n",
      "            self.ui_shop_menu_display('-',13); print() # call instance method\r\n",
      "\r\n",
      "            #\r\n",
      "            # iterate all stock\r\n",
      "            #\r\n",
      "            for shop_item in s.stock: # update stop state\r\n",
      "                cost=item.quantity*shop_item.product.price # product full cost\r\n",
      "                countShopIterations+=1 # latter compare count_no_product_match \r\n",
      "\r\n",
      "                if item.product.name==shop_item.product.name: # shop stocks product\r\n",
      "                    print(f'The cost to {c.name} will be EUR{cost:.2f}') # original source code\r\n",
      "                    self.ui_shop_menu_display('-',13); print() # call instance method\r\n",
      "                else:\r\n",
      "                    count_no_product_match+=1 # determines product existence\r\n",
      "\r\n",
      "                if item.product.name!=shop_item.product.name: # product not exist\r\n",
      "                    continue # continue sanity checking\r\n",
      "                elif item.quantity>shop_item.quantity: # exceed shop quantity\r\n",
      "                    if shop_item.quantity<=0: # product all gone\r\n",
      "                        print(f'(Invalid Shop Quantity: Out of Stock)   >>> {item.product.name}') # thrown appropriate error\r\n",
      "                        print(f'The cost to {c.name} will be EUR0.00') # thrown appropriate error\r\n",
      "                    else:\r\n",
      "                        print(f'(Invalid Shop Quantity: Quantity Limit) >>> {shop_item.quantity:.0f}') # thrown appropriate error\r\n",
      "                        shopping_cart_invoice+=shop_item.quantity*shop_item.product.price # product partial cost \r\n",
      "                        print(f'The cost to {c.name} will be EUR{shop_item.quantity*shop_item.product.price:.2f}') # thrown appropriate error\r\n",
      "                    self.ui_shop_menu_display('-',13); print() # display purposes only\r\n",
      "                    can_fill_full_order=0 # partial order false\r\n",
      "                elif c.budget<cost: # budget not allowing\r\n",
      "                    canOnlyAfford=int(c.budget/shop_item.product.price) # price into budget\r\n",
      "                    \r\n",
      "                    if canOnlyAfford>=int(c.budget): # complete partial order\r\n",
      "                        print(f'Unfortunately {c.name} has a budget of EUR{c.budget:.2f}') # display purposes only\r\n",
      "                        shopping_cart_invoice+=canOnlyAfford*shop_item.product.price # update cart affordability \r\n",
      "                        c.budget-=canOnlyAfford*shop_item.product.price # reduce budget accordingly\r\n",
      "                        print(f'{c.name} can only afford {canOnlyAfford} {shop_item.product.name} at a cost of EUR{canOnlyAfford*shop_item.product.price:.2f}') # display purposes only\r\n",
      "                        item.quantity=canOnlyAfford # quanitity shop state\r\n",
      "                    else:\r\n",
      "                        item.quantity-=item.quantity # quanitity shop state\r\n",
      "                        print(f'Unfortunately {c.name} cannot purchase any {shop_item.product.name}') # display purposes only\r\n",
      "                    self.ui_shop_menu_display('-',13); print() # display purposes only\r\n",
      "                    can_fill_full_order=0 # now partial order\r\n",
      "                elif c.budget>=cost: # all going well\r\n",
      "                    shopping_cart_invoice+=cost # add to cart\r\n",
      "                    c.budget-=shopping_cart_invoice # reduce down budget\r\n",
      "                \r\n",
      "                shop_item.quantity-=item.quantity # quanitity shop state\r\n",
      "\r\n",
      "                if shop_item.quantity<0: # shop negative quantities                \r\n",
      "                    shop_item.quantity=0 # quanitity shop state\r\n",
      "                \r\n",
      "                count_inner_shop+=1 # full partial order\r\n",
      "\r\n",
      "            #\r\n",
      "            # onto next customer\r\n",
      "            #\r\n",
      "            if countShopIterations==count_no_product_match: # iteration no match\r\n",
      "                print(f'(Invalid Shop Product: <NOT IN STOCK>)  >>> {item.product.name}') # thrown appropriate error\r\n",
      "                print(f'The cost to {c.name} will be EUR0.00') # thrown appropriate error\r\n",
      "                self.ui_shop_menu_display('-',13); print() # display purposes only\r\n",
      "\r\n",
      "            count_outer_customer+=1 # full partial order                \r\n",
      "\r\n",
      "        #\r\n",
      "        # all customers done\r\n",
      "        #\r\n",
      "        if shopping_cart_invoice>0: \r\n",
      "            if can_fill_full_order==1 and count_inner_shop==count_outer_customer:\r\n",
      "                print(f'(Completed <FULL> Order: Now Due)       >>> EUR{shopping_cart_invoice:.2f}') # display full order\r\n",
      "            else:\r\n",
      "                print(f'(Completed <PARTIAL> Order: Now Due)    >>> EUR{shopping_cart_invoice:.2f}') # display partial order\r\n",
      "        else:\r\n",
      "            print(f'(Invalid Order: <NIL> Shopping Cart)    >>> EUR{shopping_cart_invoice:.2f}') # thrown appropriate error\r\n",
      "\r\n",
      "        self.cash+=shopping_cart_invoice # cash shop state\r\n",
      "\r\n",
      "    def shop_menu(self):\r\n",
      "        \"\"\"Process user choice.\r\n",
      "    \"\"\"\r\n",
      "        while True: # infinite until False\r\n",
      "            try: # handle runtime exceptions\r\n",
      "                user=int(input()) # user input integer\r\n",
      "                if user<0 or user>len(self.shop_menu_choice)-1: # range interval [0,4)\r\n",
      "                    raise self.ShopMenuChoiceError('COMMENT: allowable input [0,3]') # outside choice range\r\n",
      "            except (ValueError, # check for characters\r\n",
      "                self.ShopMenuChoiceError, # custom exception created \r\n",
      "                EOFError, # input EOF Ctrl-Z\r\n",
      "                KeyboardInterrupt): # terminate Ctrl-C etc\r\n",
      "                self.shop_menu_display_header('Invalid Choice!!!!'); print() # call instance method\r\n",
      "                self.shop_menu_display() # call instance method\r\n",
      "            else:\r\n",
      "\r\n",
      "                if user==self.shop_menu_choice.quit: # user input 0\r\n",
      "                    self.shop_menu_display_header('\\tBye!'); print() # call instance method\r\n",
      "                    exit() # terminate the program\r\n",
      "                if user==self.shop_menu_choice.shop_inventory: # user input 1\r\n",
      "                    self.shop_menu_display_header('1 - Shop Inventory'); print() # call instance method\r\n",
      "                    self.print_shop(self) # call instance method\r\n",
      "                    self.shop_menu_display_footer() # call instance method\r\n",
      "                if user==self.shop_menu_choice.read_orders: # user input 2\r\n",
      "                    self.shop_menu_display_header('2 -  Read Orders'); print() # display purposes only\r\n",
      "                    print(f'(Valid Input: Name - excluding \\'.csv\\')  >>> ',end=\"\") # CSV name only\r\n",
      "                    csv_file=str(input()).lower()+'.csv' # CSV excluding '../'\r\n",
      "\r\n",
      "                    # ***behaviour sequence pattern***\r\n",
      "                    customer_instance=Customer(path=csv_file) # instantiate object Customer\r\n",
      "                    # ################################\r\n",
      "                    \r\n",
      "                    if customer_instance.name!=\"\" and customer_instance.budget!=0: # customer has money\r\n",
      "                        self.print_customer_update_shop_state(customer_instance,self) # call instance method\r\n",
      "                    self.shop_menu_display_footer() # call instance method\r\n",
      "                if user==self.shop_menu_choice.live_mode: # user input 3\r\n",
      "                    self.shop_menu_display_header('  Shop Inventory'); print() # display purposes only\r\n",
      "                    self.print_shop(self) # call instance method\r\n",
      "\r\n",
      "                    # ***behaviour sequence pattern***\r\n",
      "                    live_instance=Live() # instantiate object Live\r\n",
      "                    # ################################\r\n",
      "\r\n",
      "                    system('clear') # clear screen output\r\n",
      "                    self.print_customer_update_shop_state(live_instance,self) # call instance method             \r\n",
      "                    self.shop_menu_display_footer() # call instance method\r\n",
      "    # --- END (instance methods) ---\r\n",
      "\r\n",
      "    #\r\n",
      "    # object string representation\r\n",
      "    #\r\n",
      "    def __repr__(self): # overriding method repr\r\n",
      "        str=\"\" # create a string\r\n",
      "        str+=f'Shop has {self.cash} in cash\\n' # append to str\r\n",
      "        for item in self.stock: # iterate product stock\r\n",
      "            str+=f\"[item]\\n\" # everything in shop\r\n",
      "        return str # object printable string\r\n",
      "    # --- END (string representation) ---\r\n",
      "\r\n",
      "# ------------------------------------------------    \r\n",
      "# --------------- END (class Shop) ---------------\r\n",
      "# ------------------------------------------------\r\n",
      "\r\n",
      "# \r\n",
      "# define class Live\r\n",
      "#\r\n",
      "class Live(Shop): # child parent ``Shop``\r\n",
      "\r\n",
      "    #\r\n",
      "    # class attributes all\r\n",
      "    #\r\n",
      "    class ReplicateShopDotCError(ValueError): pass # allow newline character\r\n",
      "    class live_menu_choice(IntEnum): # set integer values\r\n",
      "        quit=0 # False then exit\r\n",
      "        add_product_to_cart=1 # shop option 1    \r\n",
      "    # --- END (class attributes) ---\r\n",
      "\r\n",
      "    #\r\n",
      "    # instance attributes initialiser\r\n",
      "    #\r\n",
      "    def __init__(self): # default Live state\r\n",
      "        \"\"\"Initialise (specify) object initial attributes:\r\n",
      "         i. name (live customer name);\r\n",
      "        ii. budget (live customer budget).\r\n",
      "    \"\"\"\r\n",
      "        self.shop_menu_live_display_header() # call instance method\r\n",
      "\r\n",
      "        self.shopping_list=[] # assign instance attribute\r\n",
      "\r\n",
      "        print(f'(Valid Input: Customer Name)            >>> ',end=\"\") # display purposes only\r\n",
      "        while True: # infinite until False\r\n",
      "            try: # handle runtime exceptions\r\n",
      "                self.name=str(input()) # assign instance attribute\r\n",
      "                if self.name=='': # check no input\r\n",
      "                    raise self.ReplicateShopDotCError('COMMENT: allow newline character') # replicate shop.c behaviour\r\n",
      "            except (ValueError, # check for string\r\n",
      "                self.ReplicateShopDotCError): # custom exception created\r\n",
      "                print(end=\"\") # shop.c allows newline\r\n",
      "            else:\r\n",
      "                self.name=self.name.capitalize() # assign instance attribute               \r\n",
      "                break # nothing to do\r\n",
      "\r\n",
      "        print(f'(Valid Input: Customer Budget)          >>> EUR',end=\"\") # display purposes only\r\n",
      "        while True: # infinite until False\r\n",
      "            try: # handle runtime exceptions\r\n",
      "                self.budget=float(input()) # assign instance attribute\r\n",
      "                while self.budget<=0: # error check budget\r\n",
      "                    print(f'(Valid Input: Customer Budget)          >>> EUR',end=\"\") # display purposes only\r\n",
      "                    self.budget=float(input()) # assign instance attribute\r\n",
      "            except ValueError: # check for float\r\n",
      "                print(end=\"\") # shop.c allows newline\r\n",
      "            else:\r\n",
      "                self.budget # user budget state\r\n",
      "                break\r\n",
      "\r\n",
      "        self.shop_menu_live_display_header() # call instance method\r\n",
      "        self.shop_menu_live_display() # call instance method\r\n",
      "\r\n",
      "        self.create_live_mode_checkout() # call instance method\r\n",
      "    # --- END (instance attributes) ---\r\n",
      "\r\n",
      "    #\r\n",
      "    # class instance methods\r\n",
      "    #\r\n",
      "    def shop_menu_live_display_header(self):\r\n",
      "        \"\"\"Display purposes only.\r\n",
      "        From inherited parent class ``Shop`` using:\r\n",
      "        i. class Shop instance method ``ui_shop_menu_display``.\r\n",
      "    \"\"\"   \r\n",
      "        self.ui_shop_menu_display('\\n',3) # call instance method\r\n",
      "        self.ui_shop_menu_display(' ',16); self.ui_shop_menu_display('-',18) # call instance method\r\n",
      "        self.ui_shop_menu_display('\\n',4) # call instance method\r\n",
      "\r\n",
      "    def shop_menu_live_display(self):\r\n",
      "        \"\"\"Display purposes only.\r\n",
      "        From inherited parent class ``Shop`` using:\r\n",
      "         i. class Shop instance method ``ui_shop_menu_display``;\r\n",
      "        ii. class Shop class attribute ``MAX_CHARACTERS``.\r\n",
      "    \"\"\"\r\n",
      "        self.ui_shop_menu_display('+',self.MAX_CHARACTERS) # call instance method\r\n",
      "        print(f'\\n\\t\\t---- LIVE MODE----')\r\n",
      "        print(f'\\t\\t1 -  Add to Cart')\r\n",
      "        print(f'\\t\\t0 -     Exit')\r\n",
      "        self.ui_shop_menu_display('+',self.MAX_CHARACTERS) # call instance method\r\n",
      "        print(f'\\n(Valid Input: 0 or 1)\\t\\t\\t>>> ',end='')\r\n",
      "\r\n",
      "    def create_live_mode_checkout(self):\r\n",
      "        \"\"\"Live mode menu.\r\n",
      "        Using class Shop class attribute ``ShopMenuChoiceError``.\r\n",
      "    \"\"\"\r\n",
      "        while True: # infinite until False        \r\n",
      "\r\n",
      "            try: # handle runtime exceptions\r\n",
      "                user=str(input()) # user input integer\r\n",
      "                if user=='': # check no input\r\n",
      "                    raise self.ReplicateShopDotCError('COMMENT: allow newline character') # replicate shop.c behaviour\r\n",
      "            except (ValueError, # check for characters\r\n",
      "                self.ReplicateShopDotCError): # custom exception created\r\n",
      "                print(end=\"\") # shop.c allows newline\r\n",
      "            else:\r\n",
      "                pass\r\n",
      "\r\n",
      "            try:\r\n",
      "                user=int(user) # correct format integer\r\n",
      "                if user<0 or user>len(self.live_menu_choice)-1: # range interval [0,2)\r\n",
      "                    raise self.ShopMenuChoiceError('COMMENT: allowable input [0,1]') # outside choice range\r\n",
      "            except (ValueError, # check for characters\r\n",
      "                self.ShopMenuChoiceError): # custom exception created \r\n",
      "                print(end=\"\") # shop.c allows newline\r\n",
      "            else:\r\n",
      "\r\n",
      "                if user==self.live_menu_choice.quit: # user input 0\r\n",
      "                    break # back to shop\r\n",
      "                elif user==self.live_menu_choice.add_product_to_cart: # user input 1\r\n",
      "                    print(f'(Valid Input: Product Name - Case-sensitive!)') # display purposes only\r\n",
      "                    print(f'(Correct Uppercase/Lowercase Letters)   >>> ',end=\"\") # display purposes only\r\n",
      "                    p_name=str(input()) # input product name\r\n",
      "                    p_price=0; # not displaying price\r\n",
      "\r\n",
      "                    while True:\r\n",
      "                        print(f'(Valid Input: Product Quantity)         >>> ',end=\"\") # display purposes only\r\n",
      "                        try:\r\n",
      "                            quantity=int(input()) # user input integer\r\n",
      "                            if quantity<=0: # zero or negative\r\n",
      "                                raise ValueError # continue requesting input\r\n",
      "                        except ValueError: # check for characters\r\n",
      "                            continue\r\n",
      "                        else:\r\n",
      "                            break\r\n",
      "\r\n",
      "                    product=Product(p_name,p_price) # populate class Product\r\n",
      "                    customer_item=ProductStock(product,quantity) # populate class ProductStock\r\n",
      "\r\n",
      "                    self.shopping_list.append(customer_item) # ready for checkout\r\n",
      "                    \r\n",
      "                    self.shop_menu_live_display() # call instance method\r\n",
      "    # --- END (instance methods) ---\r\n",
      "\r\n",
      "# ------------------------------------------------\r\n",
      "# --------------- END (class Live) ---------------\r\n",
      "# ------------------------------------------------\r\n",
      "# ------------------------------------------------\r\n",
      "\r\n",
      "if __name__=='__main__': # __name__ current module\r\n",
      "    shop_instance=Shop(path=\"../stock.csv\") # instantiate object Shop"
     ]
    }
   ],
   "source": [
    "%%script bash\n",
    "cat ./rc/gmit/oo-python/shop.py"
   ]
  },
  {
   "cell_type": "code",
   "execution_count": null,
   "id": "022633b3",
   "metadata": {},
   "outputs": [],
   "source": [
    "# fFile(nParPath=\"./hide/04-ObjectOrientedProgramming/08-MPP - Week 7 - OOP Shop Python Part 1 - 03-11-2020.mp4\")\n",
    "# fFile(nParPath=\"./hide/04-ObjectOrientedProgramming/09-MPP - Week 7 - OOP Shop Python Part 2 - 03-11-2020.mp4\")\n",
    "# fFile(nParPath=\"./hide/04-ObjectOrientedProgramming/shop_oop.py\")"
   ]
  },
  {
   "cell_type": "markdown",
   "id": "6bb6461e",
   "metadata": {},
   "source": [
    "<hr width=50%;>"
   ]
  },
  {
   "cell_type": "markdown",
   "id": "a04d2afc",
   "metadata": {},
   "source": [
    "< [Table of Contents](#top) | [References](#references) >\n",
    "<a id=\"shopSimulationJava\"></a>\n",
    "***\n",
    "### Shop Simulation (Java OOP)\n",
    "***"
   ]
  },
  {
   "cell_type": "code",
   "execution_count": null,
   "id": "7db3d5a8",
   "metadata": {},
   "outputs": [],
   "source": [
    "# fFile(nParPath=\"./hide/04-ObjectOrientedProgramming/04-MPP - Week 8 - Shop in Java Part 1 - 05-11-2020.mp4\")\n",
    "# fFile(nParPath=\"./hide/04-ObjectOrientedProgramming/05-MPP - Week 8 - Shop in Java Part 2 (Subclassing) - 05-11-2020.mp4\")\n",
    "# fFile(nParPath=\"./hide/04-ObjectOrientedProgramming/JavaShopCode.zip\")"
   ]
  },
  {
   "cell_type": "markdown",
   "id": "6f121544",
   "metadata": {},
   "source": [
    "< [Table of Contents](#top) | [References](#references) >\n",
    "<a id=\"shopSimulationJavaUserInput\"></a>\n",
    "***\n",
    "###### User Input\n",
    "***"
   ]
  },
  {
   "cell_type": "code",
   "execution_count": null,
   "id": "040314b0",
   "metadata": {},
   "outputs": [],
   "source": [
    "# fFile(nParPath=\"./hide/04-ObjectOrientedProgramming/06-MPP - Week 8 - User Input in Java - 05-11-2020.mp4\")"
   ]
  },
  {
   "cell_type": "markdown",
   "id": "8d09182b",
   "metadata": {},
   "source": [
    "<hr width=50%;>"
   ]
  },
  {
   "cell_type": "markdown",
   "id": "83e95f4a",
   "metadata": {},
   "source": [
    "***\n",
    "## END"
   ]
  },
  {
   "cell_type": "markdown",
   "id": "d0aff9d2",
   "metadata": {},
   "source": [
    "< [Table of Contents](#top) | [Learning Outcomes](#abstractLearningOutcomes) | [Module Topics](#introduction) | [Winter 21/22 Assessment](#solution](#solution) | [References](#references) >\n",
    "<a id=\"conclusion\"></a>\n",
    "***\n",
    "### Report\n",
    "***"
   ]
  },
  {
   "cell_type": "markdown",
   "id": "16f0dc56",
   "metadata": {},
   "source": [
    "- complete a short report (around 3-5 pages) which compares the solutions achieved using the procedural approach and the object oriented approach\n",
    "\n",
    "\n",
    "i. excessively long reports will be penalised\n",
    "\n",
    "\n",
    "ii. should be about comparing implementations"
   ]
  },
  {
   "cell_type": "code",
   "execution_count": 1,
   "id": "d969aa70",
   "metadata": {
    "scrolled": false
   },
   "outputs": [
    {
     "data": {
      "text/html": [
       "\n",
       "        <iframe\n",
       "            width=\"1000\"\n",
       "            height=\"1250\"\n",
       "            src=\"./rc/gmit/report.pdf\"\n",
       "            frameborder=\"0\"\n",
       "            allowfullscreen\n",
       "        ></iframe>\n",
       "        "
      ],
      "text/plain": [
       "<IPython.lib.display.IFrame at 0x190c1aff790>"
      ]
     },
     "execution_count": 1,
     "metadata": {},
     "output_type": "execute_result"
    }
   ],
   "source": [
    "from IPython.display import IFrame, display\n",
    "IFrame(\"./rc/gmit/report.pdf\",width=1000,height=1250)"
   ]
  },
  {
   "cell_type": "markdown",
   "id": "9530e9ad",
   "metadata": {},
   "source": [
    "***\n",
    "## END"
   ]
  },
  {
   "cell_type": "markdown",
   "id": "072953f8",
   "metadata": {},
   "source": [
    "< [Table of Contents](#top) | [Learning Outcomes](#abstractLearningOutcomes) | [Module Topics](#introduction) | [Winter 21/22 Assessment](#solution](#solution) | [Report](#conclusion) | [References](#references) >\n",
    "<a id=\"references\"></a>\n",
    "***\n",
    "## References\n",
    "***\n",
    "\n",
    "&nbsp;&nbsp;&nbsp;&nbsp;&nbsp;&nbsp;&nbsp;&nbsp;&nbsp;[1] D. Carr, \"Moodle (Multi-Paradigm Programming),\" GMIT, (n.d.).\n",
    "\n",
    "&nbsp;&nbsp;&nbsp;&nbsp;&nbsp;&nbsp;&nbsp;&nbsp;&nbsp;[2] D. Carr, \"MPP - 1 - Module Introduction,\" GMIT, September 2019.\n",
    "\n",
    "&nbsp;&nbsp;&nbsp;&nbsp;&nbsp;&nbsp;&nbsp;&nbsp;&nbsp;[3] D. Carr, \"MPP - 2 - What Is a Programming Paradigm,\" GMIT, September 2019.\n",
    "\n",
    "&nbsp;&nbsp;&nbsp;&nbsp;&nbsp;&nbsp;&nbsp;&nbsp;&nbsp;[4] D. Carr, \"MPP - 3 - ImperativeProcedural,\" GMIT, September 2019.\n",
    "\n",
    "&nbsp;&nbsp;&nbsp;&nbsp;&nbsp;&nbsp;&nbsp;&nbsp;&nbsp;[5] D. Carr, \"MPP - 3.1 - The C Programming Language,\" GMIT, September 2019.\n",
    "\n",
    "&nbsp;&nbsp;&nbsp;&nbsp;&nbsp;&nbsp;&nbsp;&nbsp;&nbsp;[6] D. Carr, \"MPP - 6.1 - Object Oriented Programming,\" GMIT, October 2019.\n",
    "\n",
    "&nbsp;&nbsp;&nbsp;&nbsp;&nbsp;&nbsp;&nbsp;&nbsp;&nbsp;[7] J. VanderPlas, \"Built-In Data Structures,\" A Whirlwind Tour of Python, August 2016.\n",
    "\n",
    "&nbsp;&nbsp;&nbsp;&nbsp;&nbsp;&nbsp;&nbsp;&nbsp;&nbsp;[8] D. Amos, \"Object-Oriented Programming (OOP) in Python 3,\" [Real Python](https://web.archive.org/web/20201107154103/https://realpython.com/python3-object-oriented-programming/), July 2020.\n",
    "\n",
    "&nbsp;&nbsp;&nbsp;&nbsp;&nbsp;&nbsp;&nbsp;&nbsp;&nbsp;[9] D. Carr, \"Procedural Programming Example in Python,\" GMIT, October 2021.\n",
    "\n",
    "&nbsp;&nbsp;&nbsp;&nbsp;&nbsp;&nbsp;&nbsp;[10] D. Carr, \"MPP - 6.4 - Week 6 - Shop in Python & Comparison,\" GMIT, October 2020.\n",
    "\n",
    "&nbsp;&nbsp;&nbsp;&nbsp;&nbsp;&nbsp;&nbsp;[11] A. Yarosh,\"Object-Oriented Programming in Python,\" [datacamp.com](https://campus.datacamp.com/courses/object-oriented-programming-in-python), n.d..\n",
    "\n",
    "&nbsp;&nbsp;&nbsp;&nbsp;&nbsp;&nbsp;&nbsp;[12] D. Carr, \"MPP - Week 7 - OOP Shop Python Part 1,\" GMIT, November 2020.\n",
    "\n",
    "&nbsp;&nbsp;&nbsp;&nbsp;&nbsp;&nbsp;&nbsp;[13] D. Carr, \"MPP - Week 7 - OOP Shop Python Part 2,\" GMIT, November 2020.\n",
    "\n",
    "&nbsp;&nbsp;&nbsp;&nbsp;&nbsp;&nbsp;&nbsp;[14] D. Carr, \"MPP - 6.2 - Java,\" GMIT, October 2019.\n",
    "\n",
    "&nbsp;&nbsp;&nbsp;&nbsp;&nbsp;&nbsp;&nbsp;[15] D. Carr, \"MPP - Week 7 - Clock in C (Procedural Style),\" GMIT, November 2020.\n",
    "\n",
    "&nbsp;&nbsp;&nbsp;&nbsp;&nbsp;&nbsp;&nbsp;[16] D. Carr, \"MPP - Week 9 - Declarative Programming,\" GMIT, November 2019."
   ]
  },
  {
   "cell_type": "markdown",
   "id": "be25330a",
   "metadata": {},
   "source": [
    "***\n",
    "## END"
   ]
  },
  {
   "cell_type": "markdown",
   "id": "d23f1e41",
   "metadata": {},
   "source": [
    "< [Table of Contents](#top) | [Learning Outcomes](#abstractLearningOutcomes) | [Module Topics](#introduction) | [Winter 21/22 Assessment](#solution](#solution) | [Report](#conclusion) | [References](#references) >\n",
    "<a id=\"appendix\"></a>\n",
    "***\n",
    "## Appendix\n",
    "***"
   ]
  },
  {
   "cell_type": "markdown",
   "id": "3646771d",
   "metadata": {},
   "source": [
    "&#x1F6A7;"
   ]
  },
  {
   "cell_type": "markdown",
   "id": "e7c09db3",
   "metadata": {},
   "source": [
    "***\n",
    "## END"
   ]
  },
  {
   "cell_type": "markdown",
   "id": "0453efb4",
   "metadata": {},
   "source": [
    "# END JUPYTER NOTEBOOK"
   ]
  }
 ],
 "metadata": {
  "kernelspec": {
   "display_name": "Python 3",
   "language": "python",
   "name": "python3"
  },
  "language_info": {
   "codemirror_mode": {
    "name": "ipython",
    "version": 3
   },
   "file_extension": ".py",
   "mimetype": "text/x-python",
   "name": "python",
   "nbconvert_exporter": "python",
   "pygments_lexer": "ipython3",
   "version": "3.8.8"
  }
 },
 "nbformat": 4,
 "nbformat_minor": 5
}
