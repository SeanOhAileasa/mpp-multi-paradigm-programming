{
 "cells": [
  {
   "cell_type": "code",
   "execution_count": null,
   "id": "c318f0ed",
   "metadata": {},
   "outputs": [
    {
     "data": {
      "text/html": [
       "<script>Jupyter.notebook.kernel.restart()</script>"
      ]
     },
     "metadata": {},
     "output_type": "display_data"
    }
   ],
   "source": [
    "from IPython.core.display import display_html\n",
    "display_html(\"<script>Jupyter.notebook.kernel.restart()</script>\",raw=True)"
   ]
  },
  {
   "cell_type": "code",
   "execution_count": 1,
   "id": "b837249e",
   "metadata": {},
   "outputs": [
    {
     "data": {
      "text/html": [
       "<style>.container { width:100% !important; }</style>"
      ],
      "text/plain": [
       "<IPython.core.display.HTML object>"
      ]
     },
     "metadata": {},
     "output_type": "display_data"
    },
    {
     "data": {
      "text/html": [
       "<style>.container { width:100% !important; }</style>"
      ],
      "text/plain": [
       "<IPython.core.display.HTML object>"
      ]
     },
     "metadata": {},
     "output_type": "display_data"
    }
   ],
   "source": [
    "from sys import path; path.insert(1,\"../src\");\n",
    "import fubar; from importlib import reload; reload(fubar);"
   ]
  },
  {
   "cell_type": "markdown",
   "id": "fd8a0ce7",
   "metadata": {},
   "source": [
    "***\n",
    "< [GMIT Data Analytics](https://web.archive.org/web/20201029063153/https://www.gmit.ie/computer-science-and-applied-physics/higher-diploma-science-computing-data-analytics-ict) | [Home](https://github.com/SeanOhAileasa) | [README](https://github.com/SeanOhAileasa/mpp-multi-paradigm-programming/blob/main/README.md) >\n",
    "\n",
    "[![GMIT](https://github.com/SeanOhAileasa/SeanOhAileasa/blob/master/rc/gmit.png?raw=true)](https://web.archive.org/web/20201029063153/https://www.gmit.ie/computer-science-and-applied-physics/higher-diploma-science-computing-data-analytics-ict)\n",
    "\n",
    "## Multi-Paradigm Programming - Course Material 2021\n",
    "### Topic: [Multi-Paradigm Programming](https://nbviewer.jupyter.org/github/SeanOhAileasa/mpp-multi-paradigm-programming/blob/main/mpp-multi-paradigm-programming.ipynb)\n",
    "\n",
    "Course material for the ``Multi-Paradigm Programming`` module (5 Credits) of the ``Higher Diploma in Science in Computing (Data Analytics) (H.Dip)`` programme (75 Credits) at **Galway-Mayo Institute of Technology (GMIT)**.\n",
    "***"
   ]
  },
  {
   "cell_type": "code",
   "execution_count": 2,
   "id": "568acc13",
   "metadata": {},
   "outputs": [],
   "source": [
    "from sys import path; path.insert(1,\"../src\")\n",
    "from fubar import fFile"
   ]
  },
  {
   "cell_type": "code",
   "execution_count": 3,
   "id": "89ee0f58",
   "metadata": {},
   "outputs": [
    {
     "name": "stdout",
     "output_type": "stream",
     "text": [
      "# repository ./SeanOhAileasa\r\n",
      "def fFile(nParPath):\r\n",
      "    \"\"\"Start a file with its associated application.\r\n",
      "\r\n",
      "Input: nParPath\r\n",
      "Process: (os.path.realpath; os.startfile)\r\n",
      "Output: file opened with associated application\r\n",
      "\"\"\"\r\n",
      "    from os import path,startfile\r\n",
      "    return startfile(path.realpath(nParPath))\r\n",
      "# --- END ---\r\n"
     ]
    }
   ],
   "source": [
    "%%script bash\n",
    "grep -1 \"def fFile\" ../src/fubar.py -A 9"
   ]
  },
  {
   "cell_type": "markdown",
   "id": "8a9f03af",
   "metadata": {},
   "source": [
    "<a id=\"top\"></a>\n",
    "***\n",
    "## Table of Contents\n",
    "***\n",
    "\n",
    "- [C](https://nbviewer.jupyter.org/github/SeanOhAileasa/mpp-multi-paradigm-programming/blob/main/rc/c.ipynb) \n",
    "\n",
    "- [v-python](https://nbviewer.jupyter.org/github/SeanOhAileasa/mpp-multi-paradigm-programming/blob/main/rc/c-v-python.ipynb) \n",
    "\n",
    "    - [process](https://nbviewer.jupyter.org/github/SeanOhAileasa/mpp-multi-paradigm-programming/blob/main/rc/c-v-python-process.ipynb) \n",
    "\n",
    "- [simulation](https://nbviewer.jupyter.org/github/SeanOhAileasa/mpp-multi-paradigm-programming/blob/main/rc/simulation-intentionally-blank.ipynb) \n",
    "\n",
    "    - [shop](https://nbviewer.jupyter.org/github/SeanOhAileasa/mpp-multi-paradigm-programming/blob/main/rc/simulation-shop.ipynb)\n",
    "\n",
    "## [Abstract](#abstract)\n",
    "\n",
    "- [Description](#description)\n",
    "- [Learning Outcomes](#learningOutcomes)\n",
    "- [Topic Roadmap](#topicRoadmap)\n",
    "\n",
    "## [Introduction](#introduction)\n",
    "\n",
    "* [Programming Paradigm](#programmingParadigm)\n",
    "\n",
    "\n",
    "* [Imperative / Procedural Programming](#imperativeProcedural)\n",
    "    * [C Programming](#cProgramming)\n",
    "        * [Menu](#cProgrammingMenu)\n",
    "        * [Structs](#cProgrammingStructs)\n",
    "        * [Function Prototypes](#cProgrammingFunctionPrototypes)\n",
    "        \n",
    "\n",
    "* [Object-Oriented Programming](#objectOrientedProgramming)\n",
    "    * [Java Programming](#objectOrientedJava)\n",
    "    * [Python Programming](#objectOrientedPython)\n",
    "        * [Private Methods](#objectOrientedProgrammingPrivateMethods)\n",
    "        * [Inheritance](#objectOrientedProgrammingInheritance)\n",
    "    * [Procedural Style (C)](#objectOrientedProgrammingProceduralStyle)\n",
    "    * [Object-Oriented Style (Java)](#objectOrientedProgrammingObjectorientedStyleJava)\n",
    "\n",
    "\n",
    "* [Declarative Programming](#declarativeProgramming)\n",
    "\n",
    "\n",
    "* [Functional Programming](#functionalProgramming)\n",
    "    * [Functions](#functions)\n",
    "        * [Generic](https://nbviewer.jupyter.org/github/SeanOhAileasa/fda-data-functions/blob/main/fda-data-functions.ipynb) **[External Link]**\n",
    "            * [Iterator](https://nbviewer.jupyter.org/github/SeanOhAileasa/fda-data-functions/blob/main/fda-data-functions.ipynb#iterator) **[External Link]**\n",
    "                * [Map](https://nbviewer.jupyter.org/github/SeanOhAileasa/fda-data-functions/blob/main/fda-data-functions.ipynb#map) **[External Link]**\n",
    "                    * [Anonymous](https://nbviewer.jupyter.org/github/SeanOhAileasa/fda-data-functions/blob/main/fda-data-functions.ipynb#anonymous-function) **[External Link]**\n",
    "                * [Reduce](https://nbviewer.jupyter.org/github/SeanOhAileasa/fda-data-functions/blob/main/fda-data-functions.ipynb#reduce) **[External Link]**\n",
    "        * [Data](https://nbviewer.jupyter.org/github/SeanOhAileasa/fda-data-functions/blob/main/fda-data-functions.ipynb#data-and-functions) **[External Link]**\n",
    "\n",
    "## [Solution](#solution)\n",
    "\n",
    "* [Shop Simulation (C)](#makingaShopSimulationinC)\n",
    "    * [Passing Arguments as Pointer](#shopSimulationPassingArgumentsasPointer)\n",
    "    * [Processing the Order](#shopSimulationProcessingtheOrder)\n",
    "    * [Processing Customer Details](#shopSimulationProcessingCustomerDetails)\n",
    "\n",
    "\n",
    "* [Python Programming](#shopSimulationPython)\n",
    "\n",
    "\n",
    "* [Java Programming](#shopSimulationJava)\n",
    "    * [User Input](#shopSimulationJavaUserInput)\n",
    "    \n",
    "## [Conclusion](#conclusion)\n",
    "\n",
    "- &#x1F6A7;"
   ]
  },
  {
   "cell_type": "markdown",
   "id": "ad13d4bd",
   "metadata": {},
   "source": [
    "***\n",
    "## END"
   ]
  },
  {
   "cell_type": "markdown",
   "id": "fb86e7eb",
   "metadata": {},
   "source": [
    "< [Table of Contents](#top) | [Introduction](#introduction) | [Solution](#solution) | [Conclusion](#conclusion) | [References](#references) >\n",
    "<a id=\"abstract\"></a>\n",
    "***\n",
    "## Abstract\n",
    "***"
   ]
  },
  {
   "cell_type": "markdown",
   "id": "04955f28",
   "metadata": {},
   "source": [
    "< [Table of Contents](#top) | [References](#references) >\n",
    "<a id=description></a>\n",
    "***\n",
    "###### Description\n",
    "***"
   ]
  },
  {
   "cell_type": "markdown",
   "id": "795ac5b0",
   "metadata": {},
   "source": [
    "An introduction to various programming paradigms, such as object-oriented programming, functional programming and dataflow programming."
   ]
  },
  {
   "cell_type": "code",
   "execution_count": null,
   "id": "6c17f204",
   "metadata": {},
   "outputs": [],
   "source": [
    "exit()"
   ]
  },
  {
   "cell_type": "markdown",
   "id": "65d9a0da",
   "metadata": {},
   "source": [
    "< [Table of Contents](#top) | [References](#references) >\n",
    "<a id=learningOutcomes></a>\n",
    "***\n",
    "###### Learning Outcomes\n",
    "***"
   ]
  },
  {
   "cell_type": "markdown",
   "id": "3527cb05",
   "metadata": {},
   "source": [
    "1. Compare different programming paradigms.\n",
    "\n",
    "2. Select an appropriate programming paradigm for a given programming problem.\n",
    "\n",
    "3. Write programs using a variety of different programming paradigms.\n",
    "\n",
    "4. Explain how various programming paradigms have evolved over time."
   ]
  },
  {
   "cell_type": "code",
   "execution_count": null,
   "id": "243cc0ad",
   "metadata": {},
   "outputs": [],
   "source": [
    "exit()"
   ]
  },
  {
   "cell_type": "markdown",
   "id": "145d53fa",
   "metadata": {},
   "source": [
    "< [Table of Contents](#top) | [References](#references) >\n",
    "<a id=topicRoadmap></a>\n",
    "***\n",
    "###### Topic Roadmap\n",
    "***"
   ]
  },
  {
   "cell_type": "markdown",
   "id": "fb09b580",
   "metadata": {},
   "source": [
    "- Object-oriented programming \n",
    "\t- Encapsulation\n",
    "\t- Data and methods\n",
    "\t- Objects, classes, instances\n",
    "\n",
    "- Dataflow programming\n",
    "\t- Tables, spreadsheets, tensors\n",
    "\t- Dataflow graphs\n",
    "\t- Sessions\n",
    "\n",
    "- Functional programming\n",
    "\t- Lists, pairs\n",
    "\t- Map, reduce\n",
    "\t- Recursion"
   ]
  },
  {
   "cell_type": "code",
   "execution_count": null,
   "id": "9000d26d",
   "metadata": {},
   "outputs": [],
   "source": [
    "exit()"
   ]
  },
  {
   "cell_type": "markdown",
   "id": "2dfe79cf",
   "metadata": {},
   "source": [
    "***\n",
    "## END"
   ]
  },
  {
   "cell_type": "markdown",
   "id": "ad0ca3b6",
   "metadata": {},
   "source": [
    "< [Table of Contents](#top) | [Abstract](#abstract) | [Solution](#solution) | [Conclusion](#conclusion) | [References](#references) >\n",
    "<a id=\"introduction\"></a>\n",
    "***\n",
    "## Introduction\n",
    "***"
   ]
  },
  {
   "cell_type": "code",
   "execution_count": null,
   "id": "20140b21",
   "metadata": {},
   "outputs": [],
   "source": [
    "fFile(nParPath=\"./hide/01-Introduction/MPP - 1 - Module Introduction - 20-09-2019.mkv\")\n",
    "fFile(nParPath=\"./hide/01-Introduction/MPP - 1 - Module Introduction - 20-09-2019.pdf\")"
   ]
  },
  {
   "cell_type": "markdown",
   "id": "c0067296",
   "metadata": {},
   "source": [
    "< [Table of Contents](#top) | [References](#references) >\n",
    "<a id=\"programmingParadigm\"></a>\n",
    "***\n",
    "### Programming Paradigm\n",
    "***"
   ]
  },
  {
   "cell_type": "code",
   "execution_count": null,
   "id": "6de27a2a",
   "metadata": {},
   "outputs": [],
   "source": [
    "fFile(nParPath=\"./hide/01-Introduction/MPP - 2 - What Is a Programming Paradigm - 20-09-2019.mkv\")\n",
    "fFile(nParPath=\"./hide/01-Introduction/MPP - 2 - What Is a Programming Paradigm - 20-09-2019.pdf\")"
   ]
  },
  {
   "cell_type": "markdown",
   "id": "5afbf797",
   "metadata": {},
   "source": [
    "***\n",
    "### END"
   ]
  },
  {
   "cell_type": "markdown",
   "id": "38861a64",
   "metadata": {},
   "source": [
    "< [Table of Contents](#top) | [References](#references) >\n",
    "<a id=\"imperativeProcedural\"></a>\n",
    "***\n",
    "### Imperative / Procedural Programming\n",
    "***"
   ]
  },
  {
   "cell_type": "code",
   "execution_count": null,
   "id": "b0515fec",
   "metadata": {},
   "outputs": [],
   "source": [
    "fFile(nParPath=\"./hide/02-ImperativeProcedural/MPP - 3 - ImperativeProcedural - 27-09-2019.mkv\")\n",
    "fFile(nParPath=\"./hide/02-ImperativeProcedural/MPP - 3 - ImperativeProcedural - 27-09-2019.pdf\")"
   ]
  },
  {
   "cell_type": "markdown",
   "id": "705c019d",
   "metadata": {},
   "source": [
    "< [Table of Contents](#top) | [References](#references) >\n",
    "<a id=\"cProgramming\"></a>\n",
    "***\n",
    "###### C Programming\n",
    "***"
   ]
  },
  {
   "cell_type": "code",
   "execution_count": null,
   "id": "28e2f30a",
   "metadata": {},
   "outputs": [],
   "source": [
    "fFile(nParPath=\"./hide/02-ImperativeProcedural/MPP - 3.1 - The C Programming Language - 27-09-2019.mkv\")\n",
    "fFile(nParPath=\"./hide/02-ImperativeProcedural/MPP - 3.1 - The C Programming Language - 27-09-2019.pdf\")\n",
    "fFile(nParPath=\"./hide/02-ImperativeProcedural/Simple Programming Exercises.zip\")\n",
    "fFile(nParPath=\"./hide/02-ImperativeProcedural/MPP - 3.2 - Practical C - 27-09-2019.mkv\")"
   ]
  },
  {
   "cell_type": "markdown",
   "id": "d9ae311e",
   "metadata": {},
   "source": [
    "< [Table of Contents](#top) | [References](#references) >\n",
    "<a id=\"cProgrammingMenu\"></a>\n",
    "***\n",
    "###### Menu\n",
    "***"
   ]
  },
  {
   "cell_type": "code",
   "execution_count": null,
   "id": "900761e2",
   "metadata": {},
   "outputs": [],
   "source": [
    "fFile(nParPath=\"./hide/04-ObjectOrientedProgramming/MPP - 6.6 - Week 6 - A Menu in C - 26-10-2020.mp4\")\n",
    "fFile(nParPath=\"./hide/04-ObjectOrientedProgramming/menu_example.c\")"
   ]
  },
  {
   "cell_type": "markdown",
   "id": "2d5e5249",
   "metadata": {},
   "source": [
    "< [Table of Contents](#top) | [References](#references) >\n",
    "<a id=\"cProgrammingStructs\"></a>\n",
    "***\n",
    "###### Structs\n",
    "***"
   ]
  },
  {
   "cell_type": "code",
   "execution_count": null,
   "id": "022dc086",
   "metadata": {},
   "outputs": [],
   "source": [
    "fFile(nParPath=\"./hide/04-ObjectOrientedProgramming/MPP - 6.7 - Week 6 - Structs Explained - 26-10-2020.mp4\")\n",
    "fFile(nParPath=\"./hide/04-ObjectOrientedProgramming/structs_example.c\")"
   ]
  },
  {
   "cell_type": "markdown",
   "id": "53ad667b",
   "metadata": {},
   "source": [
    "< [Table of Contents](#top) | [References](#references) >\n",
    "<a id=\"cProgrammingFunctionPrototypes\"></a>\n",
    "***\n",
    "###### Function Prototypes\n",
    "***"
   ]
  },
  {
   "cell_type": "code",
   "execution_count": null,
   "id": "5a9d43ca",
   "metadata": {},
   "outputs": [],
   "source": [
    "fFile(nParPath=\"./hide/02-ImperativeProcedural/01-MPP - C - Function Prototypes - 07-11-2019.mp4\")\n",
    "fFile(nParPath=\"./hide/02-ImperativeProcedural/declaration.c\")"
   ]
  },
  {
   "cell_type": "markdown",
   "id": "21937a0c",
   "metadata": {},
   "source": [
    "***\n",
    "### END"
   ]
  },
  {
   "cell_type": "markdown",
   "id": "ea579eff",
   "metadata": {},
   "source": [
    "< [Table of Contents](#top) | [References](#references) >\n",
    "<a id=\"objectOrientedProgramming\"></a>\n",
    "***\n",
    "### Object-Oriented Programming\n",
    "***"
   ]
  },
  {
   "cell_type": "code",
   "execution_count": null,
   "id": "5fc0db69",
   "metadata": {},
   "outputs": [],
   "source": [
    "fFile(nParPath=\"./hide/04-ObjectOrientedProgramming/MPP - 6.1 - Object Oriented Programming - 17-10-2019.mkv\")\n",
    "fFile(nParPath=\"./hide/04-ObjectOrientedProgramming/MPP - 6.1 - Object Oriented Programming - 17-10-2019.pdf\")"
   ]
  },
  {
   "cell_type": "markdown",
   "id": "e3eacae5",
   "metadata": {},
   "source": [
    "< [Table of Contents](#top) | [References](#references) >\n",
    "<a id=\"objectOrientedJava\"></a>\n",
    "***\n",
    "###### Java Programming\n",
    "***"
   ]
  },
  {
   "cell_type": "code",
   "execution_count": null,
   "id": "303aaff6",
   "metadata": {},
   "outputs": [],
   "source": [
    "fFile(nParPath=\"./hide/04-ObjectOrientedProgramming/MPP - 6.2 - Java - 17-10-2019.mp4\")\n",
    "fFile(nParPath=\"./hide/04-ObjectOrientedProgramming/MPP - 6.3 - Java Part 2 - 17-10-2019.mp4\")\n",
    "fFile(nParPath=\"./hide/04-ObjectOrientedProgramming/MPP - 6.2 - Java.pdf\")"
   ]
  },
  {
   "cell_type": "markdown",
   "id": "ce54b283",
   "metadata": {},
   "source": [
    "[Java OOP Exercises](https://www.ntu.edu.sg/home/ehchua/programming/java/J3f_OOPExercises.html#zz-2)\n",
    "\n",
    "\n",
    "[How do I install Java(JVM) on a machine?](https://www.quora.com/How-do-I-install-Java-JVM-on-a-machine)"
   ]
  },
  {
   "cell_type": "markdown",
   "id": "4ef37b0d",
   "metadata": {},
   "source": [
    "< [Table of Contents](#top) | [References](#references) >\n",
    "<a id=\"objectOrientedPython\"></a>\n",
    "***\n",
    "###### Python Programming\n",
    "***"
   ]
  },
  {
   "cell_type": "code",
   "execution_count": null,
   "id": "17124620",
   "metadata": {},
   "outputs": [],
   "source": [
    "fFile(nParPath=\"./hide/04-ObjectOrientedProgramming/05-MPP - Week 7 - Clock in Python (OOP) - 03-11-2020.mp4\")\n",
    "fFile(nParPath=\"./hide/04-ObjectOrientedProgramming/06-MPP - Week 7 - Alarm Clock (Inheritance) in Python - 03-11-2020.mp4\")\n",
    "fFile(nParPath=\"./hide/04-ObjectOrientedProgramming\")"
   ]
  },
  {
   "cell_type": "markdown",
   "id": "572effb5",
   "metadata": {},
   "source": [
    "< [Table of Contents](#top) | [References](#references) >\n",
    "<a id=\"objectOrientedProgrammingPrivateMethods\"></a>\n",
    "***\n",
    "###### Private Methods\n",
    "***"
   ]
  },
  {
   "cell_type": "code",
   "execution_count": null,
   "id": "a1ae92bf",
   "metadata": {},
   "outputs": [],
   "source": [
    "fFile(nParPath=\"./hide/04-ObjectOrientedProgramming/02-MPP - Week 8 - Private Methods in Python - 05-11-2020.mp4\")"
   ]
  },
  {
   "cell_type": "markdown",
   "id": "e909be1c",
   "metadata": {},
   "source": [
    "< [Table of Contents](#top) | [References](#references) >\n",
    "<a id=\"objectOrientedProgrammingInheritance\"></a>\n",
    "***\n",
    "###### Inheritance\n",
    "***"
   ]
  },
  {
   "cell_type": "code",
   "execution_count": null,
   "id": "39a41a76",
   "metadata": {},
   "outputs": [],
   "source": [
    "fFile(nParPath=\"./hide/04-ObjectOrientedProgramming/03-MPP - Week 8 - Person Class Inheritance in Python - 05-11-2020.mp4\")"
   ]
  },
  {
   "cell_type": "markdown",
   "id": "2af3cf65",
   "metadata": {},
   "source": [
    "< [Table of Contents](#top) | [References](#references) >\n",
    "<a id=\"objectOrientedProgrammingProceduralStyle\"></a>\n",
    "***\n",
    "###### Procedural Style (C)\n",
    "***"
   ]
  },
  {
   "cell_type": "code",
   "execution_count": null,
   "id": "cf0a0c05",
   "metadata": {},
   "outputs": [],
   "source": [
    "fFile(nParPath=\"./hide/04-ObjectOrientedProgramming/07-MPP - Week 7 - Clock in C (Procedural Style) - 03-11-2020.mp4\")"
   ]
  },
  {
   "cell_type": "markdown",
   "id": "e5e516dd",
   "metadata": {},
   "source": [
    "< [Table of Contents](#top) | [References](#references) >\n",
    "<a id=\"objectOrientedProgrammingObjectorientedStyleJava\"></a>\n",
    "***\n",
    "###### Object-Oriented Style (Java)\n",
    "***"
   ]
  },
  {
   "cell_type": "code",
   "execution_count": null,
   "id": "e8c27340",
   "metadata": {},
   "outputs": [],
   "source": [
    "fFile(nParPath=\"./hide/04-ObjectOrientedProgramming/01-MPP - Week 8 - Java Clock (OOP) - 05-11-2020.mp4\")"
   ]
  },
  {
   "cell_type": "markdown",
   "id": "a7ecbe6a",
   "metadata": {},
   "source": [
    "***\n",
    "### END"
   ]
  },
  {
   "cell_type": "markdown",
   "id": "4b426712",
   "metadata": {},
   "source": [
    "< [Table of Contents](#top) | [References](#references) >\n",
    "<a id=\"declarativeProgramming\"></a>\n",
    "***\n",
    "### Declarative Programming\n",
    "***"
   ]
  },
  {
   "cell_type": "code",
   "execution_count": null,
   "id": "1b10a96b",
   "metadata": {},
   "outputs": [],
   "source": [
    "fFile(nParPath=\"./hide/05-DeclarativeProgramming/MPP - Week 9 - Declarative Programming___09-11-2019.mp4\")\n",
    "fFile(nParPath=\"./hide/05-DeclarativeProgramming/MPP - Week 9 - Declarative Programming___09-11-2019.pdf\")"
   ]
  },
  {
   "cell_type": "markdown",
   "id": "68d22edc",
   "metadata": {},
   "source": [
    "***\n",
    "### END"
   ]
  },
  {
   "cell_type": "markdown",
   "id": "295c1255",
   "metadata": {},
   "source": [
    "< [Table of Contents](#top) | [References](#references) >\n",
    "<a id=\"functionalProgramming\"></a>\n",
    "***\n",
    "### Functional Programming\n",
    "***"
   ]
  },
  {
   "cell_type": "code",
   "execution_count": null,
   "id": "a8ae9eb7",
   "metadata": {},
   "outputs": [],
   "source": [
    "fFile(nParPath=\"./hide/06-FunctionalProgramming/MPP - 8.1 - Functional Programming - 17-11-2019.mp4\")\n",
    "fFile(nParPath=\"./hide/06-FunctionalProgramming/MPP - 8.2 - Functional Programming - 17-11-2019.mp4\")\n",
    "fFile(nParPath=\"./hide/06-FunctionalProgramming/MPP - 8.0 - Functional Programming.pdf\")"
   ]
  },
  {
   "cell_type": "code",
   "execution_count": null,
   "id": "11567dcf",
   "metadata": {},
   "outputs": [],
   "source": [
    "fFile(nParPath=\"./hide/06-FunctionalProgramming/recursion.py\")"
   ]
  },
  {
   "cell_type": "code",
   "execution_count": null,
   "id": "063a06df",
   "metadata": {},
   "outputs": [],
   "source": [
    "fFile(nParPath=\"./hide/06-FunctionalProgramming/MPP - Week 12 - Functional Programming in Python - 08-12-2020.mp4\")"
   ]
  },
  {
   "cell_type": "code",
   "execution_count": null,
   "id": "c7e7b353",
   "metadata": {},
   "outputs": [],
   "source": [
    "fFile(nParPath=\"./hide/06-FunctionalProgramming/map_example.py\")\n",
    "fFile(nParPath=\"./hide/06-FunctionalProgramming/iterator_example py3.py\")\n",
    "fFile(nParPath=\"./hide/06-FunctionalProgramming/reduce_example_py3.py\")\n",
    "fFile(nParPath=\"./hide/06-FunctionalProgramming/counter py3.py\")"
   ]
  },
  {
   "cell_type": "markdown",
   "id": "b6e0f117",
   "metadata": {},
   "source": [
    "< [Table of Contents](#top) | [References](#references) >\n",
    "<a id=\"functions\"></a>\n",
    "***\n",
    "###### Functions\n",
    "***"
   ]
  },
  {
   "cell_type": "markdown",
   "id": "c9bdfb90",
   "metadata": {},
   "source": [
    "* [Functions](#dataFunctions) &#x1F6A7;\n",
    "    * [Generic](https://nbviewer.jupyter.org/github/SeanOhAileasa/fda-data-functions/blob/main/fda-data-functions.ipynb) **[External Link]**\n",
    "        * [Iterator](https://nbviewer.jupyter.org/github/SeanOhAileasa/fda-data-functions/blob/main/fda-data-functions.ipynb#iterator) **[External Link]**\n",
    "            * [Map](https://nbviewer.jupyter.org/github/SeanOhAileasa/fda-data-functions/blob/main/fda-data-functions.ipynb#map) **[External Link]**\n",
    "                * [Anonymous](https://nbviewer.jupyter.org/github/SeanOhAileasa/fda-data-functions/blob/main/fda-data-functions.ipynb#anonymous-function) **[External Link]**\n",
    "            * [Reduce](https://nbviewer.jupyter.org/github/SeanOhAileasa/fda-data-functions/blob/main/fda-data-functions.ipynb#reduce) **[External Link]**\n",
    "    * [Data](https://nbviewer.jupyter.org/github/SeanOhAileasa/fda-data-functions/blob/main/fda-data-functions.ipynb#data-and-functions) **[External Link]**"
   ]
  },
  {
   "cell_type": "markdown",
   "id": "56c1d556",
   "metadata": {},
   "source": [
    "***\n",
    "### END"
   ]
  },
  {
   "cell_type": "markdown",
   "id": "388298e6",
   "metadata": {},
   "source": [
    "***\n",
    "## END"
   ]
  },
  {
   "cell_type": "markdown",
   "id": "cfd2bb71",
   "metadata": {},
   "source": [
    "< [Table of Contents](#top) | [Abstract](#abstract) | [Introduction](#introduction) | [Conclusion](#conclusion) | [References](#references) >\n",
    "<a id=\"solution\"></a>\n",
    "***\n",
    "## Solution\n",
    "***"
   ]
  },
  {
   "cell_type": "code",
   "execution_count": null,
   "id": "26fb04fe",
   "metadata": {},
   "outputs": [],
   "source": [
    "fFile(nParPath=\"./hide/04-ObjectOrientedProgramming/MPP - Week 5 - Shop Assignment Description - 18-10-2020.mkv\")\n",
    "fFile(nParPath=\"./hide/04-ObjectOrientedProgramming/Assignment 1 - Shop.pdf\")"
   ]
  },
  {
   "cell_type": "code",
   "execution_count": null,
   "id": "bdef8e07",
   "metadata": {},
   "outputs": [],
   "source": [
    "fFile(nParPath=\"./hide/04-ObjectOrientedProgramming/G00000001 - Dominic Carr - Assignment 1/\")"
   ]
  },
  {
   "cell_type": "markdown",
   "id": "868d0b87",
   "metadata": {},
   "source": [
    "< [Table of Contents](#top) | [References](#references) >\n",
    "<a id=\"makingaShopSimulationinC\"></a>\n",
    "***\n",
    "### Shop Simulation (C)\n",
    "***"
   ]
  },
  {
   "cell_type": "code",
   "execution_count": null,
   "id": "c6b94ad0",
   "metadata": {},
   "outputs": [],
   "source": [
    "fFile(nParPath=\"./hide/03-MakingaShopSimulationinC/MPP - 4.1 - Shop in C Part 1 - 04-10-2019.mkv\")\n",
    "fFile(nParPath=\"./hide/03-MakingaShopSimulationinC/MPP - 4.2 - Shop in C Part 2 - 04-10-2019.mkv\")\n",
    "fFile(nParPath=\"./hide/03-MakingaShopSimulationinC/shop.c\")\n",
    "fFile(nParPath=\"./hide/03-MakingaShopSimulationinC/stock.csv\")"
   ]
  },
  {
   "cell_type": "markdown",
   "id": "2e26d12e",
   "metadata": {},
   "source": [
    "< [Table of Contents](#top) | [References](#references) >\n",
    "<a id=\"shopSimulationPassingArgumentsasPointer\"></a>\n",
    "***\n",
    "###### Passing Arguments as Pointer\n",
    "***"
   ]
  },
  {
   "cell_type": "code",
   "execution_count": null,
   "id": "a63d6949",
   "metadata": {},
   "outputs": [],
   "source": [
    "fFile(nParPath=\"./hide/03-MakingaShopSimulationinC/02-MPP - C - Passing Arguments as Pointer - 07-11-2019.mp4\")\n",
    "fFile(nParPath=\"./hide/03-MakingaShopSimulationinC/passPointers.c\")"
   ]
  },
  {
   "cell_type": "markdown",
   "id": "3851af61",
   "metadata": {},
   "source": [
    "< [Table of Contents](#top) | [References](#references) >\n",
    "<a id=\"shopSimulationProcessingtheOrder\"></a>\n",
    "***\n",
    "###### Processing the Order\n",
    "***"
   ]
  },
  {
   "cell_type": "code",
   "execution_count": null,
   "id": "ec52cc2a",
   "metadata": {},
   "outputs": [],
   "source": [
    "fFile(nParPath=\"./hide/03-MakingaShopSimulationinC/03-MPP - Shop C - Processing the Order - 03-11-2019.mp4\")\n",
    "fFile(nParPath=\"./hide/03-MakingaShopSimulationinC/ProductStock.c\")"
   ]
  },
  {
   "cell_type": "markdown",
   "id": "d0792a38",
   "metadata": {},
   "source": [
    "< [Table of Contents](#top) | [References](#references) >\n",
    "<a id=\"shopSimulationProcessingCustomerDetails\"></a>\n",
    "***\n",
    "###### Processing Customer Details\n",
    "***"
   ]
  },
  {
   "cell_type": "code",
   "execution_count": null,
   "id": "6896342b",
   "metadata": {},
   "outputs": [],
   "source": [
    "fFile(nParPath=\"./hide/03-MakingaShopSimulationinC/04-MPP - Shop C Processing Customer Details - 03-11-2019.mp4\")\n",
    "fFile(nParPath=\"./hide/03-MakingaShopSimulationinC/customerInfo.c\")"
   ]
  },
  {
   "cell_type": "markdown",
   "id": "668843ea",
   "metadata": {},
   "source": [
    "***\n",
    "### END"
   ]
  },
  {
   "cell_type": "markdown",
   "id": "b60ae231",
   "metadata": {},
   "source": [
    "< [Table of Contents](#top) | [References](#references) >\n",
    "<a id=\"shopSimulationPython\"></a>\n",
    "***\n",
    "### Python Programming\n",
    "***"
   ]
  },
  {
   "cell_type": "code",
   "execution_count": null,
   "id": "137335b1",
   "metadata": {},
   "outputs": [],
   "source": [
    "fFile(nParPath=\"./hide/04-ObjectOrientedProgramming/MPP - 6.4 - Week 6 - Shop in Python & Comparison - 24-10-2020.mp4\")\n",
    "fFile(nParPath=\"./hide/04-ObjectOrientedProgramming/MPP - 6.5 - Week 6 - Reading CSV in Python & C - 24-10-2020.mp4\")"
   ]
  },
  {
   "cell_type": "code",
   "execution_count": null,
   "id": "022633b3",
   "metadata": {},
   "outputs": [],
   "source": [
    "fFile(nParPath=\"./hide/04-ObjectOrientedProgramming/08-MPP - Week 7 - OOP Shop Python Part 1 - 03-11-2020.mp4\")\n",
    "fFile(nParPath=\"./hide/04-ObjectOrientedProgramming/09-MPP - Week 7 - OOP Shop Python Part 2 - 03-11-2020.mp4\")\n",
    "fFile(nParPath=\"./hide/04-ObjectOrientedProgramming/shop_oop.py\")"
   ]
  },
  {
   "cell_type": "markdown",
   "id": "9e97975e",
   "metadata": {},
   "source": [
    "***\n",
    "### END"
   ]
  },
  {
   "cell_type": "markdown",
   "id": "a04d2afc",
   "metadata": {},
   "source": [
    "< [Table of Contents](#top) | [References](#references) >\n",
    "<a id=\"shopSimulationJava\"></a>\n",
    "***\n",
    "### Java Programming\n",
    "***"
   ]
  },
  {
   "cell_type": "code",
   "execution_count": null,
   "id": "7db3d5a8",
   "metadata": {},
   "outputs": [],
   "source": [
    "fFile(nParPath=\"./hide/04-ObjectOrientedProgramming/04-MPP - Week 8 - Shop in Java Part 1 - 05-11-2020.mp4\")\n",
    "fFile(nParPath=\"./hide/04-ObjectOrientedProgramming/05-MPP - Week 8 - Shop in Java Part 2 (Subclassing) - 05-11-2020.mp4\")\n",
    "fFile(nParPath=\"./hide/04-ObjectOrientedProgramming/JavaShopCode.zip\")"
   ]
  },
  {
   "cell_type": "markdown",
   "id": "6f121544",
   "metadata": {},
   "source": [
    "< [Table of Contents](#top) | [References](#references) >\n",
    "<a id=\"shopSimulationJavaUserInput\"></a>\n",
    "***\n",
    "###### User Input\n",
    "***"
   ]
  },
  {
   "cell_type": "code",
   "execution_count": null,
   "id": "040314b0",
   "metadata": {},
   "outputs": [],
   "source": [
    "fFile(nParPath=\"./hide/04-ObjectOrientedProgramming/06-MPP - Week 8 - User Input in Java - 05-11-2020.mp4\")"
   ]
  },
  {
   "cell_type": "markdown",
   "id": "9583a3ee",
   "metadata": {},
   "source": [
    "***\n",
    "### END"
   ]
  },
  {
   "cell_type": "markdown",
   "id": "83e95f4a",
   "metadata": {},
   "source": [
    "<!-- - refer [Appendix](#appendix-df) to view the full dataset <a id=\"go-back-df\"></a> -->\n",
    "<!-- print(fGetModuleType(___x___),fDocumentation(___x___)) -->\n",
    "***\n",
    "## END"
   ]
  },
  {
   "cell_type": "markdown",
   "id": "d0aff9d2",
   "metadata": {},
   "source": [
    "< [Table of Contents](#top) | [Abstract](#abstract) | [Introduction](#introduction) | [Solution](#solution) | [References](#references) >\n",
    "<a id=\"conclusion\"></a>\n",
    "***\n",
    "## Conclusion\n",
    "***"
   ]
  },
  {
   "cell_type": "markdown",
   "id": "2223c2ba",
   "metadata": {},
   "source": [
    "&#x1F6A7;"
   ]
  },
  {
   "cell_type": "markdown",
   "id": "9530e9ad",
   "metadata": {},
   "source": [
    "***\n",
    "## END"
   ]
  },
  {
   "cell_type": "markdown",
   "id": "072953f8",
   "metadata": {},
   "source": [
    "< [Table of Contents](#top) | [Abstract](#abstract) | [Introduction](#introduction) | [Solution](#solution) | [Conclusion](#conclusion) | [References](#references) >\n",
    "<a id=\"references\"></a>\n",
    "***\n",
    "## References\n",
    "***\n",
    "&#x1F6A7;"
   ]
  },
  {
   "cell_type": "markdown",
   "id": "be25330a",
   "metadata": {},
   "source": [
    "***\n",
    "## END"
   ]
  },
  {
   "cell_type": "markdown",
   "id": "d23f1e41",
   "metadata": {},
   "source": [
    "< [Table of Contents](#top) | [Abstract](#abstract) | [Introduction](#introduction) | [Solution](#solution) | [Conclusion](#conclusion) | [References](#references) >\n",
    "<a id=\"appendix\"></a>\n",
    "***\n",
    "## Appendix\n",
    "***"
   ]
  },
  {
   "cell_type": "markdown",
   "id": "251e9e1b",
   "metadata": {},
   "source": [
    "< [Table of Contents](#top) | [References](#references) >"
   ]
  },
  {
   "cell_type": "markdown",
   "id": "28fe5f51",
   "metadata": {},
   "source": [
    "&#x1F6A7;"
   ]
  },
  {
   "cell_type": "markdown",
   "id": "6c483528",
   "metadata": {},
   "source": [
    "<a id=\"appendix-some-reference\"></a>\n",
    "< [Go Back](#top) >"
   ]
  },
  {
   "cell_type": "markdown",
   "id": "cfd0fa93",
   "metadata": {},
   "source": [
    "```python\n",
    "from matplotlib.pyplot import box,yticks,xlabel,bar,text,title,show\n",
    "\n",
    "from sys import path; path.insert(1,\"../src\")\n",
    "from fubar import fDarkReader\n",
    "\n",
    "%%script bash\n",
    "grep -1 \"def fDarkReader\" ../src/fubar.py -A 9\n",
    "\n",
    "fDarkReader()\n",
    "```"
   ]
  },
  {
   "cell_type": "markdown",
   "id": "aa3f406d",
   "metadata": {},
   "source": [
    "⚡"
   ]
  },
  {
   "cell_type": "markdown",
   "id": "696c01b6",
   "metadata": {},
   "source": [
    "```python\n",
    "from sys import path; path.insert(1,\"../src\")\n",
    "from fubar import fFile\n",
    "\n",
    "%%script bash\n",
    "grep -1 \"def fFile\" ../src/fubar.py -A 9\n",
    "\n",
    "fFile(nParPath=\"\")\n",
    "\n",
    "exit()\n",
    "```"
   ]
  },
  {
   "cell_type": "markdown",
   "id": "cce95208",
   "metadata": {},
   "source": [
    "###### Github\n",
    "***"
   ]
  },
  {
   "cell_type": "markdown",
   "id": "c20bcab1",
   "metadata": {},
   "source": [
    "```\n",
    "git push -f origin HEAD^:master && git reset HEAD~\n",
    "```"
   ]
  },
  {
   "cell_type": "markdown",
   "id": "f2abae09",
   "metadata": {},
   "source": [
    "###### Functions\n",
    "***"
   ]
  },
  {
   "cell_type": "markdown",
   "id": "edaf60f2",
   "metadata": {},
   "source": [
    "```python\n",
    "# %%writefile -a ../src/fubar.py\n",
    "# repository ./fubar-python\n",
    "def f():\n",
    "    \"\"\"\n",
    "\n",
    "Input:\n",
    "Process:\n",
    "Output:\n",
    "\"\"\"\n",
    "    pass\n",
    "# -- END ---\n",
    "```"
   ]
  },
  {
   "cell_type": "markdown",
   "id": "0e8976bb",
   "metadata": {},
   "source": [
    "###### Functions - ../src/fubar.py\n",
    "***"
   ]
  },
  {
   "cell_type": "markdown",
   "id": "22226fc4",
   "metadata": {},
   "source": [
    "```\n",
    "%%script bash\n",
    "cat ../src/fubar.py\n",
    "```"
   ]
  },
  {
   "cell_type": "code",
   "execution_count": null,
   "id": "15c6c6c8",
   "metadata": {},
   "outputs": [],
   "source": [
    "%%script bash\n",
    "grep -1 \"def fFullScreen\" ../src/fubar.py -A 9"
   ]
  },
  {
   "cell_type": "markdown",
   "id": "7fdb8afd",
   "metadata": {},
   "source": [
    "```\n",
    "git commit -m \"update repository ./fubar-python - Everything in python is an object.\"\n",
    "```"
   ]
  },
  {
   "cell_type": "markdown",
   "id": "8e1eca07",
   "metadata": {},
   "source": [
    "###### Images\n",
    "***"
   ]
  },
  {
   "cell_type": "markdown",
   "id": "8c434378",
   "metadata": {},
   "source": [
    "![gumball](https://github.com/SeanOhAileasa/SeanOhAileasa/blob/master/rc/cta/analysing/gumball.png?raw=true)\n",
    "\n",
    "***(Image) P. Mannion, \"03 Analysing Algorithms Part 1,\" GMIT, October 2017.***"
   ]
  },
  {
   "cell_type": "markdown",
   "id": "fc8f81f2",
   "metadata": {},
   "source": [
    "###### Tables\n",
    "***"
   ]
  },
  {
   "cell_type": "markdown",
   "id": "b5f4d9d6",
   "metadata": {},
   "source": [
    "|aaa|bbbbbb|ccccccccc|\n",
    "|:------------------------- | :------------------------- | :------------------------- |\n",
    "|aaa|bbbbbb|ccccccccc|"
   ]
  },
  {
   "cell_type": "markdown",
   "id": "3024df08",
   "metadata": {},
   "source": [
    "###### References\n",
    "***"
   ]
  },
  {
   "cell_type": "markdown",
   "id": "0d8e60b8",
   "metadata": {},
   "source": [
    "&nbsp;&nbsp;&nbsp;&nbsp;&nbsp;&nbsp;&nbsp;&nbsp;&nbsp;[0] x. xxx, \"xxx,\" xxx, JanXXXry 2XX1.\n",
    "\n",
    "&nbsp;&nbsp;&nbsp;&nbsp;&nbsp;&nbsp;&nbsp;&nbsp;&nbsp;[0] Anaconda (built-in), \"range,\" Docstring, Conda:4.9.2 (Python:3.8.5).\n",
    "\n",
    "&nbsp;&nbsp;&nbsp;&nbsp;&nbsp;&nbsp;&nbsp;&nbsp;&nbsp;[0] Anaconda (plot), \"matplotlib.pyplot,\" Docstring, Conda:4.9.2 (Python:3.8.5).\n",
    "\n",
    "&nbsp;&nbsp;&nbsp;&nbsp;&nbsp;&nbsp;&nbsp;&nbsp;&nbsp;[0] D. Carr, \"CTA - Lecture 1 Part 1,\" GMIT, January 2021.\n",
    "\n",
    "&nbsp;&nbsp;&nbsp;&nbsp;&nbsp;&nbsp;&nbsp;&nbsp;&nbsp;[0] A. Beatty, \"xxx,\" GMIT, January 202x.\n",
    "\n",
    "&nbsp;&nbsp;&nbsp;&nbsp;&nbsp;&nbsp;&nbsp;&nbsp;&nbsp;[0] M. R. Fellows, I. Parberry, \"SIGACT Trying to Get Children Excited About CS,\" [ianparberry](https://web.archive.org/web/20210220071000/http://ianparberry.com/research/cseducation), January 1993.\n",
    "\n",
    "###### fubar-000\n",
    "\n",
    "&nbsp;&nbsp;&nbsp;&nbsp;&nbsp;&nbsp;&nbsp;&nbsp;&nbsp;[0] A. Beatty, \"prog 0.0 introduction (Module: Programming for Cybersecurity),\" GMIT (Programme: Certificate in Cybersecurity Operations), January 2021."
   ]
  },
  {
   "cell_type": "markdown",
   "id": "e7c09db3",
   "metadata": {},
   "source": [
    "***\n",
    "## END"
   ]
  },
  {
   "cell_type": "markdown",
   "id": "0453efb4",
   "metadata": {},
   "source": [
    "# END JUPYTER NOTEBOOK"
   ]
  }
 ],
 "metadata": {
  "kernelspec": {
   "display_name": "Python 3",
   "language": "python",
   "name": "python3"
  },
  "language_info": {
   "codemirror_mode": {
    "name": "ipython",
    "version": 3
   },
   "file_extension": ".py",
   "mimetype": "text/x-python",
   "name": "python",
   "nbconvert_exporter": "python",
   "pygments_lexer": "ipython3",
   "version": "3.8.8"
  }
 },
 "nbformat": 4,
 "nbformat_minor": 5
}
