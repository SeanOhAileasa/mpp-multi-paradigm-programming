{
 "cells": [
  {
   "cell_type": "markdown",
   "metadata": {},
   "source": [
    "# c\n",
    "> [TABLE OF CONTENTS](https://nbviewer.jupyter.org/github/SeanOhAileasa/mpp-multi-paradigm-programming/blob/main/mpp-multi-paradigm-programming.ipynb#top)\n",
    "***"
   ]
  },
  {
   "cell_type": "markdown",
   "metadata": {},
   "source": [
    "- general purpose - procedural programming language - 1972 - developed at Bell Labs - research company - Carnegie - Ritchie - currently owned by Alcatel Lucent [...]"
   ]
  },
  {
   "cell_type": "markdown",
   "metadata": {},
   "source": [
    "- developed not with any particular problem in mind - designed to be able to write general purpose programs - style - procedural - at the time it was written pretty much every programming language was procedural - survived the test of time - still used around the world every day - millions of different jobs [...]"
   ]
  },
  {
   "cell_type": "markdown",
   "metadata": {},
   "source": [
    "- supports - structured programming - variable scope management - recursion [...]"
   ]
  },
  {
   "cell_type": "markdown",
   "metadata": {},
   "source": [
    "- structured programming - for the most part is being able to link different files together so that not all the code has to be in one file - provides a structure which aids maintainability of the code [...]"
   ]
  },
  {
   "cell_type": "markdown",
   "metadata": {},
   "source": [
    "- variable scope - where a variable can be accessed from and managed [...]"
   ]
  },
  {
   "cell_type": "markdown",
   "metadata": {},
   "source": [
    "- recursion - function calls itself - executing and solve problems - in some cases makes sense to use recursion rather than to use a loop construct - anything that can be done with a loop can be done with recursion [...]"
   ]
  },
  {
   "cell_type": "markdown",
   "metadata": {},
   "source": [
    "- static type system - types have to be declared for each variable - creating a variable - age - has to be declared as an integer - allows the language to provide safeguards against illegal values being put into variables [...]"
   ]
  },
  {
   "cell_type": "markdown",
   "metadata": {},
   "source": [
    "- by its design - constructs in the C language map very efficiently to the typical machine instructions - creates very efficient code for running on the physical machine on the CPU [...]"
   ]
  },
  {
   "cell_type": "markdown",
   "metadata": {},
   "source": [
    "- found long lasting applications in things that before would have been coded in assembly language - which is quite cumbersome - very difficult to reason about - very low level - C was considered to be a great step up from assembly while still providing the kinds of efficiencies that are needed for certain application areas - embedded systems [...]"
   ]
  },
  {
   "cell_type": "markdown",
   "metadata": {},
   "source": [
    "- context of history - 1972 - computers had a lot less processing power - less storage space - the efficiency of the code footprint and of the execution of a program was much more important than it is for the average programmer in 2020 [...]"
   ]
  },
  {
   "cell_type": "markdown",
   "metadata": {},
   "source": [
    "- python - run through an interpreter - code does not get changed into assembly code or machine code directly - C - designed to be compiled using a straightforward compiler - gcc - other compilers exist also - compiler design - whole research area - very deep part of computer science - compilation generally lends itself to being able to produce more efficient code than running it through an interpreter - requirement to be very fast then its much better to use a compiled language rather than an interpreted language [...]"
   ]
  },
  {
   "cell_type": "markdown",
   "metadata": {},
   "source": [
    "- designed to provide low level access to memory - language constructs were supposed to map very efficiently to machine instructions - low level access to memory - actual program itself can allocate and deallocate memory on the machine while it is running - when designed there was not much memory available - if a program no longer need a piece of information - should be removed by the program execution as quickly as possible - skilled programmer will be able to do manual memory management more efficiently than it being done by an automated process - programming language - Java - has automatic memory management - python also has automatic memory management in its interpreter [...]"
   ]
  },
  {
   "cell_type": "markdown",
   "metadata": {},
   "source": [
    "- designed to work cross platform - if written in a standards compliant way with portability in mind - can be compiled on different computer platforms with only a few changes to the source code - this was still a problem even though it was designed to work cross platform - there were still issues in terms of getting it to do that - one of the things that informed the design of - Java - 1995 - designed in a way to provide really strong cross platform support - tagline when selling - Java - write once run anywhere - the reason why that would that resonated with people was because it turns out it was not so easy with other programming languages that have come before like - C - even though it was a step up from trying to write cross platform assembly code - never really took off - so the language is available on various platforms from embedded microcontrollers to supercomputers - embedded systems - you might find - C - on printers - microcontrollers that exist in modern dryers - modern washing machines - smart kettles - smart door locks - still found all over the world - used in a lot of internet of things applications [...]"
   ]
  },
  {
   "cell_type": "markdown",
   "metadata": {},
   "source": [
    "***\n",
    "# END"
   ]
  }
 ],
 "metadata": {
  "kernelspec": {
   "display_name": "Python 3",
   "language": "python",
   "name": "python3"
  },
  "language_info": {
   "codemirror_mode": {
    "name": "ipython",
    "version": 3
   },
   "file_extension": ".py",
   "mimetype": "text/x-python",
   "name": "python",
   "nbconvert_exporter": "python",
   "pygments_lexer": "ipython3",
   "version": "3.8.8"
  }
 },
 "nbformat": 4,
 "nbformat_minor": 4
}
