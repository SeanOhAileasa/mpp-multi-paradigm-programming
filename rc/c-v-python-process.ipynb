{
 "cells": [
  {
   "cell_type": "markdown",
   "metadata": {},
   "source": [
    "# c-v-python-process\n",
    "> [TABLE OF CONTENTS](https://nbviewer.jupyter.org/github/SeanOhAileasa/mpp-multi-paradigm-programming/blob/main/mpp-multi-paradigm-programming.ipynb#top)\n",
    "***"
   ]
  },
  {
   "cell_type": "markdown",
   "metadata": {},
   "source": [
    "- C - python - approach - procedural - both languages - try to resemble the approach in - C - to python  xxx"
   ]
  },
  {
   "cell_type": "markdown",
   "metadata": {},
   "source": [
    "- prints string to the screen [[adriann](https://web.archive.org/web/20201012062414/https://adriann.github.io/programming_problems.html)]"
   ]
  },
  {
   "cell_type": "markdown",
   "metadata": {},
   "source": [
    "###### .py"
   ]
  },
  {
   "cell_type": "code",
   "execution_count": 1,
   "metadata": {},
   "outputs": [
    {
     "name": "stdout",
     "output_type": "stream",
     "text": [
      "<string>       : test\n"
     ]
    }
   ],
   "source": [
    "print(\"<string>       : test\")"
   ]
  },
  {
   "cell_type": "markdown",
   "metadata": {},
   "source": [
    "###### .c"
   ]
  },
  {
   "cell_type": "code",
   "execution_count": 2,
   "metadata": {},
   "outputs": [
    {
     "name": "stdout",
     "output_type": "stream",
     "text": [
      "Overwriting test.c\n"
     ]
    }
   ],
   "source": [
    "%%writefile test.c\n",
    "#include <stdio.h>\n",
    "int main(){\n",
    "    printf(\"<string>       : test\\n\");\n",
    "    return 0;\n",
    "}"
   ]
  },
  {
   "cell_type": "code",
   "execution_count": 3,
   "metadata": {},
   "outputs": [
    {
     "name": "stdout",
     "output_type": "stream",
     "text": [
      "<string>       : test\n"
     ]
    }
   ],
   "source": [
    "%%script bash\n",
    "gcc test.c -o prog; ./prog; rm -rf test.c prog"
   ]
  },
  {
   "cell_type": "markdown",
   "metadata": {},
   "source": [
    "- asks the user for their name - greets them with their name [[adriann](https://web.archive.org/web/20201012062414/https://adriann.github.io/programming_problems.html)]"
   ]
  },
  {
   "cell_type": "markdown",
   "metadata": {},
   "source": [
    "###### .py"
   ]
  },
  {
   "cell_type": "code",
   "execution_count": 1,
   "metadata": {},
   "outputs": [
    {
     "name": "stdout",
     "output_type": "stream",
     "text": [
      "enter name     : Bob\n",
      "<hello>        : Bob\n"
     ]
    }
   ],
   "source": [
    "nName=input(\"enter name     : \")\n",
    "print(\"<hello>        : %s\"%nName)"
   ]
  },
  {
   "cell_type": "markdown",
   "metadata": {},
   "source": [
    "###### .c"
   ]
  },
  {
   "cell_type": "markdown",
   "metadata": {},
   "source": [
    "- user input via character array - ``char`` - variable - ``name`` - number of characters - ``20`` - plus ``1`` for null character - declaring this array as having twenty characters - space allocated for twenty characters - generally do not have to do this in - python - dynamically allocates the memory xxx"
   ]
  },
  {
   "cell_type": "markdown",
   "metadata": {},
   "source": [
    "- function - ``fgets`` - get user input - putting the user input into the variable - ``name`` - reading number of characters - ``20`` - obtained from - ``stdin`` xxx"
   ]
  },
  {
   "cell_type": "code",
   "execution_count": 2,
   "metadata": {},
   "outputs": [
    {
     "name": "stdout",
     "output_type": "stream",
     "text": [
      "Writing test.c\n"
     ]
    }
   ],
   "source": [
    "%%writefile test.c\n",
    "#include <stdio.h>\n",
    "int main(){\n",
    "    char name[21];\n",
    "    printf(\"enter name     : \");\n",
    "    fgets(name,21,stdin);\n",
    "    printf(\"<hello>        : %s\\n\",name);\n",
    "    return 0;\n",
    "}"
   ]
  },
  {
   "cell_type": "markdown",
   "metadata": {},
   "source": [
    "```\n",
    "E6985 $ gcc test.c -o prog; ./prog;\n",
    "enter name     : L8733\n",
    "<hello>        : L8733\n",
    "\n",
    "E6985 $ ./prog; rm -rf prog\n",
    "enter name     : L8733-L8733-L8733-20x\n",
    "<hello>        : L8733-L8733-L8733-20\n",
    "E6985 $ exit\n",
    "```"
   ]
  },
  {
   "cell_type": "markdown",
   "metadata": {},
   "source": [
    "- modify the previous program such that only the users Alice and Bob are greeted with their names [[adriann](https://web.archive.org/web/20201012062414/https://adriann.github.io/programming_problems.html)]"
   ]
  },
  {
   "cell_type": "markdown",
   "metadata": {},
   "source": [
    "###### .py"
   ]
  },
  {
   "cell_type": "code",
   "execution_count": 1,
   "metadata": {},
   "outputs": [
    {
     "name": "stdout",
     "output_type": "stream",
     "text": [
      "enter name     : Alice\n",
      "<hello>        : Alice\n"
     ]
    }
   ],
   "source": [
    "nName=input(\"enter name     : \")\n",
    "if (nName==\"Alice\") or (nName==\"Bob\"):\n",
    "    print(\"<hello>        : %s\"%nName)\n",
    "else:\n",
    "    print(\"<no greeting>  : %s\"%nName)"
   ]
  },
  {
   "cell_type": "markdown",
   "metadata": {},
   "source": [
    "###### .c"
   ]
  },
  {
   "cell_type": "code",
   "execution_count": null,
   "metadata": {},
   "outputs": [],
   "source": [
    "# %load test.c\n",
    "#include <stdio.h>\n",
    "int main(){\n",
    "    char name[21];\n",
    "    printf(\"enter name     : \");\n",
    "    fgets(name,21,stdin);\n",
    "    printf(\"<hello>        : %s\\n\",name);\n",
    "    return 0;\n",
    "}"
   ]
  },
  {
   "cell_type": "markdown",
   "metadata": {},
   "source": [
    "- ``string.h`` - comparison of strings - cannot use - ``==`` - strings are represented as character arrays - function - ``strcmp`` - string comparison - returns - ``0`` - if both strings are the same - returns - ``1`` - otherwise xxx"
   ]
  },
  {
   "cell_type": "markdown",
   "metadata": {},
   "source": [
    "- given function - ``strcmp`` - returns - ``1`` - ``0`` - must create a simple boolean expression - should only proceed if the result from the function - ``strcmp`` - is zero xxx\n",
    "\n",
    "```c\n",
    "if(strcmp(name,\"Alice\")==0)\n",
    "```"
   ]
  },
  {
   "cell_type": "markdown",
   "metadata": {},
   "source": [
    "- variable - ``name`` - allocated - ``20`` - characters - plus ``1`` for null character - reading in the characters - user input - ``L8733`` - characters remaining - ``15``  - being compared against - ``Alice`` - lengths of the arrays are different - problem with function - ``fgets`` xxx"
   ]
  },
  {
   "cell_type": "code",
   "execution_count": 3,
   "metadata": {},
   "outputs": [
    {
     "name": "stdout",
     "output_type": "stream",
     "text": [
      "Overwriting test.c\n"
     ]
    }
   ],
   "source": [
    "%%writefile test.c\n",
    "#include <stdio.h>\n",
    "#include <string.h>\n",
    "int main(){\n",
    "    char name[21];\n",
    "    printf(\"enter name     : \");\n",
    "    fgets(name,21,stdin);\n",
    "    if((strcmp(name,\"Alice\")==0) || (strcmp(name,\"Bob\")==0)){\n",
    "        printf(\"<hello>        : %s\\n\",name);\n",
    "    } else{\n",
    "        printf(\"<error>\\n\");\n",
    "    }\n",
    "    return 0;\n",
    "}"
   ]
  },
  {
   "cell_type": "markdown",
   "metadata": {},
   "source": [
    "```\n",
    "E6985 $ gcc test.c -o prog; ./prog;\n",
    "enter name     : Alice\n",
    "<error>\n",
    "E6985 $ ./prog; rm -rf prog\n",
    "enter name     : L8733\n",
    "<error>\n",
    "E6985 $ exit\n",
    "```"
   ]
  },
  {
   "cell_type": "markdown",
   "metadata": {},
   "source": [
    "- instead of function - ``fgets`` - using function - ``gets`` [...]\n",
    "\n",
    "```c\n",
    "gets(name)\n",
    "```"
   ]
  },
  {
   "cell_type": "code",
   "execution_count": 4,
   "metadata": {},
   "outputs": [
    {
     "name": "stdout",
     "output_type": "stream",
     "text": [
      "Overwriting test.c\n"
     ]
    }
   ],
   "source": [
    "%%writefile test.c\n",
    "#include <stdio.h>\n",
    "#include <string.h>\n",
    "int main(){\n",
    "    char name[21];\n",
    "    printf(\"enter name     : \");\n",
    "    gets(name);\n",
    "    if((strcmp(name,\"Alice\")==0) || (strcmp(name,\"Bob\")==0)){\n",
    "        printf(\"<hello>        : %s\\n\",name);\n",
    "    } else{\n",
    "        printf(\"<error>\\n\");\n",
    "    }\n",
    "    return 0;\n",
    "}"
   ]
  },
  {
   "cell_type": "markdown",
   "metadata": {},
   "source": [
    "```\n",
    "E6985 $ gcc test.c -o prog; ./prog; rm -rf test.c\n",
    "enter name     : Alice\n",
    "<hello>        : Alice\n",
    "E6985 $ ./prog \n",
    "enter name     : Bob\n",
    "<hello>        : Bob\n",
    "E6985 $ ./prog; rm -rf prog\n",
    "enter name     : L8733\n",
    "<error>\n",
    "E6985 $ exit\n",
    "```"
   ]
  },
  {
   "cell_type": "markdown",
   "metadata": {},
   "source": [
    "- asks the user for a number n - prints the sum of the numbers 1 to n [[adriann](https://web.archive.org/web/20201012062414/https://adriann.github.io/programming_problems.html)]"
   ]
  },
  {
   "cell_type": "code",
   "execution_count": 1,
   "metadata": {},
   "outputs": [
    {
     "name": "stdout",
     "output_type": "stream",
     "text": [
      "enter number   : 5\n",
      "<sum>          : 15\n"
     ]
    }
   ],
   "source": [
    "nNumber=int(input(\"enter number   : \"))\n",
    "nSum=0\n",
    "for nEachValue in range(1,nNumber+1):\n",
    "    nSum=nSum+nEachValue\n",
    "print(\"<sum>          : %d\"%nSum)"
   ]
  },
  {
   "cell_type": "code",
   "execution_count": 2,
   "metadata": {},
   "outputs": [
    {
     "name": "stdout",
     "output_type": "stream",
     "text": [
      "Welcome to JupyROOT 6.22/02\n"
     ]
    }
   ],
   "source": [
    "import ROOT"
   ]
  },
  {
   "cell_type": "code",
   "execution_count": 3,
   "metadata": {},
   "outputs": [
    {
     "name": "stdout",
     "output_type": "stream",
     "text": [
      "enter number   : <5>\n",
      "<sum>          : 15\n"
     ]
    }
   ],
   "source": [
    "%%cpp\n",
    "int number;\n",
    "int sum=0;\n",
    "printf(\"enter number   : \");\n",
    "/*\n",
    "scanf(\"%d\",&number); // <5>\n",
    "*/\n",
    "printf(\"<%d>\\n\",number=5);\n",
    "for(int i=1;i<=number;i++)\n",
    "    sum+=i;\n",
    "printf(\"<sum>          : %d\\n\",sum);"
   ]
  },
  {
   "cell_type": "code",
   "execution_count": 4,
   "metadata": {},
   "outputs": [
    {
     "name": "stdout",
     "output_type": "stream",
     "text": [
      "Writing test.c\n"
     ]
    }
   ],
   "source": [
    "%%writefile test.c\n",
    "#include <stdio.h>\n",
    "int main(){\n",
    "    int number;\n",
    "    int sum=0;\n",
    "    printf(\"enter number   : \");\n",
    "    scanf(\"%d\",&number); // <5>\n",
    "    for(int i=1;i<=number;i++)\n",
    "        sum+=i;\n",
    "    printf(\"<sum>          : %d\\n\",sum);\n",
    "    return 0;\n",
    "}"
   ]
  },
  {
   "cell_type": "markdown",
   "metadata": {},
   "source": [
    "```\n",
    "E6985 $ gcc test.c -o prog; ./prog; rm -rf prog\n",
    "enter number   : 5\n",
    "<sum>          : 15\n",
    "E6985 $ exit\n",
    "```"
   ]
  },
  {
   "cell_type": "markdown",
   "metadata": {},
   "source": [
    "- modify the previous program such that only multiples of three or five are considered in the sum - 3 - 5 - 6 - 9 - 10 - 12 - 15 for nNumber=17 [[adriann](https://web.archive.org/web/20201012062414/https://adriann.github.io/programming_problems.html)]"
   ]
  },
  {
   "cell_type": "markdown",
   "metadata": {},
   "source": [
    "- operator - modulus - ``%`` - if - ``nEachValue`` - operator - ``%`` - three equals zero - ``nEachValue`` - is divisible by three - has no remainder after its divided by three - numbers that would pass that would be - ``3`` - ``6`` - ``9`` - ``12`` - ``15`` - same applies to - operator - ``%`` - five xxx"
   ]
  },
  {
   "cell_type": "code",
   "execution_count": 1,
   "metadata": {},
   "outputs": [
    {
     "name": "stdout",
     "output_type": "stream",
     "text": [
      "enter number   : 17\n",
      "<values>       : 3\n",
      "<values>       : 5\n",
      "<values>       : 6\n",
      "<values>       : 9\n",
      "<values>       : 10\n",
      "<values>       : 12\n",
      "<values>       : 15\n",
      "<sum>          : 60\n"
     ]
    }
   ],
   "source": [
    "nNumber=int(input(\"enter number   : \"))\n",
    "nSum=0\n",
    "for nEachValue in range(1,nNumber+1):\n",
    "    if ((nEachValue%3)==0) or ((nEachValue%5)==0):\n",
    "        print(\"<values>       : %d\"%nEachValue)\n",
    "        nSum=nSum+nEachValue\n",
    "print(\"<sum>          : %d\"%nSum)"
   ]
  },
  {
   "cell_type": "code",
   "execution_count": null,
   "metadata": {},
   "outputs": [],
   "source": [
    "# %load test.c\n",
    "#include <stdio.h>\n",
    "int main(){\n",
    "    int number;\n",
    "    int sum=0;\n",
    "    printf(\"enter number   : \");\n",
    "    scanf(\"%d\",&number); // <17>\n",
    "    for(int i=1;i<=number;i++)\n",
    "        if(((i%3)==0) || ((i%5)==0)){\n",
    "            printf(\"<values>       : %d\\n\",i);\n",
    "            sum+=i; \n",
    "        }\n",
    "    printf(\"<sum>          : %d\\n\",sum);\n",
    "    return 0;\n",
    "}\n"
   ]
  },
  {
   "cell_type": "code",
   "execution_count": 3,
   "metadata": {},
   "outputs": [
    {
     "name": "stdout",
     "output_type": "stream",
     "text": [
      "Welcome to JupyROOT 6.22/02\n"
     ]
    }
   ],
   "source": [
    "import ROOT"
   ]
  },
  {
   "cell_type": "code",
   "execution_count": 4,
   "metadata": {},
   "outputs": [
    {
     "name": "stdout",
     "output_type": "stream",
     "text": [
      "enter number   : <17>\n",
      "<values>       : 3\n",
      "<values>       : 5\n",
      "<values>       : 6\n",
      "<values>       : 9\n",
      "<values>       : 10\n",
      "<values>       : 12\n",
      "<values>       : 15\n",
      "<sum>          : 60\n"
     ]
    }
   ],
   "source": [
    "%%cpp\n",
    "int number;\n",
    "int sum=0;\n",
    "printf(\"enter number   : \");\n",
    "/*\n",
    "scanf(\"%d\",&number); // <17>\n",
    "*/\n",
    "printf(\"<%d>\\n\",number=17);\n",
    "for(int i=1;i<=number;i++)\n",
    "    if(((i%3)==0) || ((i%5)==0)){\n",
    "        printf(\"<values>       : %d\\n\",i);\n",
    "        sum+=i; \n",
    "    }\n",
    "printf(\"<sum>          : %d\\n\",sum);"
   ]
  },
  {
   "cell_type": "code",
   "execution_count": 5,
   "metadata": {},
   "outputs": [
    {
     "name": "stdout",
     "output_type": "stream",
     "text": [
      "Overwriting test.c\n"
     ]
    }
   ],
   "source": [
    "%%writefile test.c\n",
    "#include <stdio.h>\n",
    "int main(){\n",
    "    int number;\n",
    "    int sum=0;\n",
    "    printf(\"enter number   : \");\n",
    "    scanf(\"%d\",&number); // <17>\n",
    "    for(int i=1;i<=number;i++)\n",
    "        if(((i%3)==0) || ((i%5)==0)){\n",
    "            printf(\"<values>       : %d\\n\",i);\n",
    "            sum+=i; \n",
    "        }\n",
    "    printf(\"<sum>          : %d\\n\",sum);\n",
    "    return 0;\n",
    "}"
   ]
  },
  {
   "cell_type": "markdown",
   "metadata": {},
   "source": [
    "```\n",
    "E6985 $ gcc test.c -o prog; ./prog; rm -rf test.c prog\n",
    "enter number   : 17\n",
    "<values>       : 3\n",
    "<values>       : 5\n",
    "<values>       : 6\n",
    "<values>       : 9\n",
    "<values>       : 10\n",
    "<values>       : 12\n",
    "<values>       : 15\n",
    "<sum>          : 60\n",
    "E6985 $ exit\n",
    "```"
   ]
  },
  {
   "cell_type": "markdown",
   "metadata": {},
   "source": [
    "- asks the user for a number - gives them the possibility to choose between computing the sum and computing the product of 1,…,n [[adriann](https://web.archive.org/web/20201012062414/https://adriann.github.io/programming_problems.html)]"
   ]
  },
  {
   "cell_type": "code",
   "execution_count": 1,
   "metadata": {},
   "outputs": [
    {
     "name": "stdout",
     "output_type": "stream",
     "text": [
      "enter number   : 5\n",
      "sum or product : sum\n",
      "<sum>          : 15\n"
     ]
    }
   ],
   "source": [
    "nNumber=int(input(\"enter number   : \"))\n",
    "nChoose=input(\"sum or product : \")\n",
    "nSum=0\n",
    "nProduct=1\n",
    "for nEachValue in range(1,nNumber+1):\n",
    "    nSum=nSum+nEachValue\n",
    "print(\"<sum>          : %d\"%nSum)"
   ]
  },
  {
   "cell_type": "markdown",
   "metadata": {},
   "source": [
    "- ``nProduct`` - equal to the identity of multiplication - ``1`` - multiplying anything by one you just get the number back - using it in a multiplication does not change anything - same as - ``0`` - for addition - its a safe value xxx"
   ]
  },
  {
   "cell_type": "code",
   "execution_count": 2,
   "metadata": {},
   "outputs": [
    {
     "name": "stdout",
     "output_type": "stream",
     "text": [
      "enter number   : 5\n",
      "sum or product : product\n",
      "<pro> <1> > <5>: 120\n"
     ]
    }
   ],
   "source": [
    "nNumber=int(input(\"enter number   : \"))\n",
    "nChoose=input(\"sum or product : \")\n",
    "nSum=0\n",
    "nProduct=1\n",
    "if (nChoose==\"sum\"):\n",
    "    for nEachValue in range(1,nNumber+1):\n",
    "        nSum=nSum+nEachValue\n",
    "    print(\"<sum> <1> > <%d>: %d\"%(nNumber,nSum))\n",
    "elif (nChoose==\"product\"):\n",
    "    for nEachValue in range(1,nNumber+1):\n",
    "        nProduct=nProduct*nEachValue\n",
    "    print(\"<pro> <1> > <%d>: %d\"%(nNumber,nProduct))\n",
    "else:\n",
    "    print(\"<sum><product> : ERROR!\")"
   ]
  },
  {
   "cell_type": "markdown",
   "metadata": {},
   "source": [
    "- python - memory allocation is automatic - c - memory allocation - header - ``stdlib`` - function - ``malloc`` [...] "
   ]
  },
  {
   "cell_type": "markdown",
   "metadata": {},
   "source": [
    "- cast variable - ``choose`` - be a character pointer [...]\n",
    "\n",
    "```c\n",
    "char *choose=(char*)\n",
    "```"
   ]
  },
  {
   "cell_type": "markdown",
   "metadata": {},
   "source": [
    "- manually telling the computer to allocate space - RAM - for ten characters - using built-in function - ``sizeof`` - variable type - ``char`` - enough space to store ten characters [...]\n",
    "\n",
    "```c\n",
    "char *choose=(char*) malloc(10*sizeof(char));\n",
    "```"
   ]
  },
  {
   "cell_type": "markdown",
   "metadata": {},
   "source": [
    "- performing operations - ``+=`` - ``-=`` - etc - import to declare initial values - C - undefined behaviour [...]"
   ]
  },
  {
   "cell_type": "markdown",
   "metadata": {},
   "source": [
    "- possible logical bugs - identity of addition - ``0`` - apply zero to any addition will not change the result - identity of multiplication - ``1`` [...]"
   ]
  },
  {
   "cell_type": "code",
   "execution_count": 3,
   "metadata": {},
   "outputs": [
    {
     "name": "stdout",
     "output_type": "stream",
     "text": [
      "Writing test.c\n"
     ]
    }
   ],
   "source": [
    "%%writefile test.c\n",
    "#include <stdio.h>\n",
    "#include <stdlib.h>\n",
    "#include <string.h>\n",
    "int main(){\n",
    "    int number,product=1,sum=0;\n",
    "    char *choose=(char*) malloc(10*sizeof(char));\n",
    "    printf(\"enter number   : \");\n",
    "    scanf(\"%d\",&number); // <5>\n",
    "    printf(\"sum or product : \");\n",
    "    scanf(\"%s\",choose); // <sum>\n",
    "    if(strcmp(choose,\"product\")==0){\n",
    "        for(int i=1;i<=number;i++){\n",
    "            product*=i;\n",
    "        }\n",
    "        printf(\"<pro> <1> > <%d>: %d\\n\",number,product);\n",
    "    } else if(strcmp(choose,\"sum\")==0){\n",
    "        for(int i=1;i<=number;i++){\n",
    "            sum+=i;\n",
    "        }\n",
    "        printf(\"<sum> <1> > <%d>: %d\\n\",number,sum);\n",
    "    }\n",
    "    return 0;\n",
    "}"
   ]
  },
  {
   "cell_type": "markdown",
   "metadata": {},
   "source": [
    "```\n",
    "E6985 $ gcc test.c -o prog; ./prog; rm -rf test.c prog\n",
    "enter number   : 5\n",
    "sum or product : product\n",
    "<pro> <1> > <5>: 120\n",
    "E6985 $ exit\n",
    "```"
   ]
  },
  {
   "cell_type": "markdown",
   "metadata": {},
   "source": [
    "***\n",
    "# END"
   ]
  }
 ],
 "metadata": {
  "kernelspec": {
   "display_name": "Python 3",
   "language": "python",
   "name": "python3"
  },
  "language_info": {
   "codemirror_mode": {
    "name": "ipython",
    "version": 3
   },
   "file_extension": ".py",
   "mimetype": "text/x-python",
   "name": "python",
   "nbconvert_exporter": "python",
   "pygments_lexer": "ipython3",
   "version": "3.7.8"
  }
 },
 "nbformat": 4,
 "nbformat_minor": 4
}
