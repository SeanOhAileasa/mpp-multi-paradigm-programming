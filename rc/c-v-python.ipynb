{
 "cells": [
  {
   "cell_type": "markdown",
   "metadata": {},
   "source": [
    "# c-v-python\n",
    "> [TABLE OF CONTENTS](https://nbviewer.jupyter.org/github/SeanOhAileasa/mpp-multi-paradigm-programming/blob/main/mpp-multi-paradigm-programming.ipynb#top)\n",
    "***"
   ]
  },
  {
   "cell_type": "markdown",
   "metadata": {},
   "source": [
    "- C - compiled - python - interpreted - which from a performance perspective means that code written in - C - is much faster than code written in - python - for a lot of application scenarios this does not really matter but in some cases - embedded systems - real time applications - air traffic control systems - early warning hurricane systems - those little milliseconds add up to possibly being the difference between life and death - it can be very important how fast the code is [...]"
   ]
  },
  {
   "cell_type": "markdown",
   "metadata": {},
   "source": [
    "- C - allows low level memory access - python - does not - done automatically [...]"
   ]
  },
  {
   "cell_type": "markdown",
   "metadata": {},
   "source": [
    "- python - supports object oriented programming albeit can write procedural programs - can mix and match - C - does not support object orientated programming - C++ - developed to basically extend - C - so that it would support object orientated programming [...]"
   ]
  },
  {
   "cell_type": "markdown",
   "metadata": {},
   "source": [
    "- python - has a lot more built-in functionality than - C [...]"
   ]
  },
  {
   "cell_type": "markdown",
   "metadata": {},
   "source": [
    "- C - variable types have to be declared - python - not required [...]"
   ]
  },
  {
   "cell_type": "markdown",
   "metadata": {},
   "source": [
    "- C - programs are much more verbose than - python - meaning that writing an equivalent program in - C - to a - python - takes more lines of code - considered more difficult - python - considered an easier language to learn - [...]"
   ]
  },
  {
   "cell_type": "markdown",
   "metadata": {},
   "source": [
    "- C - memory management is manual - python - automated memory management through its interpreter - values stored in a - name - are no longer accessible by the code - gone out of scope - interpreter will delete the data from memory to free up the memory of the computer - can have implications when you have a - python - script thats dealing with millions of values but for the most part memory management is not too important [...]"
   ]
  },
  {
   "cell_type": "markdown",
   "metadata": {},
   "source": [
    "***\n",
    "# END"
   ]
  }
 ],
 "metadata": {
  "kernelspec": {
   "display_name": "Python 3",
   "language": "python",
   "name": "python3"
  },
  "language_info": {
   "codemirror_mode": {
    "name": "ipython",
    "version": 3
   },
   "file_extension": ".py",
   "mimetype": "text/x-python",
   "name": "python",
   "nbconvert_exporter": "python",
   "pygments_lexer": "ipython3",
   "version": "3.7.8"
  }
 },
 "nbformat": 4,
 "nbformat_minor": 4
}
