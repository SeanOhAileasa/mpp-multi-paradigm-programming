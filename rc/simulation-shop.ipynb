{
 "cells": [
  {
   "cell_type": "markdown",
   "metadata": {},
   "source": [
    "# simulation-shop\n",
    "> [TABLE OF CONTENTS](https://nbviewer.jupyter.org/github/SeanOhAileasa/mpp-multi-paradigm-programming/blob/main/mpp-multi-paradigm-programming.ipynb#top)\n",
    "***"
   ]
  },
  {
   "cell_type": "markdown",
   "metadata": {},
   "source": [
    "- entities - ``Shop`` - ``Customer`` - ``Product`` - ``ProductStock`` [...]"
   ]
  },
  {
   "cell_type": "code",
   "execution_count": 1,
   "metadata": {},
   "outputs": [
    {
     "name": "stdout",
     "output_type": "stream",
     "text": [
      "Welcome to JupyROOT 6.22/02\n"
     ]
    }
   ],
   "source": [
    "import ROOT"
   ]
  },
  {
   "cell_type": "markdown",
   "metadata": {},
   "source": [
    "- structure - ``struct`` - data type defined by the programmer - made up of one or more data types - combining pieces of data into a single data type to group together - custom data type - similiar to object-oriented programming - object - without the methods attached [...]"
   ]
  },
  {
   "cell_type": "markdown",
   "metadata": {},
   "source": [
    "- initialise the structure - if input from the user - if input from a file - different process if creating the structure dynamically [...]"
   ]
  },
  {
   "cell_type": "markdown",
   "metadata": {},
   "source": [
    "- model entity - ``Product`` - structure tag - ``STagProduct`` - declare members - ``mName`` - ``mPrice`` [...]"
   ]
  },
  {
   "cell_type": "code",
   "execution_count": 2,
   "metadata": {},
   "outputs": [],
   "source": [
    "%%cpp\n",
    "struct STagProduct{\n",
    "    const char *mName;\n",
    "    double mPrice;\n",
    "};"
   ]
  },
  {
   "cell_type": "markdown",
   "metadata": {},
   "source": [
    "- define variable - ``vCoke`` - of the type - ``struct STagProduct`` [...]"
   ]
  },
  {
   "cell_type": "code",
   "execution_count": 3,
   "metadata": {},
   "outputs": [],
   "source": [
    "%%cpp\n",
    "struct STagProduct vCoke={\"Can Coke\",1.10};"
   ]
  },
  {
   "cell_type": "markdown",
   "metadata": {},
   "source": [
    "- read in values for the members of variable - ``vCoke`` - using dot notation - ``mName`` - ``mPrice`` - part of a more complex variable - ``STagProduct`` [...]"
   ]
  },
  {
   "cell_type": "code",
   "execution_count": 4,
   "metadata": {},
   "outputs": [
    {
     "name": "stdout",
     "output_type": "stream",
     "text": [
      "<Can Coke>     : 1.10\n"
     ]
    }
   ],
   "source": [
    "%%cpp\n",
    "printf(\"<%s>     : %.2f\\n\",vCoke.mName,vCoke.mPrice);"
   ]
  },
  {
   "cell_type": "markdown",
   "metadata": {},
   "source": [
    "- model entity - ``ProductStock`` - structure tag - ``STagProductStock`` - declare members - ``mProduct`` - ``mQuantity`` [...]"
   ]
  },
  {
   "cell_type": "markdown",
   "metadata": {},
   "source": [
    "- member - ``mProduct`` - tip from relational database approach - is another structure - ``struct STagProduct`` - link between the actual item - its quantity [...]"
   ]
  },
  {
   "cell_type": "code",
   "execution_count": 5,
   "metadata": {},
   "outputs": [],
   "source": [
    "%%cpp\n",
    "struct STagProductStock{\n",
    "    struct STagProduct mProduct;\n",
    "    int mQuantity;\n",
    "};"
   ]
  },
  {
   "cell_type": "markdown",
   "metadata": {},
   "source": [
    "- define variable - ``vCokeStock`` - of the type - ``struct STagProductStock`` [...]"
   ]
  },
  {
   "cell_type": "code",
   "execution_count": 6,
   "metadata": {},
   "outputs": [],
   "source": [
    "%%cpp\n",
    "struct STagProductStock vCokeStock={vCoke,20};"
   ]
  },
  {
   "cell_type": "markdown",
   "metadata": {},
   "source": [
    "- read in values for the members of variable - ``vCokeStock`` - using dot notation - ``mProduct`` - which in turn is a structure with a member - ``mName`` - plus - ``mQuantity`` - part of a more complex variable - ``STagProductStock`` [...]"
   ]
  },
  {
   "cell_type": "code",
   "execution_count": 7,
   "metadata": {},
   "outputs": [
    {
     "name": "stdout",
     "output_type": "stream",
     "text": [
      "<item>         : <Can Coke>\n",
      "<quantity      : 20\n"
     ]
    }
   ],
   "source": [
    "%%cpp\n",
    "printf(\"<item>         : <%s>\\n<quantity      : %d\\n\",vCokeStock.mProduct.mName,vCokeStock.mQuantity);"
   ]
  },
  {
   "cell_type": "markdown",
   "metadata": {},
   "source": [
    "- model entity - ``Shop`` - structure tag - ``STagShop`` - declare members - ``mCash`` - money in store  - ``mStock`` - amount of products - represented by ``STagProductStock`` - quantity of each product the shop has - an array of twenty items [...]"
   ]
  },
  {
   "cell_type": "code",
   "execution_count": 8,
   "metadata": {},
   "outputs": [],
   "source": [
    "%%cpp\n",
    "struct STagShop{\n",
    "    double mCash;\n",
    "    struct STagProductStock mStock[20];\n",
    "};"
   ]
  },
  {
   "cell_type": "markdown",
   "metadata": {},
   "source": [
    "- model entity - ``Customer`` - structure tag - ``STagCustomer`` - declare members - ``mName`` - ``mBudget`` - ``mShoppingList`` [...]"
   ]
  },
  {
   "cell_type": "markdown",
   "metadata": {},
   "source": [
    "- member - ``mName`` - length unknown - pointer - can expand in memory [...] - string literal treated as being of type - ``const char *`` - since cannot modify its contents without causing undefined behaviour [[stackoverflow](http://web.archive.org/web/20201021111234/https://stackoverflow.com/questions/20944784/why-is-conversion-from-string-constant-to-char-valid-in-c-but-invalid-in-c/20944858)] [...]"
   ]
  },
  {
   "cell_type": "markdown",
   "metadata": {},
   "source": [
    "- member - ``mBudget`` - money to spend [...]"
   ]
  },
  {
   "cell_type": "markdown",
   "metadata": {},
   "source": [
    "- member - ``mShoppingList`` - customer wants to buy a certain amount of items - requesting list of items - order can be filled by the shop - the shops stock will reduce by the amount of stock purchased - an amount of products - represented by - ``STagProductStock`` - number of each product the customer has purchased - stock left in the shop - an array of ten items [...] "
   ]
  },
  {
   "cell_type": "code",
   "execution_count": 9,
   "metadata": {},
   "outputs": [],
   "source": [
    "%%cpp\n",
    "struct STagCustomer{\n",
    "    const char *mName;\n",
    "    double mBudget;\n",
    "    struct STagProductStock mShoppingList[10];\n",
    "};"
   ]
  },
  {
   "cell_type": "markdown",
   "metadata": {},
   "source": [
    "- define variable - ``vDoe`` - of the type - ``struct STagCustomer`` [...]"
   ]
  },
  {
   "cell_type": "code",
   "execution_count": 10,
   "metadata": {},
   "outputs": [],
   "source": [
    "%%cpp\n",
    "struct STagCustomer vDoe={\"John Doe\",100.0};"
   ]
  },
  {
   "cell_type": "markdown",
   "metadata": {},
   "source": [
    "- read in values for the members of variable - ``vDoe`` - using dot notation - ``mName`` - ``mBudget`` - part of a more complex variable - ``STagCustomer`` [...]"
   ]
  },
  {
   "cell_type": "code",
   "execution_count": 11,
   "metadata": {},
   "outputs": [
    {
     "name": "stdout",
     "output_type": "stream",
     "text": [
      "<name>         : John Doe\n",
      "<budget>       : 100.00\n"
     ]
    }
   ],
   "source": [
    "%%cpp\n",
    "printf(\"<name>         : %s\\n\",vDoe.mName);\n",
    "printf(\"<budget>       : %.2f\\n\",vDoe.mBudget);"
   ]
  },
  {
   "cell_type": "code",
   "execution_count": 12,
   "metadata": {},
   "outputs": [
    {
     "name": "stdout",
     "output_type": "stream",
     "text": [
      "Writing shop.c\n"
     ]
    }
   ],
   "source": [
    "%%writefile shop.c\n",
    "#include <stdio.h>\n",
    "#include <string.h>\n",
    "struct STagProduct{\n",
    "    const char *mName;\n",
    "    double mPrice;\n",
    "};\n",
    "struct STagProductStock{\n",
    "    struct STagProduct mProduct;\n",
    "    int mQuantity;\n",
    "};\n",
    "struct STagShop{\n",
    "    double mCash;\n",
    "    struct STagProductStock mStock[20];\n",
    "};\n",
    "struct STagCustomer{\n",
    "    const char *mName;\n",
    "    double mBudget;\n",
    "    struct STagProductStock mShoppingList[10];\n",
    "};\n",
    "int main(void){\n",
    "    struct STagProduct vCoke={\"Can Coke\",1.10};\n",
    "    printf(\"<%s>     : %.2f\\n\",vCoke.mName,vCoke.mPrice);\n",
    "    struct STagProductStock vCokeStock={vCoke,20};\n",
    "    printf(\"<item>         : <%s>\\n<quantity      : %d\\n\",\n",
    "           vCokeStock.mProduct.mName,vCokeStock.mQuantity);\n",
    "    struct STagCustomer vDoe={\"John Doe\",100.0};\n",
    "    printf(\"<name>         : %s\\n\",vDoe.mName);\n",
    "    printf(\"<budget>       : %.2f\\n\",vDoe.mBudget);\n",
    "    return 0;\n",
    "}"
   ]
  },
  {
   "cell_type": "code",
   "execution_count": 13,
   "metadata": {},
   "outputs": [
    {
     "name": "stdout",
     "output_type": "stream",
     "text": [
      "<Can Coke>     : 1.10\n",
      "<item>         : <Can Coke>\n",
      "<quantity      : 20\n",
      "<name>         : John Doe\n",
      "<budget>       : 100.00\n"
     ]
    }
   ],
   "source": [
    "%%script bash\n",
    "gcc shop.c -o prog; ./prog;"
   ]
  },
  {
   "cell_type": "code",
   "execution_count": 14,
   "metadata": {},
   "outputs": [],
   "source": [
    "%%cpp\n",
    "// define function - fDisplay\n",
    "void fDisplay(){\n",
    "    printf(\"---------------\\n\");\n",
    "}"
   ]
  },
  {
   "cell_type": "markdown",
   "metadata": {},
   "source": [
    "- print product information - function - fPrintProduct [...]"
   ]
  },
  {
   "cell_type": "code",
   "execution_count": 15,
   "metadata": {},
   "outputs": [],
   "source": [
    "%%cpp\n",
    "// define function - fPrintProduct\n",
    "void fPrintProduct(struct STagProduct p){\n",
    "    // function fDisplay - call\n",
    "    fDisplay();\n",
    "    printf(\"<PRODUCT NAME> : %s\\n       <PRICE> : %.2f\\n\",\n",
    "           p.mName,p.mPrice);\n",
    "    // function fDisplay - call\n",
    "    fDisplay();\n",
    "}"
   ]
  },
  {
   "cell_type": "code",
   "execution_count": 16,
   "metadata": {},
   "outputs": [
    {
     "name": "stdout",
     "output_type": "stream",
     "text": [
      "---------------\n",
      "<PRODUCT NAME> : Can Coke\n",
      "       <PRICE> : 1.10\n",
      "---------------\n"
     ]
    }
   ],
   "source": [
    "%%cpp\n",
    "// function fPrintProduct - call\n",
    "fPrintProduct(vCoke);"
   ]
  },
  {
   "cell_type": "code",
   "execution_count": 17,
   "metadata": {},
   "outputs": [],
   "source": [
    "%%cpp\n",
    "// define function - fPrintCustomer\n",
    "void fPrintCustomer(struct STagCustomer c){\n",
    "    // function fDisplay - call\n",
    "    fDisplay();\n",
    "    printf(\"<CUSTOMER NAME>: %s\\n      <BUDGET> : %.2f\\n\",\n",
    "           c.mName,c.mBudget);\n",
    "    // function fDisplay - call\n",
    "    fDisplay();\n",
    "}"
   ]
  },
  {
   "cell_type": "code",
   "execution_count": 18,
   "metadata": {},
   "outputs": [
    {
     "name": "stdout",
     "output_type": "stream",
     "text": [
      "---------------\n",
      "<CUSTOMER NAME>: John Doe\n",
      "      <BUDGET> : 100.00\n",
      "---------------\n"
     ]
    }
   ],
   "source": [
    "%%cpp\n",
    "// function fPrintCustomer - call\n",
    "fPrintCustomer(vDoe);"
   ]
  },
  {
   "cell_type": "code",
   "execution_count": 19,
   "metadata": {},
   "outputs": [
    {
     "name": "stdout",
     "output_type": "stream",
     "text": [
      "Overwriting shop.c\n"
     ]
    }
   ],
   "source": [
    "%%writefile shop.c\n",
    "#include <stdio.h>\n",
    "#include <string.h>\n",
    "struct STagProduct{\n",
    "    const char *mName;\n",
    "    double mPrice;\n",
    "};\n",
    "struct STagProductStock{\n",
    "    struct STagProduct mProduct;\n",
    "    int mQuantity;\n",
    "};\n",
    "struct STagShop{\n",
    "    double mCash;\n",
    "    struct STagProductStock mStock[20];\n",
    "};\n",
    "struct STagCustomer{\n",
    "    const char *mName;\n",
    "    double mBudget;\n",
    "    struct STagProductStock mShoppingList[10];\n",
    "};\n",
    "// define function - fDisplay\n",
    "void fDisplay(){\n",
    "    printf(\"---------------\\n\");\n",
    "}\n",
    "// define function - fPrintProduct\n",
    "void fPrintProduct(struct STagProduct p){\n",
    "    // function fDisplay - call\n",
    "    fDisplay();\n",
    "    printf(\"<PRODUCT NAME> : %s\\n       <PRICE> : %.2f\\n\",\n",
    "           p.mName,p.mPrice);\n",
    "    // function fDisplay - call\n",
    "    fDisplay();\n",
    "}\n",
    "// define function - fPrintCustomer\n",
    "void fPrintCustomer(struct STagCustomer c){\n",
    "    // function fDisplay - call\n",
    "    fDisplay();\n",
    "    printf(\"<CUSTOMER NAME>: %s\\n      <BUDGET> : %.2f\\n\",\n",
    "           c.mName,c.mBudget);\n",
    "    // function fDisplay - call\n",
    "    fDisplay();\n",
    "}\n",
    "int main(void){\n",
    "    struct STagProduct vCoke={\"Can Coke\",1.10};\n",
    "    // function fPrintProduct - call\n",
    "    fPrintProduct(vCoke);\n",
    "    struct STagCustomer vDoe={\"John Doe\",100.0};\n",
    "    // function fPrintCustomer - call\n",
    "    fPrintCustomer(vDoe);\n",
    "    struct STagProductStock vCokeStock={vCoke,20};\n",
    "    printf(\"<item>         : <%s>\\n<quantity      : %d\\n\",\n",
    "           vCokeStock.mProduct.mName,vCokeStock.mQuantity);\n",
    "    return 0;\n",
    "}"
   ]
  },
  {
   "cell_type": "code",
   "execution_count": 20,
   "metadata": {},
   "outputs": [
    {
     "name": "stdout",
     "output_type": "stream",
     "text": [
      "---------------\n",
      "<PRODUCT NAME> : Can Coke\n",
      "       <PRICE> : 1.10\n",
      "---------------\n",
      "---------------\n",
      "<CUSTOMER NAME>: John Doe\n",
      "      <BUDGET> : 100.00\n",
      "---------------\n",
      "<item>         : <Can Coke>\n",
      "<quantity      : 20\n"
     ]
    }
   ],
   "source": [
    "%%script bash\n",
    "gcc shop.c -o prog; ./prog"
   ]
  },
  {
   "cell_type": "markdown",
   "metadata": {},
   "source": [
    "- entity - ``Customer`` - variable - ``vDoe`` - of the type - ``struct STagCustomer`` - adding items to shopping list - array - ten items - member - ``mShoppingList`` [...]"
   ]
  },
  {
   "cell_type": "markdown",
   "metadata": {},
   "source": [
    "- entity - ``Product`` - variable - ``vCokeStock`` - of the type - ``struct STagProductStock`` - add to - variable - ``vDoe`` - of the type - ``struct STagCustomer`` - member - ``mShoppingList`` - position zero of the array [...]"
   ]
  },
  {
   "cell_type": "code",
   "execution_count": 21,
   "metadata": {},
   "outputs": [
    {
     "name": "stdout",
     "output_type": "stream",
     "text": [
      "<item>         : <Can Coke>\n",
      "<quantity      : 20\n"
     ]
    }
   ],
   "source": [
    "%%cpp\n",
    "printf(\"<item>         : <%s>\\n<quantity      : %d\\n\",\n",
    "           vCokeStock.mProduct.mName,vCokeStock.mQuantity);"
   ]
  },
  {
   "cell_type": "markdown",
   "metadata": {},
   "source": [
    "- function - fPrintCustomer - variable - ``vDoe`` - of the type - ``struct STagCustomer`` - print all items - member - ``mShoppingList`` - must keep track of the amount of items stored - declare member - ``mIndex`` - to keep count [...]"
   ]
  },
  {
   "cell_type": "markdown",
   "metadata": {},
   "source": [
    "- model entity - ``Customer`` - structure tag - ``STagCustomer`` - already declared members - ``mName`` - ``mBudget`` - ``mShoppingList`` - adding new member - ``mIndex`` - to keep track of the number of items in - member - ``mShoppingList`` [...]"
   ]
  },
  {
   "cell_type": "code",
   "execution_count": 22,
   "metadata": {},
   "outputs": [],
   "source": [
    "%%cpp\n",
    "struct STagCustomer{\n",
    "    const char *mName;\n",
    "    double mBudget;\n",
    "    struct STagProductStock mShoppingList[10];\n",
    "    int mIndex;\n",
    "};"
   ]
  },
  {
   "cell_type": "markdown",
   "metadata": {},
   "source": [
    "- return value stored in - member - ``mIndex`` - by default should be zero - then increment - next time access should be one [...] "
   ]
  },
  {
   "cell_type": "code",
   "execution_count": 23,
   "metadata": {},
   "outputs": [
    {
     "name": "stdout",
     "output_type": "stream",
     "text": [
      "<mIndex>       : 0\n"
     ]
    }
   ],
   "source": [
    "%%cpp\n",
    "struct STagCustomer vDoe={\"John Doe\",100.0};\n",
    "printf(\"<mIndex>       : %d\\n\",vDoe.mIndex);"
   ]
  },
  {
   "cell_type": "code",
   "execution_count": 24,
   "metadata": {},
   "outputs": [],
   "source": [
    "%%cpp\n",
    "vDoe.mShoppingList[vDoe.mIndex++]=vCokeStock;"
   ]
  },
  {
   "cell_type": "markdown",
   "metadata": {},
   "source": [
    "- function - fPrintCustomer - parameter - ``c`` - using - member - ``mIndex`` - print information [...]"
   ]
  },
  {
   "cell_type": "markdown",
   "metadata": {},
   "source": [
    "- leverage function - fPrintProduct - parameter - ``c`` - using member - ``mShoppingList`` - iterating through all - for loop index - ``i`` - read in values for the member of variable - ``vCokeStock`` - using dot notation - ``mProduct`` - part of a more complex variable - ``STagProductStock`` [...]"
   ]
  },
  {
   "cell_type": "markdown",
   "metadata": {},
   "source": [
    "- chaining of access - entity - ``Customer`` - structure tag - ``STagCustomer`` - via parameter - ``c`` - read in values for the members of variable - ``vDoe`` - using dot notation - member - ``mName`` - using dot notation - array - member - ``mShoppingList`` - of the structure tag - ``STagProductStock`` - obtain individual item from the array - ``i`` - getting corresponding - member - ``mQuantity`` [...]"
   ]
  },
  {
   "cell_type": "code",
   "execution_count": 25,
   "metadata": {},
   "outputs": [],
   "source": [
    "%%cpp\n",
    "// define function - fPrintCustomer\n",
    "void fPrintCustomer(struct STagCustomer c){\n",
    "    // function fDisplay - call\n",
    "    printf(\"<CUSTOMER NAME>: %s\\n      <BUDGET> : %.2f\\n\",\n",
    "           c.mName,c.mBudget);\n",
    "    // function fDisplay - call\n",
    "    for(int i=0;i<c.mIndex;i++){\n",
    "        // function fPrintProduct - call\n",
    "        fPrintProduct(c.mShoppingList[i].mProduct);\n",
    "        printf(\"     <SUMMARY> : %s <ORDERS> %d <ABOVE>\\n\",\n",
    "            c.mName,c.mShoppingList[i].mQuantity);\n",
    "        double cost=c.mShoppingList[i].mQuantity*c.mShoppingList[i].mProduct.mPrice;\n",
    "        printf(\"        <COST> : %s <TOTAL> €%.2f\\n\",c.mName,cost);\n",
    "    }\n",
    "}"
   ]
  },
  {
   "cell_type": "code",
   "execution_count": 26,
   "metadata": {},
   "outputs": [
    {
     "name": "stdout",
     "output_type": "stream",
     "text": [
      "<CUSTOMER NAME>: John Doe\n",
      "      <BUDGET> : 100.00\n",
      "---------------\n",
      "<PRODUCT NAME> : Can Coke\n",
      "       <PRICE> : 1.10\n",
      "---------------\n",
      "     <SUMMARY> : John Doe <ORDERS> 20 <ABOVE>\n",
      "        <COST> : John Doe <TOTAL> €22.00\n"
     ]
    }
   ],
   "source": [
    "%%cpp\n",
    "// function fPrintCustomer - call\n",
    "fPrintCustomer(vDoe);"
   ]
  },
  {
   "cell_type": "code",
   "execution_count": 27,
   "metadata": {},
   "outputs": [
    {
     "name": "stdout",
     "output_type": "stream",
     "text": [
      "Overwriting shop.c\n"
     ]
    }
   ],
   "source": [
    "%%writefile shop.c\n",
    "#include <stdio.h>\n",
    "#include <string.h>\n",
    "struct STagProduct{\n",
    "    const char *mName;\n",
    "    double mPrice;\n",
    "};\n",
    "struct STagProductStock{\n",
    "    struct STagProduct mProduct;\n",
    "    int mQuantity;\n",
    "};\n",
    "struct STagShop{\n",
    "    double mCash;\n",
    "    struct STagProductStock mStock[20];\n",
    "};\n",
    "struct STagCustomer{\n",
    "    const char *mName;\n",
    "    double mBudget;\n",
    "    struct STagProductStock mShoppingList[10];\n",
    "    int mIndex;\n",
    "};\n",
    "// define function - fDisplay\n",
    "void fDisplay(){\n",
    "    printf(\"---------------\\n\");\n",
    "}\n",
    "// define function - fPrintProduct\n",
    "void fPrintProduct(struct STagProduct p){\n",
    "    // function fDisplay - call\n",
    "    fDisplay();\n",
    "    printf(\"<PRODUCT NAME> : %s\\n       <PRICE> : %.2f\\n\",\n",
    "           p.mName,p.mPrice);\n",
    "    // function fDisplay - call\n",
    "    fDisplay();\n",
    "}\n",
    "// define function - fPrintCustomer\n",
    "void fPrintCustomer(struct STagCustomer c){\n",
    "    // function fDisplay - call\n",
    "    printf(\"<CUSTOMER NAME>: %s\\n      <BUDGET> : %.2f\\n\",\n",
    "           c.mName,c.mBudget);\n",
    "    // function fDisplay - call\n",
    "    for(int i=0;i<c.mIndex;i++){\n",
    "        // function fPrintProduct - call\n",
    "        fPrintProduct(c.mShoppingList[i].mProduct);\n",
    "        printf(\"     <SUMMARY> : %s <ORDERS> %d <ABOVE>\\n\",\n",
    "            c.mName,c.mShoppingList[i].mQuantity);\n",
    "        double cost=c.mShoppingList[i].mQuantity*c.mShoppingList[i].mProduct.mPrice;\n",
    "        printf(\"        <COST> : %s <TOTAL> €%.2f\\n\",c.mName,cost);\n",
    "    }\n",
    "}\n",
    "int main(void){\n",
    "    struct STagCustomer vDoe={\"John Doe\",100.0};\n",
    "    \n",
    "    struct STagProduct vCoke={\"Can Coke\",1.10};\n",
    "    struct STagProductStock vCokeStock={vCoke,20};\n",
    "    \n",
    "    struct STagProduct vBread={\"Half Loaf\",0.7};\n",
    "    struct STagProductStock vBreadStock={vBread,2};\n",
    "    \n",
    "    vDoe.mShoppingList[vDoe.mIndex++]=vCokeStock;\n",
    "    vDoe.mShoppingList[vDoe.mIndex++]=vBreadStock;\n",
    "    // function fPrintCustomer - call\n",
    "    fPrintCustomer(vDoe);\n",
    "    return 0;\n",
    "}"
   ]
  },
  {
   "cell_type": "code",
   "execution_count": 28,
   "metadata": {},
   "outputs": [
    {
     "name": "stdout",
     "output_type": "stream",
     "text": [
      "<CUSTOMER NAME>: John Doe\n",
      "      <BUDGET> : 100.00\n",
      "---------------\n",
      "<PRODUCT NAME> : Can Coke\n",
      "       <PRICE> : 1.10\n",
      "---------------\n",
      "     <SUMMARY> : John Doe <ORDERS> 20 <ABOVE>\n",
      "        <COST> : John Doe <TOTAL> €22.00\n",
      "---------------\n",
      "<PRODUCT NAME> : Half Loaf\n",
      "       <PRICE> : 0.70\n",
      "---------------\n",
      "     <SUMMARY> : John Doe <ORDERS> 2 <ABOVE>\n",
      "        <COST> : John Doe <TOTAL> €1.40\n"
     ]
    }
   ],
   "source": [
    "%%script bash\n",
    "gcc shop.c -o prog; ./prog"
   ]
  },
  {
   "cell_type": "markdown",
   "metadata": {},
   "source": [
    "***\n",
    "# END"
   ]
  }
 ],
 "metadata": {
  "kernelspec": {
   "display_name": "Python 3",
   "language": "python",
   "name": "python3"
  },
  "language_info": {
   "codemirror_mode": {
    "name": "ipython",
    "version": 3
   },
   "file_extension": ".py",
   "mimetype": "text/x-python",
   "name": "python",
   "nbconvert_exporter": "python",
   "pygments_lexer": "ipython3",
   "version": "3.7.8"
  }
 },
 "nbformat": 4,
 "nbformat_minor": 4
}
